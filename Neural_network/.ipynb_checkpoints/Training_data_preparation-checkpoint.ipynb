{
 "cells": [
  {
   "cell_type": "code",
   "execution_count": 1,
   "id": "184d7556",
   "metadata": {},
   "outputs": [],
   "source": [
    "from rdkit import Chem\n",
    "import sys\n",
    "from pathlib import Path\n",
    "SELFIES_coder_path = Path(\"../SELFIES_coder\")\n",
    "sys.path.append(SELFIES_coder_path.as_posix())\n",
    "import SELFIES_coder as SELFIES_coder\n",
    "import pandas as pd"
   ]
  },
  {
   "cell_type": "code",
   "execution_count": 3,
   "id": "76180dfc",
   "metadata": {},
   "outputs": [],
   "source": [
    "smifile = \"../Data/Indole_-_cytoprotekcja_NEW_improved_smiles.xlsx\"\n",
    "data = pd.read_excel(smifile)\n",
    "data = data['SMILES'][:45]"
   ]
  },
  {
   "cell_type": "code",
   "execution_count": null,
   "id": "880798be",
   "metadata": {},
   "outputs": [],
   "source": []
  },
  {
   "cell_type": "markdown",
   "id": "be40e6c4",
   "metadata": {},
   "source": [
    "## Training_data_from_initials, maybe scaling will be more worth it"
   ]
  },
  {
   "cell_type": "code",
   "execution_count": 4,
   "id": "f3441be6",
   "metadata": {},
   "outputs": [
    {
     "data": {
      "text/plain": [
       "'[N-]=[N+]=NCC1=CC(CN=[N+]=[N-])=CC(CN2N=NC(COCC3=CNC4=C3C=CC=C4)=C2)=C1'"
      ]
     },
     "execution_count": 4,
     "metadata": {},
     "output_type": "execute_result"
    }
   ],
   "source": [
    "data[7]"
   ]
  },
  {
   "cell_type": "code",
   "execution_count": 5,
   "id": "fc43cb79",
   "metadata": {},
   "outputs": [],
   "source": [
    "mols = [Chem.MolFromSmiles(smi) for smi in data]"
   ]
  },
  {
   "cell_type": "code",
   "execution_count": 8,
   "id": "e308269f",
   "metadata": {},
   "outputs": [
    {
     "data": {
      "text/plain": [
       "139377"
      ]
     },
     "execution_count": 8,
     "metadata": {},
     "output_type": "execute_result"
    }
   ],
   "source": [
    "smiles_training = []\n",
    "\n",
    "for i in range(10000):\n",
    "    for smi in mols:\n",
    "        try:\n",
    "            new_smi = Chem.MolToSmiles(smi, doRandom=True)\n",
    "            smiles_training.append(new_smi)\n",
    "        except:\n",
    "            print(\"Error when processing\", i, smi)\n",
    "drop_duplicates_smi_train = list(set(smiles_training))\n",
    "len(drop_duplicates_smi_train)"
   ]
  },
  {
   "cell_type": "markdown",
   "id": "1c514bce",
   "metadata": {},
   "source": [
    "## convert to SELFIES and check if there are repetitions"
   ]
  },
  {
   "cell_type": "code",
   "execution_count": 9,
   "id": "7784e21e",
   "metadata": {},
   "outputs": [
    {
     "data": {
      "text/plain": [
       "134373"
      ]
     },
     "execution_count": 9,
     "metadata": {},
     "output_type": "execute_result"
    }
   ],
   "source": [
    "selfies_training = [SELFIES_coder.SMILES_to_SELFIES(smi) for smi in smiles_training]\n",
    "drop_duplicates_self_train = list(set(selfies_training))\n",
    "len(drop_duplicates_self_train)"
   ]
  },
  {
   "cell_type": "code",
   "execution_count": 10,
   "id": "f683ccc9",
   "metadata": {},
   "outputs": [],
   "source": [
    "to_be_tested = pd.DataFrame(data=drop_duplicates_self_train, columns=['SELFIES'])"
   ]
  },
  {
   "cell_type": "code",
   "execution_count": 11,
   "id": "5bc7c0f3",
   "metadata": {},
   "outputs": [],
   "source": [
    "#to_be_tested.to_parquet('test_training_data_selfies.parquet')"
   ]
  },
  {
   "cell_type": "code",
   "execution_count": 12,
   "id": "b34eec40",
   "metadata": {},
   "outputs": [
    {
     "data": {
      "text/plain": [
       "134373"
      ]
     },
     "execution_count": 12,
     "metadata": {},
     "output_type": "execute_result"
    }
   ],
   "source": [
    "to_be_tested__ = [SELFIES_coder.SELFIES_to_SMILES(self) for self in drop_duplicates_self_train]\n",
    "drop_duplicates_smmi_train = list(set(to_be_tested__))\n",
    "len(drop_duplicates_smmi_train)"
   ]
  },
  {
   "cell_type": "code",
   "execution_count": 13,
   "id": "551898db",
   "metadata": {},
   "outputs": [],
   "source": [
    "training_smiles = pd.DataFrame(data=drop_duplicates_smmi_train, columns=['SMILES'])"
   ]
  },
  {
   "cell_type": "code",
   "execution_count": 14,
   "id": "c3a2a578",
   "metadata": {},
   "outputs": [],
   "source": [
    "training_smiles.to_parquet('../Data/test_training_data_smiles.parquet')"
   ]
  },
  {
   "cell_type": "code",
   "execution_count": null,
   "id": "b4b969aa",
   "metadata": {},
   "outputs": [],
   "source": []
  }
 ],
 "metadata": {
  "kernelspec": {
   "display_name": "Python 3 (ipykernel)",
   "language": "python",
   "name": "python3"
  },
  "language_info": {
   "codemirror_mode": {
    "name": "ipython",
    "version": 3
   },
   "file_extension": ".py",
   "mimetype": "text/x-python",
   "name": "python",
   "nbconvert_exporter": "python",
   "pygments_lexer": "ipython3",
   "version": "3.9.15"
  }
 },
 "nbformat": 4,
 "nbformat_minor": 5
}
