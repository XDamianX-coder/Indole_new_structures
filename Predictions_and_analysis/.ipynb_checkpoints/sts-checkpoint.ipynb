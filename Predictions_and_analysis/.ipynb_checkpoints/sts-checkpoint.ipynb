{
 "cells": [
  {
   "cell_type": "code",
   "execution_count": 4,
   "id": "cb3ccf84",
   "metadata": {},
   "outputs": [],
   "source": [
    "import pandas as pd"
   ]
  },
  {
   "cell_type": "code",
   "execution_count": 5,
   "id": "dfaa5b77",
   "metadata": {},
   "outputs": [],
   "source": [
    "rf_pred = pd.read_excel('../Data/Predicted_random_forest_estimators_6.xlsx')"
   ]
  },
  {
   "cell_type": "code",
   "execution_count": 6,
   "id": "d9787b41",
   "metadata": {},
   "outputs": [
    {
     "data": {
      "text/html": [
       "<div>\n",
       "<style scoped>\n",
       "    .dataframe tbody tr th:only-of-type {\n",
       "        vertical-align: middle;\n",
       "    }\n",
       "\n",
       "    .dataframe tbody tr th {\n",
       "        vertical-align: top;\n",
       "    }\n",
       "\n",
       "    .dataframe thead th {\n",
       "        text-align: right;\n",
       "    }\n",
       "</style>\n",
       "<table border=\"1\" class=\"dataframe\">\n",
       "  <thead>\n",
       "    <tr style=\"text-align: right;\">\n",
       "      <th></th>\n",
       "      <th>Unnamed: 0</th>\n",
       "      <th>SMILES</th>\n",
       "      <th>Predicted activity</th>\n",
       "    </tr>\n",
       "  </thead>\n",
       "  <tbody>\n",
       "    <tr>\n",
       "      <th>0</th>\n",
       "      <td>0</td>\n",
       "      <td>Clc1cn(Cc2c[nH]c3ccccc23)cn1</td>\n",
       "      <td>37.666667</td>\n",
       "    </tr>\n",
       "    <tr>\n",
       "      <th>1</th>\n",
       "      <td>1</td>\n",
       "      <td>O=c1[nH]ccn1Cc1c[nH]c2ccccc12</td>\n",
       "      <td>93.666667</td>\n",
       "    </tr>\n",
       "    <tr>\n",
       "      <th>2</th>\n",
       "      <td>2</td>\n",
       "      <td>Cc1cncn1Cc1c[nH]c2ccccc12</td>\n",
       "      <td>62.083333</td>\n",
       "    </tr>\n",
       "    <tr>\n",
       "      <th>3</th>\n",
       "      <td>3</td>\n",
       "      <td>CCc1cn(Cc2c[nH]c3ccccc23)cn1</td>\n",
       "      <td>77.666667</td>\n",
       "    </tr>\n",
       "    <tr>\n",
       "      <th>4</th>\n",
       "      <td>4</td>\n",
       "      <td>Cc1cn(Cc2c[nH]c3ccccc23)c(C)n1</td>\n",
       "      <td>77.666667</td>\n",
       "    </tr>\n",
       "  </tbody>\n",
       "</table>\n",
       "</div>"
      ],
      "text/plain": [
       "   Unnamed: 0                          SMILES  Predicted activity\n",
       "0           0    Clc1cn(Cc2c[nH]c3ccccc23)cn1           37.666667\n",
       "1           1   O=c1[nH]ccn1Cc1c[nH]c2ccccc12           93.666667\n",
       "2           2       Cc1cncn1Cc1c[nH]c2ccccc12           62.083333\n",
       "3           3    CCc1cn(Cc2c[nH]c3ccccc23)cn1           77.666667\n",
       "4           4  Cc1cn(Cc2c[nH]c3ccccc23)c(C)n1           77.666667"
      ]
     },
     "execution_count": 6,
     "metadata": {},
     "output_type": "execute_result"
    }
   ],
   "source": [
    "rf_pred.head()"
   ]
  },
  {
   "cell_type": "code",
   "execution_count": 8,
   "id": "e78924a3",
   "metadata": {},
   "outputs": [
    {
     "data": {
      "text/plain": [
       "37.67"
      ]
     },
     "execution_count": 8,
     "metadata": {},
     "output_type": "execute_result"
    }
   ],
   "source": [
    "round(rf_pred['Predicted activity'][0],2)"
   ]
  },
  {
   "cell_type": "code",
   "execution_count": 9,
   "id": "909c770c",
   "metadata": {},
   "outputs": [
    {
     "name": "stdout",
     "output_type": "stream",
     "text": [
      "The minimal SYBA score is: 42.28999964434987\n"
     ]
    },
    {
     "name": "stderr",
     "output_type": "stream",
     "text": [
      "C:\\Users\\aleks\\AppData\\Local\\Temp\\ipykernel_384\\3690576474.py:47: SettingWithCopyWarning: \n",
      "A value is trying to be set on a copy of a slice from a DataFrame\n",
      "\n",
      "See the caveats in the documentation: https://pandas.pydata.org/pandas-docs/stable/user_guide/indexing.html#returning-a-view-versus-a-copy\n",
      "  df_gen_fin['Cytoprotective activity [%] - random forest predicted'][i] = round(rf_pred['Predicted activity'][n],2)\n"
     ]
    }
   ],
   "source": [
    "#Libraries import\n",
    "import pandas as pd\n",
    "import numpy as np\n",
    "from rdkit import Chem\n",
    "from syba.syba import SybaClassifier\n",
    "from rdkit.Chem import PandasTools\n",
    "\n",
    "if __name__ == \"__main__\":\n",
    "    #load initial structures\n",
    "    initial_structures = pd.read_excel('../Data/Indole_-_cytoprotekcja_.xlsx')\n",
    "    initial_structures = list(initial_structures['SMILES'])\n",
    "    #load generated structures\n",
    "    generated_structures = pd.read_excel('../Data/Proposed_structures_with_AI_indole_tanimoto_similarity_.xlsx')\n",
    "    generated_structures = list(generated_structures['new_SMILES'])\n",
    "\n",
    "    #SYBA application\n",
    "    #SYBA classifier compilation\n",
    "    mols_ini = [Chem.MolFromSmiles(smi) for smi in initial_structures]\n",
    "    mols_gen = [Chem.MolFromSmiles(smi) for smi in generated_structures]\n",
    "    syba = SybaClassifier()\n",
    "    syba.fitDefaultScore()\n",
    "    SYBA_score_to_initial_structures = [syba.predict(mol=mol) for mol in mols_ini]\n",
    "    SYBA_score_to_generated_structures = [syba.predict(mol=mol) for mol in mols_gen]\n",
    "\n",
    "    threshold = min(SYBA_score_to_initial_structures)\n",
    "    print('The minimal SYBA score is: '+str(threshold))\n",
    "    df_gen = pd.DataFrame(data=generated_structures, columns=['SMILES'])\n",
    "    df_gen['SYBA score'] = SYBA_score_to_generated_structures\n",
    "\n",
    "    df_gen_fin = df_gen[df_gen['SYBA score'] > threshold]\n",
    "    df_gen_fin = df_gen_fin.round({'SYBA score': 2})\n",
    "\n",
    "    #assign predicted value\n",
    "    #df_gen_fin['Aktywność cytoprotekcyjna [%] - MLR predicted'] = 0\n",
    "    df_gen_fin['Cytoprotective activity [%] - random forest predicted'] = float(0.00)\n",
    "\n",
    "    #MLR_pred = pd.read_excel('../Data/Predicted_activity.xlsx')\n",
    "    rf_pred = pd.read_excel('../Data/Predicted_random_forest_estimators_6.xlsx')\n",
    "\n",
    "    try:\n",
    "        index_ = list(df_gen_fin.index)\n",
    "\n",
    "        for i in index_:\n",
    "            for n, structure in enumerate(rf_pred['SMILES']):\n",
    "                if df_gen_fin['SMILES'][i] == structure:\n",
    "                     #df_gen_fin['Aktywność cytoprotekcyjna [%] - MLR predicted'][i] = round(MLR_pred['Predicted activity'][n],2)\n",
    "                    df_gen_fin['Cytoprotective activity [%] - random forest predicted'][i] = round(rf_pred['Predicted activity'][n],2)\n",
    "                else:\n",
    "                    pass\n",
    "    except:\n",
    "        print(\"Error with predicted value...\")\n",
    "\n",
    "\n",
    "    try:\n",
    "        df_gen_fin['Mol Image'] = [Chem.MolFromSmiles(smi) for smi in df_gen_fin['SMILES']]\n",
    "\n",
    "        PandasTools.SaveXlsxFromFrame(df_gen_fin, '../Data/Whole_report.xlsx', molCol='Mol Image')\n",
    "\n",
    "    except:\n",
    "        print(\"Error when inserting images...\")"
   ]
  },
  {
   "cell_type": "code",
   "execution_count": 10,
   "id": "acee5007",
   "metadata": {},
   "outputs": [
    {
     "name": "stdout",
     "output_type": "stream",
     "text": [
      "The minimal SYBA score is: 42.28999964434987\n"
     ]
    }
   ],
   "source": [
    "#Libraries import\n",
    "import pandas as pd\n",
    "import numpy as np\n",
    "from rdkit import Chem\n",
    "from syba.syba import SybaClassifier\n",
    "from rdkit.Chem import PandasTools\n",
    "\n",
    "if __name__ == \"__main__\":\n",
    "    #load initial structures\n",
    "    initial_structures = pd.read_excel('../Data/Indole_-_cytoprotekcja_.xlsx')\n",
    "    initial_structures = list(initial_structures['SMILES'])\n",
    "    #load generated structures\n",
    "    generated_structures = pd.read_excel('../Data/Proposed_structures_with_AI_indole_tanimoto_similarity_.xlsx')\n",
    "    generated_structures = list(generated_structures['new_SMILES'])\n",
    "\n",
    "    #SYBA application\n",
    "    #SYBA classifier compilation\n",
    "    mols_ini = [Chem.MolFromSmiles(smi) for smi in initial_structures]\n",
    "    mols_gen = [Chem.MolFromSmiles(smi) for smi in generated_structures]\n",
    "    syba = SybaClassifier()\n",
    "    syba.fitDefaultScore()\n",
    "    SYBA_score_to_initial_structures = [syba.predict(mol=mol) for mol in mols_ini]\n",
    "    SYBA_score_to_generated_structures = [syba.predict(mol=mol) for mol in mols_gen]\n",
    "\n",
    "    threshold = min(SYBA_score_to_initial_structures)\n",
    "    print('The minimal SYBA score is: '+str(threshold))\n",
    "    df_gen = pd.DataFrame(data=generated_structures, columns=['SMILES'])\n",
    "    df_gen['SYBA score'] = SYBA_score_to_generated_structures\n",
    "\n",
    "    df_gen_fin = df_gen[df_gen['SYBA score'] > threshold]\n",
    "    df_gen_fin = df_gen_fin.round({'SYBA score': 2})\n",
    "\n",
    "    #assign predicted value\n",
    "    #df_gen_fin['Aktywność cytoprotekcyjna [%] - MLR predicted'] = 0\n",
    "    df_gen_fin['Cytoprotective activity [%] - random forest predicted'] = 0\n",
    "\n",
    "    #MLR_pred = pd.read_excel('../Data/Predicted_activity.xlsx')\n",
    "    rf_pred = pd.read_excel('../Data/Predicted_random_forest_estimators_6.xlsx')"
   ]
  },
  {
   "cell_type": "code",
   "execution_count": 11,
   "id": "1d9d0e12",
   "metadata": {},
   "outputs": [
    {
     "data": {
      "text/html": [
       "<div>\n",
       "<style scoped>\n",
       "    .dataframe tbody tr th:only-of-type {\n",
       "        vertical-align: middle;\n",
       "    }\n",
       "\n",
       "    .dataframe tbody tr th {\n",
       "        vertical-align: top;\n",
       "    }\n",
       "\n",
       "    .dataframe thead th {\n",
       "        text-align: right;\n",
       "    }\n",
       "</style>\n",
       "<table border=\"1\" class=\"dataframe\">\n",
       "  <thead>\n",
       "    <tr style=\"text-align: right;\">\n",
       "      <th></th>\n",
       "      <th>Unnamed: 0</th>\n",
       "      <th>SMILES</th>\n",
       "      <th>Predicted activity</th>\n",
       "    </tr>\n",
       "  </thead>\n",
       "  <tbody>\n",
       "    <tr>\n",
       "      <th>0</th>\n",
       "      <td>0</td>\n",
       "      <td>Clc1cn(Cc2c[nH]c3ccccc23)cn1</td>\n",
       "      <td>37.666667</td>\n",
       "    </tr>\n",
       "    <tr>\n",
       "      <th>1</th>\n",
       "      <td>1</td>\n",
       "      <td>O=c1[nH]ccn1Cc1c[nH]c2ccccc12</td>\n",
       "      <td>93.666667</td>\n",
       "    </tr>\n",
       "    <tr>\n",
       "      <th>2</th>\n",
       "      <td>2</td>\n",
       "      <td>Cc1cncn1Cc1c[nH]c2ccccc12</td>\n",
       "      <td>62.083333</td>\n",
       "    </tr>\n",
       "    <tr>\n",
       "      <th>3</th>\n",
       "      <td>3</td>\n",
       "      <td>CCc1cn(Cc2c[nH]c3ccccc23)cn1</td>\n",
       "      <td>77.666667</td>\n",
       "    </tr>\n",
       "    <tr>\n",
       "      <th>4</th>\n",
       "      <td>4</td>\n",
       "      <td>Cc1cn(Cc2c[nH]c3ccccc23)c(C)n1</td>\n",
       "      <td>77.666667</td>\n",
       "    </tr>\n",
       "  </tbody>\n",
       "</table>\n",
       "</div>"
      ],
      "text/plain": [
       "   Unnamed: 0                          SMILES  Predicted activity\n",
       "0           0    Clc1cn(Cc2c[nH]c3ccccc23)cn1           37.666667\n",
       "1           1   O=c1[nH]ccn1Cc1c[nH]c2ccccc12           93.666667\n",
       "2           2       Cc1cncn1Cc1c[nH]c2ccccc12           62.083333\n",
       "3           3    CCc1cn(Cc2c[nH]c3ccccc23)cn1           77.666667\n",
       "4           4  Cc1cn(Cc2c[nH]c3ccccc23)c(C)n1           77.666667"
      ]
     },
     "execution_count": 11,
     "metadata": {},
     "output_type": "execute_result"
    }
   ],
   "source": [
    "rf_pred.head()"
   ]
  },
  {
   "cell_type": "code",
   "execution_count": 13,
   "id": "d3a6cb60",
   "metadata": {},
   "outputs": [
    {
     "data": {
      "text/plain": [
       "37.67"
      ]
     },
     "execution_count": 13,
     "metadata": {},
     "output_type": "execute_result"
    }
   ],
   "source": [
    "round(rf_pred['Predicted activity'][0],2)"
   ]
  },
  {
   "cell_type": "code",
   "execution_count": 14,
   "id": "634b3211",
   "metadata": {},
   "outputs": [
    {
     "name": "stderr",
     "output_type": "stream",
     "text": [
      "C:\\Users\\aleks\\AppData\\Local\\Temp\\ipykernel_384\\4168452900.py:1: SettingWithCopyWarning: \n",
      "A value is trying to be set on a copy of a slice from a DataFrame\n",
      "\n",
      "See the caveats in the documentation: https://pandas.pydata.org/pandas-docs/stable/user_guide/indexing.html#returning-a-view-versus-a-copy\n",
      "  df_gen_fin['Cytoprotective activity [%] - random forest predicted'][0] = round(rf_pred['Predicted activity'][0],2)\n"
     ]
    }
   ],
   "source": [
    "df_gen_fin['Cytoprotective activity [%] - random forest predicted'][0] = round(rf_pred['Predicted activity'][0],2)"
   ]
  },
  {
   "cell_type": "code",
   "execution_count": 15,
   "id": "95e470c0",
   "metadata": {},
   "outputs": [
    {
     "data": {
      "text/html": [
       "<div>\n",
       "<style scoped>\n",
       "    .dataframe tbody tr th:only-of-type {\n",
       "        vertical-align: middle;\n",
       "    }\n",
       "\n",
       "    .dataframe tbody tr th {\n",
       "        vertical-align: top;\n",
       "    }\n",
       "\n",
       "    .dataframe thead th {\n",
       "        text-align: right;\n",
       "    }\n",
       "</style>\n",
       "<table border=\"1\" class=\"dataframe\">\n",
       "  <thead>\n",
       "    <tr style=\"text-align: right;\">\n",
       "      <th></th>\n",
       "      <th>SMILES</th>\n",
       "      <th>SYBA score</th>\n",
       "      <th>Cytoprotective activity [%] - random forest predicted</th>\n",
       "    </tr>\n",
       "  </thead>\n",
       "  <tbody>\n",
       "    <tr>\n",
       "      <th>0</th>\n",
       "      <td>Clc1cn(Cc2c[nH]c3ccccc23)cn1</td>\n",
       "      <td>64.07</td>\n",
       "      <td>37.67</td>\n",
       "    </tr>\n",
       "    <tr>\n",
       "      <th>1</th>\n",
       "      <td>O=c1[nH]ccn1Cc1c[nH]c2ccccc12</td>\n",
       "      <td>60.14</td>\n",
       "      <td>0.00</td>\n",
       "    </tr>\n",
       "    <tr>\n",
       "      <th>2</th>\n",
       "      <td>Cc1cncn1Cc1c[nH]c2ccccc12</td>\n",
       "      <td>62.68</td>\n",
       "      <td>0.00</td>\n",
       "    </tr>\n",
       "    <tr>\n",
       "      <th>3</th>\n",
       "      <td>CCc1cn(Cc2c[nH]c3ccccc23)cn1</td>\n",
       "      <td>76.73</td>\n",
       "      <td>0.00</td>\n",
       "    </tr>\n",
       "    <tr>\n",
       "      <th>4</th>\n",
       "      <td>Cc1cn(Cc2c[nH]c3ccccc23)c(C)n1</td>\n",
       "      <td>66.42</td>\n",
       "      <td>0.00</td>\n",
       "    </tr>\n",
       "  </tbody>\n",
       "</table>\n",
       "</div>"
      ],
      "text/plain": [
       "                           SMILES  SYBA score  \\\n",
       "0    Clc1cn(Cc2c[nH]c3ccccc23)cn1       64.07   \n",
       "1   O=c1[nH]ccn1Cc1c[nH]c2ccccc12       60.14   \n",
       "2       Cc1cncn1Cc1c[nH]c2ccccc12       62.68   \n",
       "3    CCc1cn(Cc2c[nH]c3ccccc23)cn1       76.73   \n",
       "4  Cc1cn(Cc2c[nH]c3ccccc23)c(C)n1       66.42   \n",
       "\n",
       "   Cytoprotective activity [%] - random forest predicted  \n",
       "0                                              37.67      \n",
       "1                                               0.00      \n",
       "2                                               0.00      \n",
       "3                                               0.00      \n",
       "4                                               0.00      "
      ]
     },
     "execution_count": 15,
     "metadata": {},
     "output_type": "execute_result"
    }
   ],
   "source": [
    "df_gen_fin.head()"
   ]
  },
  {
   "cell_type": "code",
   "execution_count": 16,
   "id": "ea302222",
   "metadata": {},
   "outputs": [
    {
     "name": "stderr",
     "output_type": "stream",
     "text": [
      "C:\\Users\\aleks\\AppData\\Local\\Temp\\ipykernel_384\\3251173040.py:8: SettingWithCopyWarning: \n",
      "A value is trying to be set on a copy of a slice from a DataFrame\n",
      "\n",
      "See the caveats in the documentation: https://pandas.pydata.org/pandas-docs/stable/user_guide/indexing.html#returning-a-view-versus-a-copy\n",
      "  df_gen_fin['Cytoprotective activity [%] - random forest predicted'][i] = round(rf_pred['Predicted activity'][n],2)\n"
     ]
    }
   ],
   "source": [
    "    try:\n",
    "        index_ = list(df_gen_fin.index)\n",
    "\n",
    "        for i in index_:\n",
    "            for n, structure in enumerate(rf_pred['SMILES']):\n",
    "                if df_gen_fin['SMILES'][i] == structure:\n",
    "                     #df_gen_fin['Aktywność cytoprotekcyjna [%] - MLR predicted'][i] = round(MLR_pred['Predicted activity'][n],2)\n",
    "                    df_gen_fin['Cytoprotective activity [%] - random forest predicted'][i] = round(rf_pred['Predicted activity'][n],2)\n",
    "                else:\n",
    "                    pass\n",
    "    except:\n",
    "        print(\"Error with predicted value...\")\n",
    "\n",
    "\n",
    "    try:\n",
    "        df_gen_fin['Mol Image'] = [Chem.MolFromSmiles(smi) for smi in df_gen_fin['SMILES']]\n",
    "\n",
    "        PandasTools.SaveXlsxFromFrame(df_gen_fin, '../Data/Whole_report.xlsx', molCol='Mol Image')\n",
    "\n",
    "    except:\n",
    "        print(\"Error when inserting images...\")"
   ]
  },
  {
   "cell_type": "code",
   "execution_count": null,
   "id": "16c33e12",
   "metadata": {},
   "outputs": [],
   "source": []
  }
 ],
 "metadata": {
  "kernelspec": {
   "display_name": "Python 3 (ipykernel)",
   "language": "python",
   "name": "python3"
  },
  "language_info": {
   "codemirror_mode": {
    "name": "ipython",
    "version": 3
   },
   "file_extension": ".py",
   "mimetype": "text/x-python",
   "name": "python",
   "nbconvert_exporter": "python",
   "pygments_lexer": "ipython3",
   "version": "3.9.15"
  }
 },
 "nbformat": 4,
 "nbformat_minor": 5
}
