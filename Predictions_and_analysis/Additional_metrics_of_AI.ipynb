{
 "cells": [
  {
   "cell_type": "code",
   "execution_count": 3,
   "id": "4527a1d2",
   "metadata": {},
   "outputs": [],
   "source": [
    "import sys\n",
    "from pathlib import Path\n",
    "prediction_mode_path = Path(\"../module\")\n",
    "sys.path.append(prediction_mode_path.as_posix())\n",
    "import predictions_v05 as pred_mode\n",
    "\n",
    "import pandas as pd\n",
    "import numpy as np\n",
    "\n",
    "from sklearn.metrics import r2_score, mean_squared_error, mean_absolute_error\n",
    "\n",
    "import matplotlib.pyplot as plt\n",
    "from sklearn.tree import plot_tree\n",
    "\n",
    "import joblib\n",
    "\n",
    "import warnings\n",
    "warnings.filterwarnings('ignore')"
   ]
  },
  {
   "cell_type": "code",
   "execution_count": 2,
   "id": "72819152",
   "metadata": {},
   "outputs": [
    {
     "name": "stderr",
     "output_type": "stream",
     "text": [
      "100%|██████████████████████████████████████████████████████████████████████████████████| 44/44 [00:02<00:00, 20.90it/s]\n"
     ]
    },
    {
     "name": "stdout",
     "output_type": "stream",
     "text": [
      "C:\\Users\\aleks\\anaconda3\\envs\\cheminf_gpu\\lib\\site-packages\\numpy\\core\\fromnumeric.py:86: RuntimeWarning: overflow encountered in reduce\n",
      "  return ufunc.reduce(obj, axis, dtype, out, **passkwargs)\n",
      "Data size (rows, columns): (44, 1613)\n",
      "Data size after first reduction (rows, columns): (44, 1433)\n",
      "Data size after second reduction (rows, columns): (44, 1182)\n"
     ]
    }
   ],
   "source": [
    "molecular_descriptors_df = pred_mode.prepare_data('../Data/Indole_-_cytoprotekcja_.xlsx')"
   ]
  },
  {
   "cell_type": "markdown",
   "id": "872a73c5",
   "metadata": {},
   "source": [
    "## RANDOM FOREST"
   ]
  },
  {
   "cell_type": "code",
   "execution_count": 13,
   "id": "4cc7cc6d",
   "metadata": {},
   "outputs": [
    {
     "name": "stdout",
     "output_type": "stream",
     "text": [
      "I am not doing standardization...\n",
      "  molecular descriptor name\n",
      "0                    AATS0Z\n",
      "1                  AATS0are\n",
      "2                    AATS0d\n",
      "3                   AATS0dv\n",
      "4                    AATS0i\n",
      "  molecular descriptor name  corr_value\n",
      "0                    AATS0Z   -0.105872\n",
      "1                  AATS0are    0.160494\n",
      "2                    AATS0d   -0.005044\n",
      "3                   AATS0dv    0.121256\n",
      "4                    AATS0i    0.140698\n",
      "  molecular descriptor name  corr_value  absolute correlation value\n",
      "0                    AATS0Z   -0.105872                    0.105872\n",
      "1                  AATS0are    0.160494                    0.160494\n",
      "2                    AATS0d   -0.005044                    0.005044\n",
      "3                   AATS0dv    0.121256                    0.121256\n",
      "4                    AATS0i    0.140698                    0.140698\n",
      "        molecular descriptor name  corr_value  absolute correlation value\n",
      "520                ETA_dEpsilon_D    0.412783                    0.412783\n",
      "1160                       nHBDon    0.394681                    0.394681\n",
      "1182  Cytoprotective activity [%]    1.000000                    1.000000\n",
      "     molecular descriptor name  corr_value  absolute correlation value\n",
      "520             ETA_dEpsilon_D    0.412783                    0.412783\n",
      "1160                    nHBDon    0.394681                    0.394681\n",
      "The model used is: RandomForest...\n",
      "Return the coefficient of determination of the prediction: \n",
      "0.7599481793445292\n",
      "R^2 score: 0.7072788951767857\n",
      "Correlation coefficient: 0.8409987486178476\n",
      "Test data - unseen during training:\n",
      "R^2 score: 0.5305400756405292\n",
      "Correlation coefficient: 0.7283818199547056\n",
      "[65.77777778 68.5        34.16666667]\n",
      "0     81.0\n",
      "5     60.0\n",
      "14    28.0\n",
      "Name: Cytoprotective activity [%], dtype: float64\n",
      "R^2 score: 0.495939464501849\n",
      "Mean squared error: 226.73056958473634\n",
      "Mean absolute error: 10.849747474747474\n"
     ]
    }
   ],
   "source": [
    "without_standardization, train_r2_, test_r2_, hist1, hist2 = pred_mode.prepare_data_and_create_model(molecular_descriptors_df=molecular_descriptors_df, \n",
    "                                                                                                    correlation_threshold=0.39, \n",
    "                                                                                                    standardization=False, \n",
    "                                                                                                    model_type='RandomForestRegressor',\n",
    "                                                                                                    n_estimators_=6,\n",
    "                                                                                                    train_test_split_=False, \n",
    "                                                                                                    verbose=True)\n",
    "print(\"R^2 score: \" + str(r2_score(without_standardization.predict(molecular_descriptors_df[hist2['molecular descriptor name']]), molecular_descriptors_df['Cytoprotective activity [%]'])))\n",
    "print(\"Mean squared error: \"+str(mean_squared_error(without_standardization.predict(molecular_descriptors_df[hist2['molecular descriptor name']]), molecular_descriptors_df['Cytoprotective activity [%]'])))\n",
    "print('Mean absolute error: ' + str(mean_absolute_error(without_standardization.predict(molecular_descriptors_df[hist2['molecular descriptor name']]), molecular_descriptors_df['Cytoprotective activity [%]'])))"
   ]
  },
  {
   "cell_type": "code",
   "execution_count": 14,
   "id": "3e4cc45d",
   "metadata": {},
   "outputs": [
    {
     "name": "stdout",
     "output_type": "stream",
     "text": [
      "I am not doing standardization...\n",
      "  molecular descriptor name\n",
      "0                    AATS0Z\n",
      "1                  AATS0are\n",
      "2                    AATS0d\n",
      "3                   AATS0dv\n",
      "4                    AATS0i\n",
      "  molecular descriptor name  corr_value\n",
      "0                    AATS0Z   -0.105872\n",
      "1                  AATS0are    0.160494\n",
      "2                    AATS0d   -0.005044\n",
      "3                   AATS0dv    0.121256\n",
      "4                    AATS0i    0.140698\n",
      "  molecular descriptor name  corr_value  absolute correlation value\n",
      "0                    AATS0Z   -0.105872                    0.105872\n",
      "1                  AATS0are    0.160494                    0.160494\n",
      "2                    AATS0d   -0.005044                    0.005044\n",
      "3                   AATS0dv    0.121256                    0.121256\n",
      "4                    AATS0i    0.140698                    0.140698\n",
      "        molecular descriptor name  corr_value  absolute correlation value\n",
      "520                ETA_dEpsilon_D    0.412783                    0.412783\n",
      "1160                       nHBDon    0.394681                    0.394681\n",
      "1182  Cytoprotective activity [%]    1.000000                    1.000000\n",
      "     molecular descriptor name  corr_value  absolute correlation value\n",
      "520             ETA_dEpsilon_D    0.412783                    0.412783\n",
      "1160                    nHBDon    0.394681                    0.394681\n",
      "The model used is: RandomForest...\n",
      "Return the coefficient of determination of the prediction: \n",
      "0.7614397238253696\n",
      "R^2 score: 0.7309722840548926\n",
      "Correlation coefficient: 0.8549691714061347\n",
      "Test data - unseen during training:\n",
      "R^2 score: 0.5590630789275479\n",
      "Correlation coefficient: 0.7477052085732371\n",
      "[66.63888889 69.70833333 34.275     ]\n",
      "0     81.0\n",
      "5     60.0\n",
      "14    28.0\n",
      "Name: Cytoprotective activity [%], dtype: float64\n",
      "R^2 score: 0.4912609963505382\n",
      "Mean squared error: 208.95941016063415\n",
      "Mean absolute error: 10.535101010101009\n"
     ]
    }
   ],
   "source": [
    "without_standardization, train_r2_, test_r2_, hist1, hist2 = pred_mode.prepare_data_and_create_model(molecular_descriptors_df=molecular_descriptors_df, \n",
    "                                                                                                    correlation_threshold=0.39, \n",
    "                                                                                                    standardization=False, \n",
    "                                                                                                    model_type='RandomForestRegressor',\n",
    "                                                                                                    n_estimators_=12,\n",
    "                                                                                                    train_test_split_=False, \n",
    "                                                                                                    verbose=True)\n",
    "print(\"R^2 score: \" + str(r2_score(without_standardization.predict(molecular_descriptors_df[hist2['molecular descriptor name']]), molecular_descriptors_df['Cytoprotective activity [%]'])))\n",
    "print(\"Mean squared error: \"+str(mean_squared_error(without_standardization.predict(molecular_descriptors_df[hist2['molecular descriptor name']]), molecular_descriptors_df['Cytoprotective activity [%]'])))\n",
    "print('Mean absolute error: ' + str(mean_absolute_error(without_standardization.predict(molecular_descriptors_df[hist2['molecular descriptor name']]), molecular_descriptors_df['Cytoprotective activity [%]'])))"
   ]
  },
  {
   "cell_type": "markdown",
   "id": "e2051249",
   "metadata": {},
   "source": [
    "## DECISION TREE"
   ]
  },
  {
   "cell_type": "code",
   "execution_count": 15,
   "id": "61ed4ef6",
   "metadata": {},
   "outputs": [
    {
     "name": "stdout",
     "output_type": "stream",
     "text": [
      "I am not doing standardization...\n",
      "  molecular descriptor name\n",
      "0                    AATS0Z\n",
      "1                  AATS0are\n",
      "2                    AATS0d\n",
      "3                   AATS0dv\n",
      "4                    AATS0i\n",
      "  molecular descriptor name  corr_value\n",
      "0                    AATS0Z   -0.105872\n",
      "1                  AATS0are    0.160494\n",
      "2                    AATS0d   -0.005044\n",
      "3                   AATS0dv    0.121256\n",
      "4                    AATS0i    0.140698\n",
      "  molecular descriptor name  corr_value  absolute correlation value\n",
      "0                    AATS0Z   -0.105872                    0.105872\n",
      "1                  AATS0are    0.160494                    0.160494\n",
      "2                    AATS0d   -0.005044                    0.005044\n",
      "3                   AATS0dv    0.121256                    0.121256\n",
      "4                    AATS0i    0.140698                    0.140698\n",
      "        molecular descriptor name  corr_value  absolute correlation value\n",
      "520                ETA_dEpsilon_D    0.412783                    0.412783\n",
      "1160                       nHBDon    0.394681                    0.394681\n",
      "1182  Cytoprotective activity [%]    1.000000                    1.000000\n",
      "     molecular descriptor name  corr_value  absolute correlation value\n",
      "520             ETA_dEpsilon_D    0.412783                    0.412783\n",
      "1160                    nHBDon    0.394681                    0.394681\n",
      "The model used is: DecisionTree...\n",
      "Return the coefficient of determination of the prediction: \n",
      "0.6367327639993763\n",
      "R^2 score: 0.8254684646897009\n",
      "Correlation coefficient: 0.9085529509553645\n",
      "Test data - unseen during training:\n",
      "R^2 score: 0.642237640936687\n",
      "Correlation coefficient: 0.8013973052966219\n",
      "[84.75       80.83333333 36.33333333]\n",
      "0     81.0\n",
      "5     60.0\n",
      "14    28.0\n",
      "Name: Cytoprotective activity [%], dtype: float64\n",
      "R^2 score: 0.7814588656892566\n",
      "Mean squared error: 142.31328914141415\n",
      "Mean absolute error: 6.774621212121212\n"
     ]
    }
   ],
   "source": [
    "without_standardization, train_r2_, test_r2_, hist1, hist2 = pred_mode.prepare_data_and_create_model(molecular_descriptors_df=molecular_descriptors_df,\n",
    "                                                      correlation_threshold=0.39,\n",
    "                                                      standardization=False, \n",
    "                                                      model_type='DecisionTreeRegressor',\n",
    "                                                      max_depth=5,\n",
    "                                                      train_test_split_=False,\n",
    "                                                      verbose=True)\n",
    "print(\"R^2 score: \" + str(r2_score(without_standardization.predict(molecular_descriptors_df[hist2['molecular descriptor name']]), molecular_descriptors_df['Cytoprotective activity [%]'])))\n",
    "print(\"Mean squared error: \"+str(mean_squared_error(without_standardization.predict(molecular_descriptors_df[hist2['molecular descriptor name']]), molecular_descriptors_df['Cytoprotective activity [%]'])))\n",
    "print('Mean absolute error: ' + str(mean_absolute_error(without_standardization.predict(molecular_descriptors_df[hist2['molecular descriptor name']]), molecular_descriptors_df['Cytoprotective activity [%]'])))"
   ]
  },
  {
   "cell_type": "markdown",
   "id": "c9aa2aa0",
   "metadata": {},
   "source": [
    "## K-Nearest Neighbours"
   ]
  },
  {
   "cell_type": "code",
   "execution_count": 16,
   "id": "76794cb7",
   "metadata": {},
   "outputs": [
    {
     "name": "stdout",
     "output_type": "stream",
     "text": [
      "I am doing standardization...\n",
      "  molecular descriptor name\n",
      "0                    AATS0Z\n",
      "1                  AATS0are\n",
      "2                    AATS0d\n",
      "3                   AATS0dv\n",
      "4                    AATS0i\n",
      "  molecular descriptor name  corr_value\n",
      "0                    AATS0Z   -0.105872\n",
      "1                  AATS0are    0.160494\n",
      "2                    AATS0d   -0.005044\n",
      "3                   AATS0dv    0.121256\n",
      "4                    AATS0i    0.140698\n",
      "  molecular descriptor name  corr_value  absolute correlation value\n",
      "0                    AATS0Z   -0.105872                    0.105872\n",
      "1                  AATS0are    0.160494                    0.160494\n",
      "2                    AATS0d   -0.005044                    0.005044\n",
      "3                   AATS0dv    0.121256                    0.121256\n",
      "4                    AATS0i    0.140698                    0.140698\n",
      "        molecular descriptor name  corr_value  absolute correlation value\n",
      "520                ETA_dEpsilon_D    0.412783                    0.412783\n",
      "1160                       nHBDon    0.394681                    0.394681\n",
      "1182  Cytoprotective activity [%]    1.000000                    1.000000\n",
      "     molecular descriptor name  corr_value  absolute correlation value\n",
      "520             ETA_dEpsilon_D    0.412783                    0.412783\n",
      "1160                    nHBDon    0.394681                    0.394681\n",
      "The model used is: KNeighbors...\n",
      "Return the coefficient of determination of the prediction: \n",
      "0.9212938699110903\n",
      "R^2 score: 0.24948021650975838\n",
      "Correlation coefficient: 0.49947994605365126\n",
      "Test data - unseen during training:\n",
      "R^2 score: 0.860452671141385\n",
      "Correlation coefficient: 0.9276058813641627\n",
      "[78.2 60.5 38.2]\n",
      "0     81.0\n",
      "5     60.0\n",
      "14    28.0\n",
      "Name: Cytoprotective activity [%], dtype: float64\n",
      "R^2 score: -172.74050355714036\n",
      "Mean squared error: 975.3411363636365\n",
      "Mean absolute error: 20.81590909090909\n"
     ]
    }
   ],
   "source": [
    "without_standardization, train_r2_, test_r2_, hist1, hist2 = pred_mode.prepare_data_and_create_model(molecular_descriptors_df = molecular_descriptors_df, \n",
    "                                                                                                    correlation_threshold = 0.39, \n",
    "                                                                                                    standardization = True, \n",
    "                                                                                                    model_type = 'KNeighborsRegressor',\n",
    "                                                                                                    train_test_split_ = False, \n",
    "                                                                                                    verbose = True)\n",
    "print(\"R^2 score: \" + str(r2_score(without_standardization.predict(molecular_descriptors_df[hist2['molecular descriptor name']]), molecular_descriptors_df['Cytoprotective activity [%]'])))\n",
    "print(\"Mean squared error: \"+str(mean_squared_error(without_standardization.predict(molecular_descriptors_df[hist2['molecular descriptor name']]), molecular_descriptors_df['Cytoprotective activity [%]'])))\n",
    "print('Mean absolute error: ' + str(mean_absolute_error(without_standardization.predict(molecular_descriptors_df[hist2['molecular descriptor name']]), molecular_descriptors_df['Cytoprotective activity [%]'])))"
   ]
  },
  {
   "cell_type": "markdown",
   "id": "f9054a5a",
   "metadata": {},
   "source": [
    "## Multiple Linear Regression"
   ]
  },
  {
   "cell_type": "code",
   "execution_count": 18,
   "id": "5ea7b735",
   "metadata": {},
   "outputs": [
    {
     "name": "stdout",
     "output_type": "stream",
     "text": [
      "I am not doing standardization...\n",
      "  molecular descriptor name\n",
      "0                    AATS0Z\n",
      "1                  AATS0are\n",
      "2                    AATS0d\n",
      "3                   AATS0dv\n",
      "4                    AATS0i\n",
      "  molecular descriptor name  corr_value\n",
      "0                    AATS0Z   -0.105872\n",
      "1                  AATS0are    0.160494\n",
      "2                    AATS0d   -0.005044\n",
      "3                   AATS0dv    0.121256\n",
      "4                    AATS0i    0.140698\n",
      "  molecular descriptor name  corr_value  absolute correlation value\n",
      "0                    AATS0Z   -0.105872                    0.105872\n",
      "1                  AATS0are    0.160494                    0.160494\n",
      "2                    AATS0d   -0.005044                    0.005044\n",
      "3                   AATS0dv    0.121256                    0.121256\n",
      "4                    AATS0i    0.140698                    0.140698\n",
      "    molecular descriptor name  corr_value  absolute correlation value\n",
      "456                BCUTare-1l    0.345707                    0.345707\n",
      "520            ETA_dEpsilon_D    0.412783                    0.412783\n",
      "829                     NaaNH    0.386873                    0.386873\n",
      "831                      NaaS   -0.343855                    0.343855\n",
      "899                     SaaNH    0.359872                    0.359872\n",
      "    molecular descriptor name  corr_value  absolute correlation value\n",
      "456                BCUTare-1l    0.345707                    0.345707\n",
      "520            ETA_dEpsilon_D    0.412783                    0.412783\n",
      "829                     NaaNH    0.386873                    0.386873\n",
      "831                      NaaS   -0.343855                    0.343855\n",
      "899                     SaaNH    0.359872                    0.359872\n",
      "The model used is: LinearReg...\n",
      "Return the coefficient of determination of the prediction: \n",
      "0.7673977861016732\n",
      "R^2 score: 0.30020343041664055\n",
      "Correlation coefficient: 0.5479082317474712\n",
      "Test data - unseen during training:\n",
      "R^2 score: 0.1335886074587761\n",
      "Correlation coefficient: 0.36549775301467463\n",
      "[69.48203079 58.76501181 42.04250014]\n",
      "0     81.0\n",
      "5     60.0\n",
      "14    28.0\n",
      "Name: Cytoprotective activity [%], dtype: float64\n",
      "R^2 score: -1.2476885380705878\n",
      "Mean squared error: 530.985418413763\n",
      "Mean absolute error: 16.56860896155881\n"
     ]
    }
   ],
   "source": [
    "without_standardization, train_r2_, test_r2_, hist1, hist2 = pred_mode.prepare_data_and_create_model(molecular_descriptors_df = molecular_descriptors_df, \n",
    "                                                                                                    correlation_threshold = 0.34, \n",
    "                                                                                                    standardization = False, \n",
    "                                                                                                    model_type = 'linear_model',\n",
    "                                                                                                    train_test_split_ = False, \n",
    "                                                                                                    verbose = True)\n",
    "print(\"R^2 score: \" + str(r2_score(without_standardization.predict(molecular_descriptors_df[hist2['molecular descriptor name']]), molecular_descriptors_df['Cytoprotective activity [%]'])))\n",
    "print(\"Mean squared error: \"+str(mean_squared_error(without_standardization.predict(molecular_descriptors_df[hist2['molecular descriptor name']]), molecular_descriptors_df['Cytoprotective activity [%]'])))\n",
    "print('Mean absolute error: ' + str(mean_absolute_error(without_standardization.predict(molecular_descriptors_df[hist2['molecular descriptor name']]), molecular_descriptors_df['Cytoprotective activity [%]'])))"
   ]
  },
  {
   "cell_type": "markdown",
   "id": "59bd7f82",
   "metadata": {},
   "source": [
    "## Support Vector Machines"
   ]
  },
  {
   "cell_type": "code",
   "execution_count": 19,
   "id": "283050f0",
   "metadata": {},
   "outputs": [
    {
     "name": "stdout",
     "output_type": "stream",
     "text": [
      "I am doing standardization...\n",
      "  molecular descriptor name\n",
      "0                    AATS0Z\n",
      "1                  AATS0are\n",
      "2                    AATS0d\n",
      "3                   AATS0dv\n",
      "4                    AATS0i\n",
      "  molecular descriptor name  corr_value\n",
      "0                    AATS0Z   -0.105872\n",
      "1                  AATS0are    0.160494\n",
      "2                    AATS0d   -0.005044\n",
      "3                   AATS0dv    0.121256\n",
      "4                    AATS0i    0.140698\n",
      "  molecular descriptor name  corr_value  absolute correlation value\n",
      "0                    AATS0Z   -0.105872                    0.105872\n",
      "1                  AATS0are    0.160494                    0.160494\n",
      "2                    AATS0d   -0.005044                    0.005044\n",
      "3                   AATS0dv    0.121256                    0.121256\n",
      "4                    AATS0i    0.140698                    0.140698\n",
      "    molecular descriptor name  corr_value  absolute correlation value\n",
      "45                   AATS4are    0.257682                    0.257682\n",
      "53                    AATS4se    0.265626                    0.265626\n",
      "85                     AATS7s    0.254720                    0.254720\n",
      "101                   AATSC0c    0.264307                    0.264307\n",
      "125                   AATSC2c    0.260430                    0.260430\n",
      "    molecular descriptor name  corr_value  absolute correlation value\n",
      "45                   AATS4are    0.257682                    0.257682\n",
      "53                    AATS4se    0.265626                    0.265626\n",
      "85                     AATS7s    0.254720                    0.254720\n",
      "101                   AATSC0c    0.264307                    0.264307\n",
      "125                   AATSC2c    0.260430                    0.260430\n",
      "The model used is: SVR...\n",
      "Return the coefficient of determination of the prediction: \n",
      "0.39158650333219336\n",
      "R^2 score: 0.6476433795963563\n",
      "Correlation coefficient: 0.8047629337863147\n",
      "Test data - unseen during training:\n",
      "R^2 score: -0.3499738618370163\n",
      "Correlation coefficient: nan\n",
      "[90.25295854 65.79488238 55.34206512]\n",
      "0     81.0\n",
      "5     60.0\n",
      "14    28.0\n",
      "Name: Cytoprotective activity [%], dtype: float64\n",
      "R^2 score: -0.027251172604644713\n",
      "Mean squared error: 1275691603527.8467\n",
      "Mean absolute error: 184044.85645830503\n"
     ]
    }
   ],
   "source": [
    "without_standardization, train_r2_, test_r2_, hist1, hist2 = pred_mode.prepare_data_and_create_model(molecular_descriptors_df = molecular_descriptors_df, \n",
    "                                                                                                    correlation_threshold = 0.25, \n",
    "                                                                                                    standardization = True, \n",
    "                                                                                                    model_type = 'SVR',\n",
    "                                                                                                    kernel_ = 'linear', #‘linear’, ‘poly’, ‘rbf’, ‘sigmoid’, ‘precomputed’\n",
    "                                                                                                    gamma_ = 'auto', #‘scale’, ‘auto’\n",
    "                                                                                                    train_test_split_ = False, \n",
    "                                                                                                    verbose = True)\n",
    "print(\"R^2 score: \" + str(r2_score(without_standardization.predict(molecular_descriptors_df[hist2['molecular descriptor name']]), molecular_descriptors_df['Cytoprotective activity [%]'])))\n",
    "print(\"Mean squared error: \"+str(mean_squared_error(without_standardization.predict(molecular_descriptors_df[hist2['molecular descriptor name']]), molecular_descriptors_df['Cytoprotective activity [%]'])))\n",
    "print('Mean absolute error: ' + str(mean_absolute_error(without_standardization.predict(molecular_descriptors_df[hist2['molecular descriptor name']]), molecular_descriptors_df['Cytoprotective activity [%]'])))"
   ]
  }
 ],
 "metadata": {
  "kernelspec": {
   "display_name": "Python 3 (ipykernel)",
   "language": "python",
   "name": "python3"
  },
  "language_info": {
   "codemirror_mode": {
    "name": "ipython",
    "version": 3
   },
   "file_extension": ".py",
   "mimetype": "text/x-python",
   "name": "python",
   "nbconvert_exporter": "python",
   "pygments_lexer": "ipython3",
   "version": "3.9.15"
  }
 },
 "nbformat": 4,
 "nbformat_minor": 5
}
