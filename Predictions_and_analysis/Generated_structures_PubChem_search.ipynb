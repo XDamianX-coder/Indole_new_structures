{
 "cells": [
  {
   "cell_type": "code",
   "execution_count": 1,
   "id": "023acbac",
   "metadata": {},
   "outputs": [],
   "source": [
    "import pubchempy as pcp\n",
    "import pandas as pd\n",
    "import math"
   ]
  },
  {
   "cell_type": "code",
   "execution_count": 2,
   "id": "9aaa9213",
   "metadata": {},
   "outputs": [],
   "source": [
    "data_ = pd.read_excel('../Data/Molecules_generated_tensor_scaling_0_2.xlsx')"
   ]
  },
  {
   "cell_type": "code",
   "execution_count": 3,
   "id": "1782f2f8",
   "metadata": {},
   "outputs": [],
   "source": [
    "data__ = pd.read_excel('../Data/Molecules_generated_tensor_scaling_0_1.xlsx')"
   ]
  },
  {
   "cell_type": "code",
   "execution_count": 4,
   "id": "c442f59b",
   "metadata": {},
   "outputs": [],
   "source": [
    "data = pd.concat([data_, data__], ignore_index=True)"
   ]
  },
  {
   "cell_type": "code",
   "execution_count": 5,
   "id": "97f944a0",
   "metadata": {},
   "outputs": [
    {
     "data": {
      "text/plain": [
       "1269"
      ]
     },
     "execution_count": 5,
     "metadata": {},
     "output_type": "execute_result"
    }
   ],
   "source": [
    "len(data['SMILES_From_Tensor_rotation'])"
   ]
  },
  {
   "cell_type": "code",
   "execution_count": 6,
   "id": "87d3c916",
   "metadata": {},
   "outputs": [
    {
     "data": {
      "text/plain": [
       "1175"
      ]
     },
     "execution_count": 6,
     "metadata": {},
     "output_type": "execute_result"
    }
   ],
   "source": [
    "data = data.drop_duplicates(subset=['SMILES_From_Tensor_rotation'])\n",
    "#list(set(data['SMILES_From_Tensor_rotation'])) #old approach\n",
    "len(data)"
   ]
  },
  {
   "cell_type": "code",
   "execution_count": 7,
   "id": "bf24f29d",
   "metadata": {},
   "outputs": [
    {
     "data": {
      "text/html": [
       "<div>\n",
       "<style scoped>\n",
       "    .dataframe tbody tr th:only-of-type {\n",
       "        vertical-align: middle;\n",
       "    }\n",
       "\n",
       "    .dataframe tbody tr th {\n",
       "        vertical-align: top;\n",
       "    }\n",
       "\n",
       "    .dataframe thead th {\n",
       "        text-align: right;\n",
       "    }\n",
       "</style>\n",
       "<table border=\"1\" class=\"dataframe\">\n",
       "  <thead>\n",
       "    <tr style=\"text-align: right;\">\n",
       "      <th></th>\n",
       "      <th>SMILES_From_Tensor_rotation</th>\n",
       "    </tr>\n",
       "  </thead>\n",
       "  <tbody>\n",
       "    <tr>\n",
       "      <th>0</th>\n",
       "      <td>C1[NH1]C=CN1CC2=C[NH1]C3=CC=CC=C32</td>\n",
       "    </tr>\n",
       "    <tr>\n",
       "      <th>1</th>\n",
       "      <td>CC1(CN2C=C(N=C2CC)C[NH1]C3=C)C=CC=C31</td>\n",
       "    </tr>\n",
       "    <tr>\n",
       "      <th>2</th>\n",
       "      <td>C12C(CNC(C)=CC([NH1]C1)=C)C=C2</td>\n",
       "    </tr>\n",
       "    <tr>\n",
       "      <th>3</th>\n",
       "      <td>C=C1CN(C=N1)CC2=C[NH1]C3=CC=CC=C32</td>\n",
       "    </tr>\n",
       "    <tr>\n",
       "      <th>4</th>\n",
       "      <td>C12C(CN3C(C)=NC=C3C[NH1]C1)=CC=C2</td>\n",
       "    </tr>\n",
       "  </tbody>\n",
       "</table>\n",
       "</div>"
      ],
      "text/plain": [
       "             SMILES_From_Tensor_rotation\n",
       "0     C1[NH1]C=CN1CC2=C[NH1]C3=CC=CC=C32\n",
       "1  CC1(CN2C=C(N=C2CC)C[NH1]C3=C)C=CC=C31\n",
       "2         C12C(CNC(C)=CC([NH1]C1)=C)C=C2\n",
       "3     C=C1CN(C=N1)CC2=C[NH1]C3=CC=CC=C32\n",
       "4      C12C(CN3C(C)=NC=C3C[NH1]C1)=CC=C2"
      ]
     },
     "execution_count": 7,
     "metadata": {},
     "output_type": "execute_result"
    }
   ],
   "source": [
    "data = data.drop(columns=['Unnamed: 0'])\n",
    "data.head()"
   ]
  },
  {
   "cell_type": "code",
   "execution_count": 8,
   "id": "c73a1970",
   "metadata": {},
   "outputs": [],
   "source": [
    "zeros = [0 for i in range(len(data))]"
   ]
  },
  {
   "cell_type": "code",
   "execution_count": 9,
   "id": "c676086d",
   "metadata": {},
   "outputs": [],
   "source": [
    "data['CID'] = zeros\n",
    "data['PUBCHEM_SMILES'] = zeros"
   ]
  },
  {
   "cell_type": "code",
   "execution_count": 10,
   "id": "4186789f",
   "metadata": {},
   "outputs": [
    {
     "name": "stderr",
     "output_type": "stream",
     "text": [
      "C:\\Users\\aleks\\AppData\\Local\\Temp\\ipykernel_12416\\3164115185.py:5: SettingWithCopyWarning: \n",
      "A value is trying to be set on a copy of a slice from a DataFrame\n",
      "\n",
      "See the caveats in the documentation: https://pandas.pydata.org/pandas-docs/stable/user_guide/indexing.html#returning-a-view-versus-a-copy\n",
      "  data['CID'][i] = compound[0].cid\n",
      "C:\\Users\\aleks\\AppData\\Local\\Temp\\ipykernel_12416\\3164115185.py:6: SettingWithCopyWarning: \n",
      "A value is trying to be set on a copy of a slice from a DataFrame\n",
      "\n",
      "See the caveats in the documentation: https://pandas.pydata.org/pandas-docs/stable/user_guide/indexing.html#returning-a-view-versus-a-copy\n",
      "  data['PUBCHEM_SMILES'][i] = compound[0].canonical_smiles\n"
     ]
    },
    {
     "name": "stdout",
     "output_type": "stream",
     "text": [
      "PUGREST.BadRequest: error:  C=1OCN(C=1C=CC=C)S=C\n",
      "PUGREST.BadRequest: error:  N1(CC2=C[NH1]C3=CC=CC=C23)COC(=C1)S=O\n",
      "PUGREST.BadRequest: error:  N(C1=C(C=CC=C1)OC)=SCC2=C[NH1]C3=CC=CC=C23\n",
      "PUGREST.BadRequest: error:  S=1C=C(N(CC2=C[NH1]C3=CC=CC=C23)C=1C=CC)CC=C\n",
      "PUGREST.BadRequest: error:  N(CCN=CCC)=SCC1=C[NH1]C2=CC=CC=C21\n",
      "PUGREST.BadRequest: error:  N(C=C(C=SC)C1)=C[NH1]C2=C1C=CC=C2C(=C)C\n",
      "PUGREST.BadRequest: error:  O=C(C)NC=C(C)C(NCC1=C[NH1]C2=C1C=CC=C2)=SC=CC=C\n",
      "PUGREST.BadRequest: error:  N(COC1=CC=CC=C1)=SC\n",
      "PUGREST.BadRequest: error:  S1=CN(CC2=C[NH1]C3=CC=CC=C32)C(C(C)C)C=CC=C1\n",
      "PUGREST.BadRequest: error:  N(N(CC1=C[NH1]C2=CC=CC=C21)C=CC)=SC=CC=C\n",
      "PUGREST.BadRequest: error:  N(C(C1=CC=CC=C1S=S=C)C=CC)=C\n",
      "PUGREST.BadRequest: error:  S1=C(N(CC2=C[NH1]C3=CC=CC=C23)C=N1)C4=C[NH1]C5=CC=CC=C45\n",
      "PUGREST.BadRequest: error:  S=1C=C(N(CC2=C[NH1]C3=CC=CC=C23)C=1C)CC=CS\n",
      "PUGREST.BadRequest: error:  O=CC=C(C1=CCN2C3=CC=CC=C3)OC2=SC=CC=C1\n",
      "PUGREST.BadRequest: error:  S1=CN(C(=O)[NH1]1)CC2=C[NH1]C3=CC=CC=C23\n",
      "PUGREST.BadRequest: error:  S1(C(=O)C2=C(C=CC=C2)C)=SC=CC=C1\n",
      "PUGREST.BadRequest: error:  [NH1]1CCN(C=2C3=CC=CC=C3[NH1]C=2)S=CC=C1\n",
      "PUGREST.BadRequest: error:  S1=CN(C=CC(=O)[NH1]1)CC2=C[NH1]C3=CC=CC=C23\n",
      "PUGREST.BadRequest: error:  O=C[NH1]C1=C(C)N(C1=SCC2)C[NH1]C3=CC=CC=C23\n",
      "PUGREST.BadRequest: error:  C12=CC=CC=C1CN(C2=SC)C3=C[NH1]C4=CC=CC=C34\n",
      "PUGREST.BadRequest: error:  CC(C)C=1N(C=CN=1)C2C=C[NH1]C3=CC=CC=C32\n"
     ]
    },
    {
     "name": "stderr",
     "output_type": "stream",
     "text": [
      "C:\\Users\\aleks\\AppData\\Local\\Temp\\ipykernel_12416\\3164115185.py:5: SettingWithCopyWarning: \n",
      "A value is trying to be set on a copy of a slice from a DataFrame\n",
      "\n",
      "See the caveats in the documentation: https://pandas.pydata.org/pandas-docs/stable/user_guide/indexing.html#returning-a-view-versus-a-copy\n",
      "  data['CID'][i] = compound[0].cid\n",
      "C:\\Users\\aleks\\AppData\\Local\\Temp\\ipykernel_12416\\3164115185.py:6: SettingWithCopyWarning: \n",
      "A value is trying to be set on a copy of a slice from a DataFrame\n",
      "\n",
      "See the caveats in the documentation: https://pandas.pydata.org/pandas-docs/stable/user_guide/indexing.html#returning-a-view-versus-a-copy\n",
      "  data['PUBCHEM_SMILES'][i] = compound[0].canonical_smiles\n"
     ]
    },
    {
     "name": "stdout",
     "output_type": "stream",
     "text": [
      "PUGREST.BadRequest: error:  CCCOCCC1=CC=CC=C1N=[N+1]=[N-1]\n"
     ]
    },
    {
     "name": "stderr",
     "output_type": "stream",
     "text": [
      "C:\\Users\\aleks\\AppData\\Local\\Temp\\ipykernel_12416\\3164115185.py:5: SettingWithCopyWarning: \n",
      "A value is trying to be set on a copy of a slice from a DataFrame\n",
      "\n",
      "See the caveats in the documentation: https://pandas.pydata.org/pandas-docs/stable/user_guide/indexing.html#returning-a-view-versus-a-copy\n",
      "  data['CID'][i] = compound[0].cid\n",
      "C:\\Users\\aleks\\AppData\\Local\\Temp\\ipykernel_12416\\3164115185.py:6: SettingWithCopyWarning: \n",
      "A value is trying to be set on a copy of a slice from a DataFrame\n",
      "\n",
      "See the caveats in the documentation: https://pandas.pydata.org/pandas-docs/stable/user_guide/indexing.html#returning-a-view-versus-a-copy\n",
      "  data['PUBCHEM_SMILES'][i] = compound[0].canonical_smiles\n",
      "C:\\Users\\aleks\\AppData\\Local\\Temp\\ipykernel_12416\\3164115185.py:8: SettingWithCopyWarning: \n",
      "A value is trying to be set on a copy of a slice from a DataFrame\n",
      "\n",
      "See the caveats in the documentation: https://pandas.pydata.org/pandas-docs/stable/user_guide/indexing.html#returning-a-view-versus-a-copy\n",
      "  data['CID'][i] = 0\n",
      "C:\\Users\\aleks\\AppData\\Local\\Temp\\ipykernel_12416\\3164115185.py:9: SettingWithCopyWarning: \n",
      "A value is trying to be set on a copy of a slice from a DataFrame\n",
      "\n",
      "See the caveats in the documentation: https://pandas.pydata.org/pandas-docs/stable/user_guide/indexing.html#returning-a-view-versus-a-copy\n",
      "  data['PUBCHEM_SMILES'][i] = 0\n",
      "C:\\Users\\aleks\\AppData\\Local\\Temp\\ipykernel_12416\\3164115185.py:6: SettingWithCopyWarning: \n",
      "A value is trying to be set on a copy of a slice from a DataFrame\n",
      "\n",
      "See the caveats in the documentation: https://pandas.pydata.org/pandas-docs/stable/user_guide/indexing.html#returning-a-view-versus-a-copy\n",
      "  data['PUBCHEM_SMILES'][i] = compound[0].canonical_smiles\n"
     ]
    },
    {
     "name": "stdout",
     "output_type": "stream",
     "text": [
      "PUGREST.BadRequest: error:  CC(C)CCOCC1=C[NH1]C2=CC=CC=C12\n"
     ]
    },
    {
     "name": "stderr",
     "output_type": "stream",
     "text": [
      "C:\\Users\\aleks\\AppData\\Local\\Temp\\ipykernel_12416\\3164115185.py:5: SettingWithCopyWarning: \n",
      "A value is trying to be set on a copy of a slice from a DataFrame\n",
      "\n",
      "See the caveats in the documentation: https://pandas.pydata.org/pandas-docs/stable/user_guide/indexing.html#returning-a-view-versus-a-copy\n",
      "  data['CID'][i] = compound[0].cid\n",
      "C:\\Users\\aleks\\AppData\\Local\\Temp\\ipykernel_12416\\3164115185.py:6: SettingWithCopyWarning: \n",
      "A value is trying to be set on a copy of a slice from a DataFrame\n",
      "\n",
      "See the caveats in the documentation: https://pandas.pydata.org/pandas-docs/stable/user_guide/indexing.html#returning-a-view-versus-a-copy\n",
      "  data['PUBCHEM_SMILES'][i] = compound[0].canonical_smiles\n",
      "C:\\Users\\aleks\\AppData\\Local\\Temp\\ipykernel_12416\\3164115185.py:8: SettingWithCopyWarning: \n",
      "A value is trying to be set on a copy of a slice from a DataFrame\n",
      "\n",
      "See the caveats in the documentation: https://pandas.pydata.org/pandas-docs/stable/user_guide/indexing.html#returning-a-view-versus-a-copy\n",
      "  data['CID'][i] = 0\n",
      "C:\\Users\\aleks\\AppData\\Local\\Temp\\ipykernel_12416\\3164115185.py:9: SettingWithCopyWarning: \n",
      "A value is trying to be set on a copy of a slice from a DataFrame\n",
      "\n",
      "See the caveats in the documentation: https://pandas.pydata.org/pandas-docs/stable/user_guide/indexing.html#returning-a-view-versus-a-copy\n",
      "  data['PUBCHEM_SMILES'][i] = 0\n",
      "C:\\Users\\aleks\\AppData\\Local\\Temp\\ipykernel_12416\\3164115185.py:6: SettingWithCopyWarning: \n",
      "A value is trying to be set on a copy of a slice from a DataFrame\n",
      "\n",
      "See the caveats in the documentation: https://pandas.pydata.org/pandas-docs/stable/user_guide/indexing.html#returning-a-view-versus-a-copy\n",
      "  data['PUBCHEM_SMILES'][i] = compound[0].canonical_smiles\n"
     ]
    },
    {
     "name": "stdout",
     "output_type": "stream",
     "text": [
      "PUGREST.BadRequest: error:  C12=CC=CC=C1C(CN3C(CC)=NC(=C3)C=C)[NH1]2\n"
     ]
    },
    {
     "name": "stderr",
     "output_type": "stream",
     "text": [
      "C:\\Users\\aleks\\AppData\\Local\\Temp\\ipykernel_12416\\3164115185.py:5: SettingWithCopyWarning: \n",
      "A value is trying to be set on a copy of a slice from a DataFrame\n",
      "\n",
      "See the caveats in the documentation: https://pandas.pydata.org/pandas-docs/stable/user_guide/indexing.html#returning-a-view-versus-a-copy\n",
      "  data['CID'][i] = compound[0].cid\n",
      "C:\\Users\\aleks\\AppData\\Local\\Temp\\ipykernel_12416\\3164115185.py:6: SettingWithCopyWarning: \n",
      "A value is trying to be set on a copy of a slice from a DataFrame\n",
      "\n",
      "See the caveats in the documentation: https://pandas.pydata.org/pandas-docs/stable/user_guide/indexing.html#returning-a-view-versus-a-copy\n",
      "  data['PUBCHEM_SMILES'][i] = compound[0].canonical_smiles\n",
      "C:\\Users\\aleks\\AppData\\Local\\Temp\\ipykernel_12416\\3164115185.py:8: SettingWithCopyWarning: \n",
      "A value is trying to be set on a copy of a slice from a DataFrame\n",
      "\n",
      "See the caveats in the documentation: https://pandas.pydata.org/pandas-docs/stable/user_guide/indexing.html#returning-a-view-versus-a-copy\n",
      "  data['CID'][i] = 0\n",
      "C:\\Users\\aleks\\AppData\\Local\\Temp\\ipykernel_12416\\3164115185.py:9: SettingWithCopyWarning: \n",
      "A value is trying to be set on a copy of a slice from a DataFrame\n",
      "\n",
      "See the caveats in the documentation: https://pandas.pydata.org/pandas-docs/stable/user_guide/indexing.html#returning-a-view-versus-a-copy\n",
      "  data['PUBCHEM_SMILES'][i] = 0\n",
      "C:\\Users\\aleks\\AppData\\Local\\Temp\\ipykernel_12416\\3164115185.py:6: SettingWithCopyWarning: \n",
      "A value is trying to be set on a copy of a slice from a DataFrame\n",
      "\n",
      "See the caveats in the documentation: https://pandas.pydata.org/pandas-docs/stable/user_guide/indexing.html#returning-a-view-versus-a-copy\n",
      "  data['PUBCHEM_SMILES'][i] = compound[0].canonical_smiles\n"
     ]
    },
    {
     "name": "stdout",
     "output_type": "stream",
     "text": [
      "PUGREST.BadRequest: error:  C12=CC=CC=C1C2CN3C([NH1]C(C=C3)=O)=O\n"
     ]
    },
    {
     "name": "stderr",
     "output_type": "stream",
     "text": [
      "C:\\Users\\aleks\\AppData\\Local\\Temp\\ipykernel_12416\\3164115185.py:5: SettingWithCopyWarning: \n",
      "A value is trying to be set on a copy of a slice from a DataFrame\n",
      "\n",
      "See the caveats in the documentation: https://pandas.pydata.org/pandas-docs/stable/user_guide/indexing.html#returning-a-view-versus-a-copy\n",
      "  data['CID'][i] = compound[0].cid\n",
      "C:\\Users\\aleks\\AppData\\Local\\Temp\\ipykernel_12416\\3164115185.py:6: SettingWithCopyWarning: \n",
      "A value is trying to be set on a copy of a slice from a DataFrame\n",
      "\n",
      "See the caveats in the documentation: https://pandas.pydata.org/pandas-docs/stable/user_guide/indexing.html#returning-a-view-versus-a-copy\n",
      "  data['PUBCHEM_SMILES'][i] = compound[0].canonical_smiles\n",
      "C:\\Users\\aleks\\AppData\\Local\\Temp\\ipykernel_12416\\3164115185.py:8: SettingWithCopyWarning: \n",
      "A value is trying to be set on a copy of a slice from a DataFrame\n",
      "\n",
      "See the caveats in the documentation: https://pandas.pydata.org/pandas-docs/stable/user_guide/indexing.html#returning-a-view-versus-a-copy\n",
      "  data['CID'][i] = 0\n",
      "C:\\Users\\aleks\\AppData\\Local\\Temp\\ipykernel_12416\\3164115185.py:9: SettingWithCopyWarning: \n",
      "A value is trying to be set on a copy of a slice from a DataFrame\n",
      "\n",
      "See the caveats in the documentation: https://pandas.pydata.org/pandas-docs/stable/user_guide/indexing.html#returning-a-view-versus-a-copy\n",
      "  data['PUBCHEM_SMILES'][i] = 0\n",
      "C:\\Users\\aleks\\AppData\\Local\\Temp\\ipykernel_12416\\3164115185.py:6: SettingWithCopyWarning: \n",
      "A value is trying to be set on a copy of a slice from a DataFrame\n",
      "\n",
      "See the caveats in the documentation: https://pandas.pydata.org/pandas-docs/stable/user_guide/indexing.html#returning-a-view-versus-a-copy\n",
      "  data['PUBCHEM_SMILES'][i] = compound[0].canonical_smiles\n"
     ]
    },
    {
     "name": "stdout",
     "output_type": "stream",
     "text": [
      "PUGREST.BadRequest: error:  C1=CC=CC=C1CCN2C=CC([NH1]C2=S)=O\n"
     ]
    },
    {
     "name": "stderr",
     "output_type": "stream",
     "text": [
      "C:\\Users\\aleks\\AppData\\Local\\Temp\\ipykernel_12416\\3164115185.py:5: SettingWithCopyWarning: \n",
      "A value is trying to be set on a copy of a slice from a DataFrame\n",
      "\n",
      "See the caveats in the documentation: https://pandas.pydata.org/pandas-docs/stable/user_guide/indexing.html#returning-a-view-versus-a-copy\n",
      "  data['CID'][i] = compound[0].cid\n",
      "C:\\Users\\aleks\\AppData\\Local\\Temp\\ipykernel_12416\\3164115185.py:6: SettingWithCopyWarning: \n",
      "A value is trying to be set on a copy of a slice from a DataFrame\n",
      "\n",
      "See the caveats in the documentation: https://pandas.pydata.org/pandas-docs/stable/user_guide/indexing.html#returning-a-view-versus-a-copy\n",
      "  data['PUBCHEM_SMILES'][i] = compound[0].canonical_smiles\n",
      "C:\\Users\\aleks\\AppData\\Local\\Temp\\ipykernel_12416\\3164115185.py:8: SettingWithCopyWarning: \n",
      "A value is trying to be set on a copy of a slice from a DataFrame\n",
      "\n",
      "See the caveats in the documentation: https://pandas.pydata.org/pandas-docs/stable/user_guide/indexing.html#returning-a-view-versus-a-copy\n",
      "  data['CID'][i] = 0\n",
      "C:\\Users\\aleks\\AppData\\Local\\Temp\\ipykernel_12416\\3164115185.py:9: SettingWithCopyWarning: \n",
      "A value is trying to be set on a copy of a slice from a DataFrame\n",
      "\n",
      "See the caveats in the documentation: https://pandas.pydata.org/pandas-docs/stable/user_guide/indexing.html#returning-a-view-versus-a-copy\n",
      "  data['PUBCHEM_SMILES'][i] = 0\n",
      "C:\\Users\\aleks\\AppData\\Local\\Temp\\ipykernel_12416\\3164115185.py:6: SettingWithCopyWarning: \n",
      "A value is trying to be set on a copy of a slice from a DataFrame\n",
      "\n",
      "See the caveats in the documentation: https://pandas.pydata.org/pandas-docs/stable/user_guide/indexing.html#returning-a-view-versus-a-copy\n",
      "  data['PUBCHEM_SMILES'][i] = compound[0].canonical_smiles\n"
     ]
    },
    {
     "name": "stdout",
     "output_type": "stream",
     "text": [
      "PUGREST.BadRequest: error:  C=1(C2=CC=CC3=C2NC=1)CC=CN(C4C)NC=CC4C=CC=C3\n"
     ]
    },
    {
     "name": "stderr",
     "output_type": "stream",
     "text": [
      "C:\\Users\\aleks\\AppData\\Local\\Temp\\ipykernel_12416\\3164115185.py:5: SettingWithCopyWarning: \n",
      "A value is trying to be set on a copy of a slice from a DataFrame\n",
      "\n",
      "See the caveats in the documentation: https://pandas.pydata.org/pandas-docs/stable/user_guide/indexing.html#returning-a-view-versus-a-copy\n",
      "  data['CID'][i] = compound[0].cid\n",
      "C:\\Users\\aleks\\AppData\\Local\\Temp\\ipykernel_12416\\3164115185.py:6: SettingWithCopyWarning: \n",
      "A value is trying to be set on a copy of a slice from a DataFrame\n",
      "\n",
      "See the caveats in the documentation: https://pandas.pydata.org/pandas-docs/stable/user_guide/indexing.html#returning-a-view-versus-a-copy\n",
      "  data['PUBCHEM_SMILES'][i] = compound[0].canonical_smiles\n",
      "C:\\Users\\aleks\\AppData\\Local\\Temp\\ipykernel_12416\\3164115185.py:8: SettingWithCopyWarning: \n",
      "A value is trying to be set on a copy of a slice from a DataFrame\n",
      "\n",
      "See the caveats in the documentation: https://pandas.pydata.org/pandas-docs/stable/user_guide/indexing.html#returning-a-view-versus-a-copy\n",
      "  data['CID'][i] = 0\n",
      "C:\\Users\\aleks\\AppData\\Local\\Temp\\ipykernel_12416\\3164115185.py:9: SettingWithCopyWarning: \n",
      "A value is trying to be set on a copy of a slice from a DataFrame\n",
      "\n",
      "See the caveats in the documentation: https://pandas.pydata.org/pandas-docs/stable/user_guide/indexing.html#returning-a-view-versus-a-copy\n",
      "  data['PUBCHEM_SMILES'][i] = 0\n",
      "C:\\Users\\aleks\\AppData\\Local\\Temp\\ipykernel_12416\\3164115185.py:6: SettingWithCopyWarning: \n",
      "A value is trying to be set on a copy of a slice from a DataFrame\n",
      "\n",
      "See the caveats in the documentation: https://pandas.pydata.org/pandas-docs/stable/user_guide/indexing.html#returning-a-view-versus-a-copy\n",
      "  data['PUBCHEM_SMILES'][i] = compound[0].canonical_smiles\n"
     ]
    },
    {
     "name": "stdout",
     "output_type": "stream",
     "text": [
      "PUGREST.BadRequest: error:  [N-1]=[N+1]=NCC=CC(CN1N=NC(COCC2=C[NH1]C3=C2C=CC=C3)=C1)=CC=CC=C\n"
     ]
    },
    {
     "name": "stderr",
     "output_type": "stream",
     "text": [
      "C:\\Users\\aleks\\AppData\\Local\\Temp\\ipykernel_12416\\3164115185.py:5: SettingWithCopyWarning: \n",
      "A value is trying to be set on a copy of a slice from a DataFrame\n",
      "\n",
      "See the caveats in the documentation: https://pandas.pydata.org/pandas-docs/stable/user_guide/indexing.html#returning-a-view-versus-a-copy\n",
      "  data['CID'][i] = compound[0].cid\n",
      "C:\\Users\\aleks\\AppData\\Local\\Temp\\ipykernel_12416\\3164115185.py:6: SettingWithCopyWarning: \n",
      "A value is trying to be set on a copy of a slice from a DataFrame\n",
      "\n",
      "See the caveats in the documentation: https://pandas.pydata.org/pandas-docs/stable/user_guide/indexing.html#returning-a-view-versus-a-copy\n",
      "  data['PUBCHEM_SMILES'][i] = compound[0].canonical_smiles\n",
      "C:\\Users\\aleks\\AppData\\Local\\Temp\\ipykernel_12416\\3164115185.py:8: SettingWithCopyWarning: \n",
      "A value is trying to be set on a copy of a slice from a DataFrame\n",
      "\n",
      "See the caveats in the documentation: https://pandas.pydata.org/pandas-docs/stable/user_guide/indexing.html#returning-a-view-versus-a-copy\n",
      "  data['CID'][i] = 0\n",
      "C:\\Users\\aleks\\AppData\\Local\\Temp\\ipykernel_12416\\3164115185.py:9: SettingWithCopyWarning: \n",
      "A value is trying to be set on a copy of a slice from a DataFrame\n",
      "\n",
      "See the caveats in the documentation: https://pandas.pydata.org/pandas-docs/stable/user_guide/indexing.html#returning-a-view-versus-a-copy\n",
      "  data['PUBCHEM_SMILES'][i] = 0\n",
      "C:\\Users\\aleks\\AppData\\Local\\Temp\\ipykernel_12416\\3164115185.py:6: SettingWithCopyWarning: \n",
      "A value is trying to be set on a copy of a slice from a DataFrame\n",
      "\n",
      "See the caveats in the documentation: https://pandas.pydata.org/pandas-docs/stable/user_guide/indexing.html#returning-a-view-versus-a-copy\n",
      "  data['PUBCHEM_SMILES'][i] = compound[0].canonical_smiles\n"
     ]
    },
    {
     "name": "stdout",
     "output_type": "stream",
     "text": [
      "PUGREST.BadRequest: error:  C(CC1=C[NH1]C2=CC=CC=C12)CN3C(C4=CC=CC=C4C3=O)=O\n"
     ]
    },
    {
     "name": "stderr",
     "output_type": "stream",
     "text": [
      "C:\\Users\\aleks\\AppData\\Local\\Temp\\ipykernel_12416\\3164115185.py:5: SettingWithCopyWarning: \n",
      "A value is trying to be set on a copy of a slice from a DataFrame\n",
      "\n",
      "See the caveats in the documentation: https://pandas.pydata.org/pandas-docs/stable/user_guide/indexing.html#returning-a-view-versus-a-copy\n",
      "  data['CID'][i] = compound[0].cid\n",
      "C:\\Users\\aleks\\AppData\\Local\\Temp\\ipykernel_12416\\3164115185.py:6: SettingWithCopyWarning: \n",
      "A value is trying to be set on a copy of a slice from a DataFrame\n",
      "\n",
      "See the caveats in the documentation: https://pandas.pydata.org/pandas-docs/stable/user_guide/indexing.html#returning-a-view-versus-a-copy\n",
      "  data['PUBCHEM_SMILES'][i] = compound[0].canonical_smiles\n",
      "C:\\Users\\aleks\\AppData\\Local\\Temp\\ipykernel_12416\\3164115185.py:8: SettingWithCopyWarning: \n",
      "A value is trying to be set on a copy of a slice from a DataFrame\n",
      "\n",
      "See the caveats in the documentation: https://pandas.pydata.org/pandas-docs/stable/user_guide/indexing.html#returning-a-view-versus-a-copy\n",
      "  data['CID'][i] = 0\n",
      "C:\\Users\\aleks\\AppData\\Local\\Temp\\ipykernel_12416\\3164115185.py:9: SettingWithCopyWarning: \n",
      "A value is trying to be set on a copy of a slice from a DataFrame\n",
      "\n",
      "See the caveats in the documentation: https://pandas.pydata.org/pandas-docs/stable/user_guide/indexing.html#returning-a-view-versus-a-copy\n",
      "  data['PUBCHEM_SMILES'][i] = 0\n",
      "C:\\Users\\aleks\\AppData\\Local\\Temp\\ipykernel_12416\\3164115185.py:6: SettingWithCopyWarning: \n",
      "A value is trying to be set on a copy of a slice from a DataFrame\n",
      "\n",
      "See the caveats in the documentation: https://pandas.pydata.org/pandas-docs/stable/user_guide/indexing.html#returning-a-view-versus-a-copy\n",
      "  data['PUBCHEM_SMILES'][i] = compound[0].canonical_smiles\n"
     ]
    },
    {
     "name": "stdout",
     "output_type": "stream",
     "text": [
      "PUGREST.BadRequest: error:  C12=CC=CC=C1CCOCCCCC=C2\n"
     ]
    },
    {
     "name": "stderr",
     "output_type": "stream",
     "text": [
      "C:\\Users\\aleks\\AppData\\Local\\Temp\\ipykernel_12416\\3164115185.py:5: SettingWithCopyWarning: \n",
      "A value is trying to be set on a copy of a slice from a DataFrame\n",
      "\n",
      "See the caveats in the documentation: https://pandas.pydata.org/pandas-docs/stable/user_guide/indexing.html#returning-a-view-versus-a-copy\n",
      "  data['CID'][i] = compound[0].cid\n",
      "C:\\Users\\aleks\\AppData\\Local\\Temp\\ipykernel_12416\\3164115185.py:6: SettingWithCopyWarning: \n",
      "A value is trying to be set on a copy of a slice from a DataFrame\n",
      "\n",
      "See the caveats in the documentation: https://pandas.pydata.org/pandas-docs/stable/user_guide/indexing.html#returning-a-view-versus-a-copy\n",
      "  data['PUBCHEM_SMILES'][i] = compound[0].canonical_smiles\n",
      "C:\\Users\\aleks\\AppData\\Local\\Temp\\ipykernel_12416\\3164115185.py:8: SettingWithCopyWarning: \n",
      "A value is trying to be set on a copy of a slice from a DataFrame\n",
      "\n",
      "See the caveats in the documentation: https://pandas.pydata.org/pandas-docs/stable/user_guide/indexing.html#returning-a-view-versus-a-copy\n",
      "  data['CID'][i] = 0\n",
      "C:\\Users\\aleks\\AppData\\Local\\Temp\\ipykernel_12416\\3164115185.py:9: SettingWithCopyWarning: \n",
      "A value is trying to be set on a copy of a slice from a DataFrame\n",
      "\n",
      "See the caveats in the documentation: https://pandas.pydata.org/pandas-docs/stable/user_guide/indexing.html#returning-a-view-versus-a-copy\n",
      "  data['PUBCHEM_SMILES'][i] = 0\n",
      "C:\\Users\\aleks\\AppData\\Local\\Temp\\ipykernel_12416\\3164115185.py:6: SettingWithCopyWarning: \n",
      "A value is trying to be set on a copy of a slice from a DataFrame\n",
      "\n",
      "See the caveats in the documentation: https://pandas.pydata.org/pandas-docs/stable/user_guide/indexing.html#returning-a-view-versus-a-copy\n",
      "  data['PUBCHEM_SMILES'][i] = compound[0].canonical_smiles\n"
     ]
    },
    {
     "name": "stdout",
     "output_type": "stream",
     "text": [
      "PUGREST.BadRequest: error:  C1=CC2=CC=C1C(COCCCCC)=C[NH1]2\n"
     ]
    },
    {
     "name": "stderr",
     "output_type": "stream",
     "text": [
      "C:\\Users\\aleks\\AppData\\Local\\Temp\\ipykernel_12416\\3164115185.py:5: SettingWithCopyWarning: \n",
      "A value is trying to be set on a copy of a slice from a DataFrame\n",
      "\n",
      "See the caveats in the documentation: https://pandas.pydata.org/pandas-docs/stable/user_guide/indexing.html#returning-a-view-versus-a-copy\n",
      "  data['CID'][i] = compound[0].cid\n",
      "C:\\Users\\aleks\\AppData\\Local\\Temp\\ipykernel_12416\\3164115185.py:6: SettingWithCopyWarning: \n",
      "A value is trying to be set on a copy of a slice from a DataFrame\n",
      "\n",
      "See the caveats in the documentation: https://pandas.pydata.org/pandas-docs/stable/user_guide/indexing.html#returning-a-view-versus-a-copy\n",
      "  data['PUBCHEM_SMILES'][i] = compound[0].canonical_smiles\n",
      "C:\\Users\\aleks\\AppData\\Local\\Temp\\ipykernel_12416\\3164115185.py:8: SettingWithCopyWarning: \n",
      "A value is trying to be set on a copy of a slice from a DataFrame\n",
      "\n",
      "See the caveats in the documentation: https://pandas.pydata.org/pandas-docs/stable/user_guide/indexing.html#returning-a-view-versus-a-copy\n",
      "  data['CID'][i] = 0\n",
      "C:\\Users\\aleks\\AppData\\Local\\Temp\\ipykernel_12416\\3164115185.py:9: SettingWithCopyWarning: \n",
      "A value is trying to be set on a copy of a slice from a DataFrame\n",
      "\n",
      "See the caveats in the documentation: https://pandas.pydata.org/pandas-docs/stable/user_guide/indexing.html#returning-a-view-versus-a-copy\n",
      "  data['PUBCHEM_SMILES'][i] = 0\n",
      "C:\\Users\\aleks\\AppData\\Local\\Temp\\ipykernel_12416\\3164115185.py:6: SettingWithCopyWarning: \n",
      "A value is trying to be set on a copy of a slice from a DataFrame\n",
      "\n",
      "See the caveats in the documentation: https://pandas.pydata.org/pandas-docs/stable/user_guide/indexing.html#returning-a-view-versus-a-copy\n",
      "  data['PUBCHEM_SMILES'][i] = compound[0].canonical_smiles\n"
     ]
    },
    {
     "name": "stdout",
     "output_type": "stream",
     "text": [
      "PUGREST.BadRequest: error:  O=C(C)N(CC1=C[NH1]C2=C1C=CC=C2)CN(C=C)CC3=C[NH1]C4=CC=CC=C43\n"
     ]
    },
    {
     "name": "stderr",
     "output_type": "stream",
     "text": [
      "C:\\Users\\aleks\\AppData\\Local\\Temp\\ipykernel_12416\\3164115185.py:5: SettingWithCopyWarning: \n",
      "A value is trying to be set on a copy of a slice from a DataFrame\n",
      "\n",
      "See the caveats in the documentation: https://pandas.pydata.org/pandas-docs/stable/user_guide/indexing.html#returning-a-view-versus-a-copy\n",
      "  data['CID'][i] = compound[0].cid\n",
      "C:\\Users\\aleks\\AppData\\Local\\Temp\\ipykernel_12416\\3164115185.py:6: SettingWithCopyWarning: \n",
      "A value is trying to be set on a copy of a slice from a DataFrame\n",
      "\n",
      "See the caveats in the documentation: https://pandas.pydata.org/pandas-docs/stable/user_guide/indexing.html#returning-a-view-versus-a-copy\n",
      "  data['PUBCHEM_SMILES'][i] = compound[0].canonical_smiles\n",
      "C:\\Users\\aleks\\AppData\\Local\\Temp\\ipykernel_12416\\3164115185.py:8: SettingWithCopyWarning: \n",
      "A value is trying to be set on a copy of a slice from a DataFrame\n",
      "\n",
      "See the caveats in the documentation: https://pandas.pydata.org/pandas-docs/stable/user_guide/indexing.html#returning-a-view-versus-a-copy\n",
      "  data['CID'][i] = 0\n",
      "C:\\Users\\aleks\\AppData\\Local\\Temp\\ipykernel_12416\\3164115185.py:9: SettingWithCopyWarning: \n",
      "A value is trying to be set on a copy of a slice from a DataFrame\n",
      "\n",
      "See the caveats in the documentation: https://pandas.pydata.org/pandas-docs/stable/user_guide/indexing.html#returning-a-view-versus-a-copy\n",
      "  data['PUBCHEM_SMILES'][i] = 0\n",
      "C:\\Users\\aleks\\AppData\\Local\\Temp\\ipykernel_12416\\3164115185.py:6: SettingWithCopyWarning: \n",
      "A value is trying to be set on a copy of a slice from a DataFrame\n",
      "\n",
      "See the caveats in the documentation: https://pandas.pydata.org/pandas-docs/stable/user_guide/indexing.html#returning-a-view-versus-a-copy\n",
      "  data['PUBCHEM_SMILES'][i] = compound[0].canonical_smiles\n"
     ]
    },
    {
     "name": "stdout",
     "output_type": "stream",
     "text": [
      "PUGREST.BadRequest: error:  O=C(C)C1[NH1]C=CN1CCCCCN2C3=C(C=CC=C3)C(COCC)=C2C=CC=C\n"
     ]
    },
    {
     "name": "stderr",
     "output_type": "stream",
     "text": [
      "C:\\Users\\aleks\\AppData\\Local\\Temp\\ipykernel_12416\\3164115185.py:5: SettingWithCopyWarning: \n",
      "A value is trying to be set on a copy of a slice from a DataFrame\n",
      "\n",
      "See the caveats in the documentation: https://pandas.pydata.org/pandas-docs/stable/user_guide/indexing.html#returning-a-view-versus-a-copy\n",
      "  data['CID'][i] = compound[0].cid\n",
      "C:\\Users\\aleks\\AppData\\Local\\Temp\\ipykernel_12416\\3164115185.py:6: SettingWithCopyWarning: \n",
      "A value is trying to be set on a copy of a slice from a DataFrame\n",
      "\n",
      "See the caveats in the documentation: https://pandas.pydata.org/pandas-docs/stable/user_guide/indexing.html#returning-a-view-versus-a-copy\n",
      "  data['PUBCHEM_SMILES'][i] = compound[0].canonical_smiles\n",
      "C:\\Users\\aleks\\AppData\\Local\\Temp\\ipykernel_12416\\3164115185.py:8: SettingWithCopyWarning: \n",
      "A value is trying to be set on a copy of a slice from a DataFrame\n",
      "\n",
      "See the caveats in the documentation: https://pandas.pydata.org/pandas-docs/stable/user_guide/indexing.html#returning-a-view-versus-a-copy\n",
      "  data['CID'][i] = 0\n",
      "C:\\Users\\aleks\\AppData\\Local\\Temp\\ipykernel_12416\\3164115185.py:9: SettingWithCopyWarning: \n",
      "A value is trying to be set on a copy of a slice from a DataFrame\n",
      "\n",
      "See the caveats in the documentation: https://pandas.pydata.org/pandas-docs/stable/user_guide/indexing.html#returning-a-view-versus-a-copy\n",
      "  data['PUBCHEM_SMILES'][i] = 0\n",
      "C:\\Users\\aleks\\AppData\\Local\\Temp\\ipykernel_12416\\3164115185.py:6: SettingWithCopyWarning: \n",
      "A value is trying to be set on a copy of a slice from a DataFrame\n",
      "\n",
      "See the caveats in the documentation: https://pandas.pydata.org/pandas-docs/stable/user_guide/indexing.html#returning-a-view-versus-a-copy\n",
      "  data['PUBCHEM_SMILES'][i] = compound[0].canonical_smiles\n"
     ]
    },
    {
     "name": "stdout",
     "output_type": "stream",
     "text": [
      "PUGREST.BadRequest: error:  [NH1]1C(=O)N(C=CC1=S)C\n"
     ]
    },
    {
     "name": "stderr",
     "output_type": "stream",
     "text": [
      "C:\\Users\\aleks\\AppData\\Local\\Temp\\ipykernel_12416\\3164115185.py:5: SettingWithCopyWarning: \n",
      "A value is trying to be set on a copy of a slice from a DataFrame\n",
      "\n",
      "See the caveats in the documentation: https://pandas.pydata.org/pandas-docs/stable/user_guide/indexing.html#returning-a-view-versus-a-copy\n",
      "  data['CID'][i] = compound[0].cid\n",
      "C:\\Users\\aleks\\AppData\\Local\\Temp\\ipykernel_12416\\3164115185.py:6: SettingWithCopyWarning: \n",
      "A value is trying to be set on a copy of a slice from a DataFrame\n",
      "\n",
      "See the caveats in the documentation: https://pandas.pydata.org/pandas-docs/stable/user_guide/indexing.html#returning-a-view-versus-a-copy\n",
      "  data['PUBCHEM_SMILES'][i] = compound[0].canonical_smiles\n",
      "C:\\Users\\aleks\\AppData\\Local\\Temp\\ipykernel_12416\\3164115185.py:8: SettingWithCopyWarning: \n",
      "A value is trying to be set on a copy of a slice from a DataFrame\n",
      "\n",
      "See the caveats in the documentation: https://pandas.pydata.org/pandas-docs/stable/user_guide/indexing.html#returning-a-view-versus-a-copy\n",
      "  data['CID'][i] = 0\n",
      "C:\\Users\\aleks\\AppData\\Local\\Temp\\ipykernel_12416\\3164115185.py:9: SettingWithCopyWarning: \n",
      "A value is trying to be set on a copy of a slice from a DataFrame\n",
      "\n",
      "See the caveats in the documentation: https://pandas.pydata.org/pandas-docs/stable/user_guide/indexing.html#returning-a-view-versus-a-copy\n",
      "  data['PUBCHEM_SMILES'][i] = 0\n",
      "C:\\Users\\aleks\\AppData\\Local\\Temp\\ipykernel_12416\\3164115185.py:6: SettingWithCopyWarning: \n",
      "A value is trying to be set on a copy of a slice from a DataFrame\n",
      "\n",
      "See the caveats in the documentation: https://pandas.pydata.org/pandas-docs/stable/user_guide/indexing.html#returning-a-view-versus-a-copy\n",
      "  data['PUBCHEM_SMILES'][i] = compound[0].canonical_smiles\n"
     ]
    },
    {
     "name": "stdout",
     "output_type": "stream",
     "text": [
      "PUGREST.BadRequest: error:  C=1CC(C)CC2=CC=CC=C2[NH1]C=1\n"
     ]
    },
    {
     "name": "stderr",
     "output_type": "stream",
     "text": [
      "C:\\Users\\aleks\\AppData\\Local\\Temp\\ipykernel_12416\\3164115185.py:5: SettingWithCopyWarning: \n",
      "A value is trying to be set on a copy of a slice from a DataFrame\n",
      "\n",
      "See the caveats in the documentation: https://pandas.pydata.org/pandas-docs/stable/user_guide/indexing.html#returning-a-view-versus-a-copy\n",
      "  data['CID'][i] = compound[0].cid\n",
      "C:\\Users\\aleks\\AppData\\Local\\Temp\\ipykernel_12416\\3164115185.py:6: SettingWithCopyWarning: \n",
      "A value is trying to be set on a copy of a slice from a DataFrame\n",
      "\n",
      "See the caveats in the documentation: https://pandas.pydata.org/pandas-docs/stable/user_guide/indexing.html#returning-a-view-versus-a-copy\n",
      "  data['PUBCHEM_SMILES'][i] = compound[0].canonical_smiles\n",
      "C:\\Users\\aleks\\AppData\\Local\\Temp\\ipykernel_12416\\3164115185.py:8: SettingWithCopyWarning: \n",
      "A value is trying to be set on a copy of a slice from a DataFrame\n",
      "\n",
      "See the caveats in the documentation: https://pandas.pydata.org/pandas-docs/stable/user_guide/indexing.html#returning-a-view-versus-a-copy\n",
      "  data['CID'][i] = 0\n",
      "C:\\Users\\aleks\\AppData\\Local\\Temp\\ipykernel_12416\\3164115185.py:9: SettingWithCopyWarning: \n",
      "A value is trying to be set on a copy of a slice from a DataFrame\n",
      "\n",
      "See the caveats in the documentation: https://pandas.pydata.org/pandas-docs/stable/user_guide/indexing.html#returning-a-view-versus-a-copy\n",
      "  data['PUBCHEM_SMILES'][i] = 0\n",
      "C:\\Users\\aleks\\AppData\\Local\\Temp\\ipykernel_12416\\3164115185.py:6: SettingWithCopyWarning: \n",
      "A value is trying to be set on a copy of a slice from a DataFrame\n",
      "\n",
      "See the caveats in the documentation: https://pandas.pydata.org/pandas-docs/stable/user_guide/indexing.html#returning-a-view-versus-a-copy\n",
      "  data['PUBCHEM_SMILES'][i] = compound[0].canonical_smiles\n"
     ]
    },
    {
     "name": "stdout",
     "output_type": "stream",
     "text": [
      "PUGREST.BadRequest: error:  C12=CC=CC=C1N(C=C2COCC)CC=CNCCCCCN3N=NC(COCC4=C[NH1]C5=CC=CC=C54)=C3N\n"
     ]
    },
    {
     "name": "stderr",
     "output_type": "stream",
     "text": [
      "C:\\Users\\aleks\\AppData\\Local\\Temp\\ipykernel_12416\\3164115185.py:5: SettingWithCopyWarning: \n",
      "A value is trying to be set on a copy of a slice from a DataFrame\n",
      "\n",
      "See the caveats in the documentation: https://pandas.pydata.org/pandas-docs/stable/user_guide/indexing.html#returning-a-view-versus-a-copy\n",
      "  data['CID'][i] = compound[0].cid\n",
      "C:\\Users\\aleks\\AppData\\Local\\Temp\\ipykernel_12416\\3164115185.py:6: SettingWithCopyWarning: \n",
      "A value is trying to be set on a copy of a slice from a DataFrame\n",
      "\n",
      "See the caveats in the documentation: https://pandas.pydata.org/pandas-docs/stable/user_guide/indexing.html#returning-a-view-versus-a-copy\n",
      "  data['PUBCHEM_SMILES'][i] = compound[0].canonical_smiles\n"
     ]
    },
    {
     "name": "stdout",
     "output_type": "stream",
     "text": [
      "PUGREST.BadRequest: error:  C12=CC=CC=C1N(C=C2COCC)CC3=CN(CC=4C5=C(C=CC=C5)N(C=4)C(=O)C)N=N3\n"
     ]
    },
    {
     "name": "stderr",
     "output_type": "stream",
     "text": [
      "C:\\Users\\aleks\\AppData\\Local\\Temp\\ipykernel_12416\\3164115185.py:5: SettingWithCopyWarning: \n",
      "A value is trying to be set on a copy of a slice from a DataFrame\n",
      "\n",
      "See the caveats in the documentation: https://pandas.pydata.org/pandas-docs/stable/user_guide/indexing.html#returning-a-view-versus-a-copy\n",
      "  data['CID'][i] = compound[0].cid\n",
      "C:\\Users\\aleks\\AppData\\Local\\Temp\\ipykernel_12416\\3164115185.py:6: SettingWithCopyWarning: \n",
      "A value is trying to be set on a copy of a slice from a DataFrame\n",
      "\n",
      "See the caveats in the documentation: https://pandas.pydata.org/pandas-docs/stable/user_guide/indexing.html#returning-a-view-versus-a-copy\n",
      "  data['PUBCHEM_SMILES'][i] = compound[0].canonical_smiles\n",
      "C:\\Users\\aleks\\AppData\\Local\\Temp\\ipykernel_12416\\3164115185.py:8: SettingWithCopyWarning: \n",
      "A value is trying to be set on a copy of a slice from a DataFrame\n",
      "\n",
      "See the caveats in the documentation: https://pandas.pydata.org/pandas-docs/stable/user_guide/indexing.html#returning-a-view-versus-a-copy\n",
      "  data['CID'][i] = 0\n",
      "C:\\Users\\aleks\\AppData\\Local\\Temp\\ipykernel_12416\\3164115185.py:9: SettingWithCopyWarning: \n",
      "A value is trying to be set on a copy of a slice from a DataFrame\n",
      "\n",
      "See the caveats in the documentation: https://pandas.pydata.org/pandas-docs/stable/user_guide/indexing.html#returning-a-view-versus-a-copy\n",
      "  data['PUBCHEM_SMILES'][i] = 0\n",
      "C:\\Users\\aleks\\AppData\\Local\\Temp\\ipykernel_12416\\3164115185.py:6: SettingWithCopyWarning: \n",
      "A value is trying to be set on a copy of a slice from a DataFrame\n",
      "\n",
      "See the caveats in the documentation: https://pandas.pydata.org/pandas-docs/stable/user_guide/indexing.html#returning-a-view-versus-a-copy\n",
      "  data['PUBCHEM_SMILES'][i] = compound[0].canonical_smiles\n"
     ]
    },
    {
     "name": "stdout",
     "output_type": "stream",
     "text": [
      "PUGREST.BadRequest: error:  C12=CC=CC=C1N(C=C2COCC)C=CN(CCCCCCCCN3N=NC(COCC4=C[NH1]C5=CC=CC=C54)=C3)N\n"
     ]
    },
    {
     "name": "stderr",
     "output_type": "stream",
     "text": [
      "C:\\Users\\aleks\\AppData\\Local\\Temp\\ipykernel_12416\\3164115185.py:5: SettingWithCopyWarning: \n",
      "A value is trying to be set on a copy of a slice from a DataFrame\n",
      "\n",
      "See the caveats in the documentation: https://pandas.pydata.org/pandas-docs/stable/user_guide/indexing.html#returning-a-view-versus-a-copy\n",
      "  data['CID'][i] = compound[0].cid\n",
      "C:\\Users\\aleks\\AppData\\Local\\Temp\\ipykernel_12416\\3164115185.py:6: SettingWithCopyWarning: \n",
      "A value is trying to be set on a copy of a slice from a DataFrame\n",
      "\n",
      "See the caveats in the documentation: https://pandas.pydata.org/pandas-docs/stable/user_guide/indexing.html#returning-a-view-versus-a-copy\n",
      "  data['PUBCHEM_SMILES'][i] = compound[0].canonical_smiles\n"
     ]
    },
    {
     "name": "stdout",
     "output_type": "stream",
     "text": [
      "PUGREST.BadRequest: error:  CCC=1N=CN(CC2=C[NH1]C3=C2C=CC=C3)C=1\n"
     ]
    },
    {
     "name": "stderr",
     "output_type": "stream",
     "text": [
      "C:\\Users\\aleks\\AppData\\Local\\Temp\\ipykernel_12416\\3164115185.py:5: SettingWithCopyWarning: \n",
      "A value is trying to be set on a copy of a slice from a DataFrame\n",
      "\n",
      "See the caveats in the documentation: https://pandas.pydata.org/pandas-docs/stable/user_guide/indexing.html#returning-a-view-versus-a-copy\n",
      "  data['CID'][i] = compound[0].cid\n",
      "C:\\Users\\aleks\\AppData\\Local\\Temp\\ipykernel_12416\\3164115185.py:6: SettingWithCopyWarning: \n",
      "A value is trying to be set on a copy of a slice from a DataFrame\n",
      "\n",
      "See the caveats in the documentation: https://pandas.pydata.org/pandas-docs/stable/user_guide/indexing.html#returning-a-view-versus-a-copy\n",
      "  data['PUBCHEM_SMILES'][i] = compound[0].canonical_smiles\n",
      "C:\\Users\\aleks\\AppData\\Local\\Temp\\ipykernel_12416\\3164115185.py:8: SettingWithCopyWarning: \n",
      "A value is trying to be set on a copy of a slice from a DataFrame\n",
      "\n",
      "See the caveats in the documentation: https://pandas.pydata.org/pandas-docs/stable/user_guide/indexing.html#returning-a-view-versus-a-copy\n",
      "  data['CID'][i] = 0\n",
      "C:\\Users\\aleks\\AppData\\Local\\Temp\\ipykernel_12416\\3164115185.py:9: SettingWithCopyWarning: \n",
      "A value is trying to be set on a copy of a slice from a DataFrame\n",
      "\n",
      "See the caveats in the documentation: https://pandas.pydata.org/pandas-docs/stable/user_guide/indexing.html#returning-a-view-versus-a-copy\n",
      "  data['PUBCHEM_SMILES'][i] = 0\n",
      "C:\\Users\\aleks\\AppData\\Local\\Temp\\ipykernel_12416\\3164115185.py:6: SettingWithCopyWarning: \n",
      "A value is trying to be set on a copy of a slice from a DataFrame\n",
      "\n",
      "See the caveats in the documentation: https://pandas.pydata.org/pandas-docs/stable/user_guide/indexing.html#returning-a-view-versus-a-copy\n",
      "  data['PUBCHEM_SMILES'][i] = compound[0].canonical_smiles\n"
     ]
    },
    {
     "name": "stdout",
     "output_type": "stream",
     "text": [
      "PUGREST.BadRequest: error:  C1C2C=NC=C2N(C)CC3=CC=CC=C31\n"
     ]
    },
    {
     "name": "stderr",
     "output_type": "stream",
     "text": [
      "C:\\Users\\aleks\\AppData\\Local\\Temp\\ipykernel_12416\\3164115185.py:5: SettingWithCopyWarning: \n",
      "A value is trying to be set on a copy of a slice from a DataFrame\n",
      "\n",
      "See the caveats in the documentation: https://pandas.pydata.org/pandas-docs/stable/user_guide/indexing.html#returning-a-view-versus-a-copy\n",
      "  data['CID'][i] = compound[0].cid\n",
      "C:\\Users\\aleks\\AppData\\Local\\Temp\\ipykernel_12416\\3164115185.py:6: SettingWithCopyWarning: \n",
      "A value is trying to be set on a copy of a slice from a DataFrame\n",
      "\n",
      "See the caveats in the documentation: https://pandas.pydata.org/pandas-docs/stable/user_guide/indexing.html#returning-a-view-versus-a-copy\n",
      "  data['PUBCHEM_SMILES'][i] = compound[0].canonical_smiles\n"
     ]
    },
    {
     "name": "stdout",
     "output_type": "stream",
     "text": [
      "PUGREST.BadRequest: error:  C1CC2N(C(C=C2)Cl)C1\n"
     ]
    },
    {
     "name": "stderr",
     "output_type": "stream",
     "text": [
      "C:\\Users\\aleks\\AppData\\Local\\Temp\\ipykernel_12416\\3164115185.py:5: SettingWithCopyWarning: \n",
      "A value is trying to be set on a copy of a slice from a DataFrame\n",
      "\n",
      "See the caveats in the documentation: https://pandas.pydata.org/pandas-docs/stable/user_guide/indexing.html#returning-a-view-versus-a-copy\n",
      "  data['CID'][i] = compound[0].cid\n",
      "C:\\Users\\aleks\\AppData\\Local\\Temp\\ipykernel_12416\\3164115185.py:6: SettingWithCopyWarning: \n",
      "A value is trying to be set on a copy of a slice from a DataFrame\n",
      "\n",
      "See the caveats in the documentation: https://pandas.pydata.org/pandas-docs/stable/user_guide/indexing.html#returning-a-view-versus-a-copy\n",
      "  data['PUBCHEM_SMILES'][i] = compound[0].canonical_smiles\n",
      "C:\\Users\\aleks\\AppData\\Local\\Temp\\ipykernel_12416\\3164115185.py:8: SettingWithCopyWarning: \n",
      "A value is trying to be set on a copy of a slice from a DataFrame\n",
      "\n",
      "See the caveats in the documentation: https://pandas.pydata.org/pandas-docs/stable/user_guide/indexing.html#returning-a-view-versus-a-copy\n",
      "  data['CID'][i] = 0\n",
      "C:\\Users\\aleks\\AppData\\Local\\Temp\\ipykernel_12416\\3164115185.py:9: SettingWithCopyWarning: \n",
      "A value is trying to be set on a copy of a slice from a DataFrame\n",
      "\n",
      "See the caveats in the documentation: https://pandas.pydata.org/pandas-docs/stable/user_guide/indexing.html#returning-a-view-versus-a-copy\n",
      "  data['PUBCHEM_SMILES'][i] = 0\n",
      "C:\\Users\\aleks\\AppData\\Local\\Temp\\ipykernel_12416\\3164115185.py:6: SettingWithCopyWarning: \n",
      "A value is trying to be set on a copy of a slice from a DataFrame\n",
      "\n",
      "See the caveats in the documentation: https://pandas.pydata.org/pandas-docs/stable/user_guide/indexing.html#returning-a-view-versus-a-copy\n",
      "  data['PUBCHEM_SMILES'][i] = compound[0].canonical_smiles\n"
     ]
    },
    {
     "name": "stdout",
     "output_type": "stream",
     "text": [
      "PUGREST.BadRequest: error:  CC1C=NC=CN(C1=S)C2=C[NH1]C3=CC=CC=C23\n"
     ]
    },
    {
     "name": "stderr",
     "output_type": "stream",
     "text": [
      "C:\\Users\\aleks\\AppData\\Local\\Temp\\ipykernel_12416\\3164115185.py:5: SettingWithCopyWarning: \n",
      "A value is trying to be set on a copy of a slice from a DataFrame\n",
      "\n",
      "See the caveats in the documentation: https://pandas.pydata.org/pandas-docs/stable/user_guide/indexing.html#returning-a-view-versus-a-copy\n",
      "  data['CID'][i] = compound[0].cid\n",
      "C:\\Users\\aleks\\AppData\\Local\\Temp\\ipykernel_12416\\3164115185.py:6: SettingWithCopyWarning: \n",
      "A value is trying to be set on a copy of a slice from a DataFrame\n",
      "\n",
      "See the caveats in the documentation: https://pandas.pydata.org/pandas-docs/stable/user_guide/indexing.html#returning-a-view-versus-a-copy\n",
      "  data['PUBCHEM_SMILES'][i] = compound[0].canonical_smiles\n",
      "C:\\Users\\aleks\\AppData\\Local\\Temp\\ipykernel_12416\\3164115185.py:8: SettingWithCopyWarning: \n",
      "A value is trying to be set on a copy of a slice from a DataFrame\n",
      "\n",
      "See the caveats in the documentation: https://pandas.pydata.org/pandas-docs/stable/user_guide/indexing.html#returning-a-view-versus-a-copy\n",
      "  data['CID'][i] = 0\n",
      "C:\\Users\\aleks\\AppData\\Local\\Temp\\ipykernel_12416\\3164115185.py:9: SettingWithCopyWarning: \n",
      "A value is trying to be set on a copy of a slice from a DataFrame\n",
      "\n",
      "See the caveats in the documentation: https://pandas.pydata.org/pandas-docs/stable/user_guide/indexing.html#returning-a-view-versus-a-copy\n",
      "  data['PUBCHEM_SMILES'][i] = 0\n",
      "C:\\Users\\aleks\\AppData\\Local\\Temp\\ipykernel_12416\\3164115185.py:6: SettingWithCopyWarning: \n",
      "A value is trying to be set on a copy of a slice from a DataFrame\n",
      "\n",
      "See the caveats in the documentation: https://pandas.pydata.org/pandas-docs/stable/user_guide/indexing.html#returning-a-view-versus-a-copy\n",
      "  data['PUBCHEM_SMILES'][i] = compound[0].canonical_smiles\n"
     ]
    },
    {
     "name": "stdout",
     "output_type": "stream",
     "text": [
      "PUGREST.BadRequest: error:  CC1C=NCN1CC2=C[NH1]C3=CC=CC=C32\n"
     ]
    },
    {
     "name": "stderr",
     "output_type": "stream",
     "text": [
      "C:\\Users\\aleks\\AppData\\Local\\Temp\\ipykernel_12416\\3164115185.py:5: SettingWithCopyWarning: \n",
      "A value is trying to be set on a copy of a slice from a DataFrame\n",
      "\n",
      "See the caveats in the documentation: https://pandas.pydata.org/pandas-docs/stable/user_guide/indexing.html#returning-a-view-versus-a-copy\n",
      "  data['CID'][i] = compound[0].cid\n",
      "C:\\Users\\aleks\\AppData\\Local\\Temp\\ipykernel_12416\\3164115185.py:6: SettingWithCopyWarning: \n",
      "A value is trying to be set on a copy of a slice from a DataFrame\n",
      "\n",
      "See the caveats in the documentation: https://pandas.pydata.org/pandas-docs/stable/user_guide/indexing.html#returning-a-view-versus-a-copy\n",
      "  data['PUBCHEM_SMILES'][i] = compound[0].canonical_smiles\n",
      "C:\\Users\\aleks\\AppData\\Local\\Temp\\ipykernel_12416\\3164115185.py:8: SettingWithCopyWarning: \n",
      "A value is trying to be set on a copy of a slice from a DataFrame\n",
      "\n",
      "See the caveats in the documentation: https://pandas.pydata.org/pandas-docs/stable/user_guide/indexing.html#returning-a-view-versus-a-copy\n",
      "  data['CID'][i] = 0\n",
      "C:\\Users\\aleks\\AppData\\Local\\Temp\\ipykernel_12416\\3164115185.py:9: SettingWithCopyWarning: \n",
      "A value is trying to be set on a copy of a slice from a DataFrame\n",
      "\n",
      "See the caveats in the documentation: https://pandas.pydata.org/pandas-docs/stable/user_guide/indexing.html#returning-a-view-versus-a-copy\n",
      "  data['PUBCHEM_SMILES'][i] = 0\n"
     ]
    },
    {
     "name": "stdout",
     "output_type": "stream",
     "text": [
      "PUGREST.BadRequest: error:  N(C1=C(C=CC=C1)OC)=SC2=C[NH1]C3=CC=CC=C23\n"
     ]
    },
    {
     "name": "stderr",
     "output_type": "stream",
     "text": [
      "C:\\Users\\aleks\\AppData\\Local\\Temp\\ipykernel_12416\\3164115185.py:6: SettingWithCopyWarning: \n",
      "A value is trying to be set on a copy of a slice from a DataFrame\n",
      "\n",
      "See the caveats in the documentation: https://pandas.pydata.org/pandas-docs/stable/user_guide/indexing.html#returning-a-view-versus-a-copy\n",
      "  data['PUBCHEM_SMILES'][i] = compound[0].canonical_smiles\n"
     ]
    },
    {
     "name": "stdout",
     "output_type": "stream",
     "text": [
      "PUGREST.BadRequest: error:  N1(CCC(=O)C=C1)CC2=C[NH1]C3=CC=CC=C23\n",
      "PUGREST.BadRequest: error:  N(C1=C(C=CC=C1)SC)=SCC2=C[NH1]C3=CC=CC=C23\n"
     ]
    },
    {
     "name": "stderr",
     "output_type": "stream",
     "text": [
      "C:\\Users\\aleks\\AppData\\Local\\Temp\\ipykernel_12416\\3164115185.py:5: SettingWithCopyWarning: \n",
      "A value is trying to be set on a copy of a slice from a DataFrame\n",
      "\n",
      "See the caveats in the documentation: https://pandas.pydata.org/pandas-docs/stable/user_guide/indexing.html#returning-a-view-versus-a-copy\n",
      "  data['CID'][i] = compound[0].cid\n",
      "C:\\Users\\aleks\\AppData\\Local\\Temp\\ipykernel_12416\\3164115185.py:6: SettingWithCopyWarning: \n",
      "A value is trying to be set on a copy of a slice from a DataFrame\n",
      "\n",
      "See the caveats in the documentation: https://pandas.pydata.org/pandas-docs/stable/user_guide/indexing.html#returning-a-view-versus-a-copy\n",
      "  data['PUBCHEM_SMILES'][i] = compound[0].canonical_smiles\n"
     ]
    },
    {
     "name": "stdout",
     "output_type": "stream",
     "text": [
      "PUGREST.BadRequest: error:  O=C(C)OCC=1C2=CC=CC=C2N(C=1)C(=O)C\n"
     ]
    },
    {
     "name": "stderr",
     "output_type": "stream",
     "text": [
      "C:\\Users\\aleks\\AppData\\Local\\Temp\\ipykernel_12416\\3164115185.py:5: SettingWithCopyWarning: \n",
      "A value is trying to be set on a copy of a slice from a DataFrame\n",
      "\n",
      "See the caveats in the documentation: https://pandas.pydata.org/pandas-docs/stable/user_guide/indexing.html#returning-a-view-versus-a-copy\n",
      "  data['CID'][i] = compound[0].cid\n",
      "C:\\Users\\aleks\\AppData\\Local\\Temp\\ipykernel_12416\\3164115185.py:6: SettingWithCopyWarning: \n",
      "A value is trying to be set on a copy of a slice from a DataFrame\n",
      "\n",
      "See the caveats in the documentation: https://pandas.pydata.org/pandas-docs/stable/user_guide/indexing.html#returning-a-view-versus-a-copy\n",
      "  data['PUBCHEM_SMILES'][i] = compound[0].canonical_smiles\n",
      "C:\\Users\\aleks\\AppData\\Local\\Temp\\ipykernel_12416\\3164115185.py:6: SettingWithCopyWarning: \n",
      "A value is trying to be set on a copy of a slice from a DataFrame\n",
      "\n",
      "See the caveats in the documentation: https://pandas.pydata.org/pandas-docs/stable/user_guide/indexing.html#returning-a-view-versus-a-copy\n",
      "  data['PUBCHEM_SMILES'][i] = compound[0].canonical_smiles\n"
     ]
    },
    {
     "name": "stdout",
     "output_type": "stream",
     "text": [
      "PUGREST.BadRequest: error:  O=C(C)OCC1=CN(C(=O)C)C2=CC=CC=C21\n"
     ]
    },
    {
     "name": "stderr",
     "output_type": "stream",
     "text": [
      "C:\\Users\\aleks\\AppData\\Local\\Temp\\ipykernel_12416\\3164115185.py:5: SettingWithCopyWarning: \n",
      "A value is trying to be set on a copy of a slice from a DataFrame\n",
      "\n",
      "See the caveats in the documentation: https://pandas.pydata.org/pandas-docs/stable/user_guide/indexing.html#returning-a-view-versus-a-copy\n",
      "  data['CID'][i] = compound[0].cid\n",
      "C:\\Users\\aleks\\AppData\\Local\\Temp\\ipykernel_12416\\3164115185.py:6: SettingWithCopyWarning: \n",
      "A value is trying to be set on a copy of a slice from a DataFrame\n",
      "\n",
      "See the caveats in the documentation: https://pandas.pydata.org/pandas-docs/stable/user_guide/indexing.html#returning-a-view-versus-a-copy\n",
      "  data['PUBCHEM_SMILES'][i] = compound[0].canonical_smiles\n",
      "C:\\Users\\aleks\\AppData\\Local\\Temp\\ipykernel_12416\\3164115185.py:8: SettingWithCopyWarning: \n",
      "A value is trying to be set on a copy of a slice from a DataFrame\n",
      "\n",
      "See the caveats in the documentation: https://pandas.pydata.org/pandas-docs/stable/user_guide/indexing.html#returning-a-view-versus-a-copy\n",
      "  data['CID'][i] = 0\n",
      "C:\\Users\\aleks\\AppData\\Local\\Temp\\ipykernel_12416\\3164115185.py:9: SettingWithCopyWarning: \n",
      "A value is trying to be set on a copy of a slice from a DataFrame\n",
      "\n",
      "See the caveats in the documentation: https://pandas.pydata.org/pandas-docs/stable/user_guide/indexing.html#returning-a-view-versus-a-copy\n",
      "  data['PUBCHEM_SMILES'][i] = 0\n",
      "C:\\Users\\aleks\\AppData\\Local\\Temp\\ipykernel_12416\\3164115185.py:6: SettingWithCopyWarning: \n",
      "A value is trying to be set on a copy of a slice from a DataFrame\n",
      "\n",
      "See the caveats in the documentation: https://pandas.pydata.org/pandas-docs/stable/user_guide/indexing.html#returning-a-view-versus-a-copy\n",
      "  data['PUBCHEM_SMILES'][i] = compound[0].canonical_smiles\n"
     ]
    },
    {
     "name": "stdout",
     "output_type": "stream",
     "text": [
      "PUGREST.BadRequest: error:  N(C1CN=CC=NC1C)C2=C[NH1]C3=CC=CC=C32\n"
     ]
    },
    {
     "name": "stderr",
     "output_type": "stream",
     "text": [
      "C:\\Users\\aleks\\AppData\\Local\\Temp\\ipykernel_12416\\3164115185.py:5: SettingWithCopyWarning: \n",
      "A value is trying to be set on a copy of a slice from a DataFrame\n",
      "\n",
      "See the caveats in the documentation: https://pandas.pydata.org/pandas-docs/stable/user_guide/indexing.html#returning-a-view-versus-a-copy\n",
      "  data['CID'][i] = compound[0].cid\n",
      "C:\\Users\\aleks\\AppData\\Local\\Temp\\ipykernel_12416\\3164115185.py:6: SettingWithCopyWarning: \n",
      "A value is trying to be set on a copy of a slice from a DataFrame\n",
      "\n",
      "See the caveats in the documentation: https://pandas.pydata.org/pandas-docs/stable/user_guide/indexing.html#returning-a-view-versus-a-copy\n",
      "  data['PUBCHEM_SMILES'][i] = compound[0].canonical_smiles\n",
      "C:\\Users\\aleks\\AppData\\Local\\Temp\\ipykernel_12416\\3164115185.py:8: SettingWithCopyWarning: \n",
      "A value is trying to be set on a copy of a slice from a DataFrame\n",
      "\n",
      "See the caveats in the documentation: https://pandas.pydata.org/pandas-docs/stable/user_guide/indexing.html#returning-a-view-versus-a-copy\n",
      "  data['CID'][i] = 0\n",
      "C:\\Users\\aleks\\AppData\\Local\\Temp\\ipykernel_12416\\3164115185.py:9: SettingWithCopyWarning: \n",
      "A value is trying to be set on a copy of a slice from a DataFrame\n",
      "\n",
      "See the caveats in the documentation: https://pandas.pydata.org/pandas-docs/stable/user_guide/indexing.html#returning-a-view-versus-a-copy\n",
      "  data['PUBCHEM_SMILES'][i] = 0\n",
      "C:\\Users\\aleks\\AppData\\Local\\Temp\\ipykernel_12416\\3164115185.py:6: SettingWithCopyWarning: \n",
      "A value is trying to be set on a copy of a slice from a DataFrame\n",
      "\n",
      "See the caveats in the documentation: https://pandas.pydata.org/pandas-docs/stable/user_guide/indexing.html#returning-a-view-versus-a-copy\n",
      "  data['PUBCHEM_SMILES'][i] = compound[0].canonical_smiles\n"
     ]
    },
    {
     "name": "stdout",
     "output_type": "stream",
     "text": [
      "PUGREST.BadRequest: error:  O=C(C)CC1=CN(C(C)=C)C2=C1C=CC=C2C\n",
      "PUGREST.BadRequest: error:  N1(C2=CC=CC=C2)SC1=SCC3=C[NH1]C4=CC=CC=C34\n"
     ]
    },
    {
     "name": "stderr",
     "output_type": "stream",
     "text": [
      "C:\\Users\\aleks\\AppData\\Local\\Temp\\ipykernel_12416\\3164115185.py:5: SettingWithCopyWarning: \n",
      "A value is trying to be set on a copy of a slice from a DataFrame\n",
      "\n",
      "See the caveats in the documentation: https://pandas.pydata.org/pandas-docs/stable/user_guide/indexing.html#returning-a-view-versus-a-copy\n",
      "  data['CID'][i] = compound[0].cid\n",
      "C:\\Users\\aleks\\AppData\\Local\\Temp\\ipykernel_12416\\3164115185.py:6: SettingWithCopyWarning: \n",
      "A value is trying to be set on a copy of a slice from a DataFrame\n",
      "\n",
      "See the caveats in the documentation: https://pandas.pydata.org/pandas-docs/stable/user_guide/indexing.html#returning-a-view-versus-a-copy\n",
      "  data['PUBCHEM_SMILES'][i] = compound[0].canonical_smiles\n",
      "C:\\Users\\aleks\\AppData\\Local\\Temp\\ipykernel_12416\\3164115185.py:8: SettingWithCopyWarning: \n",
      "A value is trying to be set on a copy of a slice from a DataFrame\n",
      "\n",
      "See the caveats in the documentation: https://pandas.pydata.org/pandas-docs/stable/user_guide/indexing.html#returning-a-view-versus-a-copy\n",
      "  data['CID'][i] = 0\n",
      "C:\\Users\\aleks\\AppData\\Local\\Temp\\ipykernel_12416\\3164115185.py:9: SettingWithCopyWarning: \n",
      "A value is trying to be set on a copy of a slice from a DataFrame\n",
      "\n",
      "See the caveats in the documentation: https://pandas.pydata.org/pandas-docs/stable/user_guide/indexing.html#returning-a-view-versus-a-copy\n",
      "  data['PUBCHEM_SMILES'][i] = 0\n",
      "C:\\Users\\aleks\\AppData\\Local\\Temp\\ipykernel_12416\\3164115185.py:6: SettingWithCopyWarning: \n",
      "A value is trying to be set on a copy of a slice from a DataFrame\n",
      "\n",
      "See the caveats in the documentation: https://pandas.pydata.org/pandas-docs/stable/user_guide/indexing.html#returning-a-view-versus-a-copy\n",
      "  data['PUBCHEM_SMILES'][i] = compound[0].canonical_smiles\n"
     ]
    },
    {
     "name": "stdout",
     "output_type": "stream",
     "text": [
      "PUGREST.BadRequest: error:  CCCOCC=CN1CC=CC=C1[NH1]C\n"
     ]
    },
    {
     "name": "stderr",
     "output_type": "stream",
     "text": [
      "C:\\Users\\aleks\\AppData\\Local\\Temp\\ipykernel_12416\\3164115185.py:5: SettingWithCopyWarning: \n",
      "A value is trying to be set on a copy of a slice from a DataFrame\n",
      "\n",
      "See the caveats in the documentation: https://pandas.pydata.org/pandas-docs/stable/user_guide/indexing.html#returning-a-view-versus-a-copy\n",
      "  data['CID'][i] = compound[0].cid\n",
      "C:\\Users\\aleks\\AppData\\Local\\Temp\\ipykernel_12416\\3164115185.py:6: SettingWithCopyWarning: \n",
      "A value is trying to be set on a copy of a slice from a DataFrame\n",
      "\n",
      "See the caveats in the documentation: https://pandas.pydata.org/pandas-docs/stable/user_guide/indexing.html#returning-a-view-versus-a-copy\n",
      "  data['PUBCHEM_SMILES'][i] = compound[0].canonical_smiles\n",
      "C:\\Users\\aleks\\AppData\\Local\\Temp\\ipykernel_12416\\3164115185.py:8: SettingWithCopyWarning: \n",
      "A value is trying to be set on a copy of a slice from a DataFrame\n",
      "\n",
      "See the caveats in the documentation: https://pandas.pydata.org/pandas-docs/stable/user_guide/indexing.html#returning-a-view-versus-a-copy\n",
      "  data['CID'][i] = 0\n",
      "C:\\Users\\aleks\\AppData\\Local\\Temp\\ipykernel_12416\\3164115185.py:9: SettingWithCopyWarning: \n",
      "A value is trying to be set on a copy of a slice from a DataFrame\n",
      "\n",
      "See the caveats in the documentation: https://pandas.pydata.org/pandas-docs/stable/user_guide/indexing.html#returning-a-view-versus-a-copy\n",
      "  data['PUBCHEM_SMILES'][i] = 0\n",
      "C:\\Users\\aleks\\AppData\\Local\\Temp\\ipykernel_12416\\3164115185.py:6: SettingWithCopyWarning: \n",
      "A value is trying to be set on a copy of a slice from a DataFrame\n",
      "\n",
      "See the caveats in the documentation: https://pandas.pydata.org/pandas-docs/stable/user_guide/indexing.html#returning-a-view-versus-a-copy\n",
      "  data['PUBCHEM_SMILES'][i] = compound[0].canonical_smiles\n"
     ]
    },
    {
     "name": "stdout",
     "output_type": "stream",
     "text": [
      "PUGREST.BadRequest: error:  CC=1N(C=NC=1)CC2=C[NH1]C3=CC=CC=C23\n",
      "PUGREST.BadRequest: error:  C1C=NC=CN(C1=SC2=CC)CC=C2\n"
     ]
    },
    {
     "name": "stderr",
     "output_type": "stream",
     "text": [
      "C:\\Users\\aleks\\AppData\\Local\\Temp\\ipykernel_12416\\3164115185.py:5: SettingWithCopyWarning: \n",
      "A value is trying to be set on a copy of a slice from a DataFrame\n",
      "\n",
      "See the caveats in the documentation: https://pandas.pydata.org/pandas-docs/stable/user_guide/indexing.html#returning-a-view-versus-a-copy\n",
      "  data['CID'][i] = compound[0].cid\n",
      "C:\\Users\\aleks\\AppData\\Local\\Temp\\ipykernel_12416\\3164115185.py:6: SettingWithCopyWarning: \n",
      "A value is trying to be set on a copy of a slice from a DataFrame\n",
      "\n",
      "See the caveats in the documentation: https://pandas.pydata.org/pandas-docs/stable/user_guide/indexing.html#returning-a-view-versus-a-copy\n",
      "  data['PUBCHEM_SMILES'][i] = compound[0].canonical_smiles\n",
      "C:\\Users\\aleks\\AppData\\Local\\Temp\\ipykernel_12416\\3164115185.py:8: SettingWithCopyWarning: \n",
      "A value is trying to be set on a copy of a slice from a DataFrame\n",
      "\n",
      "See the caveats in the documentation: https://pandas.pydata.org/pandas-docs/stable/user_guide/indexing.html#returning-a-view-versus-a-copy\n",
      "  data['CID'][i] = 0\n",
      "C:\\Users\\aleks\\AppData\\Local\\Temp\\ipykernel_12416\\3164115185.py:9: SettingWithCopyWarning: \n",
      "A value is trying to be set on a copy of a slice from a DataFrame\n",
      "\n",
      "See the caveats in the documentation: https://pandas.pydata.org/pandas-docs/stable/user_guide/indexing.html#returning-a-view-versus-a-copy\n",
      "  data['PUBCHEM_SMILES'][i] = 0\n"
     ]
    },
    {
     "name": "stdout",
     "output_type": "stream",
     "text": [
      "PUGREST.BadRequest: error:  S1=C2N(CC3=C[NH1]C4=CC=CC=C43)C(CC)=NC2C=CC=C1\n",
      "PUGREST.BadRequest: error:  S=1C=C(N(CC2=C[NH1]C3=CC=CC=C23)C=1C4=CC)CC=C4\n"
     ]
    },
    {
     "name": "stderr",
     "output_type": "stream",
     "text": [
      "C:\\Users\\aleks\\AppData\\Local\\Temp\\ipykernel_12416\\3164115185.py:6: SettingWithCopyWarning: \n",
      "A value is trying to be set on a copy of a slice from a DataFrame\n",
      "\n",
      "See the caveats in the documentation: https://pandas.pydata.org/pandas-docs/stable/user_guide/indexing.html#returning-a-view-versus-a-copy\n",
      "  data['PUBCHEM_SMILES'][i] = compound[0].canonical_smiles\n"
     ]
    },
    {
     "name": "stdout",
     "output_type": "stream",
     "text": [
      "PUGREST.BadRequest: error:  S=C1N(CC2=C[NH1]C3=CC=CC=C32)C(C)=CC([NH1]1)=S\n"
     ]
    },
    {
     "name": "stderr",
     "output_type": "stream",
     "text": [
      "C:\\Users\\aleks\\AppData\\Local\\Temp\\ipykernel_12416\\3164115185.py:5: SettingWithCopyWarning: \n",
      "A value is trying to be set on a copy of a slice from a DataFrame\n",
      "\n",
      "See the caveats in the documentation: https://pandas.pydata.org/pandas-docs/stable/user_guide/indexing.html#returning-a-view-versus-a-copy\n",
      "  data['CID'][i] = compound[0].cid\n",
      "C:\\Users\\aleks\\AppData\\Local\\Temp\\ipykernel_12416\\3164115185.py:6: SettingWithCopyWarning: \n",
      "A value is trying to be set on a copy of a slice from a DataFrame\n",
      "\n",
      "See the caveats in the documentation: https://pandas.pydata.org/pandas-docs/stable/user_guide/indexing.html#returning-a-view-versus-a-copy\n",
      "  data['PUBCHEM_SMILES'][i] = compound[0].canonical_smiles\n",
      "C:\\Users\\aleks\\AppData\\Local\\Temp\\ipykernel_12416\\3164115185.py:8: SettingWithCopyWarning: \n",
      "A value is trying to be set on a copy of a slice from a DataFrame\n",
      "\n",
      "See the caveats in the documentation: https://pandas.pydata.org/pandas-docs/stable/user_guide/indexing.html#returning-a-view-versus-a-copy\n",
      "  data['CID'][i] = 0\n",
      "C:\\Users\\aleks\\AppData\\Local\\Temp\\ipykernel_12416\\3164115185.py:9: SettingWithCopyWarning: \n",
      "A value is trying to be set on a copy of a slice from a DataFrame\n",
      "\n",
      "See the caveats in the documentation: https://pandas.pydata.org/pandas-docs/stable/user_guide/indexing.html#returning-a-view-versus-a-copy\n",
      "  data['PUBCHEM_SMILES'][i] = 0\n"
     ]
    },
    {
     "name": "stdout",
     "output_type": "stream",
     "text": [
      "PUGREST.BadRequest: error:  S1=CN(CC2=C[NH1]C3=CC=CC=C23)C=C1C=CC=C\n"
     ]
    },
    {
     "name": "stderr",
     "output_type": "stream",
     "text": [
      "C:\\Users\\aleks\\AppData\\Local\\Temp\\ipykernel_12416\\3164115185.py:6: SettingWithCopyWarning: \n",
      "A value is trying to be set on a copy of a slice from a DataFrame\n",
      "\n",
      "See the caveats in the documentation: https://pandas.pydata.org/pandas-docs/stable/user_guide/indexing.html#returning-a-view-versus-a-copy\n",
      "  data['PUBCHEM_SMILES'][i] = compound[0].canonical_smiles\n"
     ]
    },
    {
     "name": "stdout",
     "output_type": "stream",
     "text": [
      "PUGREST.BadRequest: error:  S=C1N(CC2=C[NH1]C3=CC=CC=C23)C(CC)=NC1C\n"
     ]
    },
    {
     "name": "stderr",
     "output_type": "stream",
     "text": [
      "C:\\Users\\aleks\\AppData\\Local\\Temp\\ipykernel_12416\\3164115185.py:5: SettingWithCopyWarning: \n",
      "A value is trying to be set on a copy of a slice from a DataFrame\n",
      "\n",
      "See the caveats in the documentation: https://pandas.pydata.org/pandas-docs/stable/user_guide/indexing.html#returning-a-view-versus-a-copy\n",
      "  data['CID'][i] = compound[0].cid\n",
      "C:\\Users\\aleks\\AppData\\Local\\Temp\\ipykernel_12416\\3164115185.py:6: SettingWithCopyWarning: \n",
      "A value is trying to be set on a copy of a slice from a DataFrame\n",
      "\n",
      "See the caveats in the documentation: https://pandas.pydata.org/pandas-docs/stable/user_guide/indexing.html#returning-a-view-versus-a-copy\n",
      "  data['PUBCHEM_SMILES'][i] = compound[0].canonical_smiles\n",
      "C:\\Users\\aleks\\AppData\\Local\\Temp\\ipykernel_12416\\3164115185.py:8: SettingWithCopyWarning: \n",
      "A value is trying to be set on a copy of a slice from a DataFrame\n",
      "\n",
      "See the caveats in the documentation: https://pandas.pydata.org/pandas-docs/stable/user_guide/indexing.html#returning-a-view-versus-a-copy\n",
      "  data['CID'][i] = 0\n",
      "C:\\Users\\aleks\\AppData\\Local\\Temp\\ipykernel_12416\\3164115185.py:9: SettingWithCopyWarning: \n",
      "A value is trying to be set on a copy of a slice from a DataFrame\n",
      "\n",
      "See the caveats in the documentation: https://pandas.pydata.org/pandas-docs/stable/user_guide/indexing.html#returning-a-view-versus-a-copy\n",
      "  data['PUBCHEM_SMILES'][i] = 0\n",
      "C:\\Users\\aleks\\AppData\\Local\\Temp\\ipykernel_12416\\3164115185.py:6: SettingWithCopyWarning: \n",
      "A value is trying to be set on a copy of a slice from a DataFrame\n",
      "\n",
      "See the caveats in the documentation: https://pandas.pydata.org/pandas-docs/stable/user_guide/indexing.html#returning-a-view-versus-a-copy\n",
      "  data['PUBCHEM_SMILES'][i] = compound[0].canonical_smiles\n"
     ]
    },
    {
     "name": "stdout",
     "output_type": "stream",
     "text": [
      "PUGREST.BadRequest: error:  C1=CC=CC2=C1N(C(C)=O)C=C2CN3N=NC(CN4C5=C(C=CC=C5)C(=C4)COCC)=C3\n"
     ]
    },
    {
     "name": "stderr",
     "output_type": "stream",
     "text": [
      "C:\\Users\\aleks\\AppData\\Local\\Temp\\ipykernel_12416\\3164115185.py:5: SettingWithCopyWarning: \n",
      "A value is trying to be set on a copy of a slice from a DataFrame\n",
      "\n",
      "See the caveats in the documentation: https://pandas.pydata.org/pandas-docs/stable/user_guide/indexing.html#returning-a-view-versus-a-copy\n",
      "  data['CID'][i] = compound[0].cid\n",
      "C:\\Users\\aleks\\AppData\\Local\\Temp\\ipykernel_12416\\3164115185.py:6: SettingWithCopyWarning: \n",
      "A value is trying to be set on a copy of a slice from a DataFrame\n",
      "\n",
      "See the caveats in the documentation: https://pandas.pydata.org/pandas-docs/stable/user_guide/indexing.html#returning-a-view-versus-a-copy\n",
      "  data['PUBCHEM_SMILES'][i] = compound[0].canonical_smiles\n",
      "C:\\Users\\aleks\\AppData\\Local\\Temp\\ipykernel_12416\\3164115185.py:8: SettingWithCopyWarning: \n",
      "A value is trying to be set on a copy of a slice from a DataFrame\n",
      "\n",
      "See the caveats in the documentation: https://pandas.pydata.org/pandas-docs/stable/user_guide/indexing.html#returning-a-view-versus-a-copy\n",
      "  data['CID'][i] = 0\n",
      "C:\\Users\\aleks\\AppData\\Local\\Temp\\ipykernel_12416\\3164115185.py:9: SettingWithCopyWarning: \n",
      "A value is trying to be set on a copy of a slice from a DataFrame\n",
      "\n",
      "See the caveats in the documentation: https://pandas.pydata.org/pandas-docs/stable/user_guide/indexing.html#returning-a-view-versus-a-copy\n",
      "  data['PUBCHEM_SMILES'][i] = 0\n",
      "C:\\Users\\aleks\\AppData\\Local\\Temp\\ipykernel_12416\\3164115185.py:6: SettingWithCopyWarning: \n",
      "A value is trying to be set on a copy of a slice from a DataFrame\n",
      "\n",
      "See the caveats in the documentation: https://pandas.pydata.org/pandas-docs/stable/user_guide/indexing.html#returning-a-view-versus-a-copy\n",
      "  data['PUBCHEM_SMILES'][i] = compound[0].canonical_smiles\n"
     ]
    },
    {
     "name": "stdout",
     "output_type": "stream",
     "text": [
      "PUGREST.BadRequest: error:  C12=CC=CC=C1N(C=C2C3OCC)CC=CN(CCCN4N=NC(COCC5=C[NH1]C6=C5C=CC=C6)=C4)N=N3\n"
     ]
    },
    {
     "name": "stderr",
     "output_type": "stream",
     "text": [
      "C:\\Users\\aleks\\AppData\\Local\\Temp\\ipykernel_12416\\3164115185.py:5: SettingWithCopyWarning: \n",
      "A value is trying to be set on a copy of a slice from a DataFrame\n",
      "\n",
      "See the caveats in the documentation: https://pandas.pydata.org/pandas-docs/stable/user_guide/indexing.html#returning-a-view-versus-a-copy\n",
      "  data['CID'][i] = compound[0].cid\n",
      "C:\\Users\\aleks\\AppData\\Local\\Temp\\ipykernel_12416\\3164115185.py:6: SettingWithCopyWarning: \n",
      "A value is trying to be set on a copy of a slice from a DataFrame\n",
      "\n",
      "See the caveats in the documentation: https://pandas.pydata.org/pandas-docs/stable/user_guide/indexing.html#returning-a-view-versus-a-copy\n",
      "  data['PUBCHEM_SMILES'][i] = compound[0].canonical_smiles\n",
      "C:\\Users\\aleks\\AppData\\Local\\Temp\\ipykernel_12416\\3164115185.py:8: SettingWithCopyWarning: \n",
      "A value is trying to be set on a copy of a slice from a DataFrame\n",
      "\n",
      "See the caveats in the documentation: https://pandas.pydata.org/pandas-docs/stable/user_guide/indexing.html#returning-a-view-versus-a-copy\n",
      "  data['CID'][i] = 0\n",
      "C:\\Users\\aleks\\AppData\\Local\\Temp\\ipykernel_12416\\3164115185.py:9: SettingWithCopyWarning: \n",
      "A value is trying to be set on a copy of a slice from a DataFrame\n",
      "\n",
      "See the caveats in the documentation: https://pandas.pydata.org/pandas-docs/stable/user_guide/indexing.html#returning-a-view-versus-a-copy\n",
      "  data['PUBCHEM_SMILES'][i] = 0\n",
      "C:\\Users\\aleks\\AppData\\Local\\Temp\\ipykernel_12416\\3164115185.py:6: SettingWithCopyWarning: \n",
      "A value is trying to be set on a copy of a slice from a DataFrame\n",
      "\n",
      "See the caveats in the documentation: https://pandas.pydata.org/pandas-docs/stable/user_guide/indexing.html#returning-a-view-versus-a-copy\n",
      "  data['PUBCHEM_SMILES'][i] = compound[0].canonical_smiles\n"
     ]
    },
    {
     "name": "stdout",
     "output_type": "stream",
     "text": [
      "PUGREST.BadRequest: error:  C1=C2C=CC3=C1N(C(C)=O)C=C2CNC=CC(=O)N3CCC4=C(C=CC=C4)CN5C=CN=C5C\n"
     ]
    },
    {
     "name": "stderr",
     "output_type": "stream",
     "text": [
      "C:\\Users\\aleks\\AppData\\Local\\Temp\\ipykernel_12416\\3164115185.py:5: SettingWithCopyWarning: \n",
      "A value is trying to be set on a copy of a slice from a DataFrame\n",
      "\n",
      "See the caveats in the documentation: https://pandas.pydata.org/pandas-docs/stable/user_guide/indexing.html#returning-a-view-versus-a-copy\n",
      "  data['CID'][i] = compound[0].cid\n",
      "C:\\Users\\aleks\\AppData\\Local\\Temp\\ipykernel_12416\\3164115185.py:6: SettingWithCopyWarning: \n",
      "A value is trying to be set on a copy of a slice from a DataFrame\n",
      "\n",
      "See the caveats in the documentation: https://pandas.pydata.org/pandas-docs/stable/user_guide/indexing.html#returning-a-view-versus-a-copy\n",
      "  data['PUBCHEM_SMILES'][i] = compound[0].canonical_smiles\n",
      "C:\\Users\\aleks\\AppData\\Local\\Temp\\ipykernel_12416\\3164115185.py:8: SettingWithCopyWarning: \n",
      "A value is trying to be set on a copy of a slice from a DataFrame\n",
      "\n",
      "See the caveats in the documentation: https://pandas.pydata.org/pandas-docs/stable/user_guide/indexing.html#returning-a-view-versus-a-copy\n",
      "  data['CID'][i] = 0\n",
      "C:\\Users\\aleks\\AppData\\Local\\Temp\\ipykernel_12416\\3164115185.py:9: SettingWithCopyWarning: \n",
      "A value is trying to be set on a copy of a slice from a DataFrame\n",
      "\n",
      "See the caveats in the documentation: https://pandas.pydata.org/pandas-docs/stable/user_guide/indexing.html#returning-a-view-versus-a-copy\n",
      "  data['PUBCHEM_SMILES'][i] = 0\n",
      "C:\\Users\\aleks\\AppData\\Local\\Temp\\ipykernel_12416\\3164115185.py:6: SettingWithCopyWarning: \n",
      "A value is trying to be set on a copy of a slice from a DataFrame\n",
      "\n",
      "See the caveats in the documentation: https://pandas.pydata.org/pandas-docs/stable/user_guide/indexing.html#returning-a-view-versus-a-copy\n",
      "  data['PUBCHEM_SMILES'][i] = compound[0].canonical_smiles\n"
     ]
    },
    {
     "name": "stdout",
     "output_type": "stream",
     "text": [
      "PUGREST.BadRequest: error:  O=C(C)N1C2=CC=CC=C2C(CN3N=NC(=C3)CN4C=C(COCC)C5=C4C=CC=C5)=C1\n"
     ]
    },
    {
     "name": "stderr",
     "output_type": "stream",
     "text": [
      "C:\\Users\\aleks\\AppData\\Local\\Temp\\ipykernel_12416\\3164115185.py:5: SettingWithCopyWarning: \n",
      "A value is trying to be set on a copy of a slice from a DataFrame\n",
      "\n",
      "See the caveats in the documentation: https://pandas.pydata.org/pandas-docs/stable/user_guide/indexing.html#returning-a-view-versus-a-copy\n",
      "  data['CID'][i] = compound[0].cid\n",
      "C:\\Users\\aleks\\AppData\\Local\\Temp\\ipykernel_12416\\3164115185.py:6: SettingWithCopyWarning: \n",
      "A value is trying to be set on a copy of a slice from a DataFrame\n",
      "\n",
      "See the caveats in the documentation: https://pandas.pydata.org/pandas-docs/stable/user_guide/indexing.html#returning-a-view-versus-a-copy\n",
      "  data['PUBCHEM_SMILES'][i] = compound[0].canonical_smiles\n",
      "C:\\Users\\aleks\\AppData\\Local\\Temp\\ipykernel_12416\\3164115185.py:8: SettingWithCopyWarning: \n",
      "A value is trying to be set on a copy of a slice from a DataFrame\n",
      "\n",
      "See the caveats in the documentation: https://pandas.pydata.org/pandas-docs/stable/user_guide/indexing.html#returning-a-view-versus-a-copy\n",
      "  data['CID'][i] = 0\n",
      "C:\\Users\\aleks\\AppData\\Local\\Temp\\ipykernel_12416\\3164115185.py:9: SettingWithCopyWarning: \n",
      "A value is trying to be set on a copy of a slice from a DataFrame\n",
      "\n",
      "See the caveats in the documentation: https://pandas.pydata.org/pandas-docs/stable/user_guide/indexing.html#returning-a-view-versus-a-copy\n",
      "  data['PUBCHEM_SMILES'][i] = 0\n",
      "C:\\Users\\aleks\\AppData\\Local\\Temp\\ipykernel_12416\\3164115185.py:6: SettingWithCopyWarning: \n",
      "A value is trying to be set on a copy of a slice from a DataFrame\n",
      "\n",
      "See the caveats in the documentation: https://pandas.pydata.org/pandas-docs/stable/user_guide/indexing.html#returning-a-view-versus-a-copy\n",
      "  data['PUBCHEM_SMILES'][i] = compound[0].canonical_smiles\n"
     ]
    },
    {
     "name": "stdout",
     "output_type": "stream",
     "text": [
      "PUGREST.BadRequest: error:  O=C(C)NC1=C(C=CC=C1)CCN2N=NC(CN3C=C(COCC)C4=C3C=CC=C4)=C2\n"
     ]
    },
    {
     "name": "stderr",
     "output_type": "stream",
     "text": [
      "C:\\Users\\aleks\\AppData\\Local\\Temp\\ipykernel_12416\\3164115185.py:5: SettingWithCopyWarning: \n",
      "A value is trying to be set on a copy of a slice from a DataFrame\n",
      "\n",
      "See the caveats in the documentation: https://pandas.pydata.org/pandas-docs/stable/user_guide/indexing.html#returning-a-view-versus-a-copy\n",
      "  data['CID'][i] = compound[0].cid\n",
      "C:\\Users\\aleks\\AppData\\Local\\Temp\\ipykernel_12416\\3164115185.py:6: SettingWithCopyWarning: \n",
      "A value is trying to be set on a copy of a slice from a DataFrame\n",
      "\n",
      "See the caveats in the documentation: https://pandas.pydata.org/pandas-docs/stable/user_guide/indexing.html#returning-a-view-versus-a-copy\n",
      "  data['PUBCHEM_SMILES'][i] = compound[0].canonical_smiles\n",
      "C:\\Users\\aleks\\AppData\\Local\\Temp\\ipykernel_12416\\3164115185.py:8: SettingWithCopyWarning: \n",
      "A value is trying to be set on a copy of a slice from a DataFrame\n",
      "\n",
      "See the caveats in the documentation: https://pandas.pydata.org/pandas-docs/stable/user_guide/indexing.html#returning-a-view-versus-a-copy\n",
      "  data['CID'][i] = 0\n",
      "C:\\Users\\aleks\\AppData\\Local\\Temp\\ipykernel_12416\\3164115185.py:9: SettingWithCopyWarning: \n",
      "A value is trying to be set on a copy of a slice from a DataFrame\n",
      "\n",
      "See the caveats in the documentation: https://pandas.pydata.org/pandas-docs/stable/user_guide/indexing.html#returning-a-view-versus-a-copy\n",
      "  data['PUBCHEM_SMILES'][i] = 0\n",
      "C:\\Users\\aleks\\AppData\\Local\\Temp\\ipykernel_12416\\3164115185.py:6: SettingWithCopyWarning: \n",
      "A value is trying to be set on a copy of a slice from a DataFrame\n",
      "\n",
      "See the caveats in the documentation: https://pandas.pydata.org/pandas-docs/stable/user_guide/indexing.html#returning-a-view-versus-a-copy\n",
      "  data['PUBCHEM_SMILES'][i] = compound[0].canonical_smiles\n"
     ]
    },
    {
     "name": "stdout",
     "output_type": "stream",
     "text": [
      "PUGREST.BadRequest: error:  O=C(C)N1C=C(CN2N=NC(CN3C=C(C4=CC=CC=C43)COCC)=C2)C5=CC=CC=C51\n"
     ]
    },
    {
     "name": "stderr",
     "output_type": "stream",
     "text": [
      "C:\\Users\\aleks\\AppData\\Local\\Temp\\ipykernel_12416\\3164115185.py:5: SettingWithCopyWarning: \n",
      "A value is trying to be set on a copy of a slice from a DataFrame\n",
      "\n",
      "See the caveats in the documentation: https://pandas.pydata.org/pandas-docs/stable/user_guide/indexing.html#returning-a-view-versus-a-copy\n",
      "  data['CID'][i] = compound[0].cid\n",
      "C:\\Users\\aleks\\AppData\\Local\\Temp\\ipykernel_12416\\3164115185.py:6: SettingWithCopyWarning: \n",
      "A value is trying to be set on a copy of a slice from a DataFrame\n",
      "\n",
      "See the caveats in the documentation: https://pandas.pydata.org/pandas-docs/stable/user_guide/indexing.html#returning-a-view-versus-a-copy\n",
      "  data['PUBCHEM_SMILES'][i] = compound[0].canonical_smiles\n",
      "C:\\Users\\aleks\\AppData\\Local\\Temp\\ipykernel_12416\\3164115185.py:8: SettingWithCopyWarning: \n",
      "A value is trying to be set on a copy of a slice from a DataFrame\n",
      "\n",
      "See the caveats in the documentation: https://pandas.pydata.org/pandas-docs/stable/user_guide/indexing.html#returning-a-view-versus-a-copy\n",
      "  data['CID'][i] = 0\n",
      "C:\\Users\\aleks\\AppData\\Local\\Temp\\ipykernel_12416\\3164115185.py:9: SettingWithCopyWarning: \n",
      "A value is trying to be set on a copy of a slice from a DataFrame\n",
      "\n",
      "See the caveats in the documentation: https://pandas.pydata.org/pandas-docs/stable/user_guide/indexing.html#returning-a-view-versus-a-copy\n",
      "  data['PUBCHEM_SMILES'][i] = 0\n",
      "C:\\Users\\aleks\\AppData\\Local\\Temp\\ipykernel_12416\\3164115185.py:6: SettingWithCopyWarning: \n",
      "A value is trying to be set on a copy of a slice from a DataFrame\n",
      "\n",
      "See the caveats in the documentation: https://pandas.pydata.org/pandas-docs/stable/user_guide/indexing.html#returning-a-view-versus-a-copy\n",
      "  data['PUBCHEM_SMILES'][i] = compound[0].canonical_smiles\n"
     ]
    },
    {
     "name": "stdout",
     "output_type": "stream",
     "text": [
      "PUGREST.BadRequest: error:  O=C(C)OCC1=CN(C(C)=O)C2=CC=CC=C21\n"
     ]
    },
    {
     "name": "stderr",
     "output_type": "stream",
     "text": [
      "C:\\Users\\aleks\\AppData\\Local\\Temp\\ipykernel_12416\\3164115185.py:5: SettingWithCopyWarning: \n",
      "A value is trying to be set on a copy of a slice from a DataFrame\n",
      "\n",
      "See the caveats in the documentation: https://pandas.pydata.org/pandas-docs/stable/user_guide/indexing.html#returning-a-view-versus-a-copy\n",
      "  data['CID'][i] = compound[0].cid\n",
      "C:\\Users\\aleks\\AppData\\Local\\Temp\\ipykernel_12416\\3164115185.py:6: SettingWithCopyWarning: \n",
      "A value is trying to be set on a copy of a slice from a DataFrame\n",
      "\n",
      "See the caveats in the documentation: https://pandas.pydata.org/pandas-docs/stable/user_guide/indexing.html#returning-a-view-versus-a-copy\n",
      "  data['PUBCHEM_SMILES'][i] = compound[0].canonical_smiles\n",
      "C:\\Users\\aleks\\AppData\\Local\\Temp\\ipykernel_12416\\3164115185.py:8: SettingWithCopyWarning: \n",
      "A value is trying to be set on a copy of a slice from a DataFrame\n",
      "\n",
      "See the caveats in the documentation: https://pandas.pydata.org/pandas-docs/stable/user_guide/indexing.html#returning-a-view-versus-a-copy\n",
      "  data['CID'][i] = 0\n",
      "C:\\Users\\aleks\\AppData\\Local\\Temp\\ipykernel_12416\\3164115185.py:9: SettingWithCopyWarning: \n",
      "A value is trying to be set on a copy of a slice from a DataFrame\n",
      "\n",
      "See the caveats in the documentation: https://pandas.pydata.org/pandas-docs/stable/user_guide/indexing.html#returning-a-view-versus-a-copy\n",
      "  data['PUBCHEM_SMILES'][i] = 0\n",
      "C:\\Users\\aleks\\AppData\\Local\\Temp\\ipykernel_12416\\3164115185.py:6: SettingWithCopyWarning: \n",
      "A value is trying to be set on a copy of a slice from a DataFrame\n",
      "\n",
      "See the caveats in the documentation: https://pandas.pydata.org/pandas-docs/stable/user_guide/indexing.html#returning-a-view-versus-a-copy\n",
      "  data['PUBCHEM_SMILES'][i] = compound[0].canonical_smiles\n"
     ]
    },
    {
     "name": "stdout",
     "output_type": "stream",
     "text": [
      "PUGREST.BadRequest: error:  CCCCN1C=CN=C1C=CC=C\n"
     ]
    },
    {
     "name": "stderr",
     "output_type": "stream",
     "text": [
      "C:\\Users\\aleks\\AppData\\Local\\Temp\\ipykernel_12416\\3164115185.py:5: SettingWithCopyWarning: \n",
      "A value is trying to be set on a copy of a slice from a DataFrame\n",
      "\n",
      "See the caveats in the documentation: https://pandas.pydata.org/pandas-docs/stable/user_guide/indexing.html#returning-a-view-versus-a-copy\n",
      "  data['CID'][i] = compound[0].cid\n",
      "C:\\Users\\aleks\\AppData\\Local\\Temp\\ipykernel_12416\\3164115185.py:6: SettingWithCopyWarning: \n",
      "A value is trying to be set on a copy of a slice from a DataFrame\n",
      "\n",
      "See the caveats in the documentation: https://pandas.pydata.org/pandas-docs/stable/user_guide/indexing.html#returning-a-view-versus-a-copy\n",
      "  data['PUBCHEM_SMILES'][i] = compound[0].canonical_smiles\n",
      "C:\\Users\\aleks\\AppData\\Local\\Temp\\ipykernel_12416\\3164115185.py:8: SettingWithCopyWarning: \n",
      "A value is trying to be set on a copy of a slice from a DataFrame\n",
      "\n",
      "See the caveats in the documentation: https://pandas.pydata.org/pandas-docs/stable/user_guide/indexing.html#returning-a-view-versus-a-copy\n",
      "  data['CID'][i] = 0\n",
      "C:\\Users\\aleks\\AppData\\Local\\Temp\\ipykernel_12416\\3164115185.py:9: SettingWithCopyWarning: \n",
      "A value is trying to be set on a copy of a slice from a DataFrame\n",
      "\n",
      "See the caveats in the documentation: https://pandas.pydata.org/pandas-docs/stable/user_guide/indexing.html#returning-a-view-versus-a-copy\n",
      "  data['PUBCHEM_SMILES'][i] = 0\n"
     ]
    },
    {
     "name": "stdout",
     "output_type": "stream",
     "text": [
      "PUGREST.BadRequest: error:  S1=CN(CC2=C[NH1]C3=CC=CC=C32)C(C)=CC(C)=C1\n"
     ]
    },
    {
     "name": "stderr",
     "output_type": "stream",
     "text": [
      "C:\\Users\\aleks\\AppData\\Local\\Temp\\ipykernel_12416\\3164115185.py:6: SettingWithCopyWarning: \n",
      "A value is trying to be set on a copy of a slice from a DataFrame\n",
      "\n",
      "See the caveats in the documentation: https://pandas.pydata.org/pandas-docs/stable/user_guide/indexing.html#returning-a-view-versus-a-copy\n",
      "  data['PUBCHEM_SMILES'][i] = compound[0].canonical_smiles\n"
     ]
    },
    {
     "name": "stdout",
     "output_type": "stream",
     "text": [
      "PUGREST.BadRequest: error:  S=CN(CC1=C[NH1]C2=C3C=CC=C21)C3(SC=CC=CC=C)S\n",
      "PUGREST.BadRequest: error:  S1=CN(CC2=C[NH1]C3=CC=CC=C32)C=C1C=CC=C\n",
      "PUGREST.BadRequest: error:  S1=C(N(CC2=C[NH1]C3=CC=CC=C32)C=CC=CC=C1)S\n"
     ]
    },
    {
     "name": "stderr",
     "output_type": "stream",
     "text": [
      "C:\\Users\\aleks\\AppData\\Local\\Temp\\ipykernel_12416\\3164115185.py:5: SettingWithCopyWarning: \n",
      "A value is trying to be set on a copy of a slice from a DataFrame\n",
      "\n",
      "See the caveats in the documentation: https://pandas.pydata.org/pandas-docs/stable/user_guide/indexing.html#returning-a-view-versus-a-copy\n",
      "  data['CID'][i] = compound[0].cid\n",
      "C:\\Users\\aleks\\AppData\\Local\\Temp\\ipykernel_12416\\3164115185.py:6: SettingWithCopyWarning: \n",
      "A value is trying to be set on a copy of a slice from a DataFrame\n",
      "\n",
      "See the caveats in the documentation: https://pandas.pydata.org/pandas-docs/stable/user_guide/indexing.html#returning-a-view-versus-a-copy\n",
      "  data['PUBCHEM_SMILES'][i] = compound[0].canonical_smiles\n",
      "C:\\Users\\aleks\\AppData\\Local\\Temp\\ipykernel_12416\\3164115185.py:8: SettingWithCopyWarning: \n",
      "A value is trying to be set on a copy of a slice from a DataFrame\n",
      "\n",
      "See the caveats in the documentation: https://pandas.pydata.org/pandas-docs/stable/user_guide/indexing.html#returning-a-view-versus-a-copy\n",
      "  data['CID'][i] = 0\n",
      "C:\\Users\\aleks\\AppData\\Local\\Temp\\ipykernel_12416\\3164115185.py:9: SettingWithCopyWarning: \n",
      "A value is trying to be set on a copy of a slice from a DataFrame\n",
      "\n",
      "See the caveats in the documentation: https://pandas.pydata.org/pandas-docs/stable/user_guide/indexing.html#returning-a-view-versus-a-copy\n",
      "  data['PUBCHEM_SMILES'][i] = 0\n",
      "C:\\Users\\aleks\\AppData\\Local\\Temp\\ipykernel_12416\\3164115185.py:6: SettingWithCopyWarning: \n",
      "A value is trying to be set on a copy of a slice from a DataFrame\n",
      "\n",
      "See the caveats in the documentation: https://pandas.pydata.org/pandas-docs/stable/user_guide/indexing.html#returning-a-view-versus-a-copy\n",
      "  data['PUBCHEM_SMILES'][i] = compound[0].canonical_smiles\n"
     ]
    },
    {
     "name": "stdout",
     "output_type": "stream",
     "text": [
      "PUGREST.BadRequest: error:  S=C1N(CC2=C[NH1]C3=C2C=CC=C3)C4=C(S1)C=CC=C4\n"
     ]
    },
    {
     "name": "stderr",
     "output_type": "stream",
     "text": [
      "C:\\Users\\aleks\\AppData\\Local\\Temp\\ipykernel_12416\\3164115185.py:5: SettingWithCopyWarning: \n",
      "A value is trying to be set on a copy of a slice from a DataFrame\n",
      "\n",
      "See the caveats in the documentation: https://pandas.pydata.org/pandas-docs/stable/user_guide/indexing.html#returning-a-view-versus-a-copy\n",
      "  data['CID'][i] = compound[0].cid\n",
      "C:\\Users\\aleks\\AppData\\Local\\Temp\\ipykernel_12416\\3164115185.py:6: SettingWithCopyWarning: \n",
      "A value is trying to be set on a copy of a slice from a DataFrame\n",
      "\n",
      "See the caveats in the documentation: https://pandas.pydata.org/pandas-docs/stable/user_guide/indexing.html#returning-a-view-versus-a-copy\n",
      "  data['PUBCHEM_SMILES'][i] = compound[0].canonical_smiles\n",
      "C:\\Users\\aleks\\AppData\\Local\\Temp\\ipykernel_12416\\3164115185.py:8: SettingWithCopyWarning: \n",
      "A value is trying to be set on a copy of a slice from a DataFrame\n",
      "\n",
      "See the caveats in the documentation: https://pandas.pydata.org/pandas-docs/stable/user_guide/indexing.html#returning-a-view-versus-a-copy\n",
      "  data['CID'][i] = 0\n",
      "C:\\Users\\aleks\\AppData\\Local\\Temp\\ipykernel_12416\\3164115185.py:9: SettingWithCopyWarning: \n",
      "A value is trying to be set on a copy of a slice from a DataFrame\n",
      "\n",
      "See the caveats in the documentation: https://pandas.pydata.org/pandas-docs/stable/user_guide/indexing.html#returning-a-view-versus-a-copy\n",
      "  data['PUBCHEM_SMILES'][i] = 0\n",
      "C:\\Users\\aleks\\AppData\\Local\\Temp\\ipykernel_12416\\3164115185.py:6: SettingWithCopyWarning: \n",
      "A value is trying to be set on a copy of a slice from a DataFrame\n",
      "\n",
      "See the caveats in the documentation: https://pandas.pydata.org/pandas-docs/stable/user_guide/indexing.html#returning-a-view-versus-a-copy\n",
      "  data['PUBCHEM_SMILES'][i] = compound[0].canonical_smiles\n"
     ]
    },
    {
     "name": "stdout",
     "output_type": "stream",
     "text": [
      "PUGREST.BadRequest: error:  C12=CC=CC=C1C(CN3C=C(N=C3CC)C=C)[NH1]2\n"
     ]
    },
    {
     "name": "stderr",
     "output_type": "stream",
     "text": [
      "C:\\Users\\aleks\\AppData\\Local\\Temp\\ipykernel_12416\\3164115185.py:5: SettingWithCopyWarning: \n",
      "A value is trying to be set on a copy of a slice from a DataFrame\n",
      "\n",
      "See the caveats in the documentation: https://pandas.pydata.org/pandas-docs/stable/user_guide/indexing.html#returning-a-view-versus-a-copy\n",
      "  data['CID'][i] = compound[0].cid\n",
      "C:\\Users\\aleks\\AppData\\Local\\Temp\\ipykernel_12416\\3164115185.py:6: SettingWithCopyWarning: \n",
      "A value is trying to be set on a copy of a slice from a DataFrame\n",
      "\n",
      "See the caveats in the documentation: https://pandas.pydata.org/pandas-docs/stable/user_guide/indexing.html#returning-a-view-versus-a-copy\n",
      "  data['PUBCHEM_SMILES'][i] = compound[0].canonical_smiles\n",
      "C:\\Users\\aleks\\AppData\\Local\\Temp\\ipykernel_12416\\3164115185.py:8: SettingWithCopyWarning: \n",
      "A value is trying to be set on a copy of a slice from a DataFrame\n",
      "\n",
      "See the caveats in the documentation: https://pandas.pydata.org/pandas-docs/stable/user_guide/indexing.html#returning-a-view-versus-a-copy\n",
      "  data['CID'][i] = 0\n",
      "C:\\Users\\aleks\\AppData\\Local\\Temp\\ipykernel_12416\\3164115185.py:9: SettingWithCopyWarning: \n",
      "A value is trying to be set on a copy of a slice from a DataFrame\n",
      "\n",
      "See the caveats in the documentation: https://pandas.pydata.org/pandas-docs/stable/user_guide/indexing.html#returning-a-view-versus-a-copy\n",
      "  data['PUBCHEM_SMILES'][i] = 0\n",
      "C:\\Users\\aleks\\AppData\\Local\\Temp\\ipykernel_12416\\3164115185.py:6: SettingWithCopyWarning: \n",
      "A value is trying to be set on a copy of a slice from a DataFrame\n",
      "\n",
      "See the caveats in the documentation: https://pandas.pydata.org/pandas-docs/stable/user_guide/indexing.html#returning-a-view-versus-a-copy\n",
      "  data['PUBCHEM_SMILES'][i] = compound[0].canonical_smiles\n"
     ]
    },
    {
     "name": "stdout",
     "output_type": "stream",
     "text": [
      "PUGREST.BadRequest: error:  C12=CC3=C(C=C1)C2(CNC4=C(C=CC=C4)N=C)C[NH1]3\n"
     ]
    },
    {
     "name": "stderr",
     "output_type": "stream",
     "text": [
      "C:\\Users\\aleks\\AppData\\Local\\Temp\\ipykernel_12416\\3164115185.py:5: SettingWithCopyWarning: \n",
      "A value is trying to be set on a copy of a slice from a DataFrame\n",
      "\n",
      "See the caveats in the documentation: https://pandas.pydata.org/pandas-docs/stable/user_guide/indexing.html#returning-a-view-versus-a-copy\n",
      "  data['CID'][i] = compound[0].cid\n",
      "C:\\Users\\aleks\\AppData\\Local\\Temp\\ipykernel_12416\\3164115185.py:6: SettingWithCopyWarning: \n",
      "A value is trying to be set on a copy of a slice from a DataFrame\n",
      "\n",
      "See the caveats in the documentation: https://pandas.pydata.org/pandas-docs/stable/user_guide/indexing.html#returning-a-view-versus-a-copy\n",
      "  data['PUBCHEM_SMILES'][i] = compound[0].canonical_smiles\n",
      "C:\\Users\\aleks\\AppData\\Local\\Temp\\ipykernel_12416\\3164115185.py:8: SettingWithCopyWarning: \n",
      "A value is trying to be set on a copy of a slice from a DataFrame\n",
      "\n",
      "See the caveats in the documentation: https://pandas.pydata.org/pandas-docs/stable/user_guide/indexing.html#returning-a-view-versus-a-copy\n",
      "  data['CID'][i] = 0\n",
      "C:\\Users\\aleks\\AppData\\Local\\Temp\\ipykernel_12416\\3164115185.py:9: SettingWithCopyWarning: \n",
      "A value is trying to be set on a copy of a slice from a DataFrame\n",
      "\n",
      "See the caveats in the documentation: https://pandas.pydata.org/pandas-docs/stable/user_guide/indexing.html#returning-a-view-versus-a-copy\n",
      "  data['PUBCHEM_SMILES'][i] = 0\n",
      "C:\\Users\\aleks\\AppData\\Local\\Temp\\ipykernel_12416\\3164115185.py:6: SettingWithCopyWarning: \n",
      "A value is trying to be set on a copy of a slice from a DataFrame\n",
      "\n",
      "See the caveats in the documentation: https://pandas.pydata.org/pandas-docs/stable/user_guide/indexing.html#returning-a-view-versus-a-copy\n",
      "  data['PUBCHEM_SMILES'][i] = compound[0].canonical_smiles\n"
     ]
    },
    {
     "name": "stdout",
     "output_type": "stream",
     "text": [
      "PUGREST.BadRequest: error:  ClC=C(Cl)NCC1=C[NH1]C2=C1C=CC=C2C=C\n"
     ]
    },
    {
     "name": "stderr",
     "output_type": "stream",
     "text": [
      "C:\\Users\\aleks\\AppData\\Local\\Temp\\ipykernel_12416\\3164115185.py:5: SettingWithCopyWarning: \n",
      "A value is trying to be set on a copy of a slice from a DataFrame\n",
      "\n",
      "See the caveats in the documentation: https://pandas.pydata.org/pandas-docs/stable/user_guide/indexing.html#returning-a-view-versus-a-copy\n",
      "  data['CID'][i] = compound[0].cid\n",
      "C:\\Users\\aleks\\AppData\\Local\\Temp\\ipykernel_12416\\3164115185.py:6: SettingWithCopyWarning: \n",
      "A value is trying to be set on a copy of a slice from a DataFrame\n",
      "\n",
      "See the caveats in the documentation: https://pandas.pydata.org/pandas-docs/stable/user_guide/indexing.html#returning-a-view-versus-a-copy\n",
      "  data['PUBCHEM_SMILES'][i] = compound[0].canonical_smiles\n",
      "C:\\Users\\aleks\\AppData\\Local\\Temp\\ipykernel_12416\\3164115185.py:8: SettingWithCopyWarning: \n",
      "A value is trying to be set on a copy of a slice from a DataFrame\n",
      "\n",
      "See the caveats in the documentation: https://pandas.pydata.org/pandas-docs/stable/user_guide/indexing.html#returning-a-view-versus-a-copy\n",
      "  data['CID'][i] = 0\n",
      "C:\\Users\\aleks\\AppData\\Local\\Temp\\ipykernel_12416\\3164115185.py:9: SettingWithCopyWarning: \n",
      "A value is trying to be set on a copy of a slice from a DataFrame\n",
      "\n",
      "See the caveats in the documentation: https://pandas.pydata.org/pandas-docs/stable/user_guide/indexing.html#returning-a-view-versus-a-copy\n",
      "  data['PUBCHEM_SMILES'][i] = 0\n",
      "C:\\Users\\aleks\\AppData\\Local\\Temp\\ipykernel_12416\\3164115185.py:6: SettingWithCopyWarning: \n",
      "A value is trying to be set on a copy of a slice from a DataFrame\n",
      "\n",
      "See the caveats in the documentation: https://pandas.pydata.org/pandas-docs/stable/user_guide/indexing.html#returning-a-view-versus-a-copy\n",
      "  data['PUBCHEM_SMILES'][i] = compound[0].canonical_smiles\n"
     ]
    },
    {
     "name": "stdout",
     "output_type": "stream",
     "text": [
      "PUGREST.BadRequest: error:  ClC=C(Cl)N(C1=CC=CC=C1)C=C\n"
     ]
    },
    {
     "name": "stderr",
     "output_type": "stream",
     "text": [
      "C:\\Users\\aleks\\AppData\\Local\\Temp\\ipykernel_12416\\3164115185.py:5: SettingWithCopyWarning: \n",
      "A value is trying to be set on a copy of a slice from a DataFrame\n",
      "\n",
      "See the caveats in the documentation: https://pandas.pydata.org/pandas-docs/stable/user_guide/indexing.html#returning-a-view-versus-a-copy\n",
      "  data['CID'][i] = compound[0].cid\n",
      "C:\\Users\\aleks\\AppData\\Local\\Temp\\ipykernel_12416\\3164115185.py:6: SettingWithCopyWarning: \n",
      "A value is trying to be set on a copy of a slice from a DataFrame\n",
      "\n",
      "See the caveats in the documentation: https://pandas.pydata.org/pandas-docs/stable/user_guide/indexing.html#returning-a-view-versus-a-copy\n",
      "  data['PUBCHEM_SMILES'][i] = compound[0].canonical_smiles\n",
      "C:\\Users\\aleks\\AppData\\Local\\Temp\\ipykernel_12416\\3164115185.py:8: SettingWithCopyWarning: \n",
      "A value is trying to be set on a copy of a slice from a DataFrame\n",
      "\n",
      "See the caveats in the documentation: https://pandas.pydata.org/pandas-docs/stable/user_guide/indexing.html#returning-a-view-versus-a-copy\n",
      "  data['CID'][i] = 0\n",
      "C:\\Users\\aleks\\AppData\\Local\\Temp\\ipykernel_12416\\3164115185.py:9: SettingWithCopyWarning: \n",
      "A value is trying to be set on a copy of a slice from a DataFrame\n",
      "\n",
      "See the caveats in the documentation: https://pandas.pydata.org/pandas-docs/stable/user_guide/indexing.html#returning-a-view-versus-a-copy\n",
      "  data['PUBCHEM_SMILES'][i] = 0\n",
      "C:\\Users\\aleks\\AppData\\Local\\Temp\\ipykernel_12416\\3164115185.py:6: SettingWithCopyWarning: \n",
      "A value is trying to be set on a copy of a slice from a DataFrame\n",
      "\n",
      "See the caveats in the documentation: https://pandas.pydata.org/pandas-docs/stable/user_guide/indexing.html#returning-a-view-versus-a-copy\n",
      "  data['PUBCHEM_SMILES'][i] = compound[0].canonical_smiles\n"
     ]
    },
    {
     "name": "stdout",
     "output_type": "stream",
     "text": [
      "PUGREST.BadRequest: error:  ClC=C(Cl)N(CCC1=C[NH1]C2=C1C=CC=C2C)C\n"
     ]
    },
    {
     "name": "stderr",
     "output_type": "stream",
     "text": [
      "C:\\Users\\aleks\\AppData\\Local\\Temp\\ipykernel_12416\\3164115185.py:5: SettingWithCopyWarning: \n",
      "A value is trying to be set on a copy of a slice from a DataFrame\n",
      "\n",
      "See the caveats in the documentation: https://pandas.pydata.org/pandas-docs/stable/user_guide/indexing.html#returning-a-view-versus-a-copy\n",
      "  data['CID'][i] = compound[0].cid\n",
      "C:\\Users\\aleks\\AppData\\Local\\Temp\\ipykernel_12416\\3164115185.py:6: SettingWithCopyWarning: \n",
      "A value is trying to be set on a copy of a slice from a DataFrame\n",
      "\n",
      "See the caveats in the documentation: https://pandas.pydata.org/pandas-docs/stable/user_guide/indexing.html#returning-a-view-versus-a-copy\n",
      "  data['PUBCHEM_SMILES'][i] = compound[0].canonical_smiles\n",
      "C:\\Users\\aleks\\AppData\\Local\\Temp\\ipykernel_12416\\3164115185.py:8: SettingWithCopyWarning: \n",
      "A value is trying to be set on a copy of a slice from a DataFrame\n",
      "\n",
      "See the caveats in the documentation: https://pandas.pydata.org/pandas-docs/stable/user_guide/indexing.html#returning-a-view-versus-a-copy\n",
      "  data['CID'][i] = 0\n",
      "C:\\Users\\aleks\\AppData\\Local\\Temp\\ipykernel_12416\\3164115185.py:9: SettingWithCopyWarning: \n",
      "A value is trying to be set on a copy of a slice from a DataFrame\n",
      "\n",
      "See the caveats in the documentation: https://pandas.pydata.org/pandas-docs/stable/user_guide/indexing.html#returning-a-view-versus-a-copy\n",
      "  data['PUBCHEM_SMILES'][i] = 0\n",
      "C:\\Users\\aleks\\AppData\\Local\\Temp\\ipykernel_12416\\3164115185.py:6: SettingWithCopyWarning: \n",
      "A value is trying to be set on a copy of a slice from a DataFrame\n",
      "\n",
      "See the caveats in the documentation: https://pandas.pydata.org/pandas-docs/stable/user_guide/indexing.html#returning-a-view-versus-a-copy\n",
      "  data['PUBCHEM_SMILES'][i] = compound[0].canonical_smiles\n"
     ]
    },
    {
     "name": "stdout",
     "output_type": "stream",
     "text": [
      "PUGREST.BadRequest: error:  O=CC=C(C)N=[N+1]=[N-1]\n"
     ]
    },
    {
     "name": "stderr",
     "output_type": "stream",
     "text": [
      "C:\\Users\\aleks\\AppData\\Local\\Temp\\ipykernel_12416\\3164115185.py:5: SettingWithCopyWarning: \n",
      "A value is trying to be set on a copy of a slice from a DataFrame\n",
      "\n",
      "See the caveats in the documentation: https://pandas.pydata.org/pandas-docs/stable/user_guide/indexing.html#returning-a-view-versus-a-copy\n",
      "  data['CID'][i] = compound[0].cid\n",
      "C:\\Users\\aleks\\AppData\\Local\\Temp\\ipykernel_12416\\3164115185.py:6: SettingWithCopyWarning: \n",
      "A value is trying to be set on a copy of a slice from a DataFrame\n",
      "\n",
      "See the caveats in the documentation: https://pandas.pydata.org/pandas-docs/stable/user_guide/indexing.html#returning-a-view-versus-a-copy\n",
      "  data['PUBCHEM_SMILES'][i] = compound[0].canonical_smiles\n",
      "C:\\Users\\aleks\\AppData\\Local\\Temp\\ipykernel_12416\\3164115185.py:8: SettingWithCopyWarning: \n",
      "A value is trying to be set on a copy of a slice from a DataFrame\n",
      "\n",
      "See the caveats in the documentation: https://pandas.pydata.org/pandas-docs/stable/user_guide/indexing.html#returning-a-view-versus-a-copy\n",
      "  data['CID'][i] = 0\n",
      "C:\\Users\\aleks\\AppData\\Local\\Temp\\ipykernel_12416\\3164115185.py:9: SettingWithCopyWarning: \n",
      "A value is trying to be set on a copy of a slice from a DataFrame\n",
      "\n",
      "See the caveats in the documentation: https://pandas.pydata.org/pandas-docs/stable/user_guide/indexing.html#returning-a-view-versus-a-copy\n",
      "  data['PUBCHEM_SMILES'][i] = 0\n",
      "C:\\Users\\aleks\\AppData\\Local\\Temp\\ipykernel_12416\\3164115185.py:6: SettingWithCopyWarning: \n",
      "A value is trying to be set on a copy of a slice from a DataFrame\n",
      "\n",
      "See the caveats in the documentation: https://pandas.pydata.org/pandas-docs/stable/user_guide/indexing.html#returning-a-view-versus-a-copy\n",
      "  data['PUBCHEM_SMILES'][i] = compound[0].canonical_smiles\n"
     ]
    },
    {
     "name": "stdout",
     "output_type": "stream",
     "text": [
      "PUGREST.BadRequest: error:  O=CC(C)=CN(CC1=C[NH1]C2=C1C=CC=C2)C(=O)NCC3=C[NH1]C4=CC=CC=C34\n"
     ]
    },
    {
     "name": "stderr",
     "output_type": "stream",
     "text": [
      "C:\\Users\\aleks\\AppData\\Local\\Temp\\ipykernel_12416\\3164115185.py:5: SettingWithCopyWarning: \n",
      "A value is trying to be set on a copy of a slice from a DataFrame\n",
      "\n",
      "See the caveats in the documentation: https://pandas.pydata.org/pandas-docs/stable/user_guide/indexing.html#returning-a-view-versus-a-copy\n",
      "  data['CID'][i] = compound[0].cid\n",
      "C:\\Users\\aleks\\AppData\\Local\\Temp\\ipykernel_12416\\3164115185.py:6: SettingWithCopyWarning: \n",
      "A value is trying to be set on a copy of a slice from a DataFrame\n",
      "\n",
      "See the caveats in the documentation: https://pandas.pydata.org/pandas-docs/stable/user_guide/indexing.html#returning-a-view-versus-a-copy\n",
      "  data['PUBCHEM_SMILES'][i] = compound[0].canonical_smiles\n",
      "C:\\Users\\aleks\\AppData\\Local\\Temp\\ipykernel_12416\\3164115185.py:8: SettingWithCopyWarning: \n",
      "A value is trying to be set on a copy of a slice from a DataFrame\n",
      "\n",
      "See the caveats in the documentation: https://pandas.pydata.org/pandas-docs/stable/user_guide/indexing.html#returning-a-view-versus-a-copy\n",
      "  data['CID'][i] = 0\n",
      "C:\\Users\\aleks\\AppData\\Local\\Temp\\ipykernel_12416\\3164115185.py:9: SettingWithCopyWarning: \n",
      "A value is trying to be set on a copy of a slice from a DataFrame\n",
      "\n",
      "See the caveats in the documentation: https://pandas.pydata.org/pandas-docs/stable/user_guide/indexing.html#returning-a-view-versus-a-copy\n",
      "  data['PUBCHEM_SMILES'][i] = 0\n",
      "C:\\Users\\aleks\\AppData\\Local\\Temp\\ipykernel_12416\\3164115185.py:6: SettingWithCopyWarning: \n",
      "A value is trying to be set on a copy of a slice from a DataFrame\n",
      "\n",
      "See the caveats in the documentation: https://pandas.pydata.org/pandas-docs/stable/user_guide/indexing.html#returning-a-view-versus-a-copy\n",
      "  data['PUBCHEM_SMILES'][i] = compound[0].canonical_smiles\n"
     ]
    },
    {
     "name": "stdout",
     "output_type": "stream",
     "text": [
      "PUGREST.BadRequest: error:  N1(CC=2C3=CC=CC=C3[NH1]C=2)C=C(C)C(=O)N1CC4=C[NH1]C5=CC=CC=C54\n"
     ]
    },
    {
     "name": "stderr",
     "output_type": "stream",
     "text": [
      "C:\\Users\\aleks\\AppData\\Local\\Temp\\ipykernel_12416\\3164115185.py:5: SettingWithCopyWarning: \n",
      "A value is trying to be set on a copy of a slice from a DataFrame\n",
      "\n",
      "See the caveats in the documentation: https://pandas.pydata.org/pandas-docs/stable/user_guide/indexing.html#returning-a-view-versus-a-copy\n",
      "  data['CID'][i] = compound[0].cid\n",
      "C:\\Users\\aleks\\AppData\\Local\\Temp\\ipykernel_12416\\3164115185.py:6: SettingWithCopyWarning: \n",
      "A value is trying to be set on a copy of a slice from a DataFrame\n",
      "\n",
      "See the caveats in the documentation: https://pandas.pydata.org/pandas-docs/stable/user_guide/indexing.html#returning-a-view-versus-a-copy\n",
      "  data['PUBCHEM_SMILES'][i] = compound[0].canonical_smiles\n",
      "C:\\Users\\aleks\\AppData\\Local\\Temp\\ipykernel_12416\\3164115185.py:8: SettingWithCopyWarning: \n",
      "A value is trying to be set on a copy of a slice from a DataFrame\n",
      "\n",
      "See the caveats in the documentation: https://pandas.pydata.org/pandas-docs/stable/user_guide/indexing.html#returning-a-view-versus-a-copy\n",
      "  data['CID'][i] = 0\n",
      "C:\\Users\\aleks\\AppData\\Local\\Temp\\ipykernel_12416\\3164115185.py:9: SettingWithCopyWarning: \n",
      "A value is trying to be set on a copy of a slice from a DataFrame\n",
      "\n",
      "See the caveats in the documentation: https://pandas.pydata.org/pandas-docs/stable/user_guide/indexing.html#returning-a-view-versus-a-copy\n",
      "  data['PUBCHEM_SMILES'][i] = 0\n",
      "C:\\Users\\aleks\\AppData\\Local\\Temp\\ipykernel_12416\\3164115185.py:6: SettingWithCopyWarning: \n",
      "A value is trying to be set on a copy of a slice from a DataFrame\n",
      "\n",
      "See the caveats in the documentation: https://pandas.pydata.org/pandas-docs/stable/user_guide/indexing.html#returning-a-view-versus-a-copy\n",
      "  data['PUBCHEM_SMILES'][i] = compound[0].canonical_smiles\n"
     ]
    },
    {
     "name": "stdout",
     "output_type": "stream",
     "text": [
      "PUGREST.BadRequest: error:  O=C1C(C)=CN(CC2=C[NH1]C3=C2C=CC=C3)CN(CC4=C[NH1]C5=CC=CC=C54)C1O\n"
     ]
    },
    {
     "name": "stderr",
     "output_type": "stream",
     "text": [
      "C:\\Users\\aleks\\AppData\\Local\\Temp\\ipykernel_12416\\3164115185.py:5: SettingWithCopyWarning: \n",
      "A value is trying to be set on a copy of a slice from a DataFrame\n",
      "\n",
      "See the caveats in the documentation: https://pandas.pydata.org/pandas-docs/stable/user_guide/indexing.html#returning-a-view-versus-a-copy\n",
      "  data['CID'][i] = compound[0].cid\n",
      "C:\\Users\\aleks\\AppData\\Local\\Temp\\ipykernel_12416\\3164115185.py:6: SettingWithCopyWarning: \n",
      "A value is trying to be set on a copy of a slice from a DataFrame\n",
      "\n",
      "See the caveats in the documentation: https://pandas.pydata.org/pandas-docs/stable/user_guide/indexing.html#returning-a-view-versus-a-copy\n",
      "  data['PUBCHEM_SMILES'][i] = compound[0].canonical_smiles\n",
      "C:\\Users\\aleks\\AppData\\Local\\Temp\\ipykernel_12416\\3164115185.py:8: SettingWithCopyWarning: \n",
      "A value is trying to be set on a copy of a slice from a DataFrame\n",
      "\n",
      "See the caveats in the documentation: https://pandas.pydata.org/pandas-docs/stable/user_guide/indexing.html#returning-a-view-versus-a-copy\n",
      "  data['CID'][i] = 0\n",
      "C:\\Users\\aleks\\AppData\\Local\\Temp\\ipykernel_12416\\3164115185.py:9: SettingWithCopyWarning: \n",
      "A value is trying to be set on a copy of a slice from a DataFrame\n",
      "\n",
      "See the caveats in the documentation: https://pandas.pydata.org/pandas-docs/stable/user_guide/indexing.html#returning-a-view-versus-a-copy\n",
      "  data['PUBCHEM_SMILES'][i] = 0\n",
      "C:\\Users\\aleks\\AppData\\Local\\Temp\\ipykernel_12416\\3164115185.py:6: SettingWithCopyWarning: \n",
      "A value is trying to be set on a copy of a slice from a DataFrame\n",
      "\n",
      "See the caveats in the documentation: https://pandas.pydata.org/pandas-docs/stable/user_guide/indexing.html#returning-a-view-versus-a-copy\n",
      "  data['PUBCHEM_SMILES'][i] = compound[0].canonical_smiles\n"
     ]
    },
    {
     "name": "stdout",
     "output_type": "stream",
     "text": [
      "PUGREST.BadRequest: error:  O=C(C1)C(C2=CC=C1)C(NCCCCCN3N=NC(COCC4=C[NH1]C5=C4C=CC=C5)=C3C)=C2\n"
     ]
    },
    {
     "name": "stderr",
     "output_type": "stream",
     "text": [
      "C:\\Users\\aleks\\AppData\\Local\\Temp\\ipykernel_12416\\3164115185.py:5: SettingWithCopyWarning: \n",
      "A value is trying to be set on a copy of a slice from a DataFrame\n",
      "\n",
      "See the caveats in the documentation: https://pandas.pydata.org/pandas-docs/stable/user_guide/indexing.html#returning-a-view-versus-a-copy\n",
      "  data['CID'][i] = compound[0].cid\n",
      "C:\\Users\\aleks\\AppData\\Local\\Temp\\ipykernel_12416\\3164115185.py:6: SettingWithCopyWarning: \n",
      "A value is trying to be set on a copy of a slice from a DataFrame\n",
      "\n",
      "See the caveats in the documentation: https://pandas.pydata.org/pandas-docs/stable/user_guide/indexing.html#returning-a-view-versus-a-copy\n",
      "  data['PUBCHEM_SMILES'][i] = compound[0].canonical_smiles\n"
     ]
    },
    {
     "name": "stdout",
     "output_type": "stream",
     "text": [
      "PUGREST.BadRequest: error:  O=C(C)C[NH1]C=CC(CN1C=C(CN2C=C(C3=CC=CC=C23)COCC)N=N1)C=CC=C\n"
     ]
    },
    {
     "name": "stderr",
     "output_type": "stream",
     "text": [
      "C:\\Users\\aleks\\AppData\\Local\\Temp\\ipykernel_12416\\3164115185.py:5: SettingWithCopyWarning: \n",
      "A value is trying to be set on a copy of a slice from a DataFrame\n",
      "\n",
      "See the caveats in the documentation: https://pandas.pydata.org/pandas-docs/stable/user_guide/indexing.html#returning-a-view-versus-a-copy\n",
      "  data['CID'][i] = compound[0].cid\n",
      "C:\\Users\\aleks\\AppData\\Local\\Temp\\ipykernel_12416\\3164115185.py:6: SettingWithCopyWarning: \n",
      "A value is trying to be set on a copy of a slice from a DataFrame\n",
      "\n",
      "See the caveats in the documentation: https://pandas.pydata.org/pandas-docs/stable/user_guide/indexing.html#returning-a-view-versus-a-copy\n",
      "  data['PUBCHEM_SMILES'][i] = compound[0].canonical_smiles\n",
      "C:\\Users\\aleks\\AppData\\Local\\Temp\\ipykernel_12416\\3164115185.py:8: SettingWithCopyWarning: \n",
      "A value is trying to be set on a copy of a slice from a DataFrame\n",
      "\n",
      "See the caveats in the documentation: https://pandas.pydata.org/pandas-docs/stable/user_guide/indexing.html#returning-a-view-versus-a-copy\n",
      "  data['CID'][i] = 0\n",
      "C:\\Users\\aleks\\AppData\\Local\\Temp\\ipykernel_12416\\3164115185.py:9: SettingWithCopyWarning: \n",
      "A value is trying to be set on a copy of a slice from a DataFrame\n",
      "\n",
      "See the caveats in the documentation: https://pandas.pydata.org/pandas-docs/stable/user_guide/indexing.html#returning-a-view-versus-a-copy\n",
      "  data['PUBCHEM_SMILES'][i] = 0\n",
      "C:\\Users\\aleks\\AppData\\Local\\Temp\\ipykernel_12416\\3164115185.py:6: SettingWithCopyWarning: \n",
      "A value is trying to be set on a copy of a slice from a DataFrame\n",
      "\n",
      "See the caveats in the documentation: https://pandas.pydata.org/pandas-docs/stable/user_guide/indexing.html#returning-a-view-versus-a-copy\n",
      "  data['PUBCHEM_SMILES'][i] = compound[0].canonical_smiles\n"
     ]
    },
    {
     "name": "stdout",
     "output_type": "stream",
     "text": [
      "PUGREST.BadRequest: error:  O=C(C1)C(C=CC=C1)C(NCCCCCN2N=NC(COCC3=C[NH1]C4=C3C=CC=C4)=C2)=O\n"
     ]
    },
    {
     "name": "stderr",
     "output_type": "stream",
     "text": [
      "C:\\Users\\aleks\\AppData\\Local\\Temp\\ipykernel_12416\\3164115185.py:5: SettingWithCopyWarning: \n",
      "A value is trying to be set on a copy of a slice from a DataFrame\n",
      "\n",
      "See the caveats in the documentation: https://pandas.pydata.org/pandas-docs/stable/user_guide/indexing.html#returning-a-view-versus-a-copy\n",
      "  data['CID'][i] = compound[0].cid\n",
      "C:\\Users\\aleks\\AppData\\Local\\Temp\\ipykernel_12416\\3164115185.py:6: SettingWithCopyWarning: \n",
      "A value is trying to be set on a copy of a slice from a DataFrame\n",
      "\n",
      "See the caveats in the documentation: https://pandas.pydata.org/pandas-docs/stable/user_guide/indexing.html#returning-a-view-versus-a-copy\n",
      "  data['PUBCHEM_SMILES'][i] = compound[0].canonical_smiles\n"
     ]
    },
    {
     "name": "stdout",
     "output_type": "stream",
     "text": [
      "PUGREST.BadRequest: error:  O=C(C12)CC=CC=C1C(NCCCCCNN=NC(COCC3=C[NH1]C4=C3C=CC=C4)=C)CC=C2\n"
     ]
    },
    {
     "name": "stderr",
     "output_type": "stream",
     "text": [
      "C:\\Users\\aleks\\AppData\\Local\\Temp\\ipykernel_12416\\3164115185.py:5: SettingWithCopyWarning: \n",
      "A value is trying to be set on a copy of a slice from a DataFrame\n",
      "\n",
      "See the caveats in the documentation: https://pandas.pydata.org/pandas-docs/stable/user_guide/indexing.html#returning-a-view-versus-a-copy\n",
      "  data['CID'][i] = compound[0].cid\n",
      "C:\\Users\\aleks\\AppData\\Local\\Temp\\ipykernel_12416\\3164115185.py:6: SettingWithCopyWarning: \n",
      "A value is trying to be set on a copy of a slice from a DataFrame\n",
      "\n",
      "See the caveats in the documentation: https://pandas.pydata.org/pandas-docs/stable/user_guide/indexing.html#returning-a-view-versus-a-copy\n",
      "  data['PUBCHEM_SMILES'][i] = compound[0].canonical_smiles\n"
     ]
    },
    {
     "name": "stdout",
     "output_type": "stream",
     "text": [
      "PUGREST.BadRequest: error:  O=C(C1)C2(C=CC=C1)C(NCCCCCN3N=NC(COCC4=C[NH1]C5=C4C=CC=C5)=C3O)C=C2\n"
     ]
    },
    {
     "name": "stderr",
     "output_type": "stream",
     "text": [
      "C:\\Users\\aleks\\AppData\\Local\\Temp\\ipykernel_12416\\3164115185.py:5: SettingWithCopyWarning: \n",
      "A value is trying to be set on a copy of a slice from a DataFrame\n",
      "\n",
      "See the caveats in the documentation: https://pandas.pydata.org/pandas-docs/stable/user_guide/indexing.html#returning-a-view-versus-a-copy\n",
      "  data['CID'][i] = compound[0].cid\n",
      "C:\\Users\\aleks\\AppData\\Local\\Temp\\ipykernel_12416\\3164115185.py:6: SettingWithCopyWarning: \n",
      "A value is trying to be set on a copy of a slice from a DataFrame\n",
      "\n",
      "See the caveats in the documentation: https://pandas.pydata.org/pandas-docs/stable/user_guide/indexing.html#returning-a-view-versus-a-copy\n",
      "  data['PUBCHEM_SMILES'][i] = compound[0].canonical_smiles\n",
      "C:\\Users\\aleks\\AppData\\Local\\Temp\\ipykernel_12416\\3164115185.py:8: SettingWithCopyWarning: \n",
      "A value is trying to be set on a copy of a slice from a DataFrame\n",
      "\n",
      "See the caveats in the documentation: https://pandas.pydata.org/pandas-docs/stable/user_guide/indexing.html#returning-a-view-versus-a-copy\n",
      "  data['CID'][i] = 0\n",
      "C:\\Users\\aleks\\AppData\\Local\\Temp\\ipykernel_12416\\3164115185.py:9: SettingWithCopyWarning: \n",
      "A value is trying to be set on a copy of a slice from a DataFrame\n",
      "\n",
      "See the caveats in the documentation: https://pandas.pydata.org/pandas-docs/stable/user_guide/indexing.html#returning-a-view-versus-a-copy\n",
      "  data['PUBCHEM_SMILES'][i] = 0\n",
      "C:\\Users\\aleks\\AppData\\Local\\Temp\\ipykernel_12416\\3164115185.py:6: SettingWithCopyWarning: \n",
      "A value is trying to be set on a copy of a slice from a DataFrame\n",
      "\n",
      "See the caveats in the documentation: https://pandas.pydata.org/pandas-docs/stable/user_guide/indexing.html#returning-a-view-versus-a-copy\n",
      "  data['PUBCHEM_SMILES'][i] = compound[0].canonical_smiles\n"
     ]
    },
    {
     "name": "stdout",
     "output_type": "stream",
     "text": [
      "PUGREST.BadRequest: error:  CCCN1C=CN=C1CC2=C[NH1]C3=CC=CC=C23\n"
     ]
    },
    {
     "name": "stderr",
     "output_type": "stream",
     "text": [
      "C:\\Users\\aleks\\AppData\\Local\\Temp\\ipykernel_12416\\3164115185.py:5: SettingWithCopyWarning: \n",
      "A value is trying to be set on a copy of a slice from a DataFrame\n",
      "\n",
      "See the caveats in the documentation: https://pandas.pydata.org/pandas-docs/stable/user_guide/indexing.html#returning-a-view-versus-a-copy\n",
      "  data['CID'][i] = compound[0].cid\n",
      "C:\\Users\\aleks\\AppData\\Local\\Temp\\ipykernel_12416\\3164115185.py:6: SettingWithCopyWarning: \n",
      "A value is trying to be set on a copy of a slice from a DataFrame\n",
      "\n",
      "See the caveats in the documentation: https://pandas.pydata.org/pandas-docs/stable/user_guide/indexing.html#returning-a-view-versus-a-copy\n",
      "  data['PUBCHEM_SMILES'][i] = compound[0].canonical_smiles\n",
      "C:\\Users\\aleks\\AppData\\Local\\Temp\\ipykernel_12416\\3164115185.py:8: SettingWithCopyWarning: \n",
      "A value is trying to be set on a copy of a slice from a DataFrame\n",
      "\n",
      "See the caveats in the documentation: https://pandas.pydata.org/pandas-docs/stable/user_guide/indexing.html#returning-a-view-versus-a-copy\n",
      "  data['CID'][i] = 0\n",
      "C:\\Users\\aleks\\AppData\\Local\\Temp\\ipykernel_12416\\3164115185.py:9: SettingWithCopyWarning: \n",
      "A value is trying to be set on a copy of a slice from a DataFrame\n",
      "\n",
      "See the caveats in the documentation: https://pandas.pydata.org/pandas-docs/stable/user_guide/indexing.html#returning-a-view-versus-a-copy\n",
      "  data['PUBCHEM_SMILES'][i] = 0\n",
      "C:\\Users\\aleks\\AppData\\Local\\Temp\\ipykernel_12416\\3164115185.py:6: SettingWithCopyWarning: \n",
      "A value is trying to be set on a copy of a slice from a DataFrame\n",
      "\n",
      "See the caveats in the documentation: https://pandas.pydata.org/pandas-docs/stable/user_guide/indexing.html#returning-a-view-versus-a-copy\n",
      "  data['PUBCHEM_SMILES'][i] = compound[0].canonical_smiles\n"
     ]
    },
    {
     "name": "stdout",
     "output_type": "stream",
     "text": [
      "PUGREST.BadRequest: error:  C1CCCN1CC2=C[NH1]C3=CC=CC=C32\n"
     ]
    },
    {
     "name": "stderr",
     "output_type": "stream",
     "text": [
      "C:\\Users\\aleks\\AppData\\Local\\Temp\\ipykernel_12416\\3164115185.py:5: SettingWithCopyWarning: \n",
      "A value is trying to be set on a copy of a slice from a DataFrame\n",
      "\n",
      "See the caveats in the documentation: https://pandas.pydata.org/pandas-docs/stable/user_guide/indexing.html#returning-a-view-versus-a-copy\n",
      "  data['CID'][i] = compound[0].cid\n",
      "C:\\Users\\aleks\\AppData\\Local\\Temp\\ipykernel_12416\\3164115185.py:6: SettingWithCopyWarning: \n",
      "A value is trying to be set on a copy of a slice from a DataFrame\n",
      "\n",
      "See the caveats in the documentation: https://pandas.pydata.org/pandas-docs/stable/user_guide/indexing.html#returning-a-view-versus-a-copy\n",
      "  data['PUBCHEM_SMILES'][i] = compound[0].canonical_smiles\n",
      "C:\\Users\\aleks\\AppData\\Local\\Temp\\ipykernel_12416\\3164115185.py:8: SettingWithCopyWarning: \n",
      "A value is trying to be set on a copy of a slice from a DataFrame\n",
      "\n",
      "See the caveats in the documentation: https://pandas.pydata.org/pandas-docs/stable/user_guide/indexing.html#returning-a-view-versus-a-copy\n",
      "  data['CID'][i] = 0\n",
      "C:\\Users\\aleks\\AppData\\Local\\Temp\\ipykernel_12416\\3164115185.py:9: SettingWithCopyWarning: \n",
      "A value is trying to be set on a copy of a slice from a DataFrame\n",
      "\n",
      "See the caveats in the documentation: https://pandas.pydata.org/pandas-docs/stable/user_guide/indexing.html#returning-a-view-versus-a-copy\n",
      "  data['PUBCHEM_SMILES'][i] = 0\n",
      "C:\\Users\\aleks\\AppData\\Local\\Temp\\ipykernel_12416\\3164115185.py:6: SettingWithCopyWarning: \n",
      "A value is trying to be set on a copy of a slice from a DataFrame\n",
      "\n",
      "See the caveats in the documentation: https://pandas.pydata.org/pandas-docs/stable/user_guide/indexing.html#returning-a-view-versus-a-copy\n",
      "  data['PUBCHEM_SMILES'][i] = compound[0].canonical_smiles\n"
     ]
    },
    {
     "name": "stdout",
     "output_type": "stream",
     "text": [
      "PUGREST.BadRequest: error:  O=C(C)C[NH1]C=CCN1C=C(CN2C=C(COCC)C3=C2C=CC=C3)N=N1\n"
     ]
    },
    {
     "name": "stderr",
     "output_type": "stream",
     "text": [
      "C:\\Users\\aleks\\AppData\\Local\\Temp\\ipykernel_12416\\3164115185.py:5: SettingWithCopyWarning: \n",
      "A value is trying to be set on a copy of a slice from a DataFrame\n",
      "\n",
      "See the caveats in the documentation: https://pandas.pydata.org/pandas-docs/stable/user_guide/indexing.html#returning-a-view-versus-a-copy\n",
      "  data['CID'][i] = compound[0].cid\n",
      "C:\\Users\\aleks\\AppData\\Local\\Temp\\ipykernel_12416\\3164115185.py:6: SettingWithCopyWarning: \n",
      "A value is trying to be set on a copy of a slice from a DataFrame\n",
      "\n",
      "See the caveats in the documentation: https://pandas.pydata.org/pandas-docs/stable/user_guide/indexing.html#returning-a-view-versus-a-copy\n",
      "  data['PUBCHEM_SMILES'][i] = compound[0].canonical_smiles\n",
      "C:\\Users\\aleks\\AppData\\Local\\Temp\\ipykernel_12416\\3164115185.py:8: SettingWithCopyWarning: \n",
      "A value is trying to be set on a copy of a slice from a DataFrame\n",
      "\n",
      "See the caveats in the documentation: https://pandas.pydata.org/pandas-docs/stable/user_guide/indexing.html#returning-a-view-versus-a-copy\n",
      "  data['CID'][i] = 0\n",
      "C:\\Users\\aleks\\AppData\\Local\\Temp\\ipykernel_12416\\3164115185.py:9: SettingWithCopyWarning: \n",
      "A value is trying to be set on a copy of a slice from a DataFrame\n",
      "\n",
      "See the caveats in the documentation: https://pandas.pydata.org/pandas-docs/stable/user_guide/indexing.html#returning-a-view-versus-a-copy\n",
      "  data['PUBCHEM_SMILES'][i] = 0\n",
      "C:\\Users\\aleks\\AppData\\Local\\Temp\\ipykernel_12416\\3164115185.py:6: SettingWithCopyWarning: \n",
      "A value is trying to be set on a copy of a slice from a DataFrame\n",
      "\n",
      "See the caveats in the documentation: https://pandas.pydata.org/pandas-docs/stable/user_guide/indexing.html#returning-a-view-versus-a-copy\n",
      "  data['PUBCHEM_SMILES'][i] = compound[0].canonical_smiles\n"
     ]
    },
    {
     "name": "stdout",
     "output_type": "stream",
     "text": [
      "PUGREST.BadRequest: error:  O=C(C)CN(C=CCC)CCCCCCN1N=NC(=C1)COCC2=C[NH1]C3=C2C=CC=C3C=CC=C\n"
     ]
    },
    {
     "name": "stderr",
     "output_type": "stream",
     "text": [
      "C:\\Users\\aleks\\AppData\\Local\\Temp\\ipykernel_12416\\3164115185.py:5: SettingWithCopyWarning: \n",
      "A value is trying to be set on a copy of a slice from a DataFrame\n",
      "\n",
      "See the caveats in the documentation: https://pandas.pydata.org/pandas-docs/stable/user_guide/indexing.html#returning-a-view-versus-a-copy\n",
      "  data['CID'][i] = compound[0].cid\n",
      "C:\\Users\\aleks\\AppData\\Local\\Temp\\ipykernel_12416\\3164115185.py:6: SettingWithCopyWarning: \n",
      "A value is trying to be set on a copy of a slice from a DataFrame\n",
      "\n",
      "See the caveats in the documentation: https://pandas.pydata.org/pandas-docs/stable/user_guide/indexing.html#returning-a-view-versus-a-copy\n",
      "  data['PUBCHEM_SMILES'][i] = compound[0].canonical_smiles\n",
      "C:\\Users\\aleks\\AppData\\Local\\Temp\\ipykernel_12416\\3164115185.py:8: SettingWithCopyWarning: \n",
      "A value is trying to be set on a copy of a slice from a DataFrame\n",
      "\n",
      "See the caveats in the documentation: https://pandas.pydata.org/pandas-docs/stable/user_guide/indexing.html#returning-a-view-versus-a-copy\n",
      "  data['CID'][i] = 0\n",
      "C:\\Users\\aleks\\AppData\\Local\\Temp\\ipykernel_12416\\3164115185.py:9: SettingWithCopyWarning: \n",
      "A value is trying to be set on a copy of a slice from a DataFrame\n",
      "\n",
      "See the caveats in the documentation: https://pandas.pydata.org/pandas-docs/stable/user_guide/indexing.html#returning-a-view-versus-a-copy\n",
      "  data['PUBCHEM_SMILES'][i] = 0\n",
      "C:\\Users\\aleks\\AppData\\Local\\Temp\\ipykernel_12416\\3164115185.py:6: SettingWithCopyWarning: \n",
      "A value is trying to be set on a copy of a slice from a DataFrame\n",
      "\n",
      "See the caveats in the documentation: https://pandas.pydata.org/pandas-docs/stable/user_guide/indexing.html#returning-a-view-versus-a-copy\n",
      "  data['PUBCHEM_SMILES'][i] = compound[0].canonical_smiles\n"
     ]
    },
    {
     "name": "stdout",
     "output_type": "stream",
     "text": [
      "PUGREST.BadRequest: error:  O=C(C1)CC=CC=C1CNN(C)CCN2N=NC(COCC3=C[NH1]C4=C3C=CC=C4)=C2C=C\n"
     ]
    },
    {
     "name": "stderr",
     "output_type": "stream",
     "text": [
      "C:\\Users\\aleks\\AppData\\Local\\Temp\\ipykernel_12416\\3164115185.py:5: SettingWithCopyWarning: \n",
      "A value is trying to be set on a copy of a slice from a DataFrame\n",
      "\n",
      "See the caveats in the documentation: https://pandas.pydata.org/pandas-docs/stable/user_guide/indexing.html#returning-a-view-versus-a-copy\n",
      "  data['CID'][i] = compound[0].cid\n",
      "C:\\Users\\aleks\\AppData\\Local\\Temp\\ipykernel_12416\\3164115185.py:6: SettingWithCopyWarning: \n",
      "A value is trying to be set on a copy of a slice from a DataFrame\n",
      "\n",
      "See the caveats in the documentation: https://pandas.pydata.org/pandas-docs/stable/user_guide/indexing.html#returning-a-view-versus-a-copy\n",
      "  data['PUBCHEM_SMILES'][i] = compound[0].canonical_smiles\n",
      "C:\\Users\\aleks\\AppData\\Local\\Temp\\ipykernel_12416\\3164115185.py:8: SettingWithCopyWarning: \n",
      "A value is trying to be set on a copy of a slice from a DataFrame\n",
      "\n",
      "See the caveats in the documentation: https://pandas.pydata.org/pandas-docs/stable/user_guide/indexing.html#returning-a-view-versus-a-copy\n",
      "  data['CID'][i] = 0\n",
      "C:\\Users\\aleks\\AppData\\Local\\Temp\\ipykernel_12416\\3164115185.py:9: SettingWithCopyWarning: \n",
      "A value is trying to be set on a copy of a slice from a DataFrame\n",
      "\n",
      "See the caveats in the documentation: https://pandas.pydata.org/pandas-docs/stable/user_guide/indexing.html#returning-a-view-versus-a-copy\n",
      "  data['PUBCHEM_SMILES'][i] = 0\n"
     ]
    },
    {
     "name": "stdout",
     "output_type": "stream",
     "text": [
      "PUGREST.BadRequest: error:  N(CC1=C2C=CC=C1S2CC3)=C[NH1]C4=CC=CC=C43\n"
     ]
    },
    {
     "name": "stderr",
     "output_type": "stream",
     "text": [
      "C:\\Users\\aleks\\AppData\\Local\\Temp\\ipykernel_12416\\3164115185.py:6: SettingWithCopyWarning: \n",
      "A value is trying to be set on a copy of a slice from a DataFrame\n",
      "\n",
      "See the caveats in the documentation: https://pandas.pydata.org/pandas-docs/stable/user_guide/indexing.html#returning-a-view-versus-a-copy\n",
      "  data['PUBCHEM_SMILES'][i] = compound[0].canonical_smiles\n"
     ]
    },
    {
     "name": "stdout",
     "output_type": "stream",
     "text": [
      "PUGREST.BadRequest: error:  O=C(C)NC=C(C(=C)CC1=C[NH1]C2=CC=CC=C12)C\n"
     ]
    },
    {
     "name": "stderr",
     "output_type": "stream",
     "text": [
      "C:\\Users\\aleks\\AppData\\Local\\Temp\\ipykernel_12416\\3164115185.py:5: SettingWithCopyWarning: \n",
      "A value is trying to be set on a copy of a slice from a DataFrame\n",
      "\n",
      "See the caveats in the documentation: https://pandas.pydata.org/pandas-docs/stable/user_guide/indexing.html#returning-a-view-versus-a-copy\n",
      "  data['CID'][i] = compound[0].cid\n",
      "C:\\Users\\aleks\\AppData\\Local\\Temp\\ipykernel_12416\\3164115185.py:6: SettingWithCopyWarning: \n",
      "A value is trying to be set on a copy of a slice from a DataFrame\n",
      "\n",
      "See the caveats in the documentation: https://pandas.pydata.org/pandas-docs/stable/user_guide/indexing.html#returning-a-view-versus-a-copy\n",
      "  data['PUBCHEM_SMILES'][i] = compound[0].canonical_smiles\n",
      "C:\\Users\\aleks\\AppData\\Local\\Temp\\ipykernel_12416\\3164115185.py:8: SettingWithCopyWarning: \n",
      "A value is trying to be set on a copy of a slice from a DataFrame\n",
      "\n",
      "See the caveats in the documentation: https://pandas.pydata.org/pandas-docs/stable/user_guide/indexing.html#returning-a-view-versus-a-copy\n",
      "  data['CID'][i] = 0\n",
      "C:\\Users\\aleks\\AppData\\Local\\Temp\\ipykernel_12416\\3164115185.py:9: SettingWithCopyWarning: \n",
      "A value is trying to be set on a copy of a slice from a DataFrame\n",
      "\n",
      "See the caveats in the documentation: https://pandas.pydata.org/pandas-docs/stable/user_guide/indexing.html#returning-a-view-versus-a-copy\n",
      "  data['PUBCHEM_SMILES'][i] = 0\n",
      "C:\\Users\\aleks\\AppData\\Local\\Temp\\ipykernel_12416\\3164115185.py:6: SettingWithCopyWarning: \n",
      "A value is trying to be set on a copy of a slice from a DataFrame\n",
      "\n",
      "See the caveats in the documentation: https://pandas.pydata.org/pandas-docs/stable/user_guide/indexing.html#returning-a-view-versus-a-copy\n",
      "  data['PUBCHEM_SMILES'][i] = compound[0].canonical_smiles\n"
     ]
    },
    {
     "name": "stdout",
     "output_type": "stream",
     "text": [
      "PUGREST.BadRequest: error:  C1=CC=C(C2=C1)C(CN3C(C4=CC=CC=C4)N=CC3)=C[NH1]2\n"
     ]
    },
    {
     "name": "stderr",
     "output_type": "stream",
     "text": [
      "C:\\Users\\aleks\\AppData\\Local\\Temp\\ipykernel_12416\\3164115185.py:5: SettingWithCopyWarning: \n",
      "A value is trying to be set on a copy of a slice from a DataFrame\n",
      "\n",
      "See the caveats in the documentation: https://pandas.pydata.org/pandas-docs/stable/user_guide/indexing.html#returning-a-view-versus-a-copy\n",
      "  data['CID'][i] = compound[0].cid\n",
      "C:\\Users\\aleks\\AppData\\Local\\Temp\\ipykernel_12416\\3164115185.py:6: SettingWithCopyWarning: \n",
      "A value is trying to be set on a copy of a slice from a DataFrame\n",
      "\n",
      "See the caveats in the documentation: https://pandas.pydata.org/pandas-docs/stable/user_guide/indexing.html#returning-a-view-versus-a-copy\n",
      "  data['PUBCHEM_SMILES'][i] = compound[0].canonical_smiles\n",
      "C:\\Users\\aleks\\AppData\\Local\\Temp\\ipykernel_12416\\3164115185.py:8: SettingWithCopyWarning: \n",
      "A value is trying to be set on a copy of a slice from a DataFrame\n",
      "\n",
      "See the caveats in the documentation: https://pandas.pydata.org/pandas-docs/stable/user_guide/indexing.html#returning-a-view-versus-a-copy\n",
      "  data['CID'][i] = 0\n",
      "C:\\Users\\aleks\\AppData\\Local\\Temp\\ipykernel_12416\\3164115185.py:9: SettingWithCopyWarning: \n",
      "A value is trying to be set on a copy of a slice from a DataFrame\n",
      "\n",
      "See the caveats in the documentation: https://pandas.pydata.org/pandas-docs/stable/user_guide/indexing.html#returning-a-view-versus-a-copy\n",
      "  data['PUBCHEM_SMILES'][i] = 0\n"
     ]
    },
    {
     "name": "stdout",
     "output_type": "stream",
     "text": [
      "PUGREST.BadRequest: error:  C1C2C3N(C[NH1]C3=CC=C2)S=C1\n"
     ]
    },
    {
     "name": "stderr",
     "output_type": "stream",
     "text": [
      "C:\\Users\\aleks\\AppData\\Local\\Temp\\ipykernel_12416\\3164115185.py:6: SettingWithCopyWarning: \n",
      "A value is trying to be set on a copy of a slice from a DataFrame\n",
      "\n",
      "See the caveats in the documentation: https://pandas.pydata.org/pandas-docs/stable/user_guide/indexing.html#returning-a-view-versus-a-copy\n",
      "  data['PUBCHEM_SMILES'][i] = compound[0].canonical_smiles\n"
     ]
    },
    {
     "name": "stdout",
     "output_type": "stream",
     "text": [
      "PUGREST.BadRequest: error:  CCC1=NC(C)=CN1CC2=C[NH1]C3=CC=CC=C32\n"
     ]
    },
    {
     "name": "stderr",
     "output_type": "stream",
     "text": [
      "C:\\Users\\aleks\\AppData\\Local\\Temp\\ipykernel_12416\\3164115185.py:5: SettingWithCopyWarning: \n",
      "A value is trying to be set on a copy of a slice from a DataFrame\n",
      "\n",
      "See the caveats in the documentation: https://pandas.pydata.org/pandas-docs/stable/user_guide/indexing.html#returning-a-view-versus-a-copy\n",
      "  data['CID'][i] = compound[0].cid\n",
      "C:\\Users\\aleks\\AppData\\Local\\Temp\\ipykernel_12416\\3164115185.py:6: SettingWithCopyWarning: \n",
      "A value is trying to be set on a copy of a slice from a DataFrame\n",
      "\n",
      "See the caveats in the documentation: https://pandas.pydata.org/pandas-docs/stable/user_guide/indexing.html#returning-a-view-versus-a-copy\n",
      "  data['PUBCHEM_SMILES'][i] = compound[0].canonical_smiles\n",
      "C:\\Users\\aleks\\AppData\\Local\\Temp\\ipykernel_12416\\3164115185.py:8: SettingWithCopyWarning: \n",
      "A value is trying to be set on a copy of a slice from a DataFrame\n",
      "\n",
      "See the caveats in the documentation: https://pandas.pydata.org/pandas-docs/stable/user_guide/indexing.html#returning-a-view-versus-a-copy\n",
      "  data['CID'][i] = 0\n",
      "C:\\Users\\aleks\\AppData\\Local\\Temp\\ipykernel_12416\\3164115185.py:9: SettingWithCopyWarning: \n",
      "A value is trying to be set on a copy of a slice from a DataFrame\n",
      "\n",
      "See the caveats in the documentation: https://pandas.pydata.org/pandas-docs/stable/user_guide/indexing.html#returning-a-view-versus-a-copy\n",
      "  data['PUBCHEM_SMILES'][i] = 0\n",
      "C:\\Users\\aleks\\AppData\\Local\\Temp\\ipykernel_12416\\3164115185.py:6: SettingWithCopyWarning: \n",
      "A value is trying to be set on a copy of a slice from a DataFrame\n",
      "\n",
      "See the caveats in the documentation: https://pandas.pydata.org/pandas-docs/stable/user_guide/indexing.html#returning-a-view-versus-a-copy\n",
      "  data['PUBCHEM_SMILES'][i] = compound[0].canonical_smiles\n"
     ]
    },
    {
     "name": "stdout",
     "output_type": "stream",
     "text": [
      "PUGREST.BadRequest: error:  COCC=1C2=CC=CC=C2N(C(C)=C)C=1\n"
     ]
    },
    {
     "name": "stderr",
     "output_type": "stream",
     "text": [
      "C:\\Users\\aleks\\AppData\\Local\\Temp\\ipykernel_12416\\3164115185.py:5: SettingWithCopyWarning: \n",
      "A value is trying to be set on a copy of a slice from a DataFrame\n",
      "\n",
      "See the caveats in the documentation: https://pandas.pydata.org/pandas-docs/stable/user_guide/indexing.html#returning-a-view-versus-a-copy\n",
      "  data['CID'][i] = compound[0].cid\n",
      "C:\\Users\\aleks\\AppData\\Local\\Temp\\ipykernel_12416\\3164115185.py:6: SettingWithCopyWarning: \n",
      "A value is trying to be set on a copy of a slice from a DataFrame\n",
      "\n",
      "See the caveats in the documentation: https://pandas.pydata.org/pandas-docs/stable/user_guide/indexing.html#returning-a-view-versus-a-copy\n",
      "  data['PUBCHEM_SMILES'][i] = compound[0].canonical_smiles\n",
      "C:\\Users\\aleks\\AppData\\Local\\Temp\\ipykernel_12416\\3164115185.py:8: SettingWithCopyWarning: \n",
      "A value is trying to be set on a copy of a slice from a DataFrame\n",
      "\n",
      "See the caveats in the documentation: https://pandas.pydata.org/pandas-docs/stable/user_guide/indexing.html#returning-a-view-versus-a-copy\n",
      "  data['CID'][i] = 0\n",
      "C:\\Users\\aleks\\AppData\\Local\\Temp\\ipykernel_12416\\3164115185.py:9: SettingWithCopyWarning: \n",
      "A value is trying to be set on a copy of a slice from a DataFrame\n",
      "\n",
      "See the caveats in the documentation: https://pandas.pydata.org/pandas-docs/stable/user_guide/indexing.html#returning-a-view-versus-a-copy\n",
      "  data['PUBCHEM_SMILES'][i] = 0\n",
      "C:\\Users\\aleks\\AppData\\Local\\Temp\\ipykernel_12416\\3164115185.py:6: SettingWithCopyWarning: \n",
      "A value is trying to be set on a copy of a slice from a DataFrame\n",
      "\n",
      "See the caveats in the documentation: https://pandas.pydata.org/pandas-docs/stable/user_guide/indexing.html#returning-a-view-versus-a-copy\n",
      "  data['PUBCHEM_SMILES'][i] = compound[0].canonical_smiles\n"
     ]
    },
    {
     "name": "stdout",
     "output_type": "stream",
     "text": [
      "PUGREST.BadRequest: error:  C1=C2CC(COCCCC)=C[NH1]C12\n"
     ]
    },
    {
     "name": "stderr",
     "output_type": "stream",
     "text": [
      "C:\\Users\\aleks\\AppData\\Local\\Temp\\ipykernel_12416\\3164115185.py:5: SettingWithCopyWarning: \n",
      "A value is trying to be set on a copy of a slice from a DataFrame\n",
      "\n",
      "See the caveats in the documentation: https://pandas.pydata.org/pandas-docs/stable/user_guide/indexing.html#returning-a-view-versus-a-copy\n",
      "  data['CID'][i] = compound[0].cid\n",
      "C:\\Users\\aleks\\AppData\\Local\\Temp\\ipykernel_12416\\3164115185.py:6: SettingWithCopyWarning: \n",
      "A value is trying to be set on a copy of a slice from a DataFrame\n",
      "\n",
      "See the caveats in the documentation: https://pandas.pydata.org/pandas-docs/stable/user_guide/indexing.html#returning-a-view-versus-a-copy\n",
      "  data['PUBCHEM_SMILES'][i] = compound[0].canonical_smiles\n",
      "C:\\Users\\aleks\\AppData\\Local\\Temp\\ipykernel_12416\\3164115185.py:8: SettingWithCopyWarning: \n",
      "A value is trying to be set on a copy of a slice from a DataFrame\n",
      "\n",
      "See the caveats in the documentation: https://pandas.pydata.org/pandas-docs/stable/user_guide/indexing.html#returning-a-view-versus-a-copy\n",
      "  data['CID'][i] = 0\n",
      "C:\\Users\\aleks\\AppData\\Local\\Temp\\ipykernel_12416\\3164115185.py:9: SettingWithCopyWarning: \n",
      "A value is trying to be set on a copy of a slice from a DataFrame\n",
      "\n",
      "See the caveats in the documentation: https://pandas.pydata.org/pandas-docs/stable/user_guide/indexing.html#returning-a-view-versus-a-copy\n",
      "  data['PUBCHEM_SMILES'][i] = 0\n",
      "C:\\Users\\aleks\\AppData\\Local\\Temp\\ipykernel_12416\\3164115185.py:6: SettingWithCopyWarning: \n",
      "A value is trying to be set on a copy of a slice from a DataFrame\n",
      "\n",
      "See the caveats in the documentation: https://pandas.pydata.org/pandas-docs/stable/user_guide/indexing.html#returning-a-view-versus-a-copy\n",
      "  data['PUBCHEM_SMILES'][i] = compound[0].canonical_smiles\n"
     ]
    },
    {
     "name": "stdout",
     "output_type": "stream",
     "text": [
      "PUGREST.BadRequest: error:  C12C(=C[NH1]C1=CC3=C2)C=C4[NH1]C=CC=C34\n"
     ]
    },
    {
     "name": "stderr",
     "output_type": "stream",
     "text": [
      "C:\\Users\\aleks\\AppData\\Local\\Temp\\ipykernel_12416\\3164115185.py:5: SettingWithCopyWarning: \n",
      "A value is trying to be set on a copy of a slice from a DataFrame\n",
      "\n",
      "See the caveats in the documentation: https://pandas.pydata.org/pandas-docs/stable/user_guide/indexing.html#returning-a-view-versus-a-copy\n",
      "  data['CID'][i] = compound[0].cid\n",
      "C:\\Users\\aleks\\AppData\\Local\\Temp\\ipykernel_12416\\3164115185.py:6: SettingWithCopyWarning: \n",
      "A value is trying to be set on a copy of a slice from a DataFrame\n",
      "\n",
      "See the caveats in the documentation: https://pandas.pydata.org/pandas-docs/stable/user_guide/indexing.html#returning-a-view-versus-a-copy\n",
      "  data['PUBCHEM_SMILES'][i] = compound[0].canonical_smiles\n",
      "C:\\Users\\aleks\\AppData\\Local\\Temp\\ipykernel_12416\\3164115185.py:8: SettingWithCopyWarning: \n",
      "A value is trying to be set on a copy of a slice from a DataFrame\n",
      "\n",
      "See the caveats in the documentation: https://pandas.pydata.org/pandas-docs/stable/user_guide/indexing.html#returning-a-view-versus-a-copy\n",
      "  data['CID'][i] = 0\n",
      "C:\\Users\\aleks\\AppData\\Local\\Temp\\ipykernel_12416\\3164115185.py:9: SettingWithCopyWarning: \n",
      "A value is trying to be set on a copy of a slice from a DataFrame\n",
      "\n",
      "See the caveats in the documentation: https://pandas.pydata.org/pandas-docs/stable/user_guide/indexing.html#returning-a-view-versus-a-copy\n",
      "  data['PUBCHEM_SMILES'][i] = 0\n",
      "C:\\Users\\aleks\\AppData\\Local\\Temp\\ipykernel_12416\\3164115185.py:6: SettingWithCopyWarning: \n",
      "A value is trying to be set on a copy of a slice from a DataFrame\n",
      "\n",
      "See the caveats in the documentation: https://pandas.pydata.org/pandas-docs/stable/user_guide/indexing.html#returning-a-view-versus-a-copy\n",
      "  data['PUBCHEM_SMILES'][i] = compound[0].canonical_smiles\n"
     ]
    },
    {
     "name": "stdout",
     "output_type": "stream",
     "text": [
      "PUGREST.BadRequest: error:  O=C(C)C[NH1]C(N(C=O)CCCCCCCCN1N=NCCOCC2=C[NH1]C3=C2C=CC=C3)=C1C=CC=C\n"
     ]
    },
    {
     "name": "stderr",
     "output_type": "stream",
     "text": [
      "C:\\Users\\aleks\\AppData\\Local\\Temp\\ipykernel_12416\\3164115185.py:5: SettingWithCopyWarning: \n",
      "A value is trying to be set on a copy of a slice from a DataFrame\n",
      "\n",
      "See the caveats in the documentation: https://pandas.pydata.org/pandas-docs/stable/user_guide/indexing.html#returning-a-view-versus-a-copy\n",
      "  data['CID'][i] = compound[0].cid\n",
      "C:\\Users\\aleks\\AppData\\Local\\Temp\\ipykernel_12416\\3164115185.py:6: SettingWithCopyWarning: \n",
      "A value is trying to be set on a copy of a slice from a DataFrame\n",
      "\n",
      "See the caveats in the documentation: https://pandas.pydata.org/pandas-docs/stable/user_guide/indexing.html#returning-a-view-versus-a-copy\n",
      "  data['PUBCHEM_SMILES'][i] = compound[0].canonical_smiles\n",
      "C:\\Users\\aleks\\AppData\\Local\\Temp\\ipykernel_12416\\3164115185.py:8: SettingWithCopyWarning: \n",
      "A value is trying to be set on a copy of a slice from a DataFrame\n",
      "\n",
      "See the caveats in the documentation: https://pandas.pydata.org/pandas-docs/stable/user_guide/indexing.html#returning-a-view-versus-a-copy\n",
      "  data['CID'][i] = 0\n",
      "C:\\Users\\aleks\\AppData\\Local\\Temp\\ipykernel_12416\\3164115185.py:9: SettingWithCopyWarning: \n",
      "A value is trying to be set on a copy of a slice from a DataFrame\n",
      "\n",
      "See the caveats in the documentation: https://pandas.pydata.org/pandas-docs/stable/user_guide/indexing.html#returning-a-view-versus-a-copy\n",
      "  data['PUBCHEM_SMILES'][i] = 0\n",
      "C:\\Users\\aleks\\AppData\\Local\\Temp\\ipykernel_12416\\3164115185.py:6: SettingWithCopyWarning: \n",
      "A value is trying to be set on a copy of a slice from a DataFrame\n",
      "\n",
      "See the caveats in the documentation: https://pandas.pydata.org/pandas-docs/stable/user_guide/indexing.html#returning-a-view-versus-a-copy\n",
      "  data['PUBCHEM_SMILES'][i] = compound[0].canonical_smiles\n"
     ]
    },
    {
     "name": "stdout",
     "output_type": "stream",
     "text": [
      "PUGREST.BadRequest: error:  O=C(C1)C(C=CC=C1)CNCCCCCCCCN2N=NC(COCC3=C[NH1]C4=C3C=CC=C4)=C2C\n"
     ]
    },
    {
     "name": "stderr",
     "output_type": "stream",
     "text": [
      "C:\\Users\\aleks\\AppData\\Local\\Temp\\ipykernel_12416\\3164115185.py:5: SettingWithCopyWarning: \n",
      "A value is trying to be set on a copy of a slice from a DataFrame\n",
      "\n",
      "See the caveats in the documentation: https://pandas.pydata.org/pandas-docs/stable/user_guide/indexing.html#returning-a-view-versus-a-copy\n",
      "  data['CID'][i] = compound[0].cid\n",
      "C:\\Users\\aleks\\AppData\\Local\\Temp\\ipykernel_12416\\3164115185.py:6: SettingWithCopyWarning: \n",
      "A value is trying to be set on a copy of a slice from a DataFrame\n",
      "\n",
      "See the caveats in the documentation: https://pandas.pydata.org/pandas-docs/stable/user_guide/indexing.html#returning-a-view-versus-a-copy\n",
      "  data['PUBCHEM_SMILES'][i] = compound[0].canonical_smiles\n",
      "C:\\Users\\aleks\\AppData\\Local\\Temp\\ipykernel_12416\\3164115185.py:8: SettingWithCopyWarning: \n",
      "A value is trying to be set on a copy of a slice from a DataFrame\n",
      "\n",
      "See the caveats in the documentation: https://pandas.pydata.org/pandas-docs/stable/user_guide/indexing.html#returning-a-view-versus-a-copy\n",
      "  data['CID'][i] = 0\n",
      "C:\\Users\\aleks\\AppData\\Local\\Temp\\ipykernel_12416\\3164115185.py:9: SettingWithCopyWarning: \n",
      "A value is trying to be set on a copy of a slice from a DataFrame\n",
      "\n",
      "See the caveats in the documentation: https://pandas.pydata.org/pandas-docs/stable/user_guide/indexing.html#returning-a-view-versus-a-copy\n",
      "  data['PUBCHEM_SMILES'][i] = 0\n"
     ]
    },
    {
     "name": "stdout",
     "output_type": "stream",
     "text": [
      "PUGREST.BadRequest: error:  S1=CN(C(=O)[NH1]C1)SCC2=C[NH1]C3=CC=CC=C23\n",
      "PUGREST.BadRequest: error:  S1=CN(CC=2C3=C(C=CC=C3)[NH1]C=2)C=NC1\n",
      "PUGREST.BadRequest: error:  S1=C(CCNCC2=C[NH1]C3=CC=CC=C32)C=C1\n",
      "PUGREST.BadRequest: error:  S1=C(N2CCCC2)CCCC3=CC=CC=C31\n",
      "PUGREST.BadRequest: error:  S#CC(=O)C=CN\n"
     ]
    },
    {
     "name": "stderr",
     "output_type": "stream",
     "text": [
      "C:\\Users\\aleks\\AppData\\Local\\Temp\\ipykernel_12416\\3164115185.py:6: SettingWithCopyWarning: \n",
      "A value is trying to be set on a copy of a slice from a DataFrame\n",
      "\n",
      "See the caveats in the documentation: https://pandas.pydata.org/pandas-docs/stable/user_guide/indexing.html#returning-a-view-versus-a-copy\n",
      "  data['PUBCHEM_SMILES'][i] = compound[0].canonical_smiles\n"
     ]
    },
    {
     "name": "stdout",
     "output_type": "stream",
     "text": [
      "PUGREST.BadRequest: error:  S=C(N1C=NC=C1)CN2C3=CC=CC=C3OC2=C\n"
     ]
    },
    {
     "name": "stderr",
     "output_type": "stream",
     "text": [
      "C:\\Users\\aleks\\AppData\\Local\\Temp\\ipykernel_12416\\3164115185.py:5: SettingWithCopyWarning: \n",
      "A value is trying to be set on a copy of a slice from a DataFrame\n",
      "\n",
      "See the caveats in the documentation: https://pandas.pydata.org/pandas-docs/stable/user_guide/indexing.html#returning-a-view-versus-a-copy\n",
      "  data['CID'][i] = compound[0].cid\n",
      "C:\\Users\\aleks\\AppData\\Local\\Temp\\ipykernel_12416\\3164115185.py:6: SettingWithCopyWarning: \n",
      "A value is trying to be set on a copy of a slice from a DataFrame\n",
      "\n",
      "See the caveats in the documentation: https://pandas.pydata.org/pandas-docs/stable/user_guide/indexing.html#returning-a-view-versus-a-copy\n",
      "  data['PUBCHEM_SMILES'][i] = compound[0].canonical_smiles\n",
      "C:\\Users\\aleks\\AppData\\Local\\Temp\\ipykernel_12416\\3164115185.py:8: SettingWithCopyWarning: \n",
      "A value is trying to be set on a copy of a slice from a DataFrame\n",
      "\n",
      "See the caveats in the documentation: https://pandas.pydata.org/pandas-docs/stable/user_guide/indexing.html#returning-a-view-versus-a-copy\n",
      "  data['CID'][i] = 0\n",
      "C:\\Users\\aleks\\AppData\\Local\\Temp\\ipykernel_12416\\3164115185.py:9: SettingWithCopyWarning: \n",
      "A value is trying to be set on a copy of a slice from a DataFrame\n",
      "\n",
      "See the caveats in the documentation: https://pandas.pydata.org/pandas-docs/stable/user_guide/indexing.html#returning-a-view-versus-a-copy\n",
      "  data['PUBCHEM_SMILES'][i] = 0\n",
      "C:\\Users\\aleks\\AppData\\Local\\Temp\\ipykernel_12416\\3164115185.py:6: SettingWithCopyWarning: \n",
      "A value is trying to be set on a copy of a slice from a DataFrame\n",
      "\n",
      "See the caveats in the documentation: https://pandas.pydata.org/pandas-docs/stable/user_guide/indexing.html#returning-a-view-versus-a-copy\n",
      "  data['PUBCHEM_SMILES'][i] = compound[0].canonical_smiles\n"
     ]
    },
    {
     "name": "stdout",
     "output_type": "stream",
     "text": [
      "PUGREST.BadRequest: error:  C12=CC=CC=C1N(C=C2COCC=3)C=CN(CCCCCCCCCCCCN4N=NCCOCC5=C[NH1]C6=C5C=CC=C6)C4N=3\n"
     ]
    },
    {
     "name": "stderr",
     "output_type": "stream",
     "text": [
      "C:\\Users\\aleks\\AppData\\Local\\Temp\\ipykernel_12416\\3164115185.py:5: SettingWithCopyWarning: \n",
      "A value is trying to be set on a copy of a slice from a DataFrame\n",
      "\n",
      "See the caveats in the documentation: https://pandas.pydata.org/pandas-docs/stable/user_guide/indexing.html#returning-a-view-versus-a-copy\n",
      "  data['CID'][i] = compound[0].cid\n",
      "C:\\Users\\aleks\\AppData\\Local\\Temp\\ipykernel_12416\\3164115185.py:6: SettingWithCopyWarning: \n",
      "A value is trying to be set on a copy of a slice from a DataFrame\n",
      "\n",
      "See the caveats in the documentation: https://pandas.pydata.org/pandas-docs/stable/user_guide/indexing.html#returning-a-view-versus-a-copy\n",
      "  data['PUBCHEM_SMILES'][i] = compound[0].canonical_smiles\n",
      "C:\\Users\\aleks\\AppData\\Local\\Temp\\ipykernel_12416\\3164115185.py:8: SettingWithCopyWarning: \n",
      "A value is trying to be set on a copy of a slice from a DataFrame\n",
      "\n",
      "See the caveats in the documentation: https://pandas.pydata.org/pandas-docs/stable/user_guide/indexing.html#returning-a-view-versus-a-copy\n",
      "  data['CID'][i] = 0\n",
      "C:\\Users\\aleks\\AppData\\Local\\Temp\\ipykernel_12416\\3164115185.py:9: SettingWithCopyWarning: \n",
      "A value is trying to be set on a copy of a slice from a DataFrame\n",
      "\n",
      "See the caveats in the documentation: https://pandas.pydata.org/pandas-docs/stable/user_guide/indexing.html#returning-a-view-versus-a-copy\n",
      "  data['PUBCHEM_SMILES'][i] = 0\n",
      "C:\\Users\\aleks\\AppData\\Local\\Temp\\ipykernel_12416\\3164115185.py:6: SettingWithCopyWarning: \n",
      "A value is trying to be set on a copy of a slice from a DataFrame\n",
      "\n",
      "See the caveats in the documentation: https://pandas.pydata.org/pandas-docs/stable/user_guide/indexing.html#returning-a-view-versus-a-copy\n",
      "  data['PUBCHEM_SMILES'][i] = compound[0].canonical_smiles\n"
     ]
    },
    {
     "name": "stdout",
     "output_type": "stream",
     "text": [
      "PUGREST.BadRequest: error:  O=C(C1=C(C=CC=C1)N)CC2=CN(N=N2)CC3=CC=C(C=C3)CN=[N+1]=[N-1]\n"
     ]
    },
    {
     "name": "stderr",
     "output_type": "stream",
     "text": [
      "C:\\Users\\aleks\\AppData\\Local\\Temp\\ipykernel_12416\\3164115185.py:5: SettingWithCopyWarning: \n",
      "A value is trying to be set on a copy of a slice from a DataFrame\n",
      "\n",
      "See the caveats in the documentation: https://pandas.pydata.org/pandas-docs/stable/user_guide/indexing.html#returning-a-view-versus-a-copy\n",
      "  data['CID'][i] = compound[0].cid\n",
      "C:\\Users\\aleks\\AppData\\Local\\Temp\\ipykernel_12416\\3164115185.py:6: SettingWithCopyWarning: \n",
      "A value is trying to be set on a copy of a slice from a DataFrame\n",
      "\n",
      "See the caveats in the documentation: https://pandas.pydata.org/pandas-docs/stable/user_guide/indexing.html#returning-a-view-versus-a-copy\n",
      "  data['PUBCHEM_SMILES'][i] = compound[0].canonical_smiles\n",
      "C:\\Users\\aleks\\AppData\\Local\\Temp\\ipykernel_12416\\3164115185.py:8: SettingWithCopyWarning: \n",
      "A value is trying to be set on a copy of a slice from a DataFrame\n",
      "\n",
      "See the caveats in the documentation: https://pandas.pydata.org/pandas-docs/stable/user_guide/indexing.html#returning-a-view-versus-a-copy\n",
      "  data['CID'][i] = 0\n",
      "C:\\Users\\aleks\\AppData\\Local\\Temp\\ipykernel_12416\\3164115185.py:9: SettingWithCopyWarning: \n",
      "A value is trying to be set on a copy of a slice from a DataFrame\n",
      "\n",
      "See the caveats in the documentation: https://pandas.pydata.org/pandas-docs/stable/user_guide/indexing.html#returning-a-view-versus-a-copy\n",
      "  data['PUBCHEM_SMILES'][i] = 0\n",
      "C:\\Users\\aleks\\AppData\\Local\\Temp\\ipykernel_12416\\3164115185.py:6: SettingWithCopyWarning: \n",
      "A value is trying to be set on a copy of a slice from a DataFrame\n",
      "\n",
      "See the caveats in the documentation: https://pandas.pydata.org/pandas-docs/stable/user_guide/indexing.html#returning-a-view-versus-a-copy\n",
      "  data['PUBCHEM_SMILES'][i] = compound[0].canonical_smiles\n"
     ]
    },
    {
     "name": "stdout",
     "output_type": "stream",
     "text": [
      "PUGREST.BadRequest: error:  O=C(C12)CC=CC=C1C(NCCCN3N=NC(COCC4=C[NH1]C5=C4C=CC=C5)=C3)=C2\n"
     ]
    },
    {
     "name": "stderr",
     "output_type": "stream",
     "text": [
      "C:\\Users\\aleks\\AppData\\Local\\Temp\\ipykernel_12416\\3164115185.py:5: SettingWithCopyWarning: \n",
      "A value is trying to be set on a copy of a slice from a DataFrame\n",
      "\n",
      "See the caveats in the documentation: https://pandas.pydata.org/pandas-docs/stable/user_guide/indexing.html#returning-a-view-versus-a-copy\n",
      "  data['CID'][i] = compound[0].cid\n",
      "C:\\Users\\aleks\\AppData\\Local\\Temp\\ipykernel_12416\\3164115185.py:6: SettingWithCopyWarning: \n",
      "A value is trying to be set on a copy of a slice from a DataFrame\n",
      "\n",
      "See the caveats in the documentation: https://pandas.pydata.org/pandas-docs/stable/user_guide/indexing.html#returning-a-view-versus-a-copy\n",
      "  data['PUBCHEM_SMILES'][i] = compound[0].canonical_smiles\n",
      "C:\\Users\\aleks\\AppData\\Local\\Temp\\ipykernel_12416\\3164115185.py:8: SettingWithCopyWarning: \n",
      "A value is trying to be set on a copy of a slice from a DataFrame\n",
      "\n",
      "See the caveats in the documentation: https://pandas.pydata.org/pandas-docs/stable/user_guide/indexing.html#returning-a-view-versus-a-copy\n",
      "  data['CID'][i] = 0\n",
      "C:\\Users\\aleks\\AppData\\Local\\Temp\\ipykernel_12416\\3164115185.py:9: SettingWithCopyWarning: \n",
      "A value is trying to be set on a copy of a slice from a DataFrame\n",
      "\n",
      "See the caveats in the documentation: https://pandas.pydata.org/pandas-docs/stable/user_guide/indexing.html#returning-a-view-versus-a-copy\n",
      "  data['PUBCHEM_SMILES'][i] = 0\n",
      "C:\\Users\\aleks\\AppData\\Local\\Temp\\ipykernel_12416\\3164115185.py:6: SettingWithCopyWarning: \n",
      "A value is trying to be set on a copy of a slice from a DataFrame\n",
      "\n",
      "See the caveats in the documentation: https://pandas.pydata.org/pandas-docs/stable/user_guide/indexing.html#returning-a-view-versus-a-copy\n",
      "  data['PUBCHEM_SMILES'][i] = compound[0].canonical_smiles\n"
     ]
    },
    {
     "name": "stdout",
     "output_type": "stream",
     "text": [
      "PUGREST.BadRequest: error:  O=C(C)CN(C=CCC)CCCN1N=NC(COCC2=C[NH1]C3=C2C=CC=C3C1)C=CC=C\n"
     ]
    },
    {
     "name": "stderr",
     "output_type": "stream",
     "text": [
      "C:\\Users\\aleks\\AppData\\Local\\Temp\\ipykernel_12416\\3164115185.py:5: SettingWithCopyWarning: \n",
      "A value is trying to be set on a copy of a slice from a DataFrame\n",
      "\n",
      "See the caveats in the documentation: https://pandas.pydata.org/pandas-docs/stable/user_guide/indexing.html#returning-a-view-versus-a-copy\n",
      "  data['CID'][i] = compound[0].cid\n",
      "C:\\Users\\aleks\\AppData\\Local\\Temp\\ipykernel_12416\\3164115185.py:6: SettingWithCopyWarning: \n",
      "A value is trying to be set on a copy of a slice from a DataFrame\n",
      "\n",
      "See the caveats in the documentation: https://pandas.pydata.org/pandas-docs/stable/user_guide/indexing.html#returning-a-view-versus-a-copy\n",
      "  data['PUBCHEM_SMILES'][i] = compound[0].canonical_smiles\n",
      "C:\\Users\\aleks\\AppData\\Local\\Temp\\ipykernel_12416\\3164115185.py:8: SettingWithCopyWarning: \n",
      "A value is trying to be set on a copy of a slice from a DataFrame\n",
      "\n",
      "See the caveats in the documentation: https://pandas.pydata.org/pandas-docs/stable/user_guide/indexing.html#returning-a-view-versus-a-copy\n",
      "  data['CID'][i] = 0\n",
      "C:\\Users\\aleks\\AppData\\Local\\Temp\\ipykernel_12416\\3164115185.py:9: SettingWithCopyWarning: \n",
      "A value is trying to be set on a copy of a slice from a DataFrame\n",
      "\n",
      "See the caveats in the documentation: https://pandas.pydata.org/pandas-docs/stable/user_guide/indexing.html#returning-a-view-versus-a-copy\n",
      "  data['PUBCHEM_SMILES'][i] = 0\n",
      "C:\\Users\\aleks\\AppData\\Local\\Temp\\ipykernel_12416\\3164115185.py:6: SettingWithCopyWarning: \n",
      "A value is trying to be set on a copy of a slice from a DataFrame\n",
      "\n",
      "See the caveats in the documentation: https://pandas.pydata.org/pandas-docs/stable/user_guide/indexing.html#returning-a-view-versus-a-copy\n",
      "  data['PUBCHEM_SMILES'][i] = compound[0].canonical_smiles\n"
     ]
    },
    {
     "name": "stdout",
     "output_type": "stream",
     "text": [
      "PUGREST.BadRequest: error:  O=C(C)C[NH1]CNCCCN1C=C(COCC2=C[NH1]C3=C2C=CC=C3)N=N1\n"
     ]
    },
    {
     "name": "stderr",
     "output_type": "stream",
     "text": [
      "C:\\Users\\aleks\\AppData\\Local\\Temp\\ipykernel_12416\\3164115185.py:5: SettingWithCopyWarning: \n",
      "A value is trying to be set on a copy of a slice from a DataFrame\n",
      "\n",
      "See the caveats in the documentation: https://pandas.pydata.org/pandas-docs/stable/user_guide/indexing.html#returning-a-view-versus-a-copy\n",
      "  data['CID'][i] = compound[0].cid\n",
      "C:\\Users\\aleks\\AppData\\Local\\Temp\\ipykernel_12416\\3164115185.py:6: SettingWithCopyWarning: \n",
      "A value is trying to be set on a copy of a slice from a DataFrame\n",
      "\n",
      "See the caveats in the documentation: https://pandas.pydata.org/pandas-docs/stable/user_guide/indexing.html#returning-a-view-versus-a-copy\n",
      "  data['PUBCHEM_SMILES'][i] = compound[0].canonical_smiles\n",
      "C:\\Users\\aleks\\AppData\\Local\\Temp\\ipykernel_12416\\3164115185.py:8: SettingWithCopyWarning: \n",
      "A value is trying to be set on a copy of a slice from a DataFrame\n",
      "\n",
      "See the caveats in the documentation: https://pandas.pydata.org/pandas-docs/stable/user_guide/indexing.html#returning-a-view-versus-a-copy\n",
      "  data['CID'][i] = 0\n",
      "C:\\Users\\aleks\\AppData\\Local\\Temp\\ipykernel_12416\\3164115185.py:9: SettingWithCopyWarning: \n",
      "A value is trying to be set on a copy of a slice from a DataFrame\n",
      "\n",
      "See the caveats in the documentation: https://pandas.pydata.org/pandas-docs/stable/user_guide/indexing.html#returning-a-view-versus-a-copy\n",
      "  data['PUBCHEM_SMILES'][i] = 0\n",
      "C:\\Users\\aleks\\AppData\\Local\\Temp\\ipykernel_12416\\3164115185.py:6: SettingWithCopyWarning: \n",
      "A value is trying to be set on a copy of a slice from a DataFrame\n",
      "\n",
      "See the caveats in the documentation: https://pandas.pydata.org/pandas-docs/stable/user_guide/indexing.html#returning-a-view-versus-a-copy\n",
      "  data['PUBCHEM_SMILES'][i] = compound[0].canonical_smiles\n"
     ]
    },
    {
     "name": "stdout",
     "output_type": "stream",
     "text": [
      "PUGREST.BadRequest: error:  O=C(C)N1C=C(C)CN(CC2=C[NH1]C3=C2C=CC=C3)C1=O\n"
     ]
    },
    {
     "name": "stderr",
     "output_type": "stream",
     "text": [
      "C:\\Users\\aleks\\AppData\\Local\\Temp\\ipykernel_12416\\3164115185.py:5: SettingWithCopyWarning: \n",
      "A value is trying to be set on a copy of a slice from a DataFrame\n",
      "\n",
      "See the caveats in the documentation: https://pandas.pydata.org/pandas-docs/stable/user_guide/indexing.html#returning-a-view-versus-a-copy\n",
      "  data['CID'][i] = compound[0].cid\n",
      "C:\\Users\\aleks\\AppData\\Local\\Temp\\ipykernel_12416\\3164115185.py:6: SettingWithCopyWarning: \n",
      "A value is trying to be set on a copy of a slice from a DataFrame\n",
      "\n",
      "See the caveats in the documentation: https://pandas.pydata.org/pandas-docs/stable/user_guide/indexing.html#returning-a-view-versus-a-copy\n",
      "  data['PUBCHEM_SMILES'][i] = compound[0].canonical_smiles\n",
      "C:\\Users\\aleks\\AppData\\Local\\Temp\\ipykernel_12416\\3164115185.py:8: SettingWithCopyWarning: \n",
      "A value is trying to be set on a copy of a slice from a DataFrame\n",
      "\n",
      "See the caveats in the documentation: https://pandas.pydata.org/pandas-docs/stable/user_guide/indexing.html#returning-a-view-versus-a-copy\n",
      "  data['CID'][i] = 0\n",
      "C:\\Users\\aleks\\AppData\\Local\\Temp\\ipykernel_12416\\3164115185.py:9: SettingWithCopyWarning: \n",
      "A value is trying to be set on a copy of a slice from a DataFrame\n",
      "\n",
      "See the caveats in the documentation: https://pandas.pydata.org/pandas-docs/stable/user_guide/indexing.html#returning-a-view-versus-a-copy\n",
      "  data['PUBCHEM_SMILES'][i] = 0\n"
     ]
    }
   ],
   "source": [
    "knowon_l = []\n",
    "for i, smiles in enumerate(data['SMILES_From_Tensor_rotation']):\n",
    "    try:\n",
    "        compound = pcp.get_compounds(smiles, 'smiles')\n",
    "        data['CID'][i] = compound[0].cid\n",
    "        data['PUBCHEM_SMILES'][i] = compound[0].canonical_smiles\n",
    "        if math.isnan(data['CID'][i]):\n",
    "            data['CID'][i] = 0\n",
    "            data['PUBCHEM_SMILES'][i] = 0\n",
    "        else:\n",
    "            pass\n",
    "        knowon_l.append(compound)\n",
    "    except:\n",
    "        print(\"PUGREST.BadRequest: error: \", smiles)"
   ]
  },
  {
   "cell_type": "code",
   "execution_count": 11,
   "id": "2cb6674c",
   "metadata": {},
   "outputs": [
    {
     "data": {
      "text/plain": [
       "[Compound()]"
      ]
     },
     "execution_count": 11,
     "metadata": {},
     "output_type": "execute_result"
    }
   ],
   "source": [
    "pcp.get_compounds(data['SMILES_From_Tensor_rotation'][0], 'smiles')"
   ]
  },
  {
   "cell_type": "code",
   "execution_count": 12,
   "id": "08f11e42",
   "metadata": {},
   "outputs": [
    {
     "data": {
      "text/plain": [
       "[Compound(10899)]"
      ]
     },
     "execution_count": 12,
     "metadata": {},
     "output_type": "execute_result"
    }
   ],
   "source": [
    "pcp.get_compounds('CCCCl', 'smiles')"
   ]
  },
  {
   "cell_type": "code",
   "execution_count": 13,
   "id": "cc4236b6",
   "metadata": {},
   "outputs": [
    {
     "data": {
      "text/plain": [
       "'C1[NH1]C=CN1CC2=C[NH1]C3=CC=CC=C32'"
      ]
     },
     "execution_count": 13,
     "metadata": {},
     "output_type": "execute_result"
    }
   ],
   "source": [
    "data['SMILES_From_Tensor_rotation'][0]"
   ]
  },
  {
   "cell_type": "code",
   "execution_count": 14,
   "id": "db5588b6",
   "metadata": {},
   "outputs": [
    {
     "data": {
      "text/html": [
       "<div>\n",
       "<style scoped>\n",
       "    .dataframe tbody tr th:only-of-type {\n",
       "        vertical-align: middle;\n",
       "    }\n",
       "\n",
       "    .dataframe tbody tr th {\n",
       "        vertical-align: top;\n",
       "    }\n",
       "\n",
       "    .dataframe thead th {\n",
       "        text-align: right;\n",
       "    }\n",
       "</style>\n",
       "<table border=\"1\" class=\"dataframe\">\n",
       "  <thead>\n",
       "    <tr style=\"text-align: right;\">\n",
       "      <th></th>\n",
       "      <th>SMILES_From_Tensor_rotation</th>\n",
       "      <th>CID</th>\n",
       "      <th>PUBCHEM_SMILES</th>\n",
       "    </tr>\n",
       "  </thead>\n",
       "  <tbody>\n",
       "    <tr>\n",
       "      <th>0</th>\n",
       "      <td>C1[NH1]C=CN1CC2=C[NH1]C3=CC=CC=C32</td>\n",
       "      <td>0.0</td>\n",
       "      <td>0.0</td>\n",
       "    </tr>\n",
       "    <tr>\n",
       "      <th>1</th>\n",
       "      <td>CC1(CN2C=C(N=C2CC)C[NH1]C3=C)C=CC=C31</td>\n",
       "      <td>0.0</td>\n",
       "      <td>0.0</td>\n",
       "    </tr>\n",
       "    <tr>\n",
       "      <th>2</th>\n",
       "      <td>C12C(CNC(C)=CC([NH1]C1)=C)C=C2</td>\n",
       "      <td>0.0</td>\n",
       "      <td>0.0</td>\n",
       "    </tr>\n",
       "    <tr>\n",
       "      <th>3</th>\n",
       "      <td>C=C1CN(C=N1)CC2=C[NH1]C3=CC=CC=C32</td>\n",
       "      <td>0.0</td>\n",
       "      <td>0.0</td>\n",
       "    </tr>\n",
       "    <tr>\n",
       "      <th>4</th>\n",
       "      <td>C12C(CN3C(C)=NC=C3C[NH1]C1)=CC=C2</td>\n",
       "      <td>0.0</td>\n",
       "      <td>0.0</td>\n",
       "    </tr>\n",
       "  </tbody>\n",
       "</table>\n",
       "</div>"
      ],
      "text/plain": [
       "             SMILES_From_Tensor_rotation  CID PUBCHEM_SMILES\n",
       "0     C1[NH1]C=CN1CC2=C[NH1]C3=CC=CC=C32  0.0            0.0\n",
       "1  CC1(CN2C=C(N=C2CC)C[NH1]C3=C)C=CC=C31  0.0            0.0\n",
       "2         C12C(CNC(C)=CC([NH1]C1)=C)C=C2  0.0            0.0\n",
       "3     C=C1CN(C=N1)CC2=C[NH1]C3=CC=CC=C32  0.0            0.0\n",
       "4      C12C(CN3C(C)=NC=C3C[NH1]C1)=CC=C2  0.0            0.0"
      ]
     },
     "execution_count": 14,
     "metadata": {},
     "output_type": "execute_result"
    }
   ],
   "source": [
    "data.head()"
   ]
  },
  {
   "cell_type": "code",
   "execution_count": 15,
   "id": "7eccbb29",
   "metadata": {},
   "outputs": [
    {
     "data": {
      "text/plain": [
       "array([0.00000000e+00, 6.80619850e+07, 1.08990000e+04, 1.53002490e+07,\n",
       "       1.27016900e+07, 5.76700000e+05, 1.87114660e+07, 7.31776280e+07,\n",
       "       1.54411000e+05, 6.00253070e+07, 2.05087310e+07, 1.48300237e+08,\n",
       "       2.48191490e+07, 7.92486000e+05, 7.96400000e+03, 1.67837000e+05,\n",
       "       6.89560000e+04, 1.23876100e+06, 1.21008196e+08, 1.09865530e+07,\n",
       "       1.42011910e+07, 1.21520000e+04, 3.07100000e+03, 7.34612390e+07,\n",
       "       5.82738000e+05, 1.01997953e+08, 1.47159450e+07, 1.52493933e+08,\n",
       "       1.22566390e+07, 2.88577000e+05, 1.25047450e+07, 5.71133710e+07,\n",
       "       1.25681410e+07, 5.81829020e+07, 1.51012765e+08, 1.22259680e+07,\n",
       "       2.74090000e+05, 1.59490320e+07, 1.08493980e+07, 1.89438600e+06,\n",
       "       3.12270000e+04, 1.23514780e+07, 1.17171478e+08, 2.01934790e+07,\n",
       "       2.35560000e+04, 7.74990000e+04, 1.22011350e+07, 1.23759830e+07,\n",
       "       4.31783700e+06, 2.48109000e+05, 1.36780020e+07, 1.32986540e+07,\n",
       "       1.34831890e+07, 1.22560410e+07, 8.08000000e+04, 1.11262340e+07,\n",
       "       1.29616410e+07, 1.46532712e+08, 3.29501000e+05, 1.53609070e+07,\n",
       "       2.27474670e+07, 1.23658923e+08, 5.95950650e+07, 1.50492790e+07,\n",
       "       1.61204200e+07, 7.40900000e+04, 2.43267000e+05, 1.32034503e+08,\n",
       "       1.90398750e+07, 1.37884350e+07, 6.88593520e+07, 5.95950810e+07,\n",
       "       1.28657630e+07, 1.48949140e+07])"
      ]
     },
     "execution_count": 15,
     "metadata": {},
     "output_type": "execute_result"
    }
   ],
   "source": [
    "data.CID.unique()"
   ]
  },
  {
   "cell_type": "code",
   "execution_count": 16,
   "id": "6c07e2ac",
   "metadata": {},
   "outputs": [
    {
     "data": {
      "text/plain": [
       "array([0.0, 'CNC1=CC=CC=C1N2CCCC=C2', 'CCCCl', 'CC1=NC=NC1',\n",
       "       'CCOCC1=CNC2=CC=CC=C21', 'C1=CC=C(C(=C1)N)NC=O',\n",
       "       'CN1C=C(C2=CC=CC=C21)COC', 'CC1CC(NC(=C)C1)C',\n",
       "       'COCC1=CNC2=CC=CC=C21', 'CCCOCC1=CNC2=CC=CC=C21',\n",
       "       'CCOC1=CNC2=CC=CC=C21', 'C1CNC2=CC=CC=C2NC3=CC=CC=C31',\n",
       "       'CC(=O)N1C=C(C2=CC=CC=C21)CO', 'C1=CC=C2C(=C1)C(=CN2)CN3C=CN=C3',\n",
       "       'C1=CC=C(C=C1)Cl', 'C1=CC=C2C(=C1)C(=CN2)CN3C=NC4=CC=CC=C43',\n",
       "       'CC(=O)NC(=O)N', 'CC(=O)N1C=C(C2=CC=CC=C21)COC(=O)C',\n",
       "       'C=CC(=C)N1C(=O)C2=CC=CC=C2C1=O', 'C1=CC=C(C=C1)C(=O)CN=[N+]=[N-]',\n",
       "       'CC(=O)N1C=C(C2=CC=CC=C21)CN3C(=O)C4=CC=CC=C4C3=O',\n",
       "       'C1=CC=C(C=C1)CN=[N+]=[N-]',\n",
       "       'C1=CC=C2C(=C1)C(=CN2)CC3=CNC4=CC=CC=C43', 'CC1CN(C(=O)NC1=S)C',\n",
       "       'CC(=O)OCC1=CNC2=CC=CC=C21', 'CCCCOCC1=CNC2=CC=CC=C21',\n",
       "       'CC(=O)CNC=O', 'C1=C(C(=O)N1)CN=[N+]=[N-]',\n",
       "       'C1=CC=C(C(=C1)CN=[N+]=[N-])N',\n",
       "       'C1=CC=C2C(=C1)C(=O)N(C2=O)CCC3=CNC4=CC=CC=C43',\n",
       "       'C1=CC=C2C(=C1)C(=O)N(C2=O)CC3=CNC4=CC=CC=C43',\n",
       "       'CC1=NC=CN1CC2=CNC3=CC=CC=C32', 'C1=CC=C2C(=C1)C=CN2CO',\n",
       "       'CC(C)OCC1=CNC2=CC=CC=C21', 'CC(=C(C)C=C)CN=[N+]=[N-]',\n",
       "       'CCC1=CN(C2=CC=CC=C21)CC', 'C1=CC2=CN=CN2C=C1',\n",
       "       'C1=CC=C2C(=C1)C=CN2CC3=CNC4=CC=CC=C43',\n",
       "       'C1N(C2=CC=CC=C2S1)CC3=CNC4=CC=CC=C43', 'CCCCCN1C=NC2=CC=CC=C21',\n",
       "       'CC(C)CCOCC1=CC=CC=C1', 'CC(C)CC1=CNC2=CC=CC=C21',\n",
       "       'CCOCC1=CN(C2=CC=CC=C21)C', 'CCOCCC1=CNC2=CC=CC=C21',\n",
       "       'C1C(=O)C2=CC=CC=C2O1', 'C1=CC=C2C(=C1)C(=O)N(C2=O)CCO',\n",
       "       'COCCCN1C(=O)C2=CC=CC=C2C1=O', 'CC(=O)N1C=C(C2=CC=CC=C21)CCO',\n",
       "       'C1=CC(=CC=C1CN=[N+]=[N-])CN=[N+]=[N-]',\n",
       "       'C1=CC=C2C(=C1)C(=O)N(C2=O)CCCN3C(=O)C4=CC=CC=C4C3=O',\n",
       "       'C1=CC=C2C(=C1)C(=CN2)CN3C4=CC=CC=C4SC3=O',\n",
       "       'CC1CN(C(=S)C2=CC=CC=C12)C', 'CC1CNC(=S)C2=CC=CC=C12',\n",
       "       'CCC(C)CC1=CNC2=CC=CC=C21', 'CCCCCOCC1=CC=CC=C1',\n",
       "       'C1=CC=C2C(=C1)C(=O)N2', 'CC1=CC=CC=C1N=C',\n",
       "       'CNC1=CC=CC=C1N2C=NC3=CC=CC=C32', 'CC1CCC=CC(=O)C1',\n",
       "       'CCCCCCCC1=CNC2=CC=CC=C21', 'CCC1=CC2=CC=CC=C2N1O',\n",
       "       'CC1=C(NC=C1)C=CC=C', 'CN1C=C(C2=CC=CC=C21)CCCOC',\n",
       "       'C=CN1C2=CC=CC=C2SC1=O', 'CC(=O)SCC1=CNC2=CC=CC=C21',\n",
       "       'CC(=O)NC(=O)C1=CC=CC=C1', 'CC(=O)N1C(=O)C2=CC=CC=C2C1=O',\n",
       "       'CCC1=CN=CN1CC2=CNC3=CC=CC=C32',\n",
       "       'C1C2=CC=CC=C2CN1CC3=CNC4=CC=CC=C43',\n",
       "       'CC1=C(C2=CC=CC=C2N1C(=O)C)COC(=O)C', 'CC1=CC2=CC=CC=C2N1CO',\n",
       "       'COCCCC1=CNC2=CC=CC=C21', 'COCN1C=CC(=O)NC1=S',\n",
       "       'C1=CC=C(C=C1)SCC2=CNC3=CC=CC=C32'], dtype=object)"
      ]
     },
     "execution_count": 16,
     "metadata": {},
     "output_type": "execute_result"
    }
   ],
   "source": [
    "data.PUBCHEM_SMILES.unique()"
   ]
  },
  {
   "cell_type": "code",
   "execution_count": 17,
   "id": "a982fe37",
   "metadata": {},
   "outputs": [],
   "source": [
    "data.to_excel('../Data/new_structures_indole.xlsx')"
   ]
  }
 ],
 "metadata": {
  "kernelspec": {
   "display_name": "Python 3 (ipykernel)",
   "language": "python",
   "name": "python3"
  },
  "language_info": {
   "codemirror_mode": {
    "name": "ipython",
    "version": 3
   },
   "file_extension": ".py",
   "mimetype": "text/x-python",
   "name": "python",
   "nbconvert_exporter": "python",
   "pygments_lexer": "ipython3",
   "version": "3.9.15"
  }
 },
 "nbformat": 4,
 "nbformat_minor": 5
}
