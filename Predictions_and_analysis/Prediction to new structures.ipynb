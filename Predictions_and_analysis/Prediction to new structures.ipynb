{
 "cells": [
  {
   "cell_type": "code",
   "execution_count": 1,
   "id": "820541f6",
   "metadata": {},
   "outputs": [],
   "source": [
    "## Libraries import\n",
    "import sys\n",
    "from pathlib import Path\n",
    "prediction_mode_path = Path(\"../module\")\n",
    "sys.path.append(prediction_mode_path.as_posix())\n",
    "import predictions_v05 as pred_mode\n",
    "\n",
    "import joblib\n",
    "\n",
    "from rdkit import Chem\n",
    "\n",
    "import pandas as pd\n",
    "\n",
    "from rdkit.Chem import PandasTools"
   ]
  },
  {
   "cell_type": "code",
   "execution_count": null,
   "id": "2c097109",
   "metadata": {},
   "outputs": [],
   "source": [
    "# Data load"
   ]
  },
  {
   "cell_type": "code",
   "execution_count": 2,
   "id": "8f30b9c0",
   "metadata": {},
   "outputs": [],
   "source": [
    "data = pd.read_excel('../Data/gramina_tiouracyle_pred.xlsx')"
   ]
  },
  {
   "cell_type": "code",
   "execution_count": 3,
   "id": "8b226079",
   "metadata": {},
   "outputs": [
    {
     "data": {
      "text/html": [
       "<div>\n",
       "<style scoped>\n",
       "    .dataframe tbody tr th:only-of-type {\n",
       "        vertical-align: middle;\n",
       "    }\n",
       "\n",
       "    .dataframe tbody tr th {\n",
       "        vertical-align: top;\n",
       "    }\n",
       "\n",
       "    .dataframe thead th {\n",
       "        text-align: right;\n",
       "    }\n",
       "</style>\n",
       "<table border=\"1\" class=\"dataframe\">\n",
       "  <thead>\n",
       "    <tr style=\"text-align: right;\">\n",
       "      <th></th>\n",
       "      <th>SMILES</th>\n",
       "    </tr>\n",
       "  </thead>\n",
       "  <tbody>\n",
       "    <tr>\n",
       "      <th>0</th>\n",
       "      <td>O=C(NC(C(F)=C1)=O)N1CC2=CNC3=CC=CC=C32</td>\n",
       "    </tr>\n",
       "    <tr>\n",
       "      <th>1</th>\n",
       "      <td>S=C(NC(C(C(O)=O)=C1)=O)N1CC2=CNC3=CC=CC=C32</td>\n",
       "    </tr>\n",
       "    <tr>\n",
       "      <th>2</th>\n",
       "      <td>S=C(NC(C(CCC)=C1)=O)N1CC2=CNC3=CC=CC=C32</td>\n",
       "    </tr>\n",
       "    <tr>\n",
       "      <th>3</th>\n",
       "      <td>S=C(NC(C=C1CCC)=O)N1CC2=CNC3=CC=CC=C32</td>\n",
       "    </tr>\n",
       "    <tr>\n",
       "      <th>4</th>\n",
       "      <td>S=C(NC(C=C1C2=CC=CC=C2)=O)N1CC3=CNC4=CC=CC=C43</td>\n",
       "    </tr>\n",
       "  </tbody>\n",
       "</table>\n",
       "</div>"
      ],
      "text/plain": [
       "                                           SMILES\n",
       "0          O=C(NC(C(F)=C1)=O)N1CC2=CNC3=CC=CC=C32\n",
       "1     S=C(NC(C(C(O)=O)=C1)=O)N1CC2=CNC3=CC=CC=C32\n",
       "2        S=C(NC(C(CCC)=C1)=O)N1CC2=CNC3=CC=CC=C32\n",
       "3          S=C(NC(C=C1CCC)=O)N1CC2=CNC3=CC=CC=C32\n",
       "4  S=C(NC(C=C1C2=CC=CC=C2)=O)N1CC3=CNC4=CC=CC=C43"
      ]
     },
     "execution_count": 3,
     "metadata": {},
     "output_type": "execute_result"
    }
   ],
   "source": [
    "data.head()"
   ]
  },
  {
   "cell_type": "code",
   "execution_count": null,
   "id": "ccd5254c",
   "metadata": {},
   "outputs": [],
   "source": [
    "## descriptors calculation"
   ]
  },
  {
   "cell_type": "code",
   "execution_count": 4,
   "id": "4b77b23d",
   "metadata": {},
   "outputs": [
    {
     "name": "stderr",
     "output_type": "stream",
     "text": [
      "100%|██████████████████████████████████████████████████████████████████████████████████| 17/17 [00:01<00:00, 10.42it/s]\n"
     ]
    },
    {
     "name": "stdout",
     "output_type": "stream",
     "text": [
      "Data size (rows, columns): (17, 1613)\n",
      "Data size after first reduction (rows, columns): (17, 1439)\n",
      "Data size after second reduction (rows, columns): (17, 1180)\n",
      "There is issue with the target values...\n"
     ]
    }
   ],
   "source": [
    "descriptors_calc = pred_mode.prepare_data('../Data/gramina_tiouracyle_pred.xlsx')"
   ]
  },
  {
   "cell_type": "code",
   "execution_count": null,
   "id": "20b78a0e",
   "metadata": {},
   "outputs": [],
   "source": [
    "# model load"
   ]
  },
  {
   "cell_type": "code",
   "execution_count": 5,
   "id": "70443100",
   "metadata": {},
   "outputs": [],
   "source": [
    "load_model = joblib.load('random_forest_model_12_estimators.joblib')"
   ]
  },
  {
   "cell_type": "code",
   "execution_count": 6,
   "id": "068864da",
   "metadata": {},
   "outputs": [
    {
     "data": {
      "text/plain": [
       "[RandomForestRegressor(n_estimators=12, random_state=15),\n",
       "      molecular descriptor name  corr_value  absolute correlation value\n",
       " 520             ETA_dEpsilon_D    0.412783                    0.412783\n",
       " 1160                    nHBDon    0.394681                    0.394681]"
      ]
     },
     "execution_count": 6,
     "metadata": {},
     "output_type": "execute_result"
    }
   ],
   "source": [
    "load_model"
   ]
  },
  {
   "cell_type": "code",
   "execution_count": null,
   "id": "531b82cc",
   "metadata": {},
   "outputs": [],
   "source": [
    "# model prediction"
   ]
  },
  {
   "cell_type": "code",
   "execution_count": 7,
   "id": "a12e14b0",
   "metadata": {},
   "outputs": [],
   "source": [
    "pred = load_model[0].predict(descriptors_calc[load_model[1]['molecular descriptor name']]) \n",
    "data['Predicted activity [%]'] = pred"
   ]
  },
  {
   "cell_type": "code",
   "execution_count": 8,
   "id": "3bc4c39c",
   "metadata": {},
   "outputs": [
    {
     "data": {
      "text/html": [
       "<div>\n",
       "<style scoped>\n",
       "    .dataframe tbody tr th:only-of-type {\n",
       "        vertical-align: middle;\n",
       "    }\n",
       "\n",
       "    .dataframe tbody tr th {\n",
       "        vertical-align: top;\n",
       "    }\n",
       "\n",
       "    .dataframe thead th {\n",
       "        text-align: right;\n",
       "    }\n",
       "</style>\n",
       "<table border=\"1\" class=\"dataframe\">\n",
       "  <thead>\n",
       "    <tr style=\"text-align: right;\">\n",
       "      <th></th>\n",
       "      <th>SMILES</th>\n",
       "      <th>Predicted activity [%]</th>\n",
       "    </tr>\n",
       "  </thead>\n",
       "  <tbody>\n",
       "    <tr>\n",
       "      <th>0</th>\n",
       "      <td>O=C(NC(C(F)=C1)=O)N1CC2=CNC3=CC=CC=C32</td>\n",
       "      <td>93.583333</td>\n",
       "    </tr>\n",
       "    <tr>\n",
       "      <th>1</th>\n",
       "      <td>S=C(NC(C(C(O)=O)=C1)=O)N1CC2=CNC3=CC=CC=C32</td>\n",
       "      <td>93.583333</td>\n",
       "    </tr>\n",
       "    <tr>\n",
       "      <th>2</th>\n",
       "      <td>S=C(NC(C(CCC)=C1)=O)N1CC2=CNC3=CC=CC=C32</td>\n",
       "      <td>71.833333</td>\n",
       "    </tr>\n",
       "    <tr>\n",
       "      <th>3</th>\n",
       "      <td>S=C(NC(C=C1CCC)=O)N1CC2=CNC3=CC=CC=C32</td>\n",
       "      <td>71.833333</td>\n",
       "    </tr>\n",
       "    <tr>\n",
       "      <th>4</th>\n",
       "      <td>S=C(NC(C=C1C2=CC=CC=C2)=O)N1CC3=CNC4=CC=CC=C43</td>\n",
       "      <td>70.916667</td>\n",
       "    </tr>\n",
       "    <tr>\n",
       "      <th>5</th>\n",
       "      <td>O=C(C(C(O)=O)=C1)NC(SCCCBr)N1CC2=CNC3=CC=CC=C32</td>\n",
       "      <td>93.583333</td>\n",
       "    </tr>\n",
       "    <tr>\n",
       "      <th>6</th>\n",
       "      <td>O=C(C(CCC)=C1)NC(SCCCBr)N1CC2=CNC3=CC=CC=C32</td>\n",
       "      <td>65.416667</td>\n",
       "    </tr>\n",
       "    <tr>\n",
       "      <th>7</th>\n",
       "      <td>O=C(C=C1CCC)NC(SCCCBr)N1CC2=CNC3=CC=CC=C32</td>\n",
       "      <td>65.416667</td>\n",
       "    </tr>\n",
       "    <tr>\n",
       "      <th>8</th>\n",
       "      <td>O=C(C=C1C2=CC=CC=C2)NC(SCCCBr)N1CC3=CNC4=CC=CC...</td>\n",
       "      <td>83.840278</td>\n",
       "    </tr>\n",
       "    <tr>\n",
       "      <th>9</th>\n",
       "      <td>O=C(C(C(O)=O)=C1)NC(SCCCCCBr)N1CC2=CNC3=CC=CC=C32</td>\n",
       "      <td>93.583333</td>\n",
       "    </tr>\n",
       "    <tr>\n",
       "      <th>10</th>\n",
       "      <td>O=C(C(CCC)=C1)NC(SCCCCCBr)N1CC2=CNC3=CC=CC=C32</td>\n",
       "      <td>86.055556</td>\n",
       "    </tr>\n",
       "    <tr>\n",
       "      <th>11</th>\n",
       "      <td>O=C(C=C1CCC)NC(SCCCCCBr)N1CC2=CNC3=CC=CC=C32</td>\n",
       "      <td>86.055556</td>\n",
       "    </tr>\n",
       "    <tr>\n",
       "      <th>12</th>\n",
       "      <td>O=C(C=C1C2=CC=CC=C2)NC(SCCCCCBr)N1CC3=CNC4=CC=...</td>\n",
       "      <td>75.611111</td>\n",
       "    </tr>\n",
       "    <tr>\n",
       "      <th>13</th>\n",
       "      <td>O=C(C(C(O)=O)=C1)NC(SCC#C)N1CC2=CNC3=CC=CC=C32</td>\n",
       "      <td>93.583333</td>\n",
       "    </tr>\n",
       "    <tr>\n",
       "      <th>14</th>\n",
       "      <td>O=C(C(CCC)=C1)NC(SCC#C)N1CC2=CNC3=CC=CC=C32</td>\n",
       "      <td>70.916667</td>\n",
       "    </tr>\n",
       "    <tr>\n",
       "      <th>15</th>\n",
       "      <td>O=C(C=C1CCC)NC(SCC#C)N1CC2=CNC3=CC=CC=C32</td>\n",
       "      <td>70.916667</td>\n",
       "    </tr>\n",
       "    <tr>\n",
       "      <th>16</th>\n",
       "      <td>O=C(C=C1C2=CC=CC=C2)NC(SCC#C)N1CC3=CNC4=CC=CC=C43</td>\n",
       "      <td>84.666667</td>\n",
       "    </tr>\n",
       "  </tbody>\n",
       "</table>\n",
       "</div>"
      ],
      "text/plain": [
       "                                               SMILES  Predicted activity [%]\n",
       "0              O=C(NC(C(F)=C1)=O)N1CC2=CNC3=CC=CC=C32               93.583333\n",
       "1         S=C(NC(C(C(O)=O)=C1)=O)N1CC2=CNC3=CC=CC=C32               93.583333\n",
       "2            S=C(NC(C(CCC)=C1)=O)N1CC2=CNC3=CC=CC=C32               71.833333\n",
       "3              S=C(NC(C=C1CCC)=O)N1CC2=CNC3=CC=CC=C32               71.833333\n",
       "4      S=C(NC(C=C1C2=CC=CC=C2)=O)N1CC3=CNC4=CC=CC=C43               70.916667\n",
       "5     O=C(C(C(O)=O)=C1)NC(SCCCBr)N1CC2=CNC3=CC=CC=C32               93.583333\n",
       "6        O=C(C(CCC)=C1)NC(SCCCBr)N1CC2=CNC3=CC=CC=C32               65.416667\n",
       "7          O=C(C=C1CCC)NC(SCCCBr)N1CC2=CNC3=CC=CC=C32               65.416667\n",
       "8   O=C(C=C1C2=CC=CC=C2)NC(SCCCBr)N1CC3=CNC4=CC=CC...               83.840278\n",
       "9   O=C(C(C(O)=O)=C1)NC(SCCCCCBr)N1CC2=CNC3=CC=CC=C32               93.583333\n",
       "10     O=C(C(CCC)=C1)NC(SCCCCCBr)N1CC2=CNC3=CC=CC=C32               86.055556\n",
       "11       O=C(C=C1CCC)NC(SCCCCCBr)N1CC2=CNC3=CC=CC=C32               86.055556\n",
       "12  O=C(C=C1C2=CC=CC=C2)NC(SCCCCCBr)N1CC3=CNC4=CC=...               75.611111\n",
       "13     O=C(C(C(O)=O)=C1)NC(SCC#C)N1CC2=CNC3=CC=CC=C32               93.583333\n",
       "14        O=C(C(CCC)=C1)NC(SCC#C)N1CC2=CNC3=CC=CC=C32               70.916667\n",
       "15          O=C(C=C1CCC)NC(SCC#C)N1CC2=CNC3=CC=CC=C32               70.916667\n",
       "16  O=C(C=C1C2=CC=CC=C2)NC(SCC#C)N1CC3=CNC4=CC=CC=C43               84.666667"
      ]
     },
     "execution_count": 8,
     "metadata": {},
     "output_type": "execute_result"
    }
   ],
   "source": [
    "data"
   ]
  },
  {
   "cell_type": "code",
   "execution_count": 9,
   "id": "f3477589",
   "metadata": {},
   "outputs": [],
   "source": [
    "data['Predicted activity [%]'] = data['Predicted activity [%]'].round(decimals=2)"
   ]
  },
  {
   "cell_type": "code",
   "execution_count": 10,
   "id": "c397c7c0",
   "metadata": {},
   "outputs": [
    {
     "data": {
      "text/html": [
       "<div>\n",
       "<style scoped>\n",
       "    .dataframe tbody tr th:only-of-type {\n",
       "        vertical-align: middle;\n",
       "    }\n",
       "\n",
       "    .dataframe tbody tr th {\n",
       "        vertical-align: top;\n",
       "    }\n",
       "\n",
       "    .dataframe thead th {\n",
       "        text-align: right;\n",
       "    }\n",
       "</style>\n",
       "<table border=\"1\" class=\"dataframe\">\n",
       "  <thead>\n",
       "    <tr style=\"text-align: right;\">\n",
       "      <th></th>\n",
       "      <th>SMILES</th>\n",
       "      <th>Predicted activity [%]</th>\n",
       "    </tr>\n",
       "  </thead>\n",
       "  <tbody>\n",
       "    <tr>\n",
       "      <th>0</th>\n",
       "      <td>O=C(NC(C(F)=C1)=O)N1CC2=CNC3=CC=CC=C32</td>\n",
       "      <td>93.58</td>\n",
       "    </tr>\n",
       "    <tr>\n",
       "      <th>1</th>\n",
       "      <td>S=C(NC(C(C(O)=O)=C1)=O)N1CC2=CNC3=CC=CC=C32</td>\n",
       "      <td>93.58</td>\n",
       "    </tr>\n",
       "    <tr>\n",
       "      <th>2</th>\n",
       "      <td>S=C(NC(C(CCC)=C1)=O)N1CC2=CNC3=CC=CC=C32</td>\n",
       "      <td>71.83</td>\n",
       "    </tr>\n",
       "    <tr>\n",
       "      <th>3</th>\n",
       "      <td>S=C(NC(C=C1CCC)=O)N1CC2=CNC3=CC=CC=C32</td>\n",
       "      <td>71.83</td>\n",
       "    </tr>\n",
       "    <tr>\n",
       "      <th>4</th>\n",
       "      <td>S=C(NC(C=C1C2=CC=CC=C2)=O)N1CC3=CNC4=CC=CC=C43</td>\n",
       "      <td>70.92</td>\n",
       "    </tr>\n",
       "    <tr>\n",
       "      <th>5</th>\n",
       "      <td>O=C(C(C(O)=O)=C1)NC(SCCCBr)N1CC2=CNC3=CC=CC=C32</td>\n",
       "      <td>93.58</td>\n",
       "    </tr>\n",
       "    <tr>\n",
       "      <th>6</th>\n",
       "      <td>O=C(C(CCC)=C1)NC(SCCCBr)N1CC2=CNC3=CC=CC=C32</td>\n",
       "      <td>65.42</td>\n",
       "    </tr>\n",
       "    <tr>\n",
       "      <th>7</th>\n",
       "      <td>O=C(C=C1CCC)NC(SCCCBr)N1CC2=CNC3=CC=CC=C32</td>\n",
       "      <td>65.42</td>\n",
       "    </tr>\n",
       "    <tr>\n",
       "      <th>8</th>\n",
       "      <td>O=C(C=C1C2=CC=CC=C2)NC(SCCCBr)N1CC3=CNC4=CC=CC...</td>\n",
       "      <td>83.84</td>\n",
       "    </tr>\n",
       "    <tr>\n",
       "      <th>9</th>\n",
       "      <td>O=C(C(C(O)=O)=C1)NC(SCCCCCBr)N1CC2=CNC3=CC=CC=C32</td>\n",
       "      <td>93.58</td>\n",
       "    </tr>\n",
       "    <tr>\n",
       "      <th>10</th>\n",
       "      <td>O=C(C(CCC)=C1)NC(SCCCCCBr)N1CC2=CNC3=CC=CC=C32</td>\n",
       "      <td>86.06</td>\n",
       "    </tr>\n",
       "    <tr>\n",
       "      <th>11</th>\n",
       "      <td>O=C(C=C1CCC)NC(SCCCCCBr)N1CC2=CNC3=CC=CC=C32</td>\n",
       "      <td>86.06</td>\n",
       "    </tr>\n",
       "    <tr>\n",
       "      <th>12</th>\n",
       "      <td>O=C(C=C1C2=CC=CC=C2)NC(SCCCCCBr)N1CC3=CNC4=CC=...</td>\n",
       "      <td>75.61</td>\n",
       "    </tr>\n",
       "    <tr>\n",
       "      <th>13</th>\n",
       "      <td>O=C(C(C(O)=O)=C1)NC(SCC#C)N1CC2=CNC3=CC=CC=C32</td>\n",
       "      <td>93.58</td>\n",
       "    </tr>\n",
       "    <tr>\n",
       "      <th>14</th>\n",
       "      <td>O=C(C(CCC)=C1)NC(SCC#C)N1CC2=CNC3=CC=CC=C32</td>\n",
       "      <td>70.92</td>\n",
       "    </tr>\n",
       "    <tr>\n",
       "      <th>15</th>\n",
       "      <td>O=C(C=C1CCC)NC(SCC#C)N1CC2=CNC3=CC=CC=C32</td>\n",
       "      <td>70.92</td>\n",
       "    </tr>\n",
       "    <tr>\n",
       "      <th>16</th>\n",
       "      <td>O=C(C=C1C2=CC=CC=C2)NC(SCC#C)N1CC3=CNC4=CC=CC=C43</td>\n",
       "      <td>84.67</td>\n",
       "    </tr>\n",
       "  </tbody>\n",
       "</table>\n",
       "</div>"
      ],
      "text/plain": [
       "                                               SMILES  Predicted activity [%]\n",
       "0              O=C(NC(C(F)=C1)=O)N1CC2=CNC3=CC=CC=C32                   93.58\n",
       "1         S=C(NC(C(C(O)=O)=C1)=O)N1CC2=CNC3=CC=CC=C32                   93.58\n",
       "2            S=C(NC(C(CCC)=C1)=O)N1CC2=CNC3=CC=CC=C32                   71.83\n",
       "3              S=C(NC(C=C1CCC)=O)N1CC2=CNC3=CC=CC=C32                   71.83\n",
       "4      S=C(NC(C=C1C2=CC=CC=C2)=O)N1CC3=CNC4=CC=CC=C43                   70.92\n",
       "5     O=C(C(C(O)=O)=C1)NC(SCCCBr)N1CC2=CNC3=CC=CC=C32                   93.58\n",
       "6        O=C(C(CCC)=C1)NC(SCCCBr)N1CC2=CNC3=CC=CC=C32                   65.42\n",
       "7          O=C(C=C1CCC)NC(SCCCBr)N1CC2=CNC3=CC=CC=C32                   65.42\n",
       "8   O=C(C=C1C2=CC=CC=C2)NC(SCCCBr)N1CC3=CNC4=CC=CC...                   83.84\n",
       "9   O=C(C(C(O)=O)=C1)NC(SCCCCCBr)N1CC2=CNC3=CC=CC=C32                   93.58\n",
       "10     O=C(C(CCC)=C1)NC(SCCCCCBr)N1CC2=CNC3=CC=CC=C32                   86.06\n",
       "11       O=C(C=C1CCC)NC(SCCCCCBr)N1CC2=CNC3=CC=CC=C32                   86.06\n",
       "12  O=C(C=C1C2=CC=CC=C2)NC(SCCCCCBr)N1CC3=CNC4=CC=...                   75.61\n",
       "13     O=C(C(C(O)=O)=C1)NC(SCC#C)N1CC2=CNC3=CC=CC=C32                   93.58\n",
       "14        O=C(C(CCC)=C1)NC(SCC#C)N1CC2=CNC3=CC=CC=C32                   70.92\n",
       "15          O=C(C=C1CCC)NC(SCC#C)N1CC2=CNC3=CC=CC=C32                   70.92\n",
       "16  O=C(C=C1C2=CC=CC=C2)NC(SCC#C)N1CC3=CNC4=CC=CC=C43                   84.67"
      ]
     },
     "execution_count": 10,
     "metadata": {},
     "output_type": "execute_result"
    }
   ],
   "source": [
    "data"
   ]
  },
  {
   "cell_type": "markdown",
   "id": "ee9a7d20",
   "metadata": {},
   "source": [
    "### export data with pictures"
   ]
  },
  {
   "cell_type": "code",
   "execution_count": null,
   "id": "37b9b5f1",
   "metadata": {},
   "outputs": [],
   "source": []
  },
  {
   "cell_type": "code",
   "execution_count": 11,
   "id": "e46ce0c0",
   "metadata": {},
   "outputs": [],
   "source": [
    "data['Mol Image'] = [Chem.MolFromSmiles(smi) for smi in data['SMILES']]\n",
    "PandasTools.SaveXlsxFromFrame(data, '../Data/gramina_tiouracyle_pred_pic.xlsx', molCol='Mol Image')"
   ]
  },
  {
   "cell_type": "code",
   "execution_count": null,
   "id": "3eaefb39",
   "metadata": {},
   "outputs": [],
   "source": []
  }
 ],
 "metadata": {
  "kernelspec": {
   "display_name": "Python 3 (ipykernel)",
   "language": "python",
   "name": "python3"
  },
  "language_info": {
   "codemirror_mode": {
    "name": "ipython",
    "version": 3
   },
   "file_extension": ".py",
   "mimetype": "text/x-python",
   "name": "python",
   "nbconvert_exporter": "python",
   "pygments_lexer": "ipython3",
   "version": "3.9.15"
  }
 },
 "nbformat": 4,
 "nbformat_minor": 5
}
