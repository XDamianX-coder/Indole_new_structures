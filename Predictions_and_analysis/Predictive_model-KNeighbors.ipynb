{
 "cells": [
  {
   "cell_type": "code",
   "execution_count": 1,
   "id": "208d415d",
   "metadata": {},
   "outputs": [],
   "source": [
    "import sys\n",
    "from pathlib import Path\n",
    "prediction_mode_path = Path(\"../module\")\n",
    "sys.path.append(prediction_mode_path.as_posix())\n",
    "import predictions_v05 as pred_mode\n",
    "\n",
    "import pandas as pd\n",
    "import numpy as np\n",
    "\n",
    "from sklearn.metrics import r2_score\n",
    "\n",
    "import matplotlib.pyplot as plt\n",
    "\n",
    "import warnings\n",
    "warnings.filterwarnings('ignore')\n",
    "## maybe some hyperparameters optimization? \n",
    "#https://scikit-learn.org/stable/modules/generated/sklearn.neighbors.KNeighborsRegressor.html"
   ]
  },
  {
   "cell_type": "markdown",
   "id": "58bad1e9",
   "metadata": {},
   "source": [
    "### model_type ==\n",
    "#### RandomForestRegressor\n",
    "\n",
    "#### DecisionTreeRegressor\n",
    "\n",
    "#### KNeighborsRegressor\n",
    "\n",
    "#### SVR\n",
    "\n",
    "#### linear_model\n",
    "\n"
   ]
  },
  {
   "cell_type": "code",
   "execution_count": 2,
   "id": "704552b6",
   "metadata": {},
   "outputs": [
    {
     "name": "stderr",
     "output_type": "stream",
     "text": [
      " 61%|██████████████████████████████████████████████████▎                               | 27/44 [00:01<00:00, 20.85it/s]"
     ]
    },
    {
     "name": "stdout",
     "output_type": "stream",
     "text": [
      "C:\\Users\\aleks\\anaconda3\\envs\\cheminf_gpu\\lib\\site-packages\\numpy\\core\\fromnumeric.py:86: RuntimeWarning: overflow encountered in reduce\n",
      "  return ufunc.reduce(obj, axis, dtype, out, **passkwargs)\n"
     ]
    },
    {
     "name": "stderr",
     "output_type": "stream",
     "text": [
      "100%|██████████████████████████████████████████████████████████████████████████████████| 44/44 [00:01<00:00, 22.97it/s]\n"
     ]
    },
    {
     "name": "stdout",
     "output_type": "stream",
     "text": [
      "Data size (rows, columns): (44, 1613)\n",
      "Data size after first reduction (rows, columns): (44, 1433)\n",
      "Data size after second reduction (rows, columns): (44, 1182)\n"
     ]
    }
   ],
   "source": [
    "molecular_descriptors_df = pred_mode.prepare_data('../Data/Indole_-_cytoprotekcja_.xlsx')"
   ]
  },
  {
   "cell_type": "code",
   "execution_count": 3,
   "id": "0b50d8b4",
   "metadata": {},
   "outputs": [
    {
     "name": "stdout",
     "output_type": "stream",
     "text": [
      "I am not doing standardization...\n",
      "  molecular descriptor name\n",
      "0                    AATS0Z\n",
      "1                  AATS0are\n",
      "2                    AATS0d\n",
      "3                   AATS0dv\n",
      "4                    AATS0i\n",
      "  molecular descriptor name  corr_value\n",
      "0                    AATS0Z   -0.105872\n",
      "1                  AATS0are    0.160494\n",
      "2                    AATS0d   -0.005044\n",
      "3                   AATS0dv    0.121256\n",
      "4                    AATS0i    0.140698\n",
      "  molecular descriptor name  corr_value  absolute correlation value\n",
      "0                    AATS0Z   -0.105872                    0.105872\n",
      "1                  AATS0are    0.160494                    0.160494\n",
      "2                    AATS0d   -0.005044                    0.005044\n",
      "3                   AATS0dv    0.121256                    0.121256\n",
      "4                    AATS0i    0.140698                    0.140698\n",
      "    molecular descriptor name  corr_value  absolute correlation value\n",
      "456                BCUTare-1l    0.345707                    0.345707\n",
      "520            ETA_dEpsilon_D    0.412783                    0.412783\n",
      "829                     NaaNH    0.386873                    0.386873\n",
      "831                      NaaS   -0.343855                    0.343855\n",
      "899                     SaaNH    0.359872                    0.359872\n",
      "    molecular descriptor name  corr_value  absolute correlation value\n",
      "456                BCUTare-1l    0.345707                    0.345707\n",
      "520            ETA_dEpsilon_D    0.412783                    0.412783\n",
      "829                     NaaNH    0.386873                    0.386873\n",
      "831                      NaaS   -0.343855                    0.343855\n",
      "899                     SaaNH    0.359872                    0.359872\n",
      "The model used is: KNeighbors...\n",
      "Return the coefficient of determination of the prediction: \n",
      "-0.05320074871314917\n",
      "R^2 score: 0.2250918328630036\n",
      "Correlation coefficient: 0.4744384394871516\n",
      "Test data - unseen during training:\n",
      "R^2 score: -7.66416445317012\n",
      "Correlation coefficient: nan\n",
      "[57.9 73.1 56.2]\n",
      "0     81.0\n",
      "5     60.0\n",
      "14    28.0\n",
      "Name: Cytoprotective activity [%], dtype: float64\n"
     ]
    }
   ],
   "source": [
    "without_standardization, train_r2_, test_r2_, hist1, hist2 = pred_mode.prepare_data_and_create_model(molecular_descriptors_df = molecular_descriptors_df, \n",
    "                                                                                                    correlation_threshold = 0.33, \n",
    "                                                                                                    standardization = False, \n",
    "                                                                                                    model_type = 'KNeighborsRegressor',\n",
    "                                                                                                    train_test_split_ = False, \n",
    "                                                                                                    verbose = True)"
   ]
  },
  {
   "cell_type": "code",
   "execution_count": 4,
   "id": "2c6550c5",
   "metadata": {},
   "outputs": [
    {
     "name": "stdout",
     "output_type": "stream",
     "text": [
      "Target distribution histogram: \n",
      "AxesSubplot(0.125,0.11;0.775x0.77)\n"
     ]
    },
    {
     "data": {
      "image/png": "[encoded data removed]",
      "text/plain": [
       "<Figure size 640x480 with 1 Axes>"
      ]
     },
     "metadata": {},
     "output_type": "display_data"
    }
   ],
   "source": [
    "print('Target distribution histogram: ')\n",
    "print(hist1['Cytoprotective activity [%]'].hist())"
   ]
  },
  {
   "cell_type": "code",
   "execution_count": 5,
   "id": "3d661724",
   "metadata": {},
   "outputs": [
    {
     "name": "stdout",
     "output_type": "stream",
     "text": [
      "Number of features (molecular descriptors used): 12\n"
     ]
    }
   ],
   "source": [
    "print(\"Number of features (molecular descriptors used): \"+ str(len(hist2)))"
   ]
  },
  {
   "cell_type": "code",
   "execution_count": 6,
   "id": "5b2c553d",
   "metadata": {},
   "outputs": [
    {
     "data": {
      "text/html": [
       "<div>\n",
       "<style scoped>\n",
       "    .dataframe tbody tr th:only-of-type {\n",
       "        vertical-align: middle;\n",
       "    }\n",
       "\n",
       "    .dataframe tbody tr th {\n",
       "        vertical-align: top;\n",
       "    }\n",
       "\n",
       "    .dataframe thead th {\n",
       "        text-align: right;\n",
       "    }\n",
       "</style>\n",
       "<table border=\"1\" class=\"dataframe\">\n",
       "  <thead>\n",
       "    <tr style=\"text-align: right;\">\n",
       "      <th></th>\n",
       "      <th>molecular descriptor name</th>\n",
       "      <th>corr_value</th>\n",
       "      <th>absolute correlation value</th>\n",
       "    </tr>\n",
       "  </thead>\n",
       "  <tbody>\n",
       "    <tr>\n",
       "      <th>456</th>\n",
       "      <td>BCUTare-1l</td>\n",
       "      <td>0.345707</td>\n",
       "      <td>0.345707</td>\n",
       "    </tr>\n",
       "    <tr>\n",
       "      <th>520</th>\n",
       "      <td>ETA_dEpsilon_D</td>\n",
       "      <td>0.412783</td>\n",
       "      <td>0.412783</td>\n",
       "    </tr>\n",
       "    <tr>\n",
       "      <th>829</th>\n",
       "      <td>NaaNH</td>\n",
       "      <td>0.386873</td>\n",
       "      <td>0.386873</td>\n",
       "    </tr>\n",
       "    <tr>\n",
       "      <th>831</th>\n",
       "      <td>NaaS</td>\n",
       "      <td>-0.343855</td>\n",
       "      <td>0.343855</td>\n",
       "    </tr>\n",
       "    <tr>\n",
       "      <th>899</th>\n",
       "      <td>SaaNH</td>\n",
       "      <td>0.359872</td>\n",
       "      <td>0.359872</td>\n",
       "    </tr>\n",
       "    <tr>\n",
       "      <th>901</th>\n",
       "      <td>SaaS</td>\n",
       "      <td>-0.343855</td>\n",
       "      <td>0.343855</td>\n",
       "    </tr>\n",
       "    <tr>\n",
       "      <th>913</th>\n",
       "      <td>SlogP_VSA1</td>\n",
       "      <td>0.338615</td>\n",
       "      <td>0.338615</td>\n",
       "    </tr>\n",
       "    <tr>\n",
       "      <th>1030</th>\n",
       "      <td>VR1_A</td>\n",
       "      <td>-0.339451</td>\n",
       "      <td>0.339451</td>\n",
       "    </tr>\n",
       "    <tr>\n",
       "      <th>1040</th>\n",
       "      <td>VR2_A</td>\n",
       "      <td>-0.339146</td>\n",
       "      <td>0.339146</td>\n",
       "    </tr>\n",
       "    <tr>\n",
       "      <th>1126</th>\n",
       "      <td>n6HRing</td>\n",
       "      <td>0.362058</td>\n",
       "      <td>0.362058</td>\n",
       "    </tr>\n",
       "    <tr>\n",
       "      <th>1128</th>\n",
       "      <td>n6aHRing</td>\n",
       "      <td>0.362527</td>\n",
       "      <td>0.362527</td>\n",
       "    </tr>\n",
       "    <tr>\n",
       "      <th>1160</th>\n",
       "      <td>nHBDon</td>\n",
       "      <td>0.394681</td>\n",
       "      <td>0.394681</td>\n",
       "    </tr>\n",
       "  </tbody>\n",
       "</table>\n",
       "</div>"
      ],
      "text/plain": [
       "     molecular descriptor name  corr_value  absolute correlation value\n",
       "456                 BCUTare-1l    0.345707                    0.345707\n",
       "520             ETA_dEpsilon_D    0.412783                    0.412783\n",
       "829                      NaaNH    0.386873                    0.386873\n",
       "831                       NaaS   -0.343855                    0.343855\n",
       "899                      SaaNH    0.359872                    0.359872\n",
       "901                       SaaS   -0.343855                    0.343855\n",
       "913                 SlogP_VSA1    0.338615                    0.338615\n",
       "1030                     VR1_A   -0.339451                    0.339451\n",
       "1040                     VR2_A   -0.339146                    0.339146\n",
       "1126                   n6HRing    0.362058                    0.362058\n",
       "1128                  n6aHRing    0.362527                    0.362527\n",
       "1160                    nHBDon    0.394681                    0.394681"
      ]
     },
     "execution_count": 6,
     "metadata": {},
     "output_type": "execute_result"
    }
   ],
   "source": [
    "hist2"
   ]
  },
  {
   "cell_type": "code",
   "execution_count": 7,
   "id": "ff245877",
   "metadata": {},
   "outputs": [
    {
     "name": "stdout",
     "output_type": "stream",
     "text": [
      "I am doing standardization...\n",
      "  molecular descriptor name\n",
      "0                    AATS0Z\n",
      "1                  AATS0are\n",
      "2                    AATS0d\n",
      "3                   AATS0dv\n",
      "4                    AATS0i\n",
      "  molecular descriptor name  corr_value\n",
      "0                    AATS0Z   -0.105872\n",
      "1                  AATS0are    0.160494\n",
      "2                    AATS0d   -0.005044\n",
      "3                   AATS0dv    0.121256\n",
      "4                    AATS0i    0.140698\n",
      "  molecular descriptor name  corr_value  absolute correlation value\n",
      "0                    AATS0Z   -0.105872                    0.105872\n",
      "1                  AATS0are    0.160494                    0.160494\n",
      "2                    AATS0d   -0.005044                    0.005044\n",
      "3                   AATS0dv    0.121256                    0.121256\n",
      "4                    AATS0i    0.140698                    0.140698\n",
      "    molecular descriptor name  corr_value  absolute correlation value\n",
      "456                BCUTare-1l    0.345707                    0.345707\n",
      "520            ETA_dEpsilon_D    0.412783                    0.412783\n",
      "829                     NaaNH    0.386873                    0.386873\n",
      "831                      NaaS   -0.343855                    0.343855\n",
      "899                     SaaNH    0.359872                    0.359872\n",
      "    molecular descriptor name  corr_value  absolute correlation value\n",
      "456                BCUTare-1l    0.345707                    0.345707\n",
      "520            ETA_dEpsilon_D    0.412783                    0.412783\n",
      "829                     NaaNH    0.386873                    0.386873\n",
      "831                      NaaS   -0.343855                    0.343855\n",
      "899                     SaaNH    0.359872                    0.359872\n",
      "The model used is: KNeighbors...\n",
      "Return the coefficient of determination of the prediction: \n",
      "-0.5332547803617573\n",
      "R^2 score: 0.23756398827751768\n",
      "Correlation coefficient: 0.4874053634065978\n",
      "Test data - unseen during training:\n",
      "R^2 score: -5.580711560642359\n",
      "Correlation coefficient: nan\n",
      "[70.6 45.4 66.  44.2]\n",
      "37    94.0\n",
      "24    80.0\n",
      "25    28.0\n",
      "36    67.0\n",
      "Name: Cytoprotective activity [%], dtype: float64\n"
     ]
    }
   ],
   "source": [
    "with_standardization, train_r2, test_r2, hist1_, hist2_ = pred_mode.prepare_data_and_create_model(molecular_descriptors_df = molecular_descriptors_df, \n",
    "                                                                                                    correlation_threshold = 0.33, \n",
    "                                                                                                    standardization = True, \n",
    "                                                                                                    model_type = 'KNeighborsRegressor',\n",
    "                                                                                                    train_test_split_ = True, \n",
    "                                                                                                    verbose = True)"
   ]
  },
  {
   "cell_type": "code",
   "execution_count": 8,
   "id": "52985b21",
   "metadata": {},
   "outputs": [
    {
     "data": {
      "text/plain": [
       "array([60.4, 77.7, 68.3, 70. , 77.7, 68.3, 68.3, 70. , 58. , 60.4, 48.4,\n",
       "       73.1, 59.2, 57.2, 48.4, 61. , 61. , 66. , 48.4, 68. , 82.8, 60.8,\n",
       "       68.8, 70.6, 45.4, 66. , 60.6, 45.4, 66. , 84.4, 72.2, 84.4, 66. ,\n",
       "       60.6, 70.6, 44.2, 44.2, 70.6, 70.6, 70.6, 65.6, 82.8, 82.8, 82.8])"
      ]
     },
     "execution_count": 8,
     "metadata": {},
     "output_type": "execute_result"
    }
   ],
   "source": [
    "with_standardization.predict(molecular_descriptors_df[hist2_['molecular descriptor name']])"
   ]
  },
  {
   "cell_type": "code",
   "execution_count": 9,
   "id": "34a70ea3",
   "metadata": {},
   "outputs": [
    {
     "data": {
      "text/plain": [
       "-4.162443990057375"
      ]
     },
     "execution_count": 9,
     "metadata": {},
     "output_type": "execute_result"
    }
   ],
   "source": [
    "xs = r2_score(with_standardization.predict(molecular_descriptors_df[hist2_['molecular descriptor name']]), molecular_descriptors_df['Cytoprotective activity [%]'])\n",
    "xs"
   ]
  },
  {
   "cell_type": "markdown",
   "id": "1da5abbb",
   "metadata": {},
   "source": [
    "## Search inside correlation space"
   ]
  },
  {
   "cell_type": "code",
   "execution_count": 10,
   "id": "b85e7040",
   "metadata": {},
   "outputs": [],
   "source": [
    "step = 0.01\n",
    "initial_step = 0.25\n",
    "last_step = 0.4\n",
    "first_list = [x / 100.0 for x in range(int(initial_step*100), int(last_step*100), int(step*100))]\n",
    "second_list = []\n",
    "third_list = []\n",
    "f_list = []\n",
    "for i in first_list:\n",
    "    without_standardization, train_r2, test_r2, _, h_ = pred_mode.prepare_data_and_create_model(molecular_descriptors_df = molecular_descriptors_df, \n",
    "                                                                                                    correlation_threshold = i, \n",
    "                                                                                                    standardization = False, \n",
    "                                                                                                    model_type = 'KNeighborsRegressor',\n",
    "                                                                                                    train_test_split_ = False, \n",
    "                                                                                                    verbose = False)\n",
    "    second_list.append(train_r2)\n",
    "    third_list.append(test_r2)\n",
    "    f_list.append(len(h_))\n"
   ]
  },
  {
   "cell_type": "code",
   "execution_count": 11,
   "id": "7700e859",
   "metadata": {},
   "outputs": [],
   "source": [
    "df_without_standardization = pd.DataFrame(data=first_list, columns=[\"Correlation threshold\"])\n",
    "df_without_standardization['Training data R^2 score'] = second_list\n",
    "df_without_standardization['Test data R^2 score'] = third_list\n",
    "df_without_standardization['Number of features'] = f_list"
   ]
  },
  {
   "cell_type": "code",
   "execution_count": 12,
   "id": "50386b39",
   "metadata": {},
   "outputs": [
    {
     "data": {
      "text/html": [
       "<div>\n",
       "<style scoped>\n",
       "    .dataframe tbody tr th:only-of-type {\n",
       "        vertical-align: middle;\n",
       "    }\n",
       "\n",
       "    .dataframe tbody tr th {\n",
       "        vertical-align: top;\n",
       "    }\n",
       "\n",
       "    .dataframe thead th {\n",
       "        text-align: right;\n",
       "    }\n",
       "</style>\n",
       "<table border=\"1\" class=\"dataframe\">\n",
       "  <thead>\n",
       "    <tr style=\"text-align: right;\">\n",
       "      <th></th>\n",
       "      <th>Correlation threshold</th>\n",
       "      <th>Training data R^2 score</th>\n",
       "      <th>Test data R^2 score</th>\n",
       "      <th>Number of features</th>\n",
       "    </tr>\n",
       "  </thead>\n",
       "  <tbody>\n",
       "    <tr>\n",
       "      <th>0</th>\n",
       "      <td>0.25</td>\n",
       "      <td>0.251489</td>\n",
       "      <td>-1048.648368</td>\n",
       "      <td>46</td>\n",
       "    </tr>\n",
       "    <tr>\n",
       "      <th>1</th>\n",
       "      <td>0.26</td>\n",
       "      <td>0.251489</td>\n",
       "      <td>-1048.648368</td>\n",
       "      <td>38</td>\n",
       "    </tr>\n",
       "    <tr>\n",
       "      <th>2</th>\n",
       "      <td>0.27</td>\n",
       "      <td>0.268259</td>\n",
       "      <td>-21.036806</td>\n",
       "      <td>30</td>\n",
       "    </tr>\n",
       "    <tr>\n",
       "      <th>3</th>\n",
       "      <td>0.28</td>\n",
       "      <td>0.154581</td>\n",
       "      <td>-17.898495</td>\n",
       "      <td>28</td>\n",
       "    </tr>\n",
       "    <tr>\n",
       "      <th>4</th>\n",
       "      <td>0.29</td>\n",
       "      <td>0.249514</td>\n",
       "      <td>-7.664164</td>\n",
       "      <td>26</td>\n",
       "    </tr>\n",
       "    <tr>\n",
       "      <th>5</th>\n",
       "      <td>0.30</td>\n",
       "      <td>0.236136</td>\n",
       "      <td>-7.664164</td>\n",
       "      <td>21</td>\n",
       "    </tr>\n",
       "    <tr>\n",
       "      <th>6</th>\n",
       "      <td>0.31</td>\n",
       "      <td>0.236136</td>\n",
       "      <td>-7.664164</td>\n",
       "      <td>20</td>\n",
       "    </tr>\n",
       "    <tr>\n",
       "      <th>7</th>\n",
       "      <td>0.32</td>\n",
       "      <td>0.236136</td>\n",
       "      <td>-7.664164</td>\n",
       "      <td>15</td>\n",
       "    </tr>\n",
       "    <tr>\n",
       "      <th>8</th>\n",
       "      <td>0.33</td>\n",
       "      <td>0.225092</td>\n",
       "      <td>-7.664164</td>\n",
       "      <td>12</td>\n",
       "    </tr>\n",
       "    <tr>\n",
       "      <th>9</th>\n",
       "      <td>0.34</td>\n",
       "      <td>0.252211</td>\n",
       "      <td>-20.738541</td>\n",
       "      <td>9</td>\n",
       "    </tr>\n",
       "    <tr>\n",
       "      <th>10</th>\n",
       "      <td>0.35</td>\n",
       "      <td>0.258861</td>\n",
       "      <td>-20.738541</td>\n",
       "      <td>6</td>\n",
       "    </tr>\n",
       "    <tr>\n",
       "      <th>11</th>\n",
       "      <td>0.36</td>\n",
       "      <td>0.276999</td>\n",
       "      <td>-1.144594</td>\n",
       "      <td>5</td>\n",
       "    </tr>\n",
       "    <tr>\n",
       "      <th>12</th>\n",
       "      <td>0.37</td>\n",
       "      <td>0.259390</td>\n",
       "      <td>-0.070680</td>\n",
       "      <td>3</td>\n",
       "    </tr>\n",
       "    <tr>\n",
       "      <th>13</th>\n",
       "      <td>0.38</td>\n",
       "      <td>0.259390</td>\n",
       "      <td>-0.070680</td>\n",
       "      <td>3</td>\n",
       "    </tr>\n",
       "    <tr>\n",
       "      <th>14</th>\n",
       "      <td>0.39</td>\n",
       "      <td>0.249480</td>\n",
       "      <td>0.860453</td>\n",
       "      <td>2</td>\n",
       "    </tr>\n",
       "  </tbody>\n",
       "</table>\n",
       "</div>"
      ],
      "text/plain": [
       "    Correlation threshold  Training data R^2 score  Test data R^2 score  \\\n",
       "0                    0.25                 0.251489         -1048.648368   \n",
       "1                    0.26                 0.251489         -1048.648368   \n",
       "2                    0.27                 0.268259           -21.036806   \n",
       "3                    0.28                 0.154581           -17.898495   \n",
       "4                    0.29                 0.249514            -7.664164   \n",
       "5                    0.30                 0.236136            -7.664164   \n",
       "6                    0.31                 0.236136            -7.664164   \n",
       "7                    0.32                 0.236136            -7.664164   \n",
       "8                    0.33                 0.225092            -7.664164   \n",
       "9                    0.34                 0.252211           -20.738541   \n",
       "10                   0.35                 0.258861           -20.738541   \n",
       "11                   0.36                 0.276999            -1.144594   \n",
       "12                   0.37                 0.259390            -0.070680   \n",
       "13                   0.38                 0.259390            -0.070680   \n",
       "14                   0.39                 0.249480             0.860453   \n",
       "\n",
       "    Number of features  \n",
       "0                   46  \n",
       "1                   38  \n",
       "2                   30  \n",
       "3                   28  \n",
       "4                   26  \n",
       "5                   21  \n",
       "6                   20  \n",
       "7                   15  \n",
       "8                   12  \n",
       "9                    9  \n",
       "10                   6  \n",
       "11                   5  \n",
       "12                   3  \n",
       "13                   3  \n",
       "14                   2  "
      ]
     },
     "execution_count": 12,
     "metadata": {},
     "output_type": "execute_result"
    }
   ],
   "source": [
    "df_without_standardization"
   ]
  },
  {
   "cell_type": "code",
   "execution_count": 13,
   "id": "ca75c1a7",
   "metadata": {},
   "outputs": [],
   "source": [
    "step = 0.01\n",
    "initial_step = 0.25\n",
    "last_step = 0.4\n",
    "first_list = [x / 100.0 for x in range(int(initial_step*100), int(last_step*100), int(step*100))]\n",
    "second_list = []\n",
    "third_list = []\n",
    "f_list = []\n",
    "for i in first_list:\n",
    "    without_standardization, train_r2, test_r2, _, h_ = pred_mode.prepare_data_and_create_model(molecular_descriptors_df = molecular_descriptors_df, \n",
    "                                                                                                    correlation_threshold = i, \n",
    "                                                                                                    standardization = True, \n",
    "                                                                                                    model_type = 'KNeighborsRegressor',\n",
    "                                                                                                    train_test_split_ = False, \n",
    "                                                                                                    verbose = False)\n",
    "    second_list.append(train_r2)\n",
    "    third_list.append(test_r2)\n",
    "    f_list.append(len(h_))"
   ]
  },
  {
   "cell_type": "code",
   "execution_count": 14,
   "id": "3e954047",
   "metadata": {},
   "outputs": [],
   "source": [
    "df_with_standardization = pd.DataFrame(data=first_list, columns=[\"Correlation threshold\"])\n",
    "df_with_standardization['Training data R^2 score'] = second_list\n",
    "df_with_standardization['Test data R^2 score'] = third_list\n",
    "df_with_standardization['Number of features'] = f_list"
   ]
  },
  {
   "cell_type": "code",
   "execution_count": 15,
   "id": "a3dfe229",
   "metadata": {},
   "outputs": [
    {
     "data": {
      "text/html": [
       "<div>\n",
       "<style scoped>\n",
       "    .dataframe tbody tr th:only-of-type {\n",
       "        vertical-align: middle;\n",
       "    }\n",
       "\n",
       "    .dataframe tbody tr th {\n",
       "        vertical-align: top;\n",
       "    }\n",
       "\n",
       "    .dataframe thead th {\n",
       "        text-align: right;\n",
       "    }\n",
       "</style>\n",
       "<table border=\"1\" class=\"dataframe\">\n",
       "  <thead>\n",
       "    <tr style=\"text-align: right;\">\n",
       "      <th></th>\n",
       "      <th>Correlation threshold</th>\n",
       "      <th>Training data R^2 score</th>\n",
       "      <th>Test data R^2 score</th>\n",
       "      <th>Number of features</th>\n",
       "    </tr>\n",
       "  </thead>\n",
       "  <tbody>\n",
       "    <tr>\n",
       "      <th>0</th>\n",
       "      <td>0.25</td>\n",
       "      <td>0.351194</td>\n",
       "      <td>-26.877789</td>\n",
       "      <td>46</td>\n",
       "    </tr>\n",
       "    <tr>\n",
       "      <th>1</th>\n",
       "      <td>0.26</td>\n",
       "      <td>0.401551</td>\n",
       "      <td>-38.472134</td>\n",
       "      <td>38</td>\n",
       "    </tr>\n",
       "    <tr>\n",
       "      <th>2</th>\n",
       "      <td>0.27</td>\n",
       "      <td>0.390759</td>\n",
       "      <td>-1.265556</td>\n",
       "      <td>30</td>\n",
       "    </tr>\n",
       "    <tr>\n",
       "      <th>3</th>\n",
       "      <td>0.28</td>\n",
       "      <td>0.390730</td>\n",
       "      <td>-1.265556</td>\n",
       "      <td>28</td>\n",
       "    </tr>\n",
       "    <tr>\n",
       "      <th>4</th>\n",
       "      <td>0.29</td>\n",
       "      <td>0.429714</td>\n",
       "      <td>-1.204596</td>\n",
       "      <td>26</td>\n",
       "    </tr>\n",
       "    <tr>\n",
       "      <th>5</th>\n",
       "      <td>0.30</td>\n",
       "      <td>0.405096</td>\n",
       "      <td>-1.574883</td>\n",
       "      <td>21</td>\n",
       "    </tr>\n",
       "    <tr>\n",
       "      <th>6</th>\n",
       "      <td>0.31</td>\n",
       "      <td>0.334761</td>\n",
       "      <td>-1.244600</td>\n",
       "      <td>20</td>\n",
       "    </tr>\n",
       "    <tr>\n",
       "      <th>7</th>\n",
       "      <td>0.32</td>\n",
       "      <td>0.382480</td>\n",
       "      <td>-4.337443</td>\n",
       "      <td>15</td>\n",
       "    </tr>\n",
       "    <tr>\n",
       "      <th>8</th>\n",
       "      <td>0.33</td>\n",
       "      <td>0.274795</td>\n",
       "      <td>-1.406536</td>\n",
       "      <td>12</td>\n",
       "    </tr>\n",
       "    <tr>\n",
       "      <th>9</th>\n",
       "      <td>0.34</td>\n",
       "      <td>0.220312</td>\n",
       "      <td>0.667091</td>\n",
       "      <td>9</td>\n",
       "    </tr>\n",
       "    <tr>\n",
       "      <th>10</th>\n",
       "      <td>0.35</td>\n",
       "      <td>0.217998</td>\n",
       "      <td>0.667091</td>\n",
       "      <td>6</td>\n",
       "    </tr>\n",
       "    <tr>\n",
       "      <th>11</th>\n",
       "      <td>0.36</td>\n",
       "      <td>0.262317</td>\n",
       "      <td>0.657024</td>\n",
       "      <td>5</td>\n",
       "    </tr>\n",
       "    <tr>\n",
       "      <th>12</th>\n",
       "      <td>0.37</td>\n",
       "      <td>0.244952</td>\n",
       "      <td>0.860453</td>\n",
       "      <td>3</td>\n",
       "    </tr>\n",
       "    <tr>\n",
       "      <th>13</th>\n",
       "      <td>0.38</td>\n",
       "      <td>0.244952</td>\n",
       "      <td>0.860453</td>\n",
       "      <td>3</td>\n",
       "    </tr>\n",
       "    <tr>\n",
       "      <th>14</th>\n",
       "      <td>0.39</td>\n",
       "      <td>0.249480</td>\n",
       "      <td>0.860453</td>\n",
       "      <td>2</td>\n",
       "    </tr>\n",
       "  </tbody>\n",
       "</table>\n",
       "</div>"
      ],
      "text/plain": [
       "    Correlation threshold  Training data R^2 score  Test data R^2 score  \\\n",
       "0                    0.25                 0.351194           -26.877789   \n",
       "1                    0.26                 0.401551           -38.472134   \n",
       "2                    0.27                 0.390759            -1.265556   \n",
       "3                    0.28                 0.390730            -1.265556   \n",
       "4                    0.29                 0.429714            -1.204596   \n",
       "5                    0.30                 0.405096            -1.574883   \n",
       "6                    0.31                 0.334761            -1.244600   \n",
       "7                    0.32                 0.382480            -4.337443   \n",
       "8                    0.33                 0.274795            -1.406536   \n",
       "9                    0.34                 0.220312             0.667091   \n",
       "10                   0.35                 0.217998             0.667091   \n",
       "11                   0.36                 0.262317             0.657024   \n",
       "12                   0.37                 0.244952             0.860453   \n",
       "13                   0.38                 0.244952             0.860453   \n",
       "14                   0.39                 0.249480             0.860453   \n",
       "\n",
       "    Number of features  \n",
       "0                   46  \n",
       "1                   38  \n",
       "2                   30  \n",
       "3                   28  \n",
       "4                   26  \n",
       "5                   21  \n",
       "6                   20  \n",
       "7                   15  \n",
       "8                   12  \n",
       "9                    9  \n",
       "10                   6  \n",
       "11                   5  \n",
       "12                   3  \n",
       "13                   3  \n",
       "14                   2  "
      ]
     },
     "execution_count": 15,
     "metadata": {},
     "output_type": "execute_result"
    }
   ],
   "source": [
    "df_with_standardization"
   ]
  },
  {
   "cell_type": "markdown",
   "id": "facf1068",
   "metadata": {},
   "source": [
    "## Plots"
   ]
  },
  {
   "cell_type": "code",
   "execution_count": 16,
   "id": "128cd3f9",
   "metadata": {},
   "outputs": [
    {
     "data": {
      "image/png": "[encoded data removed]",
      "text/plain": [
       "<Figure size 640x480 with 1 Axes>"
      ]
     },
     "metadata": {},
     "output_type": "display_data"
    }
   ],
   "source": [
    "plt.plot(df_without_standardization['Correlation threshold'], df_without_standardization['Training data R^2 score'], label = \"Training data R^2 score\", marker='v')\n",
    "plt.plot(df_without_standardization['Correlation threshold'], df_without_standardization['Test data R^2 score'], label = \"Test data R^2 score\", marker='D')\n",
    "plt.legend()\n",
    "plt.xlabel('Correlation threshold')\n",
    "plt.ylabel('R^2 score')\n",
    "plt.ylim([0, 1])\n",
    "plt.show()"
   ]
  },
  {
   "cell_type": "code",
   "execution_count": 17,
   "id": "c119758b",
   "metadata": {},
   "outputs": [
    {
     "data": {
      "image/png": "[encoded data removed]",
      "text/plain": [
       "<Figure size 640x480 with 1 Axes>"
      ]
     },
     "metadata": {},
     "output_type": "display_data"
    }
   ],
   "source": [
    "plt.plot(df_without_standardization['Correlation threshold'], df_without_standardization['Number of features'], label = \"Number of features\", marker='.')\n",
    "plt.legend()\n",
    "plt.xlabel('Correlation threshold')\n",
    "plt.ylabel('Number of features')\n",
    "plt.show()"
   ]
  },
  {
   "cell_type": "markdown",
   "id": "3d8b7681",
   "metadata": {},
   "source": [
    "## sqrt(R^2)"
   ]
  },
  {
   "cell_type": "code",
   "execution_count": 18,
   "id": "b7a74be8",
   "metadata": {},
   "outputs": [],
   "source": [
    "df_without_standardization['train R value'] = [np.sqrt(x) for x in df_without_standardization['Training data R^2 score']]"
   ]
  },
  {
   "cell_type": "code",
   "execution_count": 19,
   "id": "43fd8f49",
   "metadata": {},
   "outputs": [
    {
     "data": {
      "text/html": [
       "<div>\n",
       "<style scoped>\n",
       "    .dataframe tbody tr th:only-of-type {\n",
       "        vertical-align: middle;\n",
       "    }\n",
       "\n",
       "    .dataframe tbody tr th {\n",
       "        vertical-align: top;\n",
       "    }\n",
       "\n",
       "    .dataframe thead th {\n",
       "        text-align: right;\n",
       "    }\n",
       "</style>\n",
       "<table border=\"1\" class=\"dataframe\">\n",
       "  <thead>\n",
       "    <tr style=\"text-align: right;\">\n",
       "      <th></th>\n",
       "      <th>Correlation threshold</th>\n",
       "      <th>Training data R^2 score</th>\n",
       "      <th>Test data R^2 score</th>\n",
       "      <th>Number of features</th>\n",
       "      <th>train R value</th>\n",
       "    </tr>\n",
       "  </thead>\n",
       "  <tbody>\n",
       "    <tr>\n",
       "      <th>0</th>\n",
       "      <td>0.25</td>\n",
       "      <td>0.251489</td>\n",
       "      <td>-1048.648368</td>\n",
       "      <td>46</td>\n",
       "      <td>0.501487</td>\n",
       "    </tr>\n",
       "    <tr>\n",
       "      <th>1</th>\n",
       "      <td>0.26</td>\n",
       "      <td>0.251489</td>\n",
       "      <td>-1048.648368</td>\n",
       "      <td>38</td>\n",
       "      <td>0.501487</td>\n",
       "    </tr>\n",
       "    <tr>\n",
       "      <th>2</th>\n",
       "      <td>0.27</td>\n",
       "      <td>0.268259</td>\n",
       "      <td>-21.036806</td>\n",
       "      <td>30</td>\n",
       "      <td>0.517937</td>\n",
       "    </tr>\n",
       "    <tr>\n",
       "      <th>3</th>\n",
       "      <td>0.28</td>\n",
       "      <td>0.154581</td>\n",
       "      <td>-17.898495</td>\n",
       "      <td>28</td>\n",
       "      <td>0.393168</td>\n",
       "    </tr>\n",
       "    <tr>\n",
       "      <th>4</th>\n",
       "      <td>0.29</td>\n",
       "      <td>0.249514</td>\n",
       "      <td>-7.664164</td>\n",
       "      <td>26</td>\n",
       "      <td>0.499514</td>\n",
       "    </tr>\n",
       "    <tr>\n",
       "      <th>5</th>\n",
       "      <td>0.30</td>\n",
       "      <td>0.236136</td>\n",
       "      <td>-7.664164</td>\n",
       "      <td>21</td>\n",
       "      <td>0.485938</td>\n",
       "    </tr>\n",
       "    <tr>\n",
       "      <th>6</th>\n",
       "      <td>0.31</td>\n",
       "      <td>0.236136</td>\n",
       "      <td>-7.664164</td>\n",
       "      <td>20</td>\n",
       "      <td>0.485938</td>\n",
       "    </tr>\n",
       "    <tr>\n",
       "      <th>7</th>\n",
       "      <td>0.32</td>\n",
       "      <td>0.236136</td>\n",
       "      <td>-7.664164</td>\n",
       "      <td>15</td>\n",
       "      <td>0.485938</td>\n",
       "    </tr>\n",
       "    <tr>\n",
       "      <th>8</th>\n",
       "      <td>0.33</td>\n",
       "      <td>0.225092</td>\n",
       "      <td>-7.664164</td>\n",
       "      <td>12</td>\n",
       "      <td>0.474438</td>\n",
       "    </tr>\n",
       "    <tr>\n",
       "      <th>9</th>\n",
       "      <td>0.34</td>\n",
       "      <td>0.252211</td>\n",
       "      <td>-20.738541</td>\n",
       "      <td>9</td>\n",
       "      <td>0.502206</td>\n",
       "    </tr>\n",
       "    <tr>\n",
       "      <th>10</th>\n",
       "      <td>0.35</td>\n",
       "      <td>0.258861</td>\n",
       "      <td>-20.738541</td>\n",
       "      <td>6</td>\n",
       "      <td>0.508784</td>\n",
       "    </tr>\n",
       "    <tr>\n",
       "      <th>11</th>\n",
       "      <td>0.36</td>\n",
       "      <td>0.276999</td>\n",
       "      <td>-1.144594</td>\n",
       "      <td>5</td>\n",
       "      <td>0.526307</td>\n",
       "    </tr>\n",
       "    <tr>\n",
       "      <th>12</th>\n",
       "      <td>0.37</td>\n",
       "      <td>0.259390</td>\n",
       "      <td>-0.070680</td>\n",
       "      <td>3</td>\n",
       "      <td>0.509304</td>\n",
       "    </tr>\n",
       "    <tr>\n",
       "      <th>13</th>\n",
       "      <td>0.38</td>\n",
       "      <td>0.259390</td>\n",
       "      <td>-0.070680</td>\n",
       "      <td>3</td>\n",
       "      <td>0.509304</td>\n",
       "    </tr>\n",
       "    <tr>\n",
       "      <th>14</th>\n",
       "      <td>0.39</td>\n",
       "      <td>0.249480</td>\n",
       "      <td>0.860453</td>\n",
       "      <td>2</td>\n",
       "      <td>0.499480</td>\n",
       "    </tr>\n",
       "  </tbody>\n",
       "</table>\n",
       "</div>"
      ],
      "text/plain": [
       "    Correlation threshold  Training data R^2 score  Test data R^2 score  \\\n",
       "0                    0.25                 0.251489         -1048.648368   \n",
       "1                    0.26                 0.251489         -1048.648368   \n",
       "2                    0.27                 0.268259           -21.036806   \n",
       "3                    0.28                 0.154581           -17.898495   \n",
       "4                    0.29                 0.249514            -7.664164   \n",
       "5                    0.30                 0.236136            -7.664164   \n",
       "6                    0.31                 0.236136            -7.664164   \n",
       "7                    0.32                 0.236136            -7.664164   \n",
       "8                    0.33                 0.225092            -7.664164   \n",
       "9                    0.34                 0.252211           -20.738541   \n",
       "10                   0.35                 0.258861           -20.738541   \n",
       "11                   0.36                 0.276999            -1.144594   \n",
       "12                   0.37                 0.259390            -0.070680   \n",
       "13                   0.38                 0.259390            -0.070680   \n",
       "14                   0.39                 0.249480             0.860453   \n",
       "\n",
       "    Number of features  train R value  \n",
       "0                   46       0.501487  \n",
       "1                   38       0.501487  \n",
       "2                   30       0.517937  \n",
       "3                   28       0.393168  \n",
       "4                   26       0.499514  \n",
       "5                   21       0.485938  \n",
       "6                   20       0.485938  \n",
       "7                   15       0.485938  \n",
       "8                   12       0.474438  \n",
       "9                    9       0.502206  \n",
       "10                   6       0.508784  \n",
       "11                   5       0.526307  \n",
       "12                   3       0.509304  \n",
       "13                   3       0.509304  \n",
       "14                   2       0.499480  "
      ]
     },
     "execution_count": 19,
     "metadata": {},
     "output_type": "execute_result"
    }
   ],
   "source": [
    "df_without_standardization"
   ]
  },
  {
   "cell_type": "code",
   "execution_count": 20,
   "id": "e5ca6382",
   "metadata": {},
   "outputs": [],
   "source": [
    "xcz = []\n",
    "for element in df_without_standardization['Test data R^2 score']:\n",
    "    x = np.sqrt(element)\n",
    "    try:\n",
    "        if x > 0:\n",
    "            xcz.append(x)\n",
    "        else:\n",
    "            xcz.append(0)\n",
    "    except:\n",
    "        pass\n",
    "    "
   ]
  },
  {
   "cell_type": "code",
   "execution_count": 21,
   "id": "070047e1",
   "metadata": {},
   "outputs": [],
   "source": [
    "df_without_standardization['test R value'] = xcz"
   ]
  },
  {
   "cell_type": "code",
   "execution_count": 22,
   "id": "dc74586b",
   "metadata": {},
   "outputs": [
    {
     "data": {
      "image/png": "[encoded data removed]",
      "text/plain": [
       "<Figure size 640x480 with 1 Axes>"
      ]
     },
     "metadata": {},
     "output_type": "display_data"
    }
   ],
   "source": [
    "plt.plot(df_without_standardization['Correlation threshold'], df_without_standardization['train R value'], label = \"train R value\", marker='v')\n",
    "plt.plot(df_without_standardization['Correlation threshold'], df_without_standardization['test R value'], label = \"test R value\", marker='D')\n",
    "plt.legend()\n",
    "plt.xlabel('Correlation threshold')\n",
    "plt.ylabel('R score')\n",
    "plt.ylim([0, 1])\n",
    "plt.show()"
   ]
  },
  {
   "cell_type": "code",
   "execution_count": 23,
   "id": "92e03424",
   "metadata": {},
   "outputs": [
    {
     "data": {
      "image/png": "[encoded data removed]",
      "text/plain": [
       "<Figure size 640x480 with 1 Axes>"
      ]
     },
     "metadata": {},
     "output_type": "display_data"
    }
   ],
   "source": [
    "plt.plot(df_with_standardization['Correlation threshold'], df_with_standardization['Training data R^2 score'], label = \"Training data R^2 score\", marker='v')\n",
    "plt.plot(df_with_standardization['Correlation threshold'], df_with_standardization['Test data R^2 score'], label = \"Test data R^2 score\", marker='D')\n",
    "plt.legend()\n",
    "plt.xlabel('Correlation threshold')\n",
    "plt.ylabel('R^2 score')\n",
    "plt.ylim([0, 1])\n",
    "plt.show()"
   ]
  },
  {
   "cell_type": "markdown",
   "id": "8d21e40f",
   "metadata": {},
   "source": [
    "## Final model"
   ]
  },
  {
   "cell_type": "code",
   "execution_count": 24,
   "id": "3f4ffdc2",
   "metadata": {},
   "outputs": [
    {
     "name": "stdout",
     "output_type": "stream",
     "text": [
      "I am not doing standardization...\n",
      "  molecular descriptor name\n",
      "0                    AATS0Z\n",
      "1                  AATS0are\n",
      "2                    AATS0d\n",
      "3                   AATS0dv\n",
      "4                    AATS0i\n",
      "  molecular descriptor name  corr_value\n",
      "0                    AATS0Z   -0.105872\n",
      "1                  AATS0are    0.160494\n",
      "2                    AATS0d   -0.005044\n",
      "3                   AATS0dv    0.121256\n",
      "4                    AATS0i    0.140698\n",
      "  molecular descriptor name  corr_value  absolute correlation value\n",
      "0                    AATS0Z   -0.105872                    0.105872\n",
      "1                  AATS0are    0.160494                    0.160494\n",
      "2                    AATS0d   -0.005044                    0.005044\n",
      "3                   AATS0dv    0.121256                    0.121256\n",
      "4                    AATS0i    0.140698                    0.140698\n",
      "    molecular descriptor name  corr_value  absolute correlation value\n",
      "456                BCUTare-1l    0.345707                    0.345707\n",
      "520            ETA_dEpsilon_D    0.412783                    0.412783\n",
      "829                     NaaNH    0.386873                    0.386873\n",
      "831                      NaaS   -0.343855                    0.343855\n",
      "899                     SaaNH    0.359872                    0.359872\n",
      "    molecular descriptor name  corr_value  absolute correlation value\n",
      "456                BCUTare-1l    0.345707                    0.345707\n",
      "520            ETA_dEpsilon_D    0.412783                    0.412783\n",
      "829                     NaaNH    0.386873                    0.386873\n",
      "831                      NaaS   -0.343855                    0.343855\n",
      "899                     SaaNH    0.359872                    0.359872\n",
      "The model used is: KNeighbors...\n",
      "Return the coefficient of determination of the prediction: \n",
      "-0.1518273280299487\n",
      "R^2 score: 0.2522107991059782\n",
      "Correlation coefficient: 0.5022059329657289\n",
      "Test data - unseen during training:\n",
      "R^2 score: -20.738541022697184\n",
      "Correlation coefficient: nan\n",
      "[71.6 59.5 67.4]\n",
      "0     81.0\n",
      "5     60.0\n",
      "14    28.0\n",
      "Name: Cytoprotective activity [%], dtype: float64\n"
     ]
    }
   ],
   "source": [
    "final_model = pred_mode.prepare_data_and_create_model(molecular_descriptors_df = molecular_descriptors_df, \n",
    "                                                      correlation_threshold = 0.34, \n",
    "                                                      standardization = False, \n",
    "                                                      model_type = 'KNeighborsRegressor', \n",
    "                                                      train_test_split_ = False, \n",
    "                                                      verbose = True)"
   ]
  },
  {
   "cell_type": "code",
   "execution_count": 25,
   "id": "dd50055d",
   "metadata": {},
   "outputs": [
    {
     "data": {
      "text/plain": [
       "{'algorithm': 'auto',\n",
       " 'leaf_size': 30,\n",
       " 'metric': 'minkowski',\n",
       " 'metric_params': None,\n",
       " 'n_jobs': None,\n",
       " 'n_neighbors': 5,\n",
       " 'p': 2,\n",
       " 'weights': 'uniform'}"
      ]
     },
     "execution_count": 25,
     "metadata": {},
     "output_type": "execute_result"
    }
   ],
   "source": [
    "final_model[0].get_params()"
   ]
  },
  {
   "cell_type": "markdown",
   "id": "da86e29c",
   "metadata": {},
   "source": [
    "## Predict target feature"
   ]
  },
  {
   "cell_type": "code",
   "execution_count": null,
   "id": "9822f41d",
   "metadata": {},
   "outputs": [],
   "source": [
    "Err"
   ]
  },
  {
   "cell_type": "code",
   "execution_count": null,
   "id": "7937a5be",
   "metadata": {},
   "outputs": [],
   "source": [
    "to_prediction = pred_mode.prepare_data('../Data/Proposed_structures_with_AI_indole_tanimoto_similarity_.xlsx')"
   ]
  },
  {
   "cell_type": "code",
   "execution_count": null,
   "id": "e5745088",
   "metadata": {},
   "outputs": [],
   "source": [
    "predicted_activity = final_model[0].predict(to_prediction[final_model[4]['molecular descriptor name']])"
   ]
  },
  {
   "cell_type": "code",
   "execution_count": null,
   "id": "9936bbb1",
   "metadata": {},
   "outputs": [],
   "source": [
    "smiles = pd.read_excel('../Data/Proposed_structures_with_AI_indole_tanimoto_similarity_.xlsx')\n",
    "smiles = smiles['new_SMILES']\n",
    "smiles = smiles.to_list()\n",
    "save_to_df = pd.DataFrame(data=smiles, columns=['SMILES'])"
   ]
  },
  {
   "cell_type": "code",
   "execution_count": null,
   "id": "f8f4a85d",
   "metadata": {},
   "outputs": [],
   "source": [
    "print(len(smiles))\n",
    "print(len(predicted_activity))"
   ]
  },
  {
   "cell_type": "code",
   "execution_count": null,
   "id": "195cd602",
   "metadata": {},
   "outputs": [],
   "source": [
    "save_to_df.head()"
   ]
  },
  {
   "cell_type": "code",
   "execution_count": null,
   "id": "3ebc1b2a",
   "metadata": {},
   "outputs": [],
   "source": [
    "save_to_df['Predicted activity'] = predicted_activity"
   ]
  },
  {
   "cell_type": "code",
   "execution_count": null,
   "id": "aab68c64",
   "metadata": {},
   "outputs": [],
   "source": [
    "save_to_df.head()"
   ]
  },
  {
   "cell_type": "code",
   "execution_count": null,
   "id": "26abbe3d",
   "metadata": {},
   "outputs": [],
   "source": [
    "#save_to_df.to_excel('../Data/Predicted_activity.xlsx')"
   ]
  }
 ],
 "metadata": {
  "kernelspec": {
   "display_name": "Python 3 (ipykernel)",
   "language": "python",
   "name": "python3"
  },
  "language_info": {
   "codemirror_mode": {
    "name": "ipython",
    "version": 3
   },
   "file_extension": ".py",
   "mimetype": "text/x-python",
   "name": "python",
   "nbconvert_exporter": "python",
   "pygments_lexer": "ipython3",
   "version": "3.9.15"
  }
 },
 "nbformat": 4,
 "nbformat_minor": 5
}
