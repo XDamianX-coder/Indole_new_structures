{
 "cells": [
  {
   "cell_type": "code",
   "execution_count": 1,
   "id": "d5805641",
   "metadata": {},
   "outputs": [],
   "source": [
    "#Libraries import\n",
    "import pandas as pd\n",
    "from mordred import Calculator, descriptors\n",
    "import mordred\n",
    "import numpy as np\n",
    "from rdkit import Chem\n",
    "\n",
    "from sklearn.ensemble import RandomForestRegressor\n",
    "\n",
    "from sklearn.metrics import r2_score\n",
    "\n",
    "#from sklearn.decomposition import PCA\n",
    "\n",
    "import matplotlib.pyplot as plt\n",
    "from sklearn.tree import plot_tree\n",
    "\n",
    "import joblib\n",
    "\n",
    "import warnings\n",
    "warnings.filterwarnings('ignore')"
   ]
  },
  {
   "cell_type": "code",
   "execution_count": 2,
   "id": "c30dcab9",
   "metadata": {},
   "outputs": [],
   "source": [
    "def prepare_data(file):\n",
    "    \n",
    "    df = pd.read_excel(file)\n",
    "    \n",
    "    try:\n",
    "        mol_objs = [Chem.MolFromSmiles(smi) for smi in df['SMILES']]\n",
    "    except:\n",
    "        mol_objs = [Chem.MolFromSmiles(smi) for smi in df['new_SMILES']]\n",
    "    \n",
    "    calculate_descriptors = True\n",
    "    \n",
    "    if calculate_descriptors:\n",
    "        calc = Calculator(descriptors, ignore_3D=True)\n",
    "        molecular_descriptors = calc.pandas(mol_objs)\n",
    "        molecular_descriptors = molecular_descriptors.applymap(is_morder_missing)\n",
    "        molecular_descriptors = molecular_descriptors[sorted(molecular_descriptors.columns)]\n",
    "    else:\n",
    "        pass\n",
    "    print(\"Data size (rows, columns): \"+ str(molecular_descriptors.shape))\n",
    "    \n",
    "    simple_preprocessing = True\n",
    "    if simple_preprocessing:\n",
    "        molecular_descriptors_cleaned = molecular_descriptors.dropna(axis=1, how='any')\n",
    "        molecular_descriptors_cleaned\n",
    "    print(\"Data size after first reduction (rows, columns): \"+ str(molecular_descriptors.shape))\n",
    "    molecular_descriptors_cleaned = molecular_descriptors_cleaned.loc[:, (molecular_descriptors_cleaned != 0).any(axis=0)]\n",
    "    print(\"Data size after second reduction (rows, columns): \"+ str(molecular_descriptors.shape))\n",
    "    \n",
    "    try:\n",
    "        molecular_descriptors_cleaned['Aktywność cytoprotekcyjna [%]'] = df['Aktywność cytoprotekcyjna [%]']\n",
    "    except:\n",
    "        print('There is issue with the target values...')\n",
    "    \n",
    "    #try:\n",
    "        #print('Target distribution histogram: ')\n",
    "        #print(df['Aktywność cytoprotekcyjna [%]'].hist())\n",
    "    #except:\n",
    "        #pass\n",
    "    \n",
    "    return molecular_descriptors_cleaned"
   ]
  },
  {
   "cell_type": "code",
   "execution_count": 3,
   "id": "18786100",
   "metadata": {},
   "outputs": [],
   "source": [
    "def is_morder_missing(x):\n",
    "    return np.nan if type(x) == mordred.error.Missing or type(x) == mordred.error.Error else x "
   ]
  },
  {
   "cell_type": "code",
   "execution_count": 4,
   "id": "0b9d210b",
   "metadata": {},
   "outputs": [],
   "source": [
    "def correlation_dataframe(molecular_descriptors_cleaned, correlation_threshold, verbose = False):\n",
    "    \n",
    "    if verbose:\n",
    "        correlation_table = pd.DataFrame(data=molecular_descriptors_cleaned.columns.to_list(), \n",
    "                                         columns=[\"molecular descriptor name\"])\n",
    "        print(correlation_table.head())\n",
    "        correlation_to_ak_cyt = []\n",
    "        for mol_desc in correlation_table['molecular descriptor name']:\n",
    "            x = np.corrcoef(np.array(molecular_descriptors_cleaned[mol_desc]), \n",
    "                            np.array(molecular_descriptors_cleaned['Aktywność cytoprotekcyjna [%]']))\n",
    "            x = x.tolist()[0][1]\n",
    "            correlation_to_ak_cyt.append(x)\n",
    "        correlation_table['corr_value'] = correlation_to_ak_cyt\n",
    "        print(correlation_table.head())\n",
    "        correlation_table['absolute correlation value'] = [abs(x) for x in correlation_table['corr_value']]\n",
    "        print(correlation_table[:-1].head())\n",
    "    \n",
    "        mol_desc_best_corr = correlation_table[correlation_table['absolute correlation value'] > correlation_threshold]\n",
    "    \n",
    "        print(mol_desc_best_corr.head())\n",
    "        table_with_descriptors_to_be_used = mol_desc_best_corr[:-1]\n",
    "        print(table_with_descriptors_to_be_used.head())\n",
    "    else:\n",
    "        correlation_table = pd.DataFrame(data=molecular_descriptors_cleaned.columns.to_list(), \n",
    "                                         columns=[\"molecular descriptor name\"])\n",
    "        \n",
    "        correlation_to_ak_cyt = []\n",
    "        for mol_desc in correlation_table['molecular descriptor name']:\n",
    "            x = np.corrcoef(np.array(molecular_descriptors_cleaned[mol_desc]), \n",
    "                            np.array(molecular_descriptors_cleaned['Aktywność cytoprotekcyjna [%]']))\n",
    "            x = x.tolist()[0][1]\n",
    "            correlation_to_ak_cyt.append(x)\n",
    "        correlation_table['corr_value'] = correlation_to_ak_cyt\n",
    "        \n",
    "        correlation_table['absolute correlation value'] = [abs(x) for x in correlation_table['corr_value']]\n",
    "        \n",
    "    \n",
    "        mol_desc_best_corr = correlation_table[correlation_table['absolute correlation value'] > correlation_threshold]\n",
    "    \n",
    "        \n",
    "        table_with_descriptors_to_be_used = mol_desc_best_corr[:-1]\n",
    "        \n",
    "        \n",
    "    \n",
    "    #print(\"Correlation to the target histogram: \")\n",
    "    #print(correlation_table['absolute correlation value'][:-1].hist(bins=100))\n",
    "    \n",
    "    return table_with_descriptors_to_be_used\n",
    "    "
   ]
  },
  {
   "cell_type": "code",
   "execution_count": 5,
   "id": "8ea73176",
   "metadata": {},
   "outputs": [],
   "source": [
    "def test_data(molecular_descriptors_cleaned):\n",
    "    \n",
    "    test123 = molecular_descriptors_cleaned.loc[(molecular_descriptors_cleaned['Aktywność cytoprotekcyjna [%]'] == 81) \n",
    "                                        | (molecular_descriptors_cleaned['Aktywność cytoprotekcyjna [%]'] == 60)\n",
    "                                       | (molecular_descriptors_cleaned['Aktywność cytoprotekcyjna [%]'] == 28)]\n",
    "    \n",
    "    test_data = test123.iloc[[0, 1, 3]] #It allows to get 3 different points of known activity\n",
    "    \n",
    "    return test_data\n",
    "    "
   ]
  },
  {
   "cell_type": "code",
   "execution_count": 6,
   "id": "7f3154cb",
   "metadata": {},
   "outputs": [],
   "source": [
    "def prepare_model(data, features, test_data, verbose = False):\n",
    "    \n",
    "    \n",
    "    if verbose:\n",
    "        X = data[features['molecular descriptor name']]\n",
    "        y = data['Aktywność cytoprotekcyjna [%]']\n",
    "        randfor = RandomForestRegressor(random_state=15, n_estimators=20)\n",
    "        randfor.fit(X, y)\n",
    "        print(\"Return the coefficient of determination of the prediction: \")\n",
    "        print(randfor.score(test_data[features['molecular descriptor name']], test_data['Aktywność cytoprotekcyjna [%]']))\n",
    "        pred = randfor.predict(X)\n",
    "        print(\"R^2 score: \"+ str(r2_score(y, pred)))\n",
    "        sqrt_r2 = np.sqrt(r2_score(y, pred))\n",
    "        training_data_r2 = r2_score(y, pred)\n",
    "        print('Correlation coefficient: '+ str(sqrt_r2))\n",
    "        print(\"Test data - unseen during training:\")\n",
    "        pred = randfor.predict(test_data[features['molecular descriptor name']])\n",
    "        print(\"R^2 score: \"+ str(r2_score(pred, test_data['Aktywność cytoprotekcyjna [%]'])))\n",
    "        sqrt_r2 = np.sqrt(r2_score(pred, test_data['Aktywność cytoprotekcyjna [%]']))\n",
    "        print('Correlation coefficient: '+ str(sqrt_r2))\n",
    "        print(pred)\n",
    "        print(test_data['Aktywność cytoprotekcyjna [%]']) \n",
    "        test_data_r2 = r2_score(pred, test_data['Aktywność cytoprotekcyjna [%]'])\n",
    "    else:\n",
    "        X = data[features['molecular descriptor name']]\n",
    "        y = data['Aktywność cytoprotekcyjna [%]']\n",
    "        randfor = RandomForestRegressor(random_state=15, n_estimators=20)\n",
    "        randfor.fit(X, y)\n",
    "        pred = randfor.predict(X)\n",
    "        sqrt_r2 = np.sqrt(r2_score(y, pred))\n",
    "        training_data_r2 = r2_score(y, pred)\n",
    "        pred = randfor.predict(test_data[features['molecular descriptor name']])\n",
    "        sqrt_r2 = np.sqrt(r2_score(pred, test_data['Aktywność cytoprotekcyjna [%]']))\n",
    "        test_data_r2 = r2_score(pred, test_data['Aktywność cytoprotekcyjna [%]'])               \n",
    "    \n",
    "    return randfor, training_data_r2, test_data_r2\n",
    "    "
   ]
  },
  {
   "cell_type": "code",
   "execution_count": 7,
   "id": "04e69f0d",
   "metadata": {},
   "outputs": [],
   "source": [
    "def data_standarization(dataframe):\n",
    "    \n",
    "    dataframe_ = dataframe.drop(['Aktywność cytoprotekcyjna [%]'], axis=1)\n",
    "    \n",
    "    to_be_returned = (dataframe_ - dataframe_.mean()) / dataframe_.std()\n",
    "    to_be_returned['Aktywność cytoprotekcyjna [%]'] = dataframe['Aktywność cytoprotekcyjna [%]']\n",
    "    \n",
    "    return to_be_returned"
   ]
  },
  {
   "cell_type": "code",
   "execution_count": 8,
   "id": "c1b77d3c",
   "metadata": {},
   "outputs": [],
   "source": [
    "def prepare_data_and_create_model(molecular_descriptors_df, correlation_threshold, standarization, verbose = False):\n",
    "    \n",
    "    if standarization == True:\n",
    "        \n",
    "        if verbose:\n",
    "            print(\"I am doing standarization...\")\n",
    "        else:\n",
    "            pass\n",
    "        \n",
    "        data_to_be_prepared = molecular_descriptors_df\n",
    "        \n",
    "        stand = data_standarization(data_to_be_prepared)\n",
    "        \n",
    "        corr = correlation_dataframe(stand, correlation_threshold, verbose)\n",
    "        \n",
    "        test_ = test_data(stand)\n",
    "        \n",
    "        data_to_be_prepared = stand.drop(test_.index.to_list(), axis=0)\n",
    "        \n",
    "        model, train_r2, test_r2 = prepare_model(data_to_be_prepared, corr, test_, verbose)\n",
    "        \n",
    "    elif standarization == False:\n",
    "        \n",
    "        if verbose:\n",
    "            print(\"I am not doing standarization...\")\n",
    "        else:\n",
    "            pass\n",
    "        \n",
    "        data_to_be_prepared = molecular_descriptors_df\n",
    "        \n",
    "        corr = correlation_dataframe(data_to_be_prepared, correlation_threshold, verbose)\n",
    "        \n",
    "        test_ = test_data(data_to_be_prepared)\n",
    "        \n",
    "        data_to_be_prepared = data_to_be_prepared.drop(test_.index.to_list(), axis=0)\n",
    "        \n",
    "        model, train_r2, test_r2 = prepare_model(data_to_be_prepared, corr, test_, verbose)\n",
    "    else:\n",
    "        print(\"Error...\")\n",
    "    \n",
    "    return model, train_r2, test_r2, data_to_be_prepared, corr\n",
    "    "
   ]
  },
  {
   "cell_type": "code",
   "execution_count": 9,
   "id": "e7e1caa7",
   "metadata": {},
   "outputs": [
    {
     "name": "stderr",
     "output_type": "stream",
     "text": [
      " 64%|████████████████████████████████████████████████████▏                             | 28/44 [00:01<00:00, 21.19it/s]"
     ]
    },
    {
     "name": "stdout",
     "output_type": "stream",
     "text": [
      "C:\\Users\\aleks\\anaconda3\\envs\\cheminf_gpu\\lib\\site-packages\\numpy\\core\\fromnumeric.py:86: RuntimeWarning: overflow encountered in reduce\n",
      "  return ufunc.reduce(obj, axis, dtype, out, **passkwargs)\n"
     ]
    },
    {
     "name": "stderr",
     "output_type": "stream",
     "text": [
      "100%|██████████████████████████████████████████████████████████████████████████████████| 44/44 [00:01<00:00, 22.51it/s]\n"
     ]
    },
    {
     "name": "stdout",
     "output_type": "stream",
     "text": [
      "Data size (rows, columns): (44, 1613)\n",
      "Data size after first reduction (rows, columns): (44, 1613)\n",
      "Data size after second reduction (rows, columns): (44, 1613)\n"
     ]
    }
   ],
   "source": [
    "molecular_descriptors_df = prepare_data('../Data/Indole_-_cytoprotekcja_.xlsx')"
   ]
  },
  {
   "cell_type": "code",
   "execution_count": 10,
   "id": "bd8fef55",
   "metadata": {},
   "outputs": [
    {
     "name": "stdout",
     "output_type": "stream",
     "text": [
      "I am not doing standarization...\n",
      "  molecular descriptor name\n",
      "0                    AATS0Z\n",
      "1                  AATS0are\n",
      "2                    AATS0d\n",
      "3                   AATS0dv\n",
      "4                    AATS0i\n",
      "  molecular descriptor name  corr_value\n",
      "0                    AATS0Z   -0.105872\n",
      "1                  AATS0are    0.160494\n",
      "2                    AATS0d   -0.005044\n",
      "3                   AATS0dv    0.121256\n",
      "4                    AATS0i    0.140698\n",
      "  molecular descriptor name  corr_value  absolute correlation value\n",
      "0                    AATS0Z   -0.105872                    0.105872\n",
      "1                  AATS0are    0.160494                    0.160494\n",
      "2                    AATS0d   -0.005044                    0.005044\n",
      "3                   AATS0dv    0.121256                    0.121256\n",
      "4                    AATS0i    0.140698                    0.140698\n",
      "    molecular descriptor name  corr_value  absolute correlation value\n",
      "456                BCUTare-1l    0.345707                    0.345707\n",
      "520            ETA_dEpsilon_D    0.412783                    0.412783\n",
      "829                     NaaNH    0.386873                    0.386873\n",
      "831                      NaaS   -0.343855                    0.343855\n",
      "899                     SaaNH    0.359872                    0.359872\n",
      "    molecular descriptor name  corr_value  absolute correlation value\n",
      "456                BCUTare-1l    0.345707                    0.345707\n",
      "520            ETA_dEpsilon_D    0.412783                    0.412783\n",
      "829                     NaaNH    0.386873                    0.386873\n",
      "831                      NaaS   -0.343855                    0.343855\n",
      "899                     SaaNH    0.359872                    0.359872\n",
      "Return the coefficient of determination of the prediction: \n",
      "0.5451212271876462\n",
      "R^2 score: 0.8255180850602635\n",
      "Correlation coefficient: 0.9085802579080526\n",
      "Test data - unseen during training:\n",
      "R^2 score: -0.686246756949858\n",
      "Correlation coefficient: nan\n",
      "[79.6   68.3   52.025]\n",
      "0     81.0\n",
      "5     60.0\n",
      "14    28.0\n",
      "Name: Aktywność cytoprotekcyjna [%], dtype: float64\n"
     ]
    }
   ],
   "source": [
    "without_standarization, train_r2_, test_r2_, hist1, hist2 = prepare_data_and_create_model(molecular_descriptors_df, 0.33, False, True)"
   ]
  },
  {
   "cell_type": "code",
   "execution_count": 11,
   "id": "3715e05b",
   "metadata": {},
   "outputs": [
    {
     "data": {
      "text/plain": [
       "array([79.6  , 80.6  , 72.9  , 65.65 , 68.375, 68.3  , 65.075, 79.   ,\n",
       "       30.5  , 69.7  , 32.8  , 75.375, 48.475, 16.5  , 52.025, 54.9  ,\n",
       "       74.5  , 72.45 , 78.6  , 82.9  , 71.275, 61.7  , 30.75 , 48.85 ,\n",
       "       59.45 , 50.9  , 80.275, 56.425, 58.   , 68.9  , 71.05 , 75.85 ,\n",
       "       38.3  , 52.8  , 47.05 , 10.75 , 65.5  , 92.75 , 92.1  , 89.05 ,\n",
       "       86.05 , 85.05 , 83.65 , 74.35 ])"
      ]
     },
     "execution_count": 11,
     "metadata": {},
     "output_type": "execute_result"
    }
   ],
   "source": [
    "without_standarization.predict(molecular_descriptors_df[hist2['molecular descriptor name']])"
   ]
  },
  {
   "cell_type": "code",
   "execution_count": 12,
   "id": "644ec5c5",
   "metadata": {},
   "outputs": [],
   "source": [
    "xs = r2_score(without_standarization.predict(molecular_descriptors_df[hist2['molecular descriptor name']]), molecular_descriptors_df['Aktywność cytoprotekcyjna [%]'])"
   ]
  },
  {
   "cell_type": "code",
   "execution_count": 13,
   "id": "69e24043",
   "metadata": {},
   "outputs": [
    {
     "data": {
      "text/plain": [
       "0.6087214131582633"
      ]
     },
     "execution_count": 13,
     "metadata": {},
     "output_type": "execute_result"
    }
   ],
   "source": [
    "xs"
   ]
  },
  {
   "cell_type": "code",
   "execution_count": 14,
   "id": "a394e42f",
   "metadata": {},
   "outputs": [
    {
     "data": {
      "text/plain": [
       "0.7802060068714309"
      ]
     },
     "execution_count": 14,
     "metadata": {},
     "output_type": "execute_result"
    }
   ],
   "source": [
    "np.sqrt(xs)"
   ]
  },
  {
   "cell_type": "code",
   "execution_count": 15,
   "id": "95dc2f8d",
   "metadata": {},
   "outputs": [
    {
     "name": "stdout",
     "output_type": "stream",
     "text": [
      "Target distribution histogram: \n",
      "AxesSubplot(0.125,0.11;0.775x0.77)\n"
     ]
    },
    {
     "data": {
      "image/png": "[encoded data removed]",
      "text/plain": [
       "<Figure size 640x480 with 1 Axes>"
      ]
     },
     "metadata": {},
     "output_type": "display_data"
    }
   ],
   "source": [
    "print('Target distribution histogram: ')\n",
    "print(hist1['Aktywność cytoprotekcyjna [%]'].hist())"
   ]
  },
  {
   "cell_type": "code",
   "execution_count": 16,
   "id": "5ce591ac",
   "metadata": {},
   "outputs": [
    {
     "name": "stdout",
     "output_type": "stream",
     "text": [
      "Number of features (molecular descriptors used): 12\n"
     ]
    }
   ],
   "source": [
    "print(\"Number of features (molecular descriptors used): \"+ str(len(hist2)))"
   ]
  },
  {
   "cell_type": "code",
   "execution_count": 17,
   "id": "44f4bad9",
   "metadata": {},
   "outputs": [
    {
     "data": {
      "text/html": [
       "<div>\n",
       "<style scoped>\n",
       "    .dataframe tbody tr th:only-of-type {\n",
       "        vertical-align: middle;\n",
       "    }\n",
       "\n",
       "    .dataframe tbody tr th {\n",
       "        vertical-align: top;\n",
       "    }\n",
       "\n",
       "    .dataframe thead th {\n",
       "        text-align: right;\n",
       "    }\n",
       "</style>\n",
       "<table border=\"1\" class=\"dataframe\">\n",
       "  <thead>\n",
       "    <tr style=\"text-align: right;\">\n",
       "      <th></th>\n",
       "      <th>molecular descriptor name</th>\n",
       "      <th>corr_value</th>\n",
       "      <th>absolute correlation value</th>\n",
       "    </tr>\n",
       "  </thead>\n",
       "  <tbody>\n",
       "    <tr>\n",
       "      <th>456</th>\n",
       "      <td>BCUTare-1l</td>\n",
       "      <td>0.345707</td>\n",
       "      <td>0.345707</td>\n",
       "    </tr>\n",
       "    <tr>\n",
       "      <th>520</th>\n",
       "      <td>ETA_dEpsilon_D</td>\n",
       "      <td>0.412783</td>\n",
       "      <td>0.412783</td>\n",
       "    </tr>\n",
       "    <tr>\n",
       "      <th>829</th>\n",
       "      <td>NaaNH</td>\n",
       "      <td>0.386873</td>\n",
       "      <td>0.386873</td>\n",
       "    </tr>\n",
       "    <tr>\n",
       "      <th>831</th>\n",
       "      <td>NaaS</td>\n",
       "      <td>-0.343855</td>\n",
       "      <td>0.343855</td>\n",
       "    </tr>\n",
       "    <tr>\n",
       "      <th>899</th>\n",
       "      <td>SaaNH</td>\n",
       "      <td>0.359872</td>\n",
       "      <td>0.359872</td>\n",
       "    </tr>\n",
       "    <tr>\n",
       "      <th>901</th>\n",
       "      <td>SaaS</td>\n",
       "      <td>-0.343855</td>\n",
       "      <td>0.343855</td>\n",
       "    </tr>\n",
       "    <tr>\n",
       "      <th>913</th>\n",
       "      <td>SlogP_VSA1</td>\n",
       "      <td>0.338615</td>\n",
       "      <td>0.338615</td>\n",
       "    </tr>\n",
       "    <tr>\n",
       "      <th>1030</th>\n",
       "      <td>VR1_A</td>\n",
       "      <td>-0.339451</td>\n",
       "      <td>0.339451</td>\n",
       "    </tr>\n",
       "    <tr>\n",
       "      <th>1040</th>\n",
       "      <td>VR2_A</td>\n",
       "      <td>-0.339146</td>\n",
       "      <td>0.339146</td>\n",
       "    </tr>\n",
       "    <tr>\n",
       "      <th>1126</th>\n",
       "      <td>n6HRing</td>\n",
       "      <td>0.362058</td>\n",
       "      <td>0.362058</td>\n",
       "    </tr>\n",
       "    <tr>\n",
       "      <th>1128</th>\n",
       "      <td>n6aHRing</td>\n",
       "      <td>0.362527</td>\n",
       "      <td>0.362527</td>\n",
       "    </tr>\n",
       "    <tr>\n",
       "      <th>1160</th>\n",
       "      <td>nHBDon</td>\n",
       "      <td>0.394681</td>\n",
       "      <td>0.394681</td>\n",
       "    </tr>\n",
       "  </tbody>\n",
       "</table>\n",
       "</div>"
      ],
      "text/plain": [
       "     molecular descriptor name  corr_value  absolute correlation value\n",
       "456                 BCUTare-1l    0.345707                    0.345707\n",
       "520             ETA_dEpsilon_D    0.412783                    0.412783\n",
       "829                      NaaNH    0.386873                    0.386873\n",
       "831                       NaaS   -0.343855                    0.343855\n",
       "899                      SaaNH    0.359872                    0.359872\n",
       "901                       SaaS   -0.343855                    0.343855\n",
       "913                 SlogP_VSA1    0.338615                    0.338615\n",
       "1030                     VR1_A   -0.339451                    0.339451\n",
       "1040                     VR2_A   -0.339146                    0.339146\n",
       "1126                   n6HRing    0.362058                    0.362058\n",
       "1128                  n6aHRing    0.362527                    0.362527\n",
       "1160                    nHBDon    0.394681                    0.394681"
      ]
     },
     "execution_count": 17,
     "metadata": {},
     "output_type": "execute_result"
    }
   ],
   "source": [
    "hist2"
   ]
  },
  {
   "cell_type": "code",
   "execution_count": 18,
   "id": "e4380d78",
   "metadata": {},
   "outputs": [
    {
     "name": "stdout",
     "output_type": "stream",
     "text": [
      "I am doing standarization...\n",
      "  molecular descriptor name\n",
      "0                    AATS0Z\n",
      "1                  AATS0are\n",
      "2                    AATS0d\n",
      "3                   AATS0dv\n",
      "4                    AATS0i\n",
      "  molecular descriptor name  corr_value\n",
      "0                    AATS0Z   -0.105872\n",
      "1                  AATS0are    0.160494\n",
      "2                    AATS0d   -0.005044\n",
      "3                   AATS0dv    0.121256\n",
      "4                    AATS0i    0.140698\n",
      "  molecular descriptor name  corr_value  absolute correlation value\n",
      "0                    AATS0Z   -0.105872                    0.105872\n",
      "1                  AATS0are    0.160494                    0.160494\n",
      "2                    AATS0d   -0.005044                    0.005044\n",
      "3                   AATS0dv    0.121256                    0.121256\n",
      "4                    AATS0i    0.140698                    0.140698\n",
      "    molecular descriptor name  corr_value  absolute correlation value\n",
      "456                BCUTare-1l    0.345707                    0.345707\n",
      "520            ETA_dEpsilon_D    0.412783                    0.412783\n",
      "829                     NaaNH    0.386873                    0.386873\n",
      "831                      NaaS   -0.343855                    0.343855\n",
      "899                     SaaNH    0.359872                    0.359872\n",
      "    molecular descriptor name  corr_value  absolute correlation value\n",
      "456                BCUTare-1l    0.345707                    0.345707\n",
      "520            ETA_dEpsilon_D    0.412783                    0.412783\n",
      "829                     NaaNH    0.386873                    0.386873\n",
      "831                      NaaS   -0.343855                    0.343855\n",
      "899                     SaaNH    0.359872                    0.359872\n",
      "Return the coefficient of determination of the prediction: \n",
      "0.6097889857276557\n",
      "R^2 score: 0.8226397807408878\n",
      "Correlation coefficient: 0.9069949177040012\n",
      "Test data - unseen during training:\n",
      "R^2 score: -0.22502430841525567\n",
      "Correlation coefficient: nan\n",
      "[80.9   66.1   50.775]\n",
      "0     81.0\n",
      "5     60.0\n",
      "14    28.0\n",
      "Name: Aktywność cytoprotekcyjna [%], dtype: float64\n"
     ]
    }
   ],
   "source": [
    "with_standarization, train_r2__, test_r2__, hist1_, hist2_ = prepare_data_and_create_model(molecular_descriptors_df, 0.33, True, True)"
   ]
  },
  {
   "cell_type": "code",
   "execution_count": 19,
   "id": "a9114ed4",
   "metadata": {},
   "outputs": [
    {
     "data": {
      "text/plain": [
       "array([35.225, 35.225, 35.225, 35.225, 35.225, 35.225, 35.225, 35.225,\n",
       "       35.225, 35.225, 35.225, 35.225, 34.925, 35.225, 34.925, 35.575,\n",
       "       35.225, 35.225, 35.225, 35.225, 35.225, 35.225, 35.225, 35.225,\n",
       "       35.225, 35.225, 35.225, 34.925, 35.225, 35.225, 35.225, 35.225,\n",
       "       35.225, 35.225, 35.225, 35.225, 35.225, 35.825, 35.825, 35.825,\n",
       "       35.825, 35.825, 35.825, 35.225])"
      ]
     },
     "execution_count": 19,
     "metadata": {},
     "output_type": "execute_result"
    }
   ],
   "source": [
    "with_standarization.predict(molecular_descriptors_df[hist2_['molecular descriptor name']])"
   ]
  },
  {
   "cell_type": "code",
   "execution_count": 20,
   "id": "e0522455",
   "metadata": {},
   "outputs": [],
   "source": [
    "xs = r2_score(with_standarization.predict(molecular_descriptors_df[hist2_['molecular descriptor name']]), molecular_descriptors_df['Aktywność cytoprotekcyjna [%]'])"
   ]
  },
  {
   "cell_type": "code",
   "execution_count": 21,
   "id": "2a92ac81",
   "metadata": {},
   "outputs": [
    {
     "data": {
      "text/plain": [
       "-29198.489454651117"
      ]
     },
     "execution_count": 21,
     "metadata": {},
     "output_type": "execute_result"
    }
   ],
   "source": [
    "xs"
   ]
  },
  {
   "cell_type": "markdown",
   "id": "9f3adf47",
   "metadata": {},
   "source": [
    "## Search inside correlation space"
   ]
  },
  {
   "cell_type": "code",
   "execution_count": 22,
   "id": "95419bee",
   "metadata": {},
   "outputs": [],
   "source": [
    "step = 0.01\n",
    "initial_step = 0.25\n",
    "last_step = 0.4\n",
    "first_list = [x / 100.0 for x in range(int(initial_step*100), int(last_step*100), int(step*100))]\n",
    "second_list = []\n",
    "third_list = []\n",
    "f_list = []\n",
    "for i in first_list:\n",
    "    without_standarization, train_r2, test_r2, _, h_ = prepare_data_and_create_model(molecular_descriptors_df, i, False, False)\n",
    "    second_list.append(train_r2)\n",
    "    third_list.append(test_r2)\n",
    "    f_list.append(len(h_))\n"
   ]
  },
  {
   "cell_type": "code",
   "execution_count": 23,
   "id": "ab9fb8ab",
   "metadata": {},
   "outputs": [],
   "source": [
    "df_without_standarization = pd.DataFrame(data=first_list, columns=[\"Correlation threshold\"])"
   ]
  },
  {
   "cell_type": "code",
   "execution_count": 24,
   "id": "12aea6c1",
   "metadata": {},
   "outputs": [],
   "source": [
    "df_without_standarization['Training data R^2 score'] = second_list\n",
    "df_without_standarization['Test data R^2 score'] = third_list\n",
    "df_without_standarization['Number of features'] = f_list"
   ]
  },
  {
   "cell_type": "code",
   "execution_count": 25,
   "id": "40d3f6a7",
   "metadata": {},
   "outputs": [
    {
     "data": {
      "text/html": [
       "<div>\n",
       "<style scoped>\n",
       "    .dataframe tbody tr th:only-of-type {\n",
       "        vertical-align: middle;\n",
       "    }\n",
       "\n",
       "    .dataframe tbody tr th {\n",
       "        vertical-align: top;\n",
       "    }\n",
       "\n",
       "    .dataframe thead th {\n",
       "        text-align: right;\n",
       "    }\n",
       "</style>\n",
       "<table border=\"1\" class=\"dataframe\">\n",
       "  <thead>\n",
       "    <tr style=\"text-align: right;\">\n",
       "      <th></th>\n",
       "      <th>Correlation threshold</th>\n",
       "      <th>Training data R^2 score</th>\n",
       "      <th>Test data R^2 score</th>\n",
       "      <th>Number of features</th>\n",
       "    </tr>\n",
       "  </thead>\n",
       "  <tbody>\n",
       "    <tr>\n",
       "      <th>0</th>\n",
       "      <td>0.25</td>\n",
       "      <td>0.841600</td>\n",
       "      <td>-22.050122</td>\n",
       "      <td>46</td>\n",
       "    </tr>\n",
       "    <tr>\n",
       "      <th>1</th>\n",
       "      <td>0.26</td>\n",
       "      <td>0.859594</td>\n",
       "      <td>-17.406226</td>\n",
       "      <td>38</td>\n",
       "    </tr>\n",
       "    <tr>\n",
       "      <th>2</th>\n",
       "      <td>0.27</td>\n",
       "      <td>0.868985</td>\n",
       "      <td>-7.646567</td>\n",
       "      <td>30</td>\n",
       "    </tr>\n",
       "    <tr>\n",
       "      <th>3</th>\n",
       "      <td>0.28</td>\n",
       "      <td>0.858742</td>\n",
       "      <td>-153.567121</td>\n",
       "      <td>28</td>\n",
       "    </tr>\n",
       "    <tr>\n",
       "      <th>4</th>\n",
       "      <td>0.29</td>\n",
       "      <td>0.863927</td>\n",
       "      <td>0.214323</td>\n",
       "      <td>26</td>\n",
       "    </tr>\n",
       "    <tr>\n",
       "      <th>5</th>\n",
       "      <td>0.30</td>\n",
       "      <td>0.856233</td>\n",
       "      <td>-3.986841</td>\n",
       "      <td>21</td>\n",
       "    </tr>\n",
       "    <tr>\n",
       "      <th>6</th>\n",
       "      <td>0.31</td>\n",
       "      <td>0.849133</td>\n",
       "      <td>-0.126333</td>\n",
       "      <td>20</td>\n",
       "    </tr>\n",
       "    <tr>\n",
       "      <th>7</th>\n",
       "      <td>0.32</td>\n",
       "      <td>0.843389</td>\n",
       "      <td>-27.790331</td>\n",
       "      <td>15</td>\n",
       "    </tr>\n",
       "    <tr>\n",
       "      <th>8</th>\n",
       "      <td>0.33</td>\n",
       "      <td>0.825518</td>\n",
       "      <td>-0.686247</td>\n",
       "      <td>12</td>\n",
       "    </tr>\n",
       "    <tr>\n",
       "      <th>9</th>\n",
       "      <td>0.34</td>\n",
       "      <td>0.815986</td>\n",
       "      <td>0.160470</td>\n",
       "      <td>9</td>\n",
       "    </tr>\n",
       "    <tr>\n",
       "      <th>10</th>\n",
       "      <td>0.35</td>\n",
       "      <td>0.814614</td>\n",
       "      <td>-1.300595</td>\n",
       "      <td>6</td>\n",
       "    </tr>\n",
       "    <tr>\n",
       "      <th>11</th>\n",
       "      <td>0.36</td>\n",
       "      <td>0.766625</td>\n",
       "      <td>-2.966516</td>\n",
       "      <td>5</td>\n",
       "    </tr>\n",
       "    <tr>\n",
       "      <th>12</th>\n",
       "      <td>0.37</td>\n",
       "      <td>0.769762</td>\n",
       "      <td>-1.777566</td>\n",
       "      <td>3</td>\n",
       "    </tr>\n",
       "    <tr>\n",
       "      <th>13</th>\n",
       "      <td>0.38</td>\n",
       "      <td>0.769762</td>\n",
       "      <td>-1.777566</td>\n",
       "      <td>3</td>\n",
       "    </tr>\n",
       "    <tr>\n",
       "      <th>14</th>\n",
       "      <td>0.39</td>\n",
       "      <td>0.768507</td>\n",
       "      <td>-1.777566</td>\n",
       "      <td>2</td>\n",
       "    </tr>\n",
       "  </tbody>\n",
       "</table>\n",
       "</div>"
      ],
      "text/plain": [
       "    Correlation threshold  Training data R^2 score  Test data R^2 score  \\\n",
       "0                    0.25                 0.841600           -22.050122   \n",
       "1                    0.26                 0.859594           -17.406226   \n",
       "2                    0.27                 0.868985            -7.646567   \n",
       "3                    0.28                 0.858742          -153.567121   \n",
       "4                    0.29                 0.863927             0.214323   \n",
       "5                    0.30                 0.856233            -3.986841   \n",
       "6                    0.31                 0.849133            -0.126333   \n",
       "7                    0.32                 0.843389           -27.790331   \n",
       "8                    0.33                 0.825518            -0.686247   \n",
       "9                    0.34                 0.815986             0.160470   \n",
       "10                   0.35                 0.814614            -1.300595   \n",
       "11                   0.36                 0.766625            -2.966516   \n",
       "12                   0.37                 0.769762            -1.777566   \n",
       "13                   0.38                 0.769762            -1.777566   \n",
       "14                   0.39                 0.768507            -1.777566   \n",
       "\n",
       "    Number of features  \n",
       "0                   46  \n",
       "1                   38  \n",
       "2                   30  \n",
       "3                   28  \n",
       "4                   26  \n",
       "5                   21  \n",
       "6                   20  \n",
       "7                   15  \n",
       "8                   12  \n",
       "9                    9  \n",
       "10                   6  \n",
       "11                   5  \n",
       "12                   3  \n",
       "13                   3  \n",
       "14                   2  "
      ]
     },
     "execution_count": 25,
     "metadata": {},
     "output_type": "execute_result"
    }
   ],
   "source": [
    "df_without_standarization"
   ]
  },
  {
   "cell_type": "code",
   "execution_count": 26,
   "id": "07a9a68f",
   "metadata": {},
   "outputs": [],
   "source": [
    "step = 0.01\n",
    "initial_step = 0.25\n",
    "last_step = 0.4\n",
    "first_list = [x / 100.0 for x in range(int(initial_step*100), int(last_step*100), int(step*100))]\n",
    "second_list = []\n",
    "third_list = []\n",
    "f_list = []\n",
    "for i in first_list:\n",
    "    without_standarization, train_r2, test_r2, _, h_ = prepare_data_and_create_model(molecular_descriptors_df, i, True, False)\n",
    "    second_list.append(train_r2)\n",
    "    third_list.append(test_r2)\n",
    "    f_list.append(len(h_))"
   ]
  },
  {
   "cell_type": "code",
   "execution_count": 27,
   "id": "c866fcdb",
   "metadata": {},
   "outputs": [],
   "source": [
    "df_with_standarization = pd.DataFrame(data=first_list, columns=[\"Correlation threshold\"])\n",
    "df_with_standarization['Training data R^2 score'] = second_list\n",
    "df_with_standarization['Test data R^2 score'] = third_list\n",
    "df_with_standarization['Number of features'] = f_list"
   ]
  },
  {
   "cell_type": "code",
   "execution_count": 28,
   "id": "6874d8d7",
   "metadata": {},
   "outputs": [
    {
     "data": {
      "text/html": [
       "<div>\n",
       "<style scoped>\n",
       "    .dataframe tbody tr th:only-of-type {\n",
       "        vertical-align: middle;\n",
       "    }\n",
       "\n",
       "    .dataframe tbody tr th {\n",
       "        vertical-align: top;\n",
       "    }\n",
       "\n",
       "    .dataframe thead th {\n",
       "        text-align: right;\n",
       "    }\n",
       "</style>\n",
       "<table border=\"1\" class=\"dataframe\">\n",
       "  <thead>\n",
       "    <tr style=\"text-align: right;\">\n",
       "      <th></th>\n",
       "      <th>Correlation threshold</th>\n",
       "      <th>Training data R^2 score</th>\n",
       "      <th>Test data R^2 score</th>\n",
       "      <th>Number of features</th>\n",
       "    </tr>\n",
       "  </thead>\n",
       "  <tbody>\n",
       "    <tr>\n",
       "      <th>0</th>\n",
       "      <td>0.25</td>\n",
       "      <td>0.839323</td>\n",
       "      <td>-23.474845</td>\n",
       "      <td>46</td>\n",
       "    </tr>\n",
       "    <tr>\n",
       "      <th>1</th>\n",
       "      <td>0.26</td>\n",
       "      <td>0.852987</td>\n",
       "      <td>-38.930669</td>\n",
       "      <td>38</td>\n",
       "    </tr>\n",
       "    <tr>\n",
       "      <th>2</th>\n",
       "      <td>0.27</td>\n",
       "      <td>0.865430</td>\n",
       "      <td>-7.009749</td>\n",
       "      <td>30</td>\n",
       "    </tr>\n",
       "    <tr>\n",
       "      <th>3</th>\n",
       "      <td>0.28</td>\n",
       "      <td>0.860472</td>\n",
       "      <td>-136.103637</td>\n",
       "      <td>28</td>\n",
       "    </tr>\n",
       "    <tr>\n",
       "      <th>4</th>\n",
       "      <td>0.29</td>\n",
       "      <td>0.862563</td>\n",
       "      <td>0.521087</td>\n",
       "      <td>26</td>\n",
       "    </tr>\n",
       "    <tr>\n",
       "      <th>5</th>\n",
       "      <td>0.30</td>\n",
       "      <td>0.845632</td>\n",
       "      <td>-8.798090</td>\n",
       "      <td>21</td>\n",
       "    </tr>\n",
       "    <tr>\n",
       "      <th>6</th>\n",
       "      <td>0.31</td>\n",
       "      <td>0.853752</td>\n",
       "      <td>0.153495</td>\n",
       "      <td>20</td>\n",
       "    </tr>\n",
       "    <tr>\n",
       "      <th>7</th>\n",
       "      <td>0.32</td>\n",
       "      <td>0.836654</td>\n",
       "      <td>-10.152481</td>\n",
       "      <td>15</td>\n",
       "    </tr>\n",
       "    <tr>\n",
       "      <th>8</th>\n",
       "      <td>0.33</td>\n",
       "      <td>0.822640</td>\n",
       "      <td>-0.225024</td>\n",
       "      <td>12</td>\n",
       "    </tr>\n",
       "    <tr>\n",
       "      <th>9</th>\n",
       "      <td>0.34</td>\n",
       "      <td>0.830297</td>\n",
       "      <td>-0.081028</td>\n",
       "      <td>9</td>\n",
       "    </tr>\n",
       "    <tr>\n",
       "      <th>10</th>\n",
       "      <td>0.35</td>\n",
       "      <td>0.814614</td>\n",
       "      <td>-1.300595</td>\n",
       "      <td>6</td>\n",
       "    </tr>\n",
       "    <tr>\n",
       "      <th>11</th>\n",
       "      <td>0.36</td>\n",
       "      <td>0.766625</td>\n",
       "      <td>-2.966516</td>\n",
       "      <td>5</td>\n",
       "    </tr>\n",
       "    <tr>\n",
       "      <th>12</th>\n",
       "      <td>0.37</td>\n",
       "      <td>0.769854</td>\n",
       "      <td>-1.777566</td>\n",
       "      <td>3</td>\n",
       "    </tr>\n",
       "    <tr>\n",
       "      <th>13</th>\n",
       "      <td>0.38</td>\n",
       "      <td>0.769854</td>\n",
       "      <td>-1.777566</td>\n",
       "      <td>3</td>\n",
       "    </tr>\n",
       "    <tr>\n",
       "      <th>14</th>\n",
       "      <td>0.39</td>\n",
       "      <td>0.768507</td>\n",
       "      <td>-1.777566</td>\n",
       "      <td>2</td>\n",
       "    </tr>\n",
       "  </tbody>\n",
       "</table>\n",
       "</div>"
      ],
      "text/plain": [
       "    Correlation threshold  Training data R^2 score  Test data R^2 score  \\\n",
       "0                    0.25                 0.839323           -23.474845   \n",
       "1                    0.26                 0.852987           -38.930669   \n",
       "2                    0.27                 0.865430            -7.009749   \n",
       "3                    0.28                 0.860472          -136.103637   \n",
       "4                    0.29                 0.862563             0.521087   \n",
       "5                    0.30                 0.845632            -8.798090   \n",
       "6                    0.31                 0.853752             0.153495   \n",
       "7                    0.32                 0.836654           -10.152481   \n",
       "8                    0.33                 0.822640            -0.225024   \n",
       "9                    0.34                 0.830297            -0.081028   \n",
       "10                   0.35                 0.814614            -1.300595   \n",
       "11                   0.36                 0.766625            -2.966516   \n",
       "12                   0.37                 0.769854            -1.777566   \n",
       "13                   0.38                 0.769854            -1.777566   \n",
       "14                   0.39                 0.768507            -1.777566   \n",
       "\n",
       "    Number of features  \n",
       "0                   46  \n",
       "1                   38  \n",
       "2                   30  \n",
       "3                   28  \n",
       "4                   26  \n",
       "5                   21  \n",
       "6                   20  \n",
       "7                   15  \n",
       "8                   12  \n",
       "9                    9  \n",
       "10                   6  \n",
       "11                   5  \n",
       "12                   3  \n",
       "13                   3  \n",
       "14                   2  "
      ]
     },
     "execution_count": 28,
     "metadata": {},
     "output_type": "execute_result"
    }
   ],
   "source": [
    "df_with_standarization"
   ]
  },
  {
   "cell_type": "markdown",
   "id": "80c70ba6",
   "metadata": {},
   "source": [
    "## Plots"
   ]
  },
  {
   "cell_type": "code",
   "execution_count": 29,
   "id": "c4bc7983",
   "metadata": {},
   "outputs": [
    {
     "data": {
      "image/png": "[encoded data removed]",
      "text/plain": [
       "<Figure size 640x480 with 1 Axes>"
      ]
     },
     "metadata": {},
     "output_type": "display_data"
    }
   ],
   "source": [
    "plt.plot(df_without_standarization['Correlation threshold'], df_without_standarization['Training data R^2 score'], label = \"Training data R^2 score\", marker='v')\n",
    "plt.plot(df_without_standarization['Correlation threshold'], df_without_standarization['Test data R^2 score'], label = \"Test data R^2 score\", marker='D')\n",
    "plt.legend()\n",
    "plt.xlabel('Correlation threshold')\n",
    "plt.ylabel('R^2 score')\n",
    "plt.ylim([0, 1])\n",
    "plt.show()"
   ]
  },
  {
   "cell_type": "code",
   "execution_count": 30,
   "id": "9b4bd0b8",
   "metadata": {},
   "outputs": [
    {
     "data": {
      "image/png": "[encoded data removed]",
      "text/plain": [
       "<Figure size 640x480 with 1 Axes>"
      ]
     },
     "metadata": {},
     "output_type": "display_data"
    }
   ],
   "source": [
    "plt.plot(df_without_standarization['Correlation threshold'], df_without_standarization['Number of features'], label = \"Number of features\", marker='.')\n",
    "plt.legend()\n",
    "plt.xlabel('Correlation threshold')\n",
    "plt.ylabel('Number of features')\n",
    "plt.show()"
   ]
  },
  {
   "cell_type": "markdown",
   "id": "59e4edc2",
   "metadata": {},
   "source": [
    "# sqrt(R^2)"
   ]
  },
  {
   "cell_type": "code",
   "execution_count": 31,
   "id": "7ad7e206",
   "metadata": {},
   "outputs": [],
   "source": [
    "df_without_standarization['train R value'] = [np.sqrt(x) for x in df_without_standarization['Training data R^2 score']]"
   ]
  },
  {
   "cell_type": "code",
   "execution_count": 32,
   "id": "6e6b4e4a",
   "metadata": {},
   "outputs": [
    {
     "data": {
      "text/html": [
       "<div>\n",
       "<style scoped>\n",
       "    .dataframe tbody tr th:only-of-type {\n",
       "        vertical-align: middle;\n",
       "    }\n",
       "\n",
       "    .dataframe tbody tr th {\n",
       "        vertical-align: top;\n",
       "    }\n",
       "\n",
       "    .dataframe thead th {\n",
       "        text-align: right;\n",
       "    }\n",
       "</style>\n",
       "<table border=\"1\" class=\"dataframe\">\n",
       "  <thead>\n",
       "    <tr style=\"text-align: right;\">\n",
       "      <th></th>\n",
       "      <th>Correlation threshold</th>\n",
       "      <th>Training data R^2 score</th>\n",
       "      <th>Test data R^2 score</th>\n",
       "      <th>Number of features</th>\n",
       "      <th>train R value</th>\n",
       "    </tr>\n",
       "  </thead>\n",
       "  <tbody>\n",
       "    <tr>\n",
       "      <th>0</th>\n",
       "      <td>0.25</td>\n",
       "      <td>0.841600</td>\n",
       "      <td>-22.050122</td>\n",
       "      <td>46</td>\n",
       "      <td>0.917388</td>\n",
       "    </tr>\n",
       "    <tr>\n",
       "      <th>1</th>\n",
       "      <td>0.26</td>\n",
       "      <td>0.859594</td>\n",
       "      <td>-17.406226</td>\n",
       "      <td>38</td>\n",
       "      <td>0.927143</td>\n",
       "    </tr>\n",
       "    <tr>\n",
       "      <th>2</th>\n",
       "      <td>0.27</td>\n",
       "      <td>0.868985</td>\n",
       "      <td>-7.646567</td>\n",
       "      <td>30</td>\n",
       "      <td>0.932194</td>\n",
       "    </tr>\n",
       "    <tr>\n",
       "      <th>3</th>\n",
       "      <td>0.28</td>\n",
       "      <td>0.858742</td>\n",
       "      <td>-153.567121</td>\n",
       "      <td>28</td>\n",
       "      <td>0.926683</td>\n",
       "    </tr>\n",
       "    <tr>\n",
       "      <th>4</th>\n",
       "      <td>0.29</td>\n",
       "      <td>0.863927</td>\n",
       "      <td>0.214323</td>\n",
       "      <td>26</td>\n",
       "      <td>0.929477</td>\n",
       "    </tr>\n",
       "    <tr>\n",
       "      <th>5</th>\n",
       "      <td>0.30</td>\n",
       "      <td>0.856233</td>\n",
       "      <td>-3.986841</td>\n",
       "      <td>21</td>\n",
       "      <td>0.925329</td>\n",
       "    </tr>\n",
       "    <tr>\n",
       "      <th>6</th>\n",
       "      <td>0.31</td>\n",
       "      <td>0.849133</td>\n",
       "      <td>-0.126333</td>\n",
       "      <td>20</td>\n",
       "      <td>0.921484</td>\n",
       "    </tr>\n",
       "    <tr>\n",
       "      <th>7</th>\n",
       "      <td>0.32</td>\n",
       "      <td>0.843389</td>\n",
       "      <td>-27.790331</td>\n",
       "      <td>15</td>\n",
       "      <td>0.918362</td>\n",
       "    </tr>\n",
       "    <tr>\n",
       "      <th>8</th>\n",
       "      <td>0.33</td>\n",
       "      <td>0.825518</td>\n",
       "      <td>-0.686247</td>\n",
       "      <td>12</td>\n",
       "      <td>0.908580</td>\n",
       "    </tr>\n",
       "    <tr>\n",
       "      <th>9</th>\n",
       "      <td>0.34</td>\n",
       "      <td>0.815986</td>\n",
       "      <td>0.160470</td>\n",
       "      <td>9</td>\n",
       "      <td>0.903319</td>\n",
       "    </tr>\n",
       "    <tr>\n",
       "      <th>10</th>\n",
       "      <td>0.35</td>\n",
       "      <td>0.814614</td>\n",
       "      <td>-1.300595</td>\n",
       "      <td>6</td>\n",
       "      <td>0.902560</td>\n",
       "    </tr>\n",
       "    <tr>\n",
       "      <th>11</th>\n",
       "      <td>0.36</td>\n",
       "      <td>0.766625</td>\n",
       "      <td>-2.966516</td>\n",
       "      <td>5</td>\n",
       "      <td>0.875571</td>\n",
       "    </tr>\n",
       "    <tr>\n",
       "      <th>12</th>\n",
       "      <td>0.37</td>\n",
       "      <td>0.769762</td>\n",
       "      <td>-1.777566</td>\n",
       "      <td>3</td>\n",
       "      <td>0.877361</td>\n",
       "    </tr>\n",
       "    <tr>\n",
       "      <th>13</th>\n",
       "      <td>0.38</td>\n",
       "      <td>0.769762</td>\n",
       "      <td>-1.777566</td>\n",
       "      <td>3</td>\n",
       "      <td>0.877361</td>\n",
       "    </tr>\n",
       "    <tr>\n",
       "      <th>14</th>\n",
       "      <td>0.39</td>\n",
       "      <td>0.768507</td>\n",
       "      <td>-1.777566</td>\n",
       "      <td>2</td>\n",
       "      <td>0.876645</td>\n",
       "    </tr>\n",
       "  </tbody>\n",
       "</table>\n",
       "</div>"
      ],
      "text/plain": [
       "    Correlation threshold  Training data R^2 score  Test data R^2 score  \\\n",
       "0                    0.25                 0.841600           -22.050122   \n",
       "1                    0.26                 0.859594           -17.406226   \n",
       "2                    0.27                 0.868985            -7.646567   \n",
       "3                    0.28                 0.858742          -153.567121   \n",
       "4                    0.29                 0.863927             0.214323   \n",
       "5                    0.30                 0.856233            -3.986841   \n",
       "6                    0.31                 0.849133            -0.126333   \n",
       "7                    0.32                 0.843389           -27.790331   \n",
       "8                    0.33                 0.825518            -0.686247   \n",
       "9                    0.34                 0.815986             0.160470   \n",
       "10                   0.35                 0.814614            -1.300595   \n",
       "11                   0.36                 0.766625            -2.966516   \n",
       "12                   0.37                 0.769762            -1.777566   \n",
       "13                   0.38                 0.769762            -1.777566   \n",
       "14                   0.39                 0.768507            -1.777566   \n",
       "\n",
       "    Number of features  train R value  \n",
       "0                   46       0.917388  \n",
       "1                   38       0.927143  \n",
       "2                   30       0.932194  \n",
       "3                   28       0.926683  \n",
       "4                   26       0.929477  \n",
       "5                   21       0.925329  \n",
       "6                   20       0.921484  \n",
       "7                   15       0.918362  \n",
       "8                   12       0.908580  \n",
       "9                    9       0.903319  \n",
       "10                   6       0.902560  \n",
       "11                   5       0.875571  \n",
       "12                   3       0.877361  \n",
       "13                   3       0.877361  \n",
       "14                   2       0.876645  "
      ]
     },
     "execution_count": 32,
     "metadata": {},
     "output_type": "execute_result"
    }
   ],
   "source": [
    "df_without_standarization"
   ]
  },
  {
   "cell_type": "code",
   "execution_count": 33,
   "id": "d1c9d45c",
   "metadata": {},
   "outputs": [],
   "source": [
    "xcz = []\n",
    "for element in df_without_standarization['Test data R^2 score']:\n",
    "    x = np.sqrt(element)\n",
    "    try:\n",
    "        if x > 0:\n",
    "            xcz.append(x)\n",
    "        else:\n",
    "            xcz.append(0)\n",
    "    except:\n",
    "        pass\n",
    "    "
   ]
  },
  {
   "cell_type": "code",
   "execution_count": 34,
   "id": "be439bd8",
   "metadata": {},
   "outputs": [
    {
     "data": {
      "text/plain": [
       "[0, 0, 0, 0, 0.462949980220314, 0, 0, 0, 0, 0.40058708966905804, 0, 0, 0, 0, 0]"
      ]
     },
     "execution_count": 34,
     "metadata": {},
     "output_type": "execute_result"
    }
   ],
   "source": [
    "xcz"
   ]
  },
  {
   "cell_type": "code",
   "execution_count": 35,
   "id": "f9e8c4b7",
   "metadata": {},
   "outputs": [],
   "source": [
    "df_without_standarization['test R value'] = xcz"
   ]
  },
  {
   "cell_type": "code",
   "execution_count": 36,
   "id": "ad65b878",
   "metadata": {},
   "outputs": [
    {
     "data": {
      "image/png": "[encoded data removed]",
      "text/plain": [
       "<Figure size 640x480 with 1 Axes>"
      ]
     },
     "metadata": {},
     "output_type": "display_data"
    }
   ],
   "source": [
    "plt.plot(df_without_standarization['Correlation threshold'], df_without_standarization['train R value'], label = \"train R value\", marker='v')\n",
    "plt.plot(df_without_standarization['Correlation threshold'], df_without_standarization['test R value'], label = \"test R value\", marker='D')\n",
    "plt.legend()\n",
    "plt.xlabel('Correlation threshold')\n",
    "plt.ylabel('R score')\n",
    "plt.ylim([0, 1])\n",
    "plt.show()"
   ]
  },
  {
   "cell_type": "code",
   "execution_count": 37,
   "id": "2439c7cf",
   "metadata": {},
   "outputs": [
    {
     "data": {
      "image/png": "[encoded data removed]",
      "text/plain": [
       "<Figure size 640x480 with 1 Axes>"
      ]
     },
     "metadata": {},
     "output_type": "display_data"
    }
   ],
   "source": [
    "plt.plot(df_without_standarization['Correlation threshold'], df_without_standarization['Number of features'], label = \"Number of features\", marker='.')\n",
    "plt.legend()\n",
    "plt.xlabel('Correlation threshold')\n",
    "plt.ylabel('Number of features')\n",
    "plt.show()"
   ]
  },
  {
   "cell_type": "markdown",
   "id": "d6a658af",
   "metadata": {},
   "source": [
    "## Final model"
   ]
  },
  {
   "cell_type": "code",
   "execution_count": 38,
   "id": "395893e6",
   "metadata": {},
   "outputs": [
    {
     "name": "stdout",
     "output_type": "stream",
     "text": [
      "I am not doing standarization...\n",
      "  molecular descriptor name\n",
      "0                    AATS0Z\n",
      "1                  AATS0are\n",
      "2                    AATS0d\n",
      "3                   AATS0dv\n",
      "4                    AATS0i\n",
      "  molecular descriptor name  corr_value\n",
      "0                    AATS0Z   -0.105872\n",
      "1                  AATS0are    0.160494\n",
      "2                    AATS0d   -0.005044\n",
      "3                   AATS0dv    0.121256\n",
      "4                    AATS0i    0.140698\n",
      "  molecular descriptor name  corr_value  absolute correlation value\n",
      "0                    AATS0Z   -0.105872                    0.105872\n",
      "1                  AATS0are    0.160494                    0.160494\n",
      "2                    AATS0d   -0.005044                    0.005044\n",
      "3                   AATS0dv    0.121256                    0.121256\n",
      "4                    AATS0i    0.140698                    0.140698\n",
      "    molecular descriptor name  corr_value  absolute correlation value\n",
      "456                BCUTare-1l    0.345707                    0.345707\n",
      "520            ETA_dEpsilon_D    0.412783                    0.412783\n",
      "829                     NaaNH    0.386873                    0.386873\n",
      "831                      NaaS   -0.343855                    0.343855\n",
      "899                     SaaNH    0.359872                    0.359872\n",
      "    molecular descriptor name  corr_value  absolute correlation value\n",
      "456                BCUTare-1l    0.345707                    0.345707\n",
      "520            ETA_dEpsilon_D    0.412783                    0.412783\n",
      "829                     NaaNH    0.386873                    0.386873\n",
      "831                      NaaS   -0.343855                    0.343855\n",
      "899                     SaaNH    0.359872                    0.359872\n",
      "Return the coefficient of determination of the prediction: \n",
      "0.5451212271876462\n",
      "R^2 score: 0.8255180850602635\n",
      "Correlation coefficient: 0.9085802579080526\n",
      "Test data - unseen during training:\n",
      "R^2 score: -0.686246756949858\n",
      "Correlation coefficient: nan\n",
      "[79.6   68.3   52.025]\n",
      "0     81.0\n",
      "5     60.0\n",
      "14    28.0\n",
      "Name: Aktywność cytoprotekcyjna [%], dtype: float64\n"
     ]
    }
   ],
   "source": [
    "final_model = prepare_data_and_create_model(molecular_descriptors_df, 0.33, False, True)"
   ]
  },
  {
   "cell_type": "code",
   "execution_count": 39,
   "id": "067fe2c6",
   "metadata": {},
   "outputs": [
    {
     "data": {
      "text/plain": [
       "[DecisionTreeRegressor(max_features=1.0, random_state=1498160584),\n",
       " DecisionTreeRegressor(max_features=1.0, random_state=1346817781),\n",
       " DecisionTreeRegressor(max_features=1.0, random_state=768352140),\n",
       " DecisionTreeRegressor(max_features=1.0, random_state=392366725),\n",
       " DecisionTreeRegressor(max_features=1.0, random_state=233488247),\n",
       " DecisionTreeRegressor(max_features=1.0, random_state=476682624),\n",
       " DecisionTreeRegressor(max_features=1.0, random_state=1552795804),\n",
       " DecisionTreeRegressor(max_features=1.0, random_state=1368427163),\n",
       " DecisionTreeRegressor(max_features=1.0, random_state=1182837959),\n",
       " DecisionTreeRegressor(max_features=1.0, random_state=1832416971),\n",
       " DecisionTreeRegressor(max_features=1.0, random_state=128850005),\n",
       " DecisionTreeRegressor(max_features=1.0, random_state=107172470),\n",
       " DecisionTreeRegressor(max_features=1.0, random_state=1313911727),\n",
       " DecisionTreeRegressor(max_features=1.0, random_state=1384259805),\n",
       " DecisionTreeRegressor(max_features=1.0, random_state=1307707409),\n",
       " DecisionTreeRegressor(max_features=1.0, random_state=944571117),\n",
       " DecisionTreeRegressor(max_features=1.0, random_state=479925151),\n",
       " DecisionTreeRegressor(max_features=1.0, random_state=911000599),\n",
       " DecisionTreeRegressor(max_features=1.0, random_state=1073308064),\n",
       " DecisionTreeRegressor(max_features=1.0, random_state=1599572286)]"
      ]
     },
     "execution_count": 39,
     "metadata": {},
     "output_type": "execute_result"
    }
   ],
   "source": [
    "final_model[0].estimators_"
   ]
  },
  {
   "cell_type": "code",
   "execution_count": 40,
   "id": "3f53c48a",
   "metadata": {},
   "outputs": [],
   "source": [
    "#for x, decision_tree in enumerate(final_model[0].estimators_):\n",
    "    #plt.figure(figsize=(10,8), dpi=150)\n",
    "    #plot_tree(decision_tree, feature_names=list(final_model[4]['molecular descriptor name']))\n",
    "    #plt.savefig('Random_forest/random_forest'+str(x)+'.svg')"
   ]
  },
  {
   "cell_type": "code",
   "execution_count": 41,
   "id": "463afac1",
   "metadata": {},
   "outputs": [
    {
     "data": {
      "text/html": [
       "<div>\n",
       "<style scoped>\n",
       "    .dataframe tbody tr th:only-of-type {\n",
       "        vertical-align: middle;\n",
       "    }\n",
       "\n",
       "    .dataframe tbody tr th {\n",
       "        vertical-align: top;\n",
       "    }\n",
       "\n",
       "    .dataframe thead th {\n",
       "        text-align: right;\n",
       "    }\n",
       "</style>\n",
       "<table border=\"1\" class=\"dataframe\">\n",
       "  <thead>\n",
       "    <tr style=\"text-align: right;\">\n",
       "      <th></th>\n",
       "      <th>molecular descriptor name</th>\n",
       "      <th>corr_value</th>\n",
       "      <th>absolute correlation value</th>\n",
       "    </tr>\n",
       "  </thead>\n",
       "  <tbody>\n",
       "    <tr>\n",
       "      <th>456</th>\n",
       "      <td>BCUTare-1l</td>\n",
       "      <td>0.345707</td>\n",
       "      <td>0.345707</td>\n",
       "    </tr>\n",
       "    <tr>\n",
       "      <th>520</th>\n",
       "      <td>ETA_dEpsilon_D</td>\n",
       "      <td>0.412783</td>\n",
       "      <td>0.412783</td>\n",
       "    </tr>\n",
       "    <tr>\n",
       "      <th>829</th>\n",
       "      <td>NaaNH</td>\n",
       "      <td>0.386873</td>\n",
       "      <td>0.386873</td>\n",
       "    </tr>\n",
       "    <tr>\n",
       "      <th>831</th>\n",
       "      <td>NaaS</td>\n",
       "      <td>-0.343855</td>\n",
       "      <td>0.343855</td>\n",
       "    </tr>\n",
       "    <tr>\n",
       "      <th>899</th>\n",
       "      <td>SaaNH</td>\n",
       "      <td>0.359872</td>\n",
       "      <td>0.359872</td>\n",
       "    </tr>\n",
       "    <tr>\n",
       "      <th>901</th>\n",
       "      <td>SaaS</td>\n",
       "      <td>-0.343855</td>\n",
       "      <td>0.343855</td>\n",
       "    </tr>\n",
       "    <tr>\n",
       "      <th>913</th>\n",
       "      <td>SlogP_VSA1</td>\n",
       "      <td>0.338615</td>\n",
       "      <td>0.338615</td>\n",
       "    </tr>\n",
       "    <tr>\n",
       "      <th>1030</th>\n",
       "      <td>VR1_A</td>\n",
       "      <td>-0.339451</td>\n",
       "      <td>0.339451</td>\n",
       "    </tr>\n",
       "    <tr>\n",
       "      <th>1040</th>\n",
       "      <td>VR2_A</td>\n",
       "      <td>-0.339146</td>\n",
       "      <td>0.339146</td>\n",
       "    </tr>\n",
       "    <tr>\n",
       "      <th>1126</th>\n",
       "      <td>n6HRing</td>\n",
       "      <td>0.362058</td>\n",
       "      <td>0.362058</td>\n",
       "    </tr>\n",
       "    <tr>\n",
       "      <th>1128</th>\n",
       "      <td>n6aHRing</td>\n",
       "      <td>0.362527</td>\n",
       "      <td>0.362527</td>\n",
       "    </tr>\n",
       "    <tr>\n",
       "      <th>1160</th>\n",
       "      <td>nHBDon</td>\n",
       "      <td>0.394681</td>\n",
       "      <td>0.394681</td>\n",
       "    </tr>\n",
       "  </tbody>\n",
       "</table>\n",
       "</div>"
      ],
      "text/plain": [
       "     molecular descriptor name  corr_value  absolute correlation value\n",
       "456                 BCUTare-1l    0.345707                    0.345707\n",
       "520             ETA_dEpsilon_D    0.412783                    0.412783\n",
       "829                      NaaNH    0.386873                    0.386873\n",
       "831                       NaaS   -0.343855                    0.343855\n",
       "899                      SaaNH    0.359872                    0.359872\n",
       "901                       SaaS   -0.343855                    0.343855\n",
       "913                 SlogP_VSA1    0.338615                    0.338615\n",
       "1030                     VR1_A   -0.339451                    0.339451\n",
       "1040                     VR2_A   -0.339146                    0.339146\n",
       "1126                   n6HRing    0.362058                    0.362058\n",
       "1128                  n6aHRing    0.362527                    0.362527\n",
       "1160                    nHBDon    0.394681                    0.394681"
      ]
     },
     "execution_count": 41,
     "metadata": {},
     "output_type": "execute_result"
    }
   ],
   "source": [
    "final_model[4]"
   ]
  },
  {
   "cell_type": "code",
   "execution_count": 42,
   "id": "e3204259",
   "metadata": {},
   "outputs": [],
   "source": [
    "# save\n",
    "joblib.dump(final_model[0], \"random_forest_model.joblib\")\n",
    "# load, no need to initialize the loaded_rf\n",
    "loaded_rf = joblib.load(\"random_forest_model.joblib\")"
   ]
  },
  {
   "cell_type": "code",
   "execution_count": 43,
   "id": "ad209ee6",
   "metadata": {},
   "outputs": [
    {
     "data": {
      "text/plain": [
       "array([79.6  , 80.6  , 72.9  , 65.65 , 68.375, 68.3  , 65.075, 79.   ,\n",
       "       30.5  , 69.7  , 32.8  , 75.375, 48.475, 16.5  , 52.025, 54.9  ,\n",
       "       74.5  , 72.45 , 78.6  , 82.9  , 71.275, 61.7  , 30.75 , 48.85 ,\n",
       "       59.45 , 50.9  , 80.275, 56.425, 58.   , 68.9  , 71.05 , 75.85 ,\n",
       "       38.3  , 52.8  , 47.05 , 10.75 , 65.5  , 92.75 , 92.1  , 89.05 ,\n",
       "       86.05 , 85.05 , 83.65 , 74.35 ])"
      ]
     },
     "execution_count": 43,
     "metadata": {},
     "output_type": "execute_result"
    }
   ],
   "source": [
    "loaded_rf.predict(molecular_descriptors_df[final_model[4]['molecular descriptor name']])"
   ]
  },
  {
   "cell_type": "code",
   "execution_count": 44,
   "id": "cb6a4c15",
   "metadata": {},
   "outputs": [
    {
     "data": {
      "text/plain": [
       "0     81.0\n",
       "1     84.0\n",
       "2     70.0\n",
       "3     69.0\n",
       "4     68.5\n",
       "5     60.0\n",
       "6     60.0\n",
       "7     91.0\n",
       "8      0.0\n",
       "9     82.0\n",
       "10     0.0\n",
       "11    83.0\n",
       "12    48.0\n",
       "13     0.0\n",
       "14    28.0\n",
       "15    55.0\n",
       "16    81.0\n",
       "17    77.0\n",
       "18    76.0\n",
       "19    85.0\n",
       "20    86.0\n",
       "21    72.0\n",
       "22    17.0\n",
       "23    62.0\n",
       "24    80.0\n",
       "25    28.0\n",
       "26    92.0\n",
       "27    61.0\n",
       "28    64.0\n",
       "29    76.0\n",
       "30    84.0\n",
       "31    87.0\n",
       "32    28.0\n",
       "33    46.0\n",
       "34    24.0\n",
       "35     0.0\n",
       "36    67.0\n",
       "37    94.0\n",
       "38    93.0\n",
       "39    90.0\n",
       "40    87.0\n",
       "41    86.0\n",
       "42    82.0\n",
       "43    73.0\n",
       "Name: Aktywność cytoprotekcyjna [%], dtype: float64"
      ]
     },
     "execution_count": 44,
     "metadata": {},
     "output_type": "execute_result"
    }
   ],
   "source": [
    "molecular_descriptors_df['Aktywność cytoprotekcyjna [%]']"
   ]
  },
  {
   "cell_type": "code",
   "execution_count": 45,
   "id": "30f9c75c",
   "metadata": {},
   "outputs": [
    {
     "data": {
      "text/plain": [
       "0.6087214131582633"
      ]
     },
     "execution_count": 45,
     "metadata": {},
     "output_type": "execute_result"
    }
   ],
   "source": [
    "xsz = r2_score(loaded_rf.predict(molecular_descriptors_df[hist2['molecular descriptor name']]), molecular_descriptors_df['Aktywność cytoprotekcyjna [%]'])\n",
    "xsz"
   ]
  },
  {
   "cell_type": "code",
   "execution_count": 46,
   "id": "43ea7b7d",
   "metadata": {},
   "outputs": [
    {
     "data": {
      "text/plain": [
       "0.7802060068714309"
      ]
     },
     "execution_count": 46,
     "metadata": {},
     "output_type": "execute_result"
    }
   ],
   "source": [
    "np.sqrt(xsz)"
   ]
  },
  {
   "cell_type": "markdown",
   "id": "a4ec6684",
   "metadata": {},
   "source": [
    "## Predict target feature"
   ]
  },
  {
   "cell_type": "code",
   "execution_count": null,
   "id": "d1aa062f",
   "metadata": {},
   "outputs": [],
   "source": [
    "New_approach is developed..."
   ]
  },
  {
   "cell_type": "code",
   "execution_count": null,
   "id": "486f42a4",
   "metadata": {},
   "outputs": [],
   "source": [
    "to_prediction = prepare_data('../Data/Proposed_structures_with_AI_indole_tanimoto_similarity_.xlsx')"
   ]
  },
  {
   "cell_type": "code",
   "execution_count": null,
   "id": "7b4d310d",
   "metadata": {},
   "outputs": [],
   "source": [
    "predicted_activity = loaded_rf.predict(to_prediction[final_model[4]['molecular descriptor name']])"
   ]
  },
  {
   "cell_type": "code",
   "execution_count": null,
   "id": "4301af74",
   "metadata": {},
   "outputs": [],
   "source": [
    "smiles = pd.read_excel('../Data/Proposed_structures_with_AI_indole_tanimoto_similarity_.xlsx')\n",
    "smiles = smiles['new_SMILES']\n",
    "smiles = smiles.to_list()\n",
    "save_to_df = pd.DataFrame(data=smiles, columns=['SMILES'])"
   ]
  },
  {
   "cell_type": "code",
   "execution_count": null,
   "id": "c6f2e3a1",
   "metadata": {},
   "outputs": [],
   "source": [
    "print(len(smiles))\n",
    "print(len(predicted_activity))"
   ]
  },
  {
   "cell_type": "code",
   "execution_count": null,
   "id": "0e1a6702",
   "metadata": {},
   "outputs": [],
   "source": [
    "save_to_df.head()"
   ]
  },
  {
   "cell_type": "code",
   "execution_count": null,
   "id": "e271e5bc",
   "metadata": {},
   "outputs": [],
   "source": [
    "save_to_df['Predicted activity'] = predicted_activity"
   ]
  },
  {
   "cell_type": "code",
   "execution_count": null,
   "id": "e84fada6",
   "metadata": {},
   "outputs": [],
   "source": [
    "save_to_df.head()"
   ]
  },
  {
   "cell_type": "code",
   "execution_count": null,
   "id": "4ca9f8b6",
   "metadata": {},
   "outputs": [],
   "source": [
    "save_to_df.to_excel('../Data/Predicted_random_forest.xlsx')"
   ]
  }
 ],
 "metadata": {
  "kernelspec": {
   "display_name": "Python 3 (ipykernel)",
   "language": "python",
   "name": "python3"
  },
  "language_info": {
   "codemirror_mode": {
    "name": "ipython",
    "version": 3
   },
   "file_extension": ".py",
   "mimetype": "text/x-python",
   "name": "python",
   "nbconvert_exporter": "python",
   "pygments_lexer": "ipython3",
   "version": "3.9.15"
  }
 },
 "nbformat": 4,
 "nbformat_minor": 5
}
