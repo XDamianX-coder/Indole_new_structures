{
 "cells": [
  {
   "cell_type": "code",
   "execution_count": 1,
   "id": "208d415d",
   "metadata": {},
   "outputs": [],
   "source": [
    "import sys\n",
    "from pathlib import Path\n",
    "prediction_mode_path = Path(\"../module\")\n",
    "sys.path.append(prediction_mode_path.as_posix())\n",
    "import predictions_v05 as pred_mode\n",
    "\n",
    "import pandas as pd\n",
    "import numpy as np\n",
    "\n",
    "from sklearn.metrics import r2_score\n",
    "\n",
    "import matplotlib.pyplot as plt\n",
    "\n",
    "import warnings\n",
    "warnings.filterwarnings('ignore')"
   ]
  },
  {
   "cell_type": "markdown",
   "id": "58bad1e9",
   "metadata": {},
   "source": [
    "### model_type ==\n",
    "#### RandomForestRegressor\n",
    "\n",
    "#### DecisionTreeRegressor\n",
    "\n",
    "#### KNeighborsRegressor\n",
    "\n",
    "#### SVR\n",
    "\n",
    "#### linear_model\n",
    "\n"
   ]
  },
  {
   "cell_type": "code",
   "execution_count": 2,
   "id": "704552b6",
   "metadata": {},
   "outputs": [
    {
     "name": "stderr",
     "output_type": "stream",
     "text": [
      " 25%|████████████████████▌                                                             | 11/44 [00:01<00:03,  8.75it/s]"
     ]
    },
    {
     "name": "stdout",
     "output_type": "stream",
     "text": [
      "C:\\Users\\aleks\\anaconda3\\envs\\cheminf_gpu\\lib\\site-packages\\numpy\\core\\fromnumeric.py:86: RuntimeWarning: overflow encountered in reduce\n",
      "  return ufunc.reduce(obj, axis, dtype, out, **passkwargs)\n"
     ]
    },
    {
     "name": "stderr",
     "output_type": "stream",
     "text": [
      "100%|██████████████████████████████████████████████████████████████████████████████████| 44/44 [00:01<00:00, 23.75it/s]\n"
     ]
    },
    {
     "name": "stdout",
     "output_type": "stream",
     "text": [
      "Data size (rows, columns): (44, 1613)\n",
      "Data size after first reduction (rows, columns): (44, 1433)\n",
      "Data size after second reduction (rows, columns): (44, 1182)\n"
     ]
    }
   ],
   "source": [
    "molecular_descriptors_df = pred_mode.prepare_data('../Data/Indole_-_cytoprotekcja_.xlsx')"
   ]
  },
  {
   "cell_type": "code",
   "execution_count": 3,
   "id": "0b50d8b4",
   "metadata": {},
   "outputs": [
    {
     "name": "stdout",
     "output_type": "stream",
     "text": [
      "I am not doing standarization...\n",
      "  molecular descriptor name\n",
      "0                    AATS0Z\n",
      "1                  AATS0are\n",
      "2                    AATS0d\n",
      "3                   AATS0dv\n",
      "4                    AATS0i\n",
      "  molecular descriptor name  corr_value\n",
      "0                    AATS0Z   -0.105872\n",
      "1                  AATS0are    0.160494\n",
      "2                    AATS0d   -0.005044\n",
      "3                   AATS0dv    0.121256\n",
      "4                    AATS0i    0.140698\n",
      "  molecular descriptor name  corr_value  absolute correlation value\n",
      "0                    AATS0Z   -0.105872                    0.105872\n",
      "1                  AATS0are    0.160494                    0.160494\n",
      "2                    AATS0d   -0.005044                    0.005044\n",
      "3                   AATS0dv    0.121256                    0.121256\n",
      "4                    AATS0i    0.140698                    0.140698\n",
      "    molecular descriptor name  corr_value  absolute correlation value\n",
      "456                BCUTare-1l    0.345707                    0.345707\n",
      "520            ETA_dEpsilon_D    0.412783                    0.412783\n",
      "829                     NaaNH    0.386873                    0.386873\n",
      "831                      NaaS   -0.343855                    0.343855\n",
      "899                     SaaNH    0.359872                    0.359872\n",
      "    molecular descriptor name  corr_value  absolute correlation value\n",
      "456                BCUTare-1l    0.345707                    0.345707\n",
      "520            ETA_dEpsilon_D    0.412783                    0.412783\n",
      "829                     NaaNH    0.386873                    0.386873\n",
      "831                      NaaS   -0.343855                    0.343855\n",
      "899                     SaaNH    0.359872                    0.359872\n",
      "The model used is: SVR...\n",
      "Return the coefficient of determination of the prediction: \n",
      "0.24844307048739633\n",
      "R^2 score: -2.5461385394518\n",
      "Correlation coefficient: nan\n",
      "Test data - unseen during training:\n",
      "R^2 score: -7.930820607447256\n",
      "Correlation coefficient: nan\n",
      "[84.18247923 67.80982436 67.6535445  67.66380409]\n",
      "37    94.0\n",
      "24    80.0\n",
      "25    28.0\n",
      "36    67.0\n",
      "Name: Aktywność cytoprotekcyjna [%], dtype: float64\n"
     ]
    }
   ],
   "source": [
    "without_standarization, train_r2_, test_r2_, hist1, hist2 = pred_mode.prepare_data_and_create_model(molecular_descriptors_df = molecular_descriptors_df, \n",
    "                                                                                                    correlation_threshold = 0.33, \n",
    "                                                                                                    standarization = False, \n",
    "                                                                                                    model_type = 'SVR',\n",
    "                                                                                                    kernel_ = 'linear', #‘linear’, ‘poly’, ‘rbf’, ‘sigmoid’, ‘precomputed’\n",
    "                                                                                                    gamma_ = 'auto', #‘scale’, ‘auto’\n",
    "                                                                                                    train_test_split_ = True, \n",
    "                                                                                                    verbose = True)"
   ]
  },
  {
   "cell_type": "code",
   "execution_count": 4,
   "id": "2c6550c5",
   "metadata": {},
   "outputs": [
    {
     "name": "stdout",
     "output_type": "stream",
     "text": [
      "Target distribution histogram: \n",
      "AxesSubplot(0.125,0.11;0.775x0.77)\n"
     ]
    },
    {
     "data": {
      "image/png": "[encoded data removed]",
      "text/plain": [
       "<Figure size 640x480 with 1 Axes>"
      ]
     },
     "metadata": {},
     "output_type": "display_data"
    }
   ],
   "source": [
    "print('Target distribution histogram: ')\n",
    "print(hist1['Aktywność cytoprotekcyjna [%]'].hist())"
   ]
  },
  {
   "cell_type": "code",
   "execution_count": 5,
   "id": "3d661724",
   "metadata": {},
   "outputs": [
    {
     "name": "stdout",
     "output_type": "stream",
     "text": [
      "Number of features (molecular descriptors used): 12\n"
     ]
    }
   ],
   "source": [
    "print(\"Number of features (molecular descriptors used): \"+ str(len(hist2)))"
   ]
  },
  {
   "cell_type": "code",
   "execution_count": 6,
   "id": "5b2c553d",
   "metadata": {},
   "outputs": [
    {
     "data": {
      "text/html": [
       "<div>\n",
       "<style scoped>\n",
       "    .dataframe tbody tr th:only-of-type {\n",
       "        vertical-align: middle;\n",
       "    }\n",
       "\n",
       "    .dataframe tbody tr th {\n",
       "        vertical-align: top;\n",
       "    }\n",
       "\n",
       "    .dataframe thead th {\n",
       "        text-align: right;\n",
       "    }\n",
       "</style>\n",
       "<table border=\"1\" class=\"dataframe\">\n",
       "  <thead>\n",
       "    <tr style=\"text-align: right;\">\n",
       "      <th></th>\n",
       "      <th>molecular descriptor name</th>\n",
       "      <th>corr_value</th>\n",
       "      <th>absolute correlation value</th>\n",
       "    </tr>\n",
       "  </thead>\n",
       "  <tbody>\n",
       "    <tr>\n",
       "      <th>456</th>\n",
       "      <td>BCUTare-1l</td>\n",
       "      <td>0.345707</td>\n",
       "      <td>0.345707</td>\n",
       "    </tr>\n",
       "    <tr>\n",
       "      <th>520</th>\n",
       "      <td>ETA_dEpsilon_D</td>\n",
       "      <td>0.412783</td>\n",
       "      <td>0.412783</td>\n",
       "    </tr>\n",
       "    <tr>\n",
       "      <th>829</th>\n",
       "      <td>NaaNH</td>\n",
       "      <td>0.386873</td>\n",
       "      <td>0.386873</td>\n",
       "    </tr>\n",
       "    <tr>\n",
       "      <th>831</th>\n",
       "      <td>NaaS</td>\n",
       "      <td>-0.343855</td>\n",
       "      <td>0.343855</td>\n",
       "    </tr>\n",
       "    <tr>\n",
       "      <th>899</th>\n",
       "      <td>SaaNH</td>\n",
       "      <td>0.359872</td>\n",
       "      <td>0.359872</td>\n",
       "    </tr>\n",
       "    <tr>\n",
       "      <th>901</th>\n",
       "      <td>SaaS</td>\n",
       "      <td>-0.343855</td>\n",
       "      <td>0.343855</td>\n",
       "    </tr>\n",
       "    <tr>\n",
       "      <th>913</th>\n",
       "      <td>SlogP_VSA1</td>\n",
       "      <td>0.338615</td>\n",
       "      <td>0.338615</td>\n",
       "    </tr>\n",
       "    <tr>\n",
       "      <th>1030</th>\n",
       "      <td>VR1_A</td>\n",
       "      <td>-0.339451</td>\n",
       "      <td>0.339451</td>\n",
       "    </tr>\n",
       "    <tr>\n",
       "      <th>1040</th>\n",
       "      <td>VR2_A</td>\n",
       "      <td>-0.339146</td>\n",
       "      <td>0.339146</td>\n",
       "    </tr>\n",
       "    <tr>\n",
       "      <th>1126</th>\n",
       "      <td>n6HRing</td>\n",
       "      <td>0.362058</td>\n",
       "      <td>0.362058</td>\n",
       "    </tr>\n",
       "    <tr>\n",
       "      <th>1128</th>\n",
       "      <td>n6aHRing</td>\n",
       "      <td>0.362527</td>\n",
       "      <td>0.362527</td>\n",
       "    </tr>\n",
       "    <tr>\n",
       "      <th>1160</th>\n",
       "      <td>nHBDon</td>\n",
       "      <td>0.394681</td>\n",
       "      <td>0.394681</td>\n",
       "    </tr>\n",
       "  </tbody>\n",
       "</table>\n",
       "</div>"
      ],
      "text/plain": [
       "     molecular descriptor name  corr_value  absolute correlation value\n",
       "456                 BCUTare-1l    0.345707                    0.345707\n",
       "520             ETA_dEpsilon_D    0.412783                    0.412783\n",
       "829                      NaaNH    0.386873                    0.386873\n",
       "831                       NaaS   -0.343855                    0.343855\n",
       "899                      SaaNH    0.359872                    0.359872\n",
       "901                       SaaS   -0.343855                    0.343855\n",
       "913                 SlogP_VSA1    0.338615                    0.338615\n",
       "1030                     VR1_A   -0.339451                    0.339451\n",
       "1040                     VR2_A   -0.339146                    0.339146\n",
       "1126                   n6HRing    0.362058                    0.362058\n",
       "1128                  n6aHRing    0.362527                    0.362527\n",
       "1160                    nHBDon    0.394681                    0.394681"
      ]
     },
     "execution_count": 6,
     "metadata": {},
     "output_type": "execute_result"
    }
   ],
   "source": [
    "hist2"
   ]
  },
  {
   "cell_type": "code",
   "execution_count": 7,
   "id": "ff245877",
   "metadata": {},
   "outputs": [
    {
     "name": "stdout",
     "output_type": "stream",
     "text": [
      "I am doing standarization...\n",
      "  molecular descriptor name\n",
      "0                    AATS0Z\n",
      "1                  AATS0are\n",
      "2                    AATS0d\n",
      "3                   AATS0dv\n",
      "4                    AATS0i\n",
      "  molecular descriptor name  corr_value\n",
      "0                    AATS0Z   -0.105872\n",
      "1                  AATS0are    0.160494\n",
      "2                    AATS0d   -0.005044\n",
      "3                   AATS0dv    0.121256\n",
      "4                    AATS0i    0.140698\n",
      "  molecular descriptor name  corr_value  absolute correlation value\n",
      "0                    AATS0Z   -0.105872                    0.105872\n",
      "1                  AATS0are    0.160494                    0.160494\n",
      "2                    AATS0d   -0.005044                    0.005044\n",
      "3                   AATS0dv    0.121256                    0.121256\n",
      "4                    AATS0i    0.140698                    0.140698\n",
      "    molecular descriptor name  corr_value  absolute correlation value\n",
      "456                BCUTare-1l    0.345707                    0.345707\n",
      "520            ETA_dEpsilon_D    0.412783                    0.412783\n",
      "829                     NaaNH    0.386873                    0.386873\n",
      "831                      NaaS   -0.343855                    0.343855\n",
      "899                     SaaNH    0.359872                    0.359872\n",
      "    molecular descriptor name  corr_value  absolute correlation value\n",
      "456                BCUTare-1l    0.345707                    0.345707\n",
      "520            ETA_dEpsilon_D    0.412783                    0.412783\n",
      "829                     NaaNH    0.386873                    0.386873\n",
      "831                      NaaS   -0.343855                    0.343855\n",
      "899                     SaaNH    0.359872                    0.359872\n",
      "The model used is: SVR...\n",
      "Return the coefficient of determination of the prediction: \n",
      "0.24844307048739633\n",
      "R^2 score: -2.5461385394518\n",
      "Correlation coefficient: nan\n",
      "Test data - unseen during training:\n",
      "R^2 score: -7.930820607447256\n",
      "Correlation coefficient: nan\n",
      "[84.18247923 67.80982436 67.6535445  67.66380409]\n",
      "37    94.0\n",
      "24    80.0\n",
      "25    28.0\n",
      "36    67.0\n",
      "Name: Aktywność cytoprotekcyjna [%], dtype: float64\n"
     ]
    }
   ],
   "source": [
    "with_standarization, train_r2, test_r2, hist1_, hist2_ = pred_mode.prepare_data_and_create_model(molecular_descriptors_df = molecular_descriptors_df, \n",
    "                                                                                                    correlation_threshold = 0.33, \n",
    "                                                                                                    standarization = True, \n",
    "                                                                                                    model_type = 'SVR',\n",
    "                                                                                                    kernel_ = 'linear', #‘linear’, ‘poly’, ‘rbf’, ‘sigmoid’, ‘precomputed’\n",
    "                                                                                                    gamma_ = 'auto', #‘scale’, ‘auto’\n",
    "                                                                                                    train_test_split_ = True, \n",
    "                                                                                                    verbose = True)"
   ]
  },
  {
   "cell_type": "code",
   "execution_count": 8,
   "id": "52985b21",
   "metadata": {},
   "outputs": [
    {
     "data": {
      "text/plain": [
       "array([ 74.84573835,  74.86607255,  74.85322991,  74.55826237,\n",
       "        67.9804025 ,  68.49979815,  67.98667053,  69.59526261,\n",
       "        74.11229412, 101.68243689, 295.53061893,  68.06327033,\n",
       "        60.30330786,  67.82945052,  60.40953563,  60.42277388,\n",
       "        67.49660444,  67.5960052 ,  67.72961214,  67.62311507,\n",
       "        67.93172641,  68.25639013,  67.96291682,  75.17088861,\n",
       "        67.80982436,  67.6535445 ,  67.44556162,  60.31439553,\n",
       "        67.6649004 ,  67.70521141,  67.71141075,  67.71649729,\n",
       "        67.53400574,  67.79133463,  67.70612438,  63.92610393,\n",
       "        67.66380409,  84.18247923,  79.84000033,  79.92649806,\n",
       "        86.01965608,  86.07603286,  86.07280496,  74.51267316])"
      ]
     },
     "execution_count": 8,
     "metadata": {},
     "output_type": "execute_result"
    }
   ],
   "source": [
    "with_standarization.predict(molecular_descriptors_df[hist2_['molecular descriptor name']])"
   ]
  },
  {
   "cell_type": "code",
   "execution_count": 9,
   "id": "34a70ea3",
   "metadata": {},
   "outputs": [
    {
     "data": {
      "text/plain": [
       "-1.2176657169786025"
      ]
     },
     "execution_count": 9,
     "metadata": {},
     "output_type": "execute_result"
    }
   ],
   "source": [
    "xs = r2_score(with_standarization.predict(molecular_descriptors_df[hist2_['molecular descriptor name']]), molecular_descriptors_df['Aktywność cytoprotekcyjna [%]'])\n",
    "xs"
   ]
  },
  {
   "cell_type": "markdown",
   "id": "1da5abbb",
   "metadata": {},
   "source": [
    "## Search inside correlation space"
   ]
  },
  {
   "cell_type": "code",
   "execution_count": 10,
   "id": "b85e7040",
   "metadata": {},
   "outputs": [],
   "source": [
    "step = 0.01\n",
    "initial_step = 0.25\n",
    "last_step = 0.4\n",
    "first_list = [x / 100.0 for x in range(int(initial_step*100), int(last_step*100), int(step*100))]\n",
    "second_list = []\n",
    "third_list = []\n",
    "f_list = []\n",
    "for i in first_list:\n",
    "    without_standarization, train_r2, test_r2, _, h_ = pred_mode.prepare_data_and_create_model(molecular_descriptors_df = molecular_descriptors_df, \n",
    "                                                                                                    correlation_threshold = i, \n",
    "                                                                                                    standarization = False, \n",
    "                                                                                                    model_type = 'SVR',\n",
    "                                                                                                    kernel_ = 'linear', #‘linear’, ‘poly’, ‘rbf’, ‘sigmoid’, ‘precomputed’\n",
    "                                                                                                    gamma_ = 'auto', #‘scale’, ‘auto’\n",
    "                                                                                                    train_test_split_ = True, \n",
    "                                                                                                    verbose = False)\n",
    "    second_list.append(train_r2)\n",
    "    third_list.append(test_r2)\n",
    "    f_list.append(len(h_))\n"
   ]
  },
  {
   "cell_type": "code",
   "execution_count": 11,
   "id": "7700e859",
   "metadata": {},
   "outputs": [],
   "source": [
    "df_without_standarization = pd.DataFrame(data=first_list, columns=[\"Correlation threshold\"])\n",
    "df_without_standarization['Training data R^2 score'] = second_list\n",
    "df_without_standarization['Test data R^2 score'] = third_list\n",
    "df_without_standarization['Number of features'] = f_list"
   ]
  },
  {
   "cell_type": "code",
   "execution_count": 12,
   "id": "50386b39",
   "metadata": {},
   "outputs": [
    {
     "data": {
      "text/html": [
       "<div>\n",
       "<style scoped>\n",
       "    .dataframe tbody tr th:only-of-type {\n",
       "        vertical-align: middle;\n",
       "    }\n",
       "\n",
       "    .dataframe tbody tr th {\n",
       "        vertical-align: top;\n",
       "    }\n",
       "\n",
       "    .dataframe thead th {\n",
       "        text-align: right;\n",
       "    }\n",
       "</style>\n",
       "<table border=\"1\" class=\"dataframe\">\n",
       "  <thead>\n",
       "    <tr style=\"text-align: right;\">\n",
       "      <th></th>\n",
       "      <th>Correlation threshold</th>\n",
       "      <th>Training data R^2 score</th>\n",
       "      <th>Test data R^2 score</th>\n",
       "      <th>Number of features</th>\n",
       "    </tr>\n",
       "  </thead>\n",
       "  <tbody>\n",
       "    <tr>\n",
       "      <th>0</th>\n",
       "      <td>0.25</td>\n",
       "      <td>-77.793139</td>\n",
       "      <td>-3.415220</td>\n",
       "      <td>46</td>\n",
       "    </tr>\n",
       "    <tr>\n",
       "      <th>1</th>\n",
       "      <td>0.26</td>\n",
       "      <td>-17.319169</td>\n",
       "      <td>-19.007232</td>\n",
       "      <td>38</td>\n",
       "    </tr>\n",
       "    <tr>\n",
       "      <th>2</th>\n",
       "      <td>0.27</td>\n",
       "      <td>-13.833180</td>\n",
       "      <td>-12.120067</td>\n",
       "      <td>30</td>\n",
       "    </tr>\n",
       "    <tr>\n",
       "      <th>3</th>\n",
       "      <td>0.28</td>\n",
       "      <td>-1.085062</td>\n",
       "      <td>-1.560396</td>\n",
       "      <td>28</td>\n",
       "    </tr>\n",
       "    <tr>\n",
       "      <th>4</th>\n",
       "      <td>0.29</td>\n",
       "      <td>-2.273341</td>\n",
       "      <td>-5.189926</td>\n",
       "      <td>26</td>\n",
       "    </tr>\n",
       "    <tr>\n",
       "      <th>5</th>\n",
       "      <td>0.30</td>\n",
       "      <td>0.132465</td>\n",
       "      <td>-4.614892</td>\n",
       "      <td>21</td>\n",
       "    </tr>\n",
       "    <tr>\n",
       "      <th>6</th>\n",
       "      <td>0.31</td>\n",
       "      <td>-0.240401</td>\n",
       "      <td>-4.860237</td>\n",
       "      <td>20</td>\n",
       "    </tr>\n",
       "    <tr>\n",
       "      <th>7</th>\n",
       "      <td>0.32</td>\n",
       "      <td>-0.350902</td>\n",
       "      <td>-7.225476</td>\n",
       "      <td>15</td>\n",
       "    </tr>\n",
       "    <tr>\n",
       "      <th>8</th>\n",
       "      <td>0.33</td>\n",
       "      <td>-2.546139</td>\n",
       "      <td>-7.930821</td>\n",
       "      <td>12</td>\n",
       "    </tr>\n",
       "    <tr>\n",
       "      <th>9</th>\n",
       "      <td>0.34</td>\n",
       "      <td>0.061923</td>\n",
       "      <td>-12.167488</td>\n",
       "      <td>9</td>\n",
       "    </tr>\n",
       "    <tr>\n",
       "      <th>10</th>\n",
       "      <td>0.35</td>\n",
       "      <td>0.046061</td>\n",
       "      <td>-12.167490</td>\n",
       "      <td>6</td>\n",
       "    </tr>\n",
       "    <tr>\n",
       "      <th>11</th>\n",
       "      <td>0.36</td>\n",
       "      <td>0.040427</td>\n",
       "      <td>-13.058881</td>\n",
       "      <td>5</td>\n",
       "    </tr>\n",
       "    <tr>\n",
       "      <th>12</th>\n",
       "      <td>0.37</td>\n",
       "      <td>-0.017808</td>\n",
       "      <td>-27.794391</td>\n",
       "      <td>3</td>\n",
       "    </tr>\n",
       "    <tr>\n",
       "      <th>13</th>\n",
       "      <td>0.38</td>\n",
       "      <td>-0.017808</td>\n",
       "      <td>-27.794391</td>\n",
       "      <td>3</td>\n",
       "    </tr>\n",
       "    <tr>\n",
       "      <th>14</th>\n",
       "      <td>0.39</td>\n",
       "      <td>-0.019982</td>\n",
       "      <td>-80.543215</td>\n",
       "      <td>2</td>\n",
       "    </tr>\n",
       "  </tbody>\n",
       "</table>\n",
       "</div>"
      ],
      "text/plain": [
       "    Correlation threshold  Training data R^2 score  Test data R^2 score  \\\n",
       "0                    0.25               -77.793139            -3.415220   \n",
       "1                    0.26               -17.319169           -19.007232   \n",
       "2                    0.27               -13.833180           -12.120067   \n",
       "3                    0.28                -1.085062            -1.560396   \n",
       "4                    0.29                -2.273341            -5.189926   \n",
       "5                    0.30                 0.132465            -4.614892   \n",
       "6                    0.31                -0.240401            -4.860237   \n",
       "7                    0.32                -0.350902            -7.225476   \n",
       "8                    0.33                -2.546139            -7.930821   \n",
       "9                    0.34                 0.061923           -12.167488   \n",
       "10                   0.35                 0.046061           -12.167490   \n",
       "11                   0.36                 0.040427           -13.058881   \n",
       "12                   0.37                -0.017808           -27.794391   \n",
       "13                   0.38                -0.017808           -27.794391   \n",
       "14                   0.39                -0.019982           -80.543215   \n",
       "\n",
       "    Number of features  \n",
       "0                   46  \n",
       "1                   38  \n",
       "2                   30  \n",
       "3                   28  \n",
       "4                   26  \n",
       "5                   21  \n",
       "6                   20  \n",
       "7                   15  \n",
       "8                   12  \n",
       "9                    9  \n",
       "10                   6  \n",
       "11                   5  \n",
       "12                   3  \n",
       "13                   3  \n",
       "14                   2  "
      ]
     },
     "execution_count": 12,
     "metadata": {},
     "output_type": "execute_result"
    }
   ],
   "source": [
    "df_without_standarization"
   ]
  },
  {
   "cell_type": "code",
   "execution_count": 13,
   "id": "ca75c1a7",
   "metadata": {},
   "outputs": [],
   "source": [
    "step = 0.01\n",
    "initial_step = 0.25\n",
    "last_step = 0.4\n",
    "first_list = [x / 100.0 for x in range(int(initial_step*100), int(last_step*100), int(step*100))]\n",
    "second_list = []\n",
    "third_list = []\n",
    "f_list = []\n",
    "for i in first_list:\n",
    "    without_standarization, train_r2, test_r2, _, h_ = pred_mode.prepare_data_and_create_model(molecular_descriptors_df = molecular_descriptors_df, \n",
    "                                                                                                    correlation_threshold = i, \n",
    "                                                                                                    standarization = True, \n",
    "                                                                                                    model_type = 'SVR',\n",
    "                                                                                                    kernel_ = 'linear', #‘linear’, ‘poly’, ‘rbf’, ‘sigmoid’, ‘precomputed’\n",
    "                                                                                                    gamma_ = 'auto', #‘scale’, ‘auto’\n",
    "                                                                                                    train_test_split_ = True, \n",
    "                                                                                                    verbose = False)\n",
    "    second_list.append(train_r2)\n",
    "    third_list.append(test_r2)\n",
    "    f_list.append(len(h_))"
   ]
  },
  {
   "cell_type": "code",
   "execution_count": 14,
   "id": "3e954047",
   "metadata": {},
   "outputs": [],
   "source": [
    "df_with_standarization = pd.DataFrame(data=first_list, columns=[\"Correlation threshold\"])\n",
    "df_with_standarization['Training data R^2 score'] = second_list\n",
    "df_with_standarization['Test data R^2 score'] = third_list\n",
    "df_with_standarization['Number of features'] = f_list"
   ]
  },
  {
   "cell_type": "code",
   "execution_count": 15,
   "id": "a3dfe229",
   "metadata": {},
   "outputs": [
    {
     "data": {
      "text/html": [
       "<div>\n",
       "<style scoped>\n",
       "    .dataframe tbody tr th:only-of-type {\n",
       "        vertical-align: middle;\n",
       "    }\n",
       "\n",
       "    .dataframe tbody tr th {\n",
       "        vertical-align: top;\n",
       "    }\n",
       "\n",
       "    .dataframe thead th {\n",
       "        text-align: right;\n",
       "    }\n",
       "</style>\n",
       "<table border=\"1\" class=\"dataframe\">\n",
       "  <thead>\n",
       "    <tr style=\"text-align: right;\">\n",
       "      <th></th>\n",
       "      <th>Correlation threshold</th>\n",
       "      <th>Training data R^2 score</th>\n",
       "      <th>Test data R^2 score</th>\n",
       "      <th>Number of features</th>\n",
       "    </tr>\n",
       "  </thead>\n",
       "  <tbody>\n",
       "    <tr>\n",
       "      <th>0</th>\n",
       "      <td>0.25</td>\n",
       "      <td>-77.793139</td>\n",
       "      <td>-3.415220</td>\n",
       "      <td>46</td>\n",
       "    </tr>\n",
       "    <tr>\n",
       "      <th>1</th>\n",
       "      <td>0.26</td>\n",
       "      <td>-17.319169</td>\n",
       "      <td>-19.007232</td>\n",
       "      <td>38</td>\n",
       "    </tr>\n",
       "    <tr>\n",
       "      <th>2</th>\n",
       "      <td>0.27</td>\n",
       "      <td>-13.833180</td>\n",
       "      <td>-12.120067</td>\n",
       "      <td>30</td>\n",
       "    </tr>\n",
       "    <tr>\n",
       "      <th>3</th>\n",
       "      <td>0.28</td>\n",
       "      <td>-1.085062</td>\n",
       "      <td>-1.560396</td>\n",
       "      <td>28</td>\n",
       "    </tr>\n",
       "    <tr>\n",
       "      <th>4</th>\n",
       "      <td>0.29</td>\n",
       "      <td>-2.273341</td>\n",
       "      <td>-5.189926</td>\n",
       "      <td>26</td>\n",
       "    </tr>\n",
       "    <tr>\n",
       "      <th>5</th>\n",
       "      <td>0.30</td>\n",
       "      <td>0.132465</td>\n",
       "      <td>-4.614892</td>\n",
       "      <td>21</td>\n",
       "    </tr>\n",
       "    <tr>\n",
       "      <th>6</th>\n",
       "      <td>0.31</td>\n",
       "      <td>-0.240401</td>\n",
       "      <td>-4.860237</td>\n",
       "      <td>20</td>\n",
       "    </tr>\n",
       "    <tr>\n",
       "      <th>7</th>\n",
       "      <td>0.32</td>\n",
       "      <td>-0.350902</td>\n",
       "      <td>-7.225476</td>\n",
       "      <td>15</td>\n",
       "    </tr>\n",
       "    <tr>\n",
       "      <th>8</th>\n",
       "      <td>0.33</td>\n",
       "      <td>-2.546139</td>\n",
       "      <td>-7.930821</td>\n",
       "      <td>12</td>\n",
       "    </tr>\n",
       "    <tr>\n",
       "      <th>9</th>\n",
       "      <td>0.34</td>\n",
       "      <td>0.061923</td>\n",
       "      <td>-12.167488</td>\n",
       "      <td>9</td>\n",
       "    </tr>\n",
       "    <tr>\n",
       "      <th>10</th>\n",
       "      <td>0.35</td>\n",
       "      <td>0.046061</td>\n",
       "      <td>-12.167490</td>\n",
       "      <td>6</td>\n",
       "    </tr>\n",
       "    <tr>\n",
       "      <th>11</th>\n",
       "      <td>0.36</td>\n",
       "      <td>0.040427</td>\n",
       "      <td>-13.058881</td>\n",
       "      <td>5</td>\n",
       "    </tr>\n",
       "    <tr>\n",
       "      <th>12</th>\n",
       "      <td>0.37</td>\n",
       "      <td>-0.017808</td>\n",
       "      <td>-27.794391</td>\n",
       "      <td>3</td>\n",
       "    </tr>\n",
       "    <tr>\n",
       "      <th>13</th>\n",
       "      <td>0.38</td>\n",
       "      <td>-0.017808</td>\n",
       "      <td>-27.794391</td>\n",
       "      <td>3</td>\n",
       "    </tr>\n",
       "    <tr>\n",
       "      <th>14</th>\n",
       "      <td>0.39</td>\n",
       "      <td>-0.019982</td>\n",
       "      <td>-80.543215</td>\n",
       "      <td>2</td>\n",
       "    </tr>\n",
       "  </tbody>\n",
       "</table>\n",
       "</div>"
      ],
      "text/plain": [
       "    Correlation threshold  Training data R^2 score  Test data R^2 score  \\\n",
       "0                    0.25               -77.793139            -3.415220   \n",
       "1                    0.26               -17.319169           -19.007232   \n",
       "2                    0.27               -13.833180           -12.120067   \n",
       "3                    0.28                -1.085062            -1.560396   \n",
       "4                    0.29                -2.273341            -5.189926   \n",
       "5                    0.30                 0.132465            -4.614892   \n",
       "6                    0.31                -0.240401            -4.860237   \n",
       "7                    0.32                -0.350902            -7.225476   \n",
       "8                    0.33                -2.546139            -7.930821   \n",
       "9                    0.34                 0.061923           -12.167488   \n",
       "10                   0.35                 0.046061           -12.167490   \n",
       "11                   0.36                 0.040427           -13.058881   \n",
       "12                   0.37                -0.017808           -27.794391   \n",
       "13                   0.38                -0.017808           -27.794391   \n",
       "14                   0.39                -0.019982           -80.543215   \n",
       "\n",
       "    Number of features  \n",
       "0                   46  \n",
       "1                   38  \n",
       "2                   30  \n",
       "3                   28  \n",
       "4                   26  \n",
       "5                   21  \n",
       "6                   20  \n",
       "7                   15  \n",
       "8                   12  \n",
       "9                    9  \n",
       "10                   6  \n",
       "11                   5  \n",
       "12                   3  \n",
       "13                   3  \n",
       "14                   2  "
      ]
     },
     "execution_count": 15,
     "metadata": {},
     "output_type": "execute_result"
    }
   ],
   "source": [
    "df_with_standarization"
   ]
  },
  {
   "cell_type": "markdown",
   "id": "facf1068",
   "metadata": {},
   "source": [
    "## Plots"
   ]
  },
  {
   "cell_type": "code",
   "execution_count": 16,
   "id": "128cd3f9",
   "metadata": {},
   "outputs": [
    {
     "data": {
      "image/png": "[encoded data removed]",
      "text/plain": [
       "<Figure size 640x480 with 1 Axes>"
      ]
     },
     "metadata": {},
     "output_type": "display_data"
    }
   ],
   "source": [
    "plt.plot(df_without_standarization['Correlation threshold'], df_without_standarization['Training data R^2 score'], label = \"Training data R^2 score\", marker='v')\n",
    "plt.plot(df_without_standarization['Correlation threshold'], df_without_standarization['Test data R^2 score'], label = \"Test data R^2 score\", marker='D')\n",
    "plt.legend()\n",
    "plt.xlabel('Correlation threshold')\n",
    "plt.ylabel('R^2 score')\n",
    "plt.ylim([0, 1])\n",
    "plt.show()"
   ]
  },
  {
   "cell_type": "code",
   "execution_count": 17,
   "id": "c119758b",
   "metadata": {},
   "outputs": [
    {
     "data": {
      "image/png": "[encoded data removed]",
      "text/plain": [
       "<Figure size 640x480 with 1 Axes>"
      ]
     },
     "metadata": {},
     "output_type": "display_data"
    }
   ],
   "source": [
    "plt.plot(df_without_standarization['Correlation threshold'], df_without_standarization['Number of features'], label = \"Number of features\", marker='.')\n",
    "plt.legend()\n",
    "plt.xlabel('Correlation threshold')\n",
    "plt.ylabel('Number of features')\n",
    "plt.show()"
   ]
  },
  {
   "cell_type": "markdown",
   "id": "3d8b7681",
   "metadata": {},
   "source": [
    "## sqrt(R^2)"
   ]
  },
  {
   "cell_type": "code",
   "execution_count": 18,
   "id": "b7a74be8",
   "metadata": {},
   "outputs": [],
   "source": [
    "df_without_standarization['train R value'] = [np.sqrt(x) for x in df_without_standarization['Training data R^2 score']]"
   ]
  },
  {
   "cell_type": "code",
   "execution_count": 19,
   "id": "43fd8f49",
   "metadata": {},
   "outputs": [
    {
     "data": {
      "text/html": [
       "<div>\n",
       "<style scoped>\n",
       "    .dataframe tbody tr th:only-of-type {\n",
       "        vertical-align: middle;\n",
       "    }\n",
       "\n",
       "    .dataframe tbody tr th {\n",
       "        vertical-align: top;\n",
       "    }\n",
       "\n",
       "    .dataframe thead th {\n",
       "        text-align: right;\n",
       "    }\n",
       "</style>\n",
       "<table border=\"1\" class=\"dataframe\">\n",
       "  <thead>\n",
       "    <tr style=\"text-align: right;\">\n",
       "      <th></th>\n",
       "      <th>Correlation threshold</th>\n",
       "      <th>Training data R^2 score</th>\n",
       "      <th>Test data R^2 score</th>\n",
       "      <th>Number of features</th>\n",
       "      <th>train R value</th>\n",
       "    </tr>\n",
       "  </thead>\n",
       "  <tbody>\n",
       "    <tr>\n",
       "      <th>0</th>\n",
       "      <td>0.25</td>\n",
       "      <td>-77.793139</td>\n",
       "      <td>-3.415220</td>\n",
       "      <td>46</td>\n",
       "      <td>NaN</td>\n",
       "    </tr>\n",
       "    <tr>\n",
       "      <th>1</th>\n",
       "      <td>0.26</td>\n",
       "      <td>-17.319169</td>\n",
       "      <td>-19.007232</td>\n",
       "      <td>38</td>\n",
       "      <td>NaN</td>\n",
       "    </tr>\n",
       "    <tr>\n",
       "      <th>2</th>\n",
       "      <td>0.27</td>\n",
       "      <td>-13.833180</td>\n",
       "      <td>-12.120067</td>\n",
       "      <td>30</td>\n",
       "      <td>NaN</td>\n",
       "    </tr>\n",
       "    <tr>\n",
       "      <th>3</th>\n",
       "      <td>0.28</td>\n",
       "      <td>-1.085062</td>\n",
       "      <td>-1.560396</td>\n",
       "      <td>28</td>\n",
       "      <td>NaN</td>\n",
       "    </tr>\n",
       "    <tr>\n",
       "      <th>4</th>\n",
       "      <td>0.29</td>\n",
       "      <td>-2.273341</td>\n",
       "      <td>-5.189926</td>\n",
       "      <td>26</td>\n",
       "      <td>NaN</td>\n",
       "    </tr>\n",
       "    <tr>\n",
       "      <th>5</th>\n",
       "      <td>0.30</td>\n",
       "      <td>0.132465</td>\n",
       "      <td>-4.614892</td>\n",
       "      <td>21</td>\n",
       "      <td>0.363957</td>\n",
       "    </tr>\n",
       "    <tr>\n",
       "      <th>6</th>\n",
       "      <td>0.31</td>\n",
       "      <td>-0.240401</td>\n",
       "      <td>-4.860237</td>\n",
       "      <td>20</td>\n",
       "      <td>NaN</td>\n",
       "    </tr>\n",
       "    <tr>\n",
       "      <th>7</th>\n",
       "      <td>0.32</td>\n",
       "      <td>-0.350902</td>\n",
       "      <td>-7.225476</td>\n",
       "      <td>15</td>\n",
       "      <td>NaN</td>\n",
       "    </tr>\n",
       "    <tr>\n",
       "      <th>8</th>\n",
       "      <td>0.33</td>\n",
       "      <td>-2.546139</td>\n",
       "      <td>-7.930821</td>\n",
       "      <td>12</td>\n",
       "      <td>NaN</td>\n",
       "    </tr>\n",
       "    <tr>\n",
       "      <th>9</th>\n",
       "      <td>0.34</td>\n",
       "      <td>0.061923</td>\n",
       "      <td>-12.167488</td>\n",
       "      <td>9</td>\n",
       "      <td>0.248844</td>\n",
       "    </tr>\n",
       "    <tr>\n",
       "      <th>10</th>\n",
       "      <td>0.35</td>\n",
       "      <td>0.046061</td>\n",
       "      <td>-12.167490</td>\n",
       "      <td>6</td>\n",
       "      <td>0.214619</td>\n",
       "    </tr>\n",
       "    <tr>\n",
       "      <th>11</th>\n",
       "      <td>0.36</td>\n",
       "      <td>0.040427</td>\n",
       "      <td>-13.058881</td>\n",
       "      <td>5</td>\n",
       "      <td>0.201063</td>\n",
       "    </tr>\n",
       "    <tr>\n",
       "      <th>12</th>\n",
       "      <td>0.37</td>\n",
       "      <td>-0.017808</td>\n",
       "      <td>-27.794391</td>\n",
       "      <td>3</td>\n",
       "      <td>NaN</td>\n",
       "    </tr>\n",
       "    <tr>\n",
       "      <th>13</th>\n",
       "      <td>0.38</td>\n",
       "      <td>-0.017808</td>\n",
       "      <td>-27.794391</td>\n",
       "      <td>3</td>\n",
       "      <td>NaN</td>\n",
       "    </tr>\n",
       "    <tr>\n",
       "      <th>14</th>\n",
       "      <td>0.39</td>\n",
       "      <td>-0.019982</td>\n",
       "      <td>-80.543215</td>\n",
       "      <td>2</td>\n",
       "      <td>NaN</td>\n",
       "    </tr>\n",
       "  </tbody>\n",
       "</table>\n",
       "</div>"
      ],
      "text/plain": [
       "    Correlation threshold  Training data R^2 score  Test data R^2 score  \\\n",
       "0                    0.25               -77.793139            -3.415220   \n",
       "1                    0.26               -17.319169           -19.007232   \n",
       "2                    0.27               -13.833180           -12.120067   \n",
       "3                    0.28                -1.085062            -1.560396   \n",
       "4                    0.29                -2.273341            -5.189926   \n",
       "5                    0.30                 0.132465            -4.614892   \n",
       "6                    0.31                -0.240401            -4.860237   \n",
       "7                    0.32                -0.350902            -7.225476   \n",
       "8                    0.33                -2.546139            -7.930821   \n",
       "9                    0.34                 0.061923           -12.167488   \n",
       "10                   0.35                 0.046061           -12.167490   \n",
       "11                   0.36                 0.040427           -13.058881   \n",
       "12                   0.37                -0.017808           -27.794391   \n",
       "13                   0.38                -0.017808           -27.794391   \n",
       "14                   0.39                -0.019982           -80.543215   \n",
       "\n",
       "    Number of features  train R value  \n",
       "0                   46            NaN  \n",
       "1                   38            NaN  \n",
       "2                   30            NaN  \n",
       "3                   28            NaN  \n",
       "4                   26            NaN  \n",
       "5                   21       0.363957  \n",
       "6                   20            NaN  \n",
       "7                   15            NaN  \n",
       "8                   12            NaN  \n",
       "9                    9       0.248844  \n",
       "10                   6       0.214619  \n",
       "11                   5       0.201063  \n",
       "12                   3            NaN  \n",
       "13                   3            NaN  \n",
       "14                   2            NaN  "
      ]
     },
     "execution_count": 19,
     "metadata": {},
     "output_type": "execute_result"
    }
   ],
   "source": [
    "df_without_standarization"
   ]
  },
  {
   "cell_type": "code",
   "execution_count": 20,
   "id": "e5ca6382",
   "metadata": {},
   "outputs": [],
   "source": [
    "xcz = []\n",
    "for element in df_without_standarization['Test data R^2 score']:\n",
    "    x = np.sqrt(element)\n",
    "    try:\n",
    "        if x > 0:\n",
    "            xcz.append(x)\n",
    "        else:\n",
    "            xcz.append(0)\n",
    "    except:\n",
    "        pass\n",
    "    "
   ]
  },
  {
   "cell_type": "code",
   "execution_count": 21,
   "id": "070047e1",
   "metadata": {},
   "outputs": [],
   "source": [
    "df_without_standarization['test R value'] = xcz"
   ]
  },
  {
   "cell_type": "code",
   "execution_count": 22,
   "id": "dc74586b",
   "metadata": {},
   "outputs": [
    {
     "data": {
      "image/png": "[encoded data removed]",
      "text/plain": [
       "<Figure size 640x480 with 1 Axes>"
      ]
     },
     "metadata": {},
     "output_type": "display_data"
    }
   ],
   "source": [
    "plt.plot(df_without_standarization['Correlation threshold'], df_without_standarization['train R value'], label = \"train R value\", marker='v')\n",
    "plt.plot(df_without_standarization['Correlation threshold'], df_without_standarization['test R value'], label = \"test R value\", marker='D')\n",
    "plt.legend()\n",
    "plt.xlabel('Correlation threshold')\n",
    "plt.ylabel('R score')\n",
    "plt.ylim([0, 1])\n",
    "plt.show()"
   ]
  },
  {
   "cell_type": "markdown",
   "id": "8d21e40f",
   "metadata": {},
   "source": [
    "## Final model"
   ]
  },
  {
   "cell_type": "code",
   "execution_count": null,
   "id": "199a36f6",
   "metadata": {},
   "outputs": [],
   "source": [
    "stop"
   ]
  },
  {
   "cell_type": "code",
   "execution_count": null,
   "id": "3f4ffdc2",
   "metadata": {},
   "outputs": [],
   "source": [
    "final_model = pred_mode.prepare_data_and_create_model(molecular_descriptors_df = molecular_descriptors_df, \n",
    "                                                      correlation_threshold = 0.34, \n",
    "                                                      standarization = False, \n",
    "                                                      model_type = 'linear_model', \n",
    "                                                      train_test_split_ = False, \n",
    "                                                      verbose = True)"
   ]
  },
  {
   "cell_type": "code",
   "execution_count": null,
   "id": "dd50055d",
   "metadata": {},
   "outputs": [],
   "source": [
    "final_model[0].get_params()"
   ]
  },
  {
   "cell_type": "code",
   "execution_count": null,
   "id": "d93cc5cd",
   "metadata": {},
   "outputs": [],
   "source": []
  },
  {
   "cell_type": "markdown",
   "id": "da86e29c",
   "metadata": {},
   "source": [
    "## Predict target feature"
   ]
  },
  {
   "cell_type": "code",
   "execution_count": null,
   "id": "9822f41d",
   "metadata": {},
   "outputs": [],
   "source": [
    "Err"
   ]
  },
  {
   "cell_type": "code",
   "execution_count": null,
   "id": "7937a5be",
   "metadata": {},
   "outputs": [],
   "source": [
    "to_prediction = pred_mode.prepare_data('../Data/Proposed_structures_with_AI_indole_tanimoto_similarity_.xlsx')"
   ]
  },
  {
   "cell_type": "code",
   "execution_count": null,
   "id": "e5745088",
   "metadata": {},
   "outputs": [],
   "source": [
    "predicted_activity = final_model[0].predict(to_prediction[final_model[4]['molecular descriptor name']])"
   ]
  },
  {
   "cell_type": "code",
   "execution_count": null,
   "id": "9936bbb1",
   "metadata": {},
   "outputs": [],
   "source": [
    "smiles = pd.read_excel('../Data/Proposed_structures_with_AI_indole_tanimoto_similarity_.xlsx')\n",
    "smiles = smiles['new_SMILES']\n",
    "smiles = smiles.to_list()\n",
    "save_to_df = pd.DataFrame(data=smiles, columns=['SMILES'])"
   ]
  },
  {
   "cell_type": "code",
   "execution_count": null,
   "id": "f8f4a85d",
   "metadata": {},
   "outputs": [],
   "source": [
    "print(len(smiles))\n",
    "print(len(predicted_activity))"
   ]
  },
  {
   "cell_type": "code",
   "execution_count": null,
   "id": "195cd602",
   "metadata": {},
   "outputs": [],
   "source": [
    "save_to_df.head()"
   ]
  },
  {
   "cell_type": "code",
   "execution_count": null,
   "id": "3ebc1b2a",
   "metadata": {},
   "outputs": [],
   "source": [
    "save_to_df['Predicted activity'] = predicted_activity"
   ]
  },
  {
   "cell_type": "code",
   "execution_count": null,
   "id": "aab68c64",
   "metadata": {},
   "outputs": [],
   "source": [
    "save_to_df.head()"
   ]
  },
  {
   "cell_type": "code",
   "execution_count": null,
   "id": "26abbe3d",
   "metadata": {},
   "outputs": [],
   "source": [
    "#save_to_df.to_excel('../Data/Predicted_activity.xlsx')"
   ]
  }
 ],
 "metadata": {
  "kernelspec": {
   "display_name": "Python 3 (ipykernel)",
   "language": "python",
   "name": "python3"
  },
  "language_info": {
   "codemirror_mode": {
    "name": "ipython",
    "version": 3
   },
   "file_extension": ".py",
   "mimetype": "text/x-python",
   "name": "python",
   "nbconvert_exporter": "python",
   "pygments_lexer": "ipython3",
   "version": "3.9.15"
  }
 },
 "nbformat": 4,
 "nbformat_minor": 5
}
